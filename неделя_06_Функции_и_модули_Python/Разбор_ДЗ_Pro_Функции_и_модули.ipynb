{
  "nbformat": 4,
  "nbformat_minor": 0,
  "metadata": {
    "colab": {
      "name": "Разбор ДЗ Pro. Функции и модули.ipynb",
      "provenance": [],
      "collapsed_sections": [],
      "include_colab_link": true
    },
    "kernelspec": {
      "name": "python3",
      "display_name": "Python 3"
    }
  },
  "cells": [
    {
      "cell_type": "markdown",
      "metadata": {
        "id": "view-in-github",
        "colab_type": "text"
      },
      "source": [
        "<a href=\"https://colab.research.google.com/github/MRS88/AI_course/blob/master/%D0%BD%D0%B5%D0%B4%D0%B5%D0%BB%D1%8F_06_%D0%A4%D1%83%D0%BD%D0%BA%D1%86%D0%B8%D0%B8_%D0%B8_%D0%BC%D0%BE%D0%B4%D1%83%D0%BB%D0%B8_Python/%D0%A0%D0%B0%D0%B7%D0%B1%D0%BE%D1%80_%D0%94%D0%97_Pro_%D0%A4%D1%83%D0%BD%D0%BA%D1%86%D0%B8%D0%B8_%D0%B8_%D0%BC%D0%BE%D0%B4%D1%83%D0%BB%D0%B8.ipynb\" target=\"_parent\"><img src=\"https://colab.research.google.com/assets/colab-badge.svg\" alt=\"Open In Colab\"/></a>"
      ]
    },
    {
      "cell_type": "markdown",
      "metadata": {
        "id": "NRUICBBzlLh2"
      },
      "source": [
        "# Разбор домашнего задания \n",
        "Функции и модули\n",
        "# Pro"
      ]
    },
    {
      "cell_type": "markdown",
      "metadata": {
        "id": "MdkF-g7RaL-e"
      },
      "source": [
        "**Задача 1**\n",
        "\n",
        "Напишите функцию, которая принимает на вход строку и считает количество букв в  верхнем и нижнем регистрах. \n",
        "Пример: 'На берегу Амазонки сидел Фернандо'.\n",
        "Что должно быть на выходе?\n",
        "\n",
        "Количество букв в верхнем регистре: 3\n",
        "\n",
        "Количество букв в нижнем регистре: 26"
      ]
    },
    {
      "cell_type": "markdown",
      "metadata": {
        "id": "ky0IegVptujS"
      },
      "source": [
        "**Решение:**"
      ]
    },
    {
      "cell_type": "code",
      "metadata": {
        "id": "fI31-iKKZpfK"
      },
      "source": [
        "def stringTest(s):\n",
        "    nums = {\"Верхний регистр\": 0, \"Нижний регистр\": 0}\n",
        "    for c in s:\n",
        "        if c.isupper():\n",
        "           nums[\"Верхний регистр\"]+=1\n",
        "        elif c.islower():\n",
        "           nums[\"Нижний регистр\"]+=1\n",
        "        else:\n",
        "           pass\n",
        "    print (\"Оригинальная строка : \", s)\n",
        "    print (\"Количество букв верхнего регистра : \", nums[\"Верхний регистр\"])\n",
        "    print (\"Количество букв нижнего регистра : \", nums[\"Нижний регистр\"])\n",
        "\n",
        "    return nums"
      ],
      "execution_count": null,
      "outputs": []
    },
    {
      "cell_type": "code",
      "metadata": {
        "id": "DwepFaiubXwB",
        "colab": {
          "base_uri": "https://localhost:8080/",
          "height": 85
        },
        "outputId": "365ef5f9-764c-41f5-f596-4b88a28927c2"
      },
      "source": [
        "stroka = \" 'Тихий Дон' Шолохова - великий роман-эпопея, который можно поставить в один ряд с 'Войной и миром' Толстого\"\n",
        "stringTest(stroka)"
      ],
      "execution_count": null,
      "outputs": [
        {
          "output_type": "stream",
          "text": [
            "Оригинальная строка :   'Тихий Дон' Шолохова - великий роман-эпопея, который можно поставить в один ряд с 'Войной и миром' Толстого\n",
            "Количество букв верхнего регистра :  5\n",
            "Количество букв нижнего регистра :  79\n"
          ],
          "name": "stdout"
        },
        {
          "output_type": "execute_result",
          "data": {
            "text/plain": [
              "{'Верхний регистр': 5, 'Нижний регистр': 79}"
            ]
          },
          "metadata": {
            "tags": []
          },
          "execution_count": 8
        }
      ]
    },
    {
      "cell_type": "markdown",
      "metadata": {
        "id": "62u1ta9Dbd6I"
      },
      "source": [
        "**Задача 2**\n",
        "\n",
        "Напишите функцию, которая принимает на вход число и проверяет, если оно простое.\n",
        "\n",
        "Простые числа - это натуральные(целые положительные) числа, которые делятся только на себя или на единицу. \n",
        "Пример: 3 - это простое число, т. к. нацело 3 делится только на 3 и на 1."
      ]
    },
    {
      "cell_type": "markdown",
      "metadata": {
        "id": "w0TAuGOJtxm8"
      },
      "source": [
        "**Решение:**"
      ]
    },
    {
      "cell_type": "code",
      "metadata": {
        "id": "WQrf7m37bbzg"
      },
      "source": [
        "def ifSimple(n):\n",
        "    if (n == 1):\n",
        "        return False\n",
        "    elif (n == 2):\n",
        "        return True;\n",
        "    else:\n",
        "        for x in range(2,n):\n",
        "            if(n % x == 0):\n",
        "                return False\n",
        "        return True"
      ],
      "execution_count": null,
      "outputs": []
    },
    {
      "cell_type": "code",
      "metadata": {
        "id": "L_b3E8pxbaaw",
        "colab": {
          "base_uri": "https://localhost:8080/",
          "height": 51
        },
        "outputId": "9e9667f2-e63d-473c-bfdc-90e652d05821"
      },
      "source": [
        "number = int(input('Введите число '))   \n",
        "if ifSimple(number):\n",
        "  print(number, ' - простое число')\n",
        "else:\n",
        "  print(number, ' - не простое число')"
      ],
      "execution_count": null,
      "outputs": [
        {
          "output_type": "stream",
          "text": [
            "Введите число 88\n",
            "88  - не простое число\n"
          ],
          "name": "stdout"
        }
      ]
    },
    {
      "cell_type": "markdown",
      "metadata": {
        "id": "EB8q1Uqmb3EM"
      },
      "source": [
        "**Задача 3**\n",
        "\n",
        "Напишите функцию, которая проверяет, если число совершенное.\n",
        "Совершенным числом является положительное число, такое, что оно является суммой собственных положительных делителей (все, кроме самого числа). \n",
        "Пример: первым в числовом ряду совершенным числом является 6: 1+2+3=6.\n",
        "Найдите такие числа в промежутке, который вы будете вводить с клавиатуры (два числа: начало и конец промежутка), например, промежуток от 5 до 150."
      ]
    },
    {
      "cell_type": "markdown",
      "metadata": {
        "id": "zM49mNbityFP"
      },
      "source": [
        "**Решение:**"
      ]
    },
    {
      "cell_type": "code",
      "metadata": {
        "id": "nw5dUEKobkcK"
      },
      "source": [
        "def perfectNum(n):\n",
        "    summa = 0\n",
        "    for x in range(1, n):\n",
        "        if n % x == 0:\n",
        "            summa += x\n",
        "    return summa == n"
      ],
      "execution_count": null,
      "outputs": []
    },
    {
      "cell_type": "code",
      "metadata": {
        "id": "Myq4WdCrcCsZ",
        "colab": {
          "base_uri": "https://localhost:8080/",
          "height": 119
        },
        "outputId": "da7f6835-188c-455d-f4cf-66b86f3eb1be"
      },
      "source": [
        "n1 = int(input('Введите нижнюю границу: '))\n",
        "n2 = int(input('Введите верхнюю границу: '))\n",
        "\n",
        "for i in range(n1,n2+1):\n",
        "  if perfectNum(i):\n",
        "    print('Число: ',i, 'является совершенным')"
      ],
      "execution_count": null,
      "outputs": [
        {
          "output_type": "stream",
          "text": [
            "Введите нижнюю границу: 3\n",
            "Введите верхнюю границу: 10000\n",
            "Число:  6 является совершенным\n",
            "Число:  28 является совершенным\n",
            "Число:  496 является совершенным\n",
            "Число:  8128 является совершенным\n"
          ],
          "name": "stdout"
        }
      ]
    },
    {
      "cell_type": "markdown",
      "metadata": {
        "id": "C6wZrXBkcREG"
      },
      "source": [
        "**Задача 4**\n",
        "\n",
        "Напишите функцию, которая проверяет, если фраза является палиндромом. Пример такой фразы:\n",
        "\n",
        "а роза упала на лапу Азора. "
      ]
    },
    {
      "cell_type": "markdown",
      "metadata": {
        "id": "BS7jLIYxtyiF"
      },
      "source": [
        "**Решение:**"
      ]
    },
    {
      "cell_type": "code",
      "metadata": {
        "id": "A8L1JTAOcQnn"
      },
      "source": [
        "def isPalindrom(string):\n",
        "  string = string.lower()\n",
        "  string = string.replace(' ','')\n",
        "  string = string.replace(',','')\n",
        "\n",
        "  new_str = string[::-1]\n",
        "  return new_str == string"
      ],
      "execution_count": null,
      "outputs": []
    },
    {
      "cell_type": "code",
      "metadata": {
        "id": "OhQq7KkucNKF",
        "colab": {
          "base_uri": "https://localhost:8080/",
          "height": 34
        },
        "outputId": "1d28f245-61ce-4f74-8d7c-a119687b9784"
      },
      "source": [
        "palindrom = 'А муза рада музе без ума, да разума'\n",
        "isPalindrom(palindrom)"
      ],
      "execution_count": null,
      "outputs": [
        {
          "output_type": "execute_result",
          "data": {
            "text/plain": [
              "True"
            ]
          },
          "metadata": {
            "tags": []
          },
          "execution_count": 26
        }
      ]
    },
    {
      "cell_type": "markdown",
      "metadata": {
        "id": "xj7JnUMCdKDa"
      },
      "source": [
        "**Задача 5**\n",
        " \n",
        "Посчитать значение $\\cos^2(\\pi/7)$ и $\\sin^2(\\pi/7)$, используя указанные функции из библиотеки ```math```, применив для этого **каждую** из конструкций импорта:\n",
        "```\n",
        "# 1. Импорт модуля или модулей целиком\n",
        "import имя_модуля\n",
        "import имя_модуля1, имя_модуля2\n",
        " \n",
        "# 2. Импорт модуля с присвоением псевдонима модулю\n",
        "import имя_модуля as новое_имя\n",
        " \n",
        "# 3. Импорт конкретного объекта из модуля\n",
        "from имя_модуля import имя_объекта\n",
        "from имя_модуля import имя_объекта1, имя_объекта2\n",
        " \n",
        "# 4. Импорт конкретного объекта из модуля с присвоением псевдонима объекту\n",
        "from имя_модуля import имя_объекта as псевдоним_объекта\n",
        " \n",
        "# 5. Импорт всех объектов из модуля\n",
        "from имя_модуля import *\n",
        "```\n",
        "Найдите сумму $\\cos^2(\\pi/7)$ + $\\sin^2(\\pi/7)$.\n"
      ]
    },
    {
      "cell_type": "markdown",
      "metadata": {
        "id": "Jp5uCJlUtzw3"
      },
      "source": [
        "**Решение:**"
      ]
    },
    {
      "cell_type": "code",
      "metadata": {
        "id": "k7yRbnwJc0cA",
        "colab": {
          "base_uri": "https://localhost:8080/",
          "height": 34
        },
        "outputId": "0ed3e713-810a-4a84-c821-6c88795d2d32"
      },
      "source": [
        "#1\n",
        "import math\n",
        "print(math.cos(math.pi/7)**2+math.sin(math.pi/7)**2)"
      ],
      "execution_count": null,
      "outputs": [
        {
          "output_type": "stream",
          "text": [
            "1.0\n"
          ],
          "name": "stdout"
        }
      ]
    },
    {
      "cell_type": "code",
      "metadata": {
        "id": "jVKQoFeOdTNy",
        "colab": {
          "base_uri": "https://localhost:8080/",
          "height": 34
        },
        "outputId": "24a795df-dbab-471f-efc3-a67fe688c291"
      },
      "source": [
        "#2\n",
        "import math as m\n",
        "print(m.cos(m.pi/7)**2+m.sin(m.pi/7)**2)"
      ],
      "execution_count": null,
      "outputs": [
        {
          "output_type": "stream",
          "text": [
            "1.0\n"
          ],
          "name": "stdout"
        }
      ]
    },
    {
      "cell_type": "code",
      "metadata": {
        "id": "bVKFhRBldU99",
        "colab": {
          "base_uri": "https://localhost:8080/",
          "height": 34
        },
        "outputId": "cfd86e35-6d94-45cc-c7b2-5f679b7803d8"
      },
      "source": [
        "#3\n",
        "from math import cos\n",
        "from math import sin\n",
        "from math import pi\n",
        "print(cos(pi/7)**2+sin(pi/7)**2)"
      ],
      "execution_count": null,
      "outputs": [
        {
          "output_type": "stream",
          "text": [
            "1.0\n"
          ],
          "name": "stdout"
        }
      ]
    },
    {
      "cell_type": "code",
      "metadata": {
        "id": "v_7E3K-YdWSJ",
        "colab": {
          "base_uri": "https://localhost:8080/",
          "height": 34
        },
        "outputId": "ae54ac6e-532c-4272-94e2-dd4256b1a438"
      },
      "source": [
        "#4\n",
        "from math import cos as c\n",
        "from math import sin as s\n",
        "from math import pi as p\n",
        "print(c(p/7)**2+s(p/7)**2)"
      ],
      "execution_count": null,
      "outputs": [
        {
          "output_type": "stream",
          "text": [
            "1.0\n"
          ],
          "name": "stdout"
        }
      ]
    },
    {
      "cell_type": "code",
      "metadata": {
        "id": "nYI9t8umdYur",
        "colab": {
          "base_uri": "https://localhost:8080/",
          "height": 34
        },
        "outputId": "c09f06a5-06b5-4feb-d56c-10af6bdbec9e"
      },
      "source": [
        "#5\n",
        "from math import *\n",
        "print(cos(pi/7)**2+sin(pi/7)**2)"
      ],
      "execution_count": null,
      "outputs": [
        {
          "output_type": "stream",
          "text": [
            "1.0\n"
          ],
          "name": "stdout"
        }
      ]
    }
  ]
}