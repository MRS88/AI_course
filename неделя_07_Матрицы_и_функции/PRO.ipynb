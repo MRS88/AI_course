{
  "nbformat": 4,
  "nbformat_minor": 0,
  "metadata": {
    "colab": {
      "name": "Копия блокнота \"Матрицы и функции. PRO\"",
      "provenance": [],
      "collapsed_sections": [],
      "include_colab_link": true
    },
    "kernelspec": {
      "name": "python3",
      "display_name": "Python 3"
    }
  },
  "cells": [
    {
      "cell_type": "markdown",
      "metadata": {
        "id": "view-in-github",
        "colab_type": "text"
      },
      "source": [
        "<a href=\"https://colab.research.google.com/github/MRS88/AI_course/blob/master/%D0%BD%D0%B5%D0%B4%D0%B5%D0%BB%D1%8F_07_%D0%9C%D0%B0%D1%82%D1%80%D0%B8%D1%86%D1%8B_%D0%B8_%D1%84%D1%83%D0%BD%D0%BA%D1%86%D0%B8%D0%B8/PRO.ipynb\" target=\"_parent\"><img src=\"https://colab.research.google.com/assets/colab-badge.svg\" alt=\"Open In Colab\"/></a>"
      ]
    },
    {
      "cell_type": "markdown",
      "metadata": {
        "id": "KMlmkLiw8SZR"
      },
      "source": [
        "## **Задача 1**\n",
        " \n",
        "Напишите код, который вычисляет значение следующей математической функции в зависимости от переменной х, где х - вектор\n",
        " \n",
        "$F(x) = \\frac{1}{25}AA^Tx + Bx + 5$\n",
        " \n",
        "* Создайте матрицы A и B размера 4 на 4, состоящие из случайных целых чисел в интервале от 1 до 10 (используйте соответствующую функцию модуля np.random)\n",
        "* Создайте вектор х размера 4, состоящие из случайных целых чисел в интервале от 1 до 5\n",
        "* Перемножение матриц, и матрицы на вектор должно быть матричное."
      ]
    },
    {
      "cell_type": "code",
      "metadata": {
        "id": "nQV8icTN3l3B",
        "colab": {
          "base_uri": "https://localhost:8080/",
          "height": 34
        },
        "outputId": "782c15c9-340f-46eb-846b-1d64acbfed37"
      },
      "source": [
        "import numpy as np\n",
        "\n",
        "A = np.random.randint(10, size=(4,4))\n",
        "B = np.random.randint(10, size=(4,4))\n",
        "x = np.arange(1, 5)\n",
        "F = A @ A.T @ x * 0.04 + B @ x + 5\n",
        "F"
      ],
      "execution_count": null,
      "outputs": [
        {
          "output_type": "execute_result",
          "data": {
            "text/plain": [
              "array([102.32,  65.36,  46.96,  98.16])"
            ]
          },
          "metadata": {
            "tags": []
          },
          "execution_count": 1
        }
      ]
    },
    {
      "cell_type": "markdown",
      "metadata": {
        "id": "PA6MUg7y04Ro"
      },
      "source": [
        "##**Задача 2**\n",
        "\n",
        "Напишите функцию, которая находит все точки пересечения нуля заданной одномерной математической функции и отображает их на графике функции красными кругами"
      ]
    },
    {
      "cell_type": "code",
      "metadata": {
        "id": "ZkFsd8pp1Ink",
        "colab": {
          "base_uri": "https://localhost:8080/",
          "height": 281
        },
        "outputId": "54437594-510a-44bf-c948-0b29c3484e26"
      },
      "source": [
        "import matplotlib.pyplot as plt\n",
        "\n",
        "def func():\n",
        "  '''\n",
        "  Поиск пересечений функции с 0 с помощью смены знака функции.\n",
        "  Так как значения \"х\" не будут гарантировать y(x) = 0, \n",
        "  точки пересечения на графике приближенны к 0. Точность их зависит от шага.\n",
        "  '''\n",
        "  x = np.linspace(-10,10,10000)\n",
        "  y = np.sin(x)\n",
        "  s = np.sign(y)\n",
        "  zeroes = []\n",
        "  for i in range(len(y)):\n",
        "    if s[i-1] + s[i] == 0:\n",
        "      zeroes.append(i)\n",
        "  # удаляем нулевой индекс, т.к. будет считаться за смену знака  \n",
        "  zeroes = zeroes[1:]\n",
        "  plt.plot(x, y)\n",
        "  plt.plot([x[i] for i in zeroes], [y[i] for i in zeroes],'ro')\n",
        "  plt.grid()\n",
        "  plt.title('Функция и её нули')\n",
        "  plt.show()\n",
        "\n",
        "func()  \n",
        "\n"
      ],
      "execution_count": null,
      "outputs": [
        {
          "output_type": "display_data",
          "data": {
            "image/png": "[encoded data removed]",
            "text/plain": [
              "<Figure size 432x288 with 1 Axes>"
            ]
          },
          "metadata": {
            "tags": [],
            "needs_background": "light"
          }
        }
      ]
    },
    {
      "cell_type": "markdown",
      "metadata": {
        "id": "weSQUISv3avD"
      },
      "source": [
        "## **Задача 3** \n",
        "\n",
        "Напишите функцию, которая получает на вход пару матриц и проверяет закон коммутативности матричного умножения, то есть свойства $A*B=B*A$, возвращая ```1``` в случае подтверждения и ```0``` в противном случае. Поставьте ```1000``` экспериментов для случайных целочисленных матриц размера ```(5,5)``` элементов, которые принадлежат отрезку ```[-5,5]```, и найдите количество успешных срабатываний."
      ]
    },
    {
      "cell_type": "code",
      "metadata": {
        "id": "6GQh9j9V4XMV",
        "colab": {
          "base_uri": "https://localhost:8080/",
          "height": 34
        },
        "outputId": "51accf2b-f03e-4c3e-fdcf-3e8d9e8579cc"
      },
      "source": [
        "def commut():\n",
        "  M = np.random.randint(-5, 6, size=(5,5))\n",
        "  N = np.random.randint(-5, 6, size=(5,5))\n",
        "  A = np.dot(M, N)\n",
        "  B = np.dot(N, M)\n",
        "  if np.equal(A, B).all(): return 1\n",
        "  else: return 0 \n",
        "\n",
        "def experiments():\n",
        "  count = 0\n",
        "  for i in range(1000):\n",
        "    if commut() == 1: count += 1\n",
        "  return count\n",
        "\n",
        "print(experiments())  \n"
      ],
      "execution_count": null,
      "outputs": [
        {
          "output_type": "stream",
          "text": [
            "0\n"
          ],
          "name": "stdout"
        }
      ]
    }
  ]
}