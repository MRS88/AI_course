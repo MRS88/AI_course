{
  "nbformat": 4,
  "nbformat_minor": 0,
  "metadata": {
    "colab": {
      "name": "Копия блокнота \"ДЗ Ultra light. Функции и модули.ipynb\"",
      "provenance": [],
      "collapsed_sections": [],
      "include_colab_link": true
    },
    "kernelspec": {
      "name": "python3",
      "display_name": "Python 3"
    }
  },
  "cells": [
    {
      "cell_type": "markdown",
      "metadata": {
        "id": "view-in-github",
        "colab_type": "text"
      },
      "source": [
        "<a href=\"https://colab.research.google.com/github/MRS88/AI_course/blob/master/%D0%BD%D0%B5%D0%B4%D0%B5%D0%BB%D1%8F_06_%D0%A4%D1%83%D0%BD%D0%BA%D1%86%D0%B8%D0%B8_%D0%B8_%D0%BC%D0%BE%D0%B4%D1%83%D0%BB%D0%B8_Python/Ultra_light.ipynb\" target=\"_parent\"><img src=\"https://colab.research.google.com/assets/colab-badge.svg\" alt=\"Open In Colab\"/></a>"
      ]
    },
    {
      "cell_type": "markdown",
      "metadata": {
        "id": "NRUICBBzlLh2"
      },
      "source": [
        "# Домашнее задание \n",
        "Функции и модули\n",
        "# Ultra light"
      ]
    },
    {
      "cell_type": "markdown",
      "metadata": {
        "id": "J_3EMvI2E3fG"
      },
      "source": [
        "**Задача 1**\n",
        "\n",
        "Напишите функцию, которая будет выводить количество букв в слове. Проверьте при помощи этой функции, сколько букв в слове восьмидесятивосьмимиллиметровое."
      ]
    },
    {
      "cell_type": "markdown",
      "metadata": {
        "id": "DxHSea4uquu-"
      },
      "source": [
        "**Решение:**"
      ]
    },
    {
      "cell_type": "code",
      "metadata": {
        "id": "qFDath-KrXwx",
        "colab": {
          "base_uri": "https://localhost:8080/",
          "height": 52
        },
        "outputId": "ac81584c-955a-4d77-e843-a60ee0e0720e"
      },
      "source": [
        "s = 'восьмидесятивосьмимиллиметровое'\n",
        "\n",
        "def word_len(s):\n",
        "  return len(s)\n",
        "\n",
        "print(word_len('восьмидесятивосьмимиллиметровое'))\n",
        "print((lambda s: len(s))(s))"
      ],
      "execution_count": null,
      "outputs": [
        {
          "output_type": "stream",
          "text": [
            "31\n",
            "31\n"
          ],
          "name": "stdout"
        }
      ]
    },
    {
      "cell_type": "markdown",
      "metadata": {
        "id": "KIEnEygesl_g"
      },
      "source": [
        "**Задача 2**\n",
        "\n",
        "Напишите функцию, которая выводит таблицу умножения (от 1 до 9) для указанного числа в следующем формате:\n",
        "\n",
        "1 * 3 = 3\n",
        "\n",
        "2 * 3 = 6\n",
        "\n",
        "3 * 3 = 9 \n",
        "\n",
        "...\n",
        "\n",
        "9 * 3 = 27"
      ]
    },
    {
      "cell_type": "markdown",
      "metadata": {
        "id": "R2vbMPZ-q0fc"
      },
      "source": [
        "**Решение:**"
      ]
    },
    {
      "cell_type": "code",
      "metadata": {
        "id": "GrDRIczQr7Og"
      },
      "source": [
        "def mult(num):\n",
        "  for i in range(1, 10):\n",
        "    print('{} * {} = {}'.format(i, num, i*num))\n",
        "\n",
        "mult(int(input()))\n"
      ],
      "execution_count": null,
      "outputs": []
    },
    {
      "cell_type": "markdown",
      "metadata": {
        "id": "HmPLoSSWt651"
      },
      "source": [
        "**Задача 3**\n",
        "\n",
        "Напишите функцию, которая выводит сумму, разность и произведение двух, поданных на вход чисел.\n"
      ]
    },
    {
      "cell_type": "markdown",
      "metadata": {
        "id": "rnlCzeeFq3YV"
      },
      "source": [
        "**Решение:**"
      ]
    },
    {
      "cell_type": "code",
      "metadata": {
        "id": "z7YLR3g_tlip"
      },
      "source": [
        "def algebra(x, y):\n",
        "  return x+y, x-y, x*y\n",
        "\n",
        "x, y = float(input()), float(input())\n",
        "print(algebra(x, y))  "
      ],
      "execution_count": null,
      "outputs": []
    },
    {
      "cell_type": "markdown",
      "metadata": {
        "id": "tdcZIYm9yLYE"
      },
      "source": [
        "**Задача 4**\n",
        "\n",
        "Импортируйте функцию sin из модуля math с присвоением ей псевдонима sinus. Посчитайте при помощи импортированной функции, чему будет равен синус единицы.\n",
        "\n"
      ]
    },
    {
      "cell_type": "markdown",
      "metadata": {
        "id": "rz3-JFX-q7JK"
      },
      "source": [
        "**Решение:**"
      ]
    },
    {
      "cell_type": "code",
      "metadata": {
        "id": "45zMwJsUyZQj",
        "colab": {
          "base_uri": "https://localhost:8080/",
          "height": 34
        },
        "outputId": "50b81e21-c6e3-4e20-b62f-81e8ba4de303"
      },
      "source": [
        "from math import sin as sinus\n",
        "\n",
        "sinus(1)"
      ],
      "execution_count": null,
      "outputs": [
        {
          "output_type": "execute_result",
          "data": {
            "text/plain": [
              "0.8414709848078965"
            ]
          },
          "metadata": {
            "tags": []
          },
          "execution_count": 30
        }
      ]
    },
    {
      "cell_type": "markdown",
      "metadata": {
        "id": "W3cmoRj7feLA"
      },
      "source": [
        "**Задача 5**\n",
        "\n",
        "Напишите лямбда-функцию, которая считает куб числа.\n",
        "\n"
      ]
    },
    {
      "cell_type": "markdown",
      "metadata": {
        "id": "Gof4F0ZYq9l6"
      },
      "source": [
        "**Решение:**"
      ]
    },
    {
      "cell_type": "code",
      "metadata": {
        "id": "X8LPhssbyj8d"
      },
      "source": [
        "print((lambda x: x**3)(int(input())))"
      ],
      "execution_count": null,
      "outputs": []
    }
  ]
}