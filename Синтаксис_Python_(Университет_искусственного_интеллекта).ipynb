{
  "nbformat": 4,
  "nbformat_minor": 0,
  "metadata": {
    "kernelspec": {
      "display_name": "Python 3",
      "language": "python",
      "name": "python3"
    },
    "language_info": {
      "codemirror_mode": {
        "name": "ipython",
        "version": 3
      },
      "file_extension": ".py",
      "mimetype": "text/x-python",
      "name": "python",
      "nbconvert_exporter": "python",
      "pygments_lexer": "ipython3",
      "version": "3.6.8"
    },
    "colab": {
      "name": "Синтаксис Python (Университет искусственного интеллекта)",
      "provenance": [],
      "collapsed_sections": [],
      "include_colab_link": true
    }
  },
  "cells": [
    {
      "cell_type": "markdown",
      "metadata": {
        "id": "view-in-github",
        "colab_type": "text"
      },
      "source": [
        "<a href=\"https://colab.research.google.com/github/ShutTheFuckUpDonny/AI_course/blob/master/%D0%A1%D0%B8%D0%BD%D1%82%D0%B0%D0%BA%D1%81%D0%B8%D1%81_Python_(%D0%A3%D0%BD%D0%B8%D0%B2%D0%B5%D1%80%D1%81%D0%B8%D1%82%D0%B5%D1%82_%D0%B8%D1%81%D0%BA%D1%83%D1%81%D1%81%D1%82%D0%B2%D0%B5%D0%BD%D0%BD%D0%BE%D0%B3%D0%BE_%D0%B8%D0%BD%D1%82%D0%B5%D0%BB%D0%BB%D0%B5%D0%BA%D1%82%D0%B0).ipynb\" target=\"_parent\"><img src=\"https://colab.research.google.com/assets/colab-badge.svg\" alt=\"Open In Colab\"/></a>"
      ]
    },
    {
      "cell_type": "markdown",
      "metadata": {
        "id": "3mH4lbPCgwL6"
      },
      "source": [
        "# **Основы Python**\n",
        "\n",
        "Для прикладных целей важно овладеть несколькими аспектами:\n",
        "\n",
        "- Стандартные функции языка\n",
        "- Переменные и типы данных\n",
        "- Основные конструкции\n",
        "- Написание пользовательских функций\n",
        "- Загрузка и использование библиотек"
      ]
    },
    {
      "cell_type": "markdown",
      "metadata": {
        "id": "JecbOq8dkBRT"
      },
      "source": [
        "# Часть №1\n"
      ]
    },
    {
      "cell_type": "markdown",
      "metadata": {
        "id": "eXjmiQJCgwMC"
      },
      "source": [
        "## Стандартные функции языка\n",
        "\n",
        "*Разбор данного раздела:* https://youtu.be/q5haHRBGl70?t=229\n",
        "\n",
        "Функции - это маленькие программки, которые умеют выполнять какую-то операцию. <br />\n",
        "Функции <b>вызываются</b>, после имени функции следуют круглые скобки, в которых указываются <b>аргументы</b> (над каким объектом будет выполнена операция) и <b>параметры </b> (с какими условиями)."
      ]
    },
    {
      "cell_type": "markdown",
      "metadata": {
        "id": "DWpeBni2gwMF"
      },
      "source": [
        "### print()\n",
        "\n",
        "*Разбор данного раздела:* https://youtu.be/q5haHRBGl70?t=310\n",
        "\n",
        "Функция для вывода содержимого на экран. <br>\n",
        "**Обязательно** передать хотя бы какой-то объект, который нужно напечатать.\n",
        "\n",
        "Ее полный синтаксис:\n",
        "\n",
        "print(*objects, sep=' ', end='\\n', file=sys.stdout, flush=False)\n",
        "\n",
        "- objects: один или несколько объектов для вывода, перечисленные через запятую\n",
        "- sep: разделитель между несколькими объектами; стандартно установлен пробел\n",
        "- end: окончание строки; стандартно установлен перевод на новую строчку '\\n'"
      ]
    },
    {
      "cell_type": "code",
      "metadata": {
        "id": "ZBcwztmQgwML",
        "colab": {
          "base_uri": "https://localhost:8080/",
          "height": 34
        },
        "outputId": "ce5e7569-25cc-4986-a4e0-5508d174b633"
      },
      "source": [
        "print(4) # Вызываем функцию print и в скобках передаем ей параметр, который требуется напечатать"
      ],
      "execution_count": null,
      "outputs": [
        {
          "output_type": "stream",
          "text": [
            "4\n"
          ],
          "name": "stdout"
        }
      ]
    },
    {
      "cell_type": "code",
      "metadata": {
        "id": "oMadMtROgwMf"
      },
      "source": [
        "print?"
      ],
      "execution_count": null,
      "outputs": []
    },
    {
      "cell_type": "code",
      "metadata": {
        "id": "DZTqDs3egwMv",
        "colab": {
          "base_uri": "https://localhost:8080/",
          "height": 34
        },
        "outputId": "15ba4ca5-eb62-4f88-a884-c870c7352a33"
      },
      "source": [
        "print(5,6,7,8) # Вызываем функцию print и в скобках передаем ей набор параметров, который требуется напечатать"
      ],
      "execution_count": null,
      "outputs": [
        {
          "output_type": "stream",
          "text": [
            "5 6 7 8\n"
          ],
          "name": "stdout"
        }
      ]
    },
    {
      "cell_type": "code",
      "metadata": {
        "id": "WpxbyEEZgwNA",
        "colab": {
          "base_uri": "https://localhost:8080/",
          "height": 34
        },
        "outputId": "95baff65-477d-4036-d7a6-070a4a24b175"
      },
      "source": [
        "print(5, 6, 7, 8, sep=' slovo ') # Вызываем функцию print, в скобках передаем ей набор параметров и разделтель между ними"
      ],
      "execution_count": null,
      "outputs": [
        {
          "output_type": "stream",
          "text": [
            "5 slovo 6 slovo 7 slovo 8\n"
          ],
          "name": "stdout"
        }
      ]
    },
    {
      "cell_type": "code",
      "metadata": {
        "id": "Zf3QuweTgwNS",
        "colab": {
          "base_uri": "https://localhost:8080/",
          "height": 34
        },
        "outputId": "d552ad63-1d90-4e3e-c04e-3a4d86f591c8"
      },
      "source": [
        "print(\"Май\") # Вызываем функцию print и в скобках передаем ей параметр, который требуется напечатать (в данном случае печатаем текстовую информацию)"
      ],
      "execution_count": null,
      "outputs": [
        {
          "output_type": "stream",
          "text": [
            "Май\n"
          ],
          "name": "stdout"
        }
      ]
    },
    {
      "cell_type": "code",
      "metadata": {
        "id": "YQGzrhTwgwNj",
        "colab": {
          "base_uri": "https://localhost:8080/",
          "height": 34
        },
        "outputId": "5ae229a4-d9f7-448a-e176-7e7a509bfbba"
      },
      "source": [
        "print('Переменная равна: {}'.format(5)) # Вызываем функцию print, которая использует функцию format для подстановки значения"
      ],
      "execution_count": null,
      "outputs": [
        {
          "output_type": "stream",
          "text": [
            "Переменная равна: 5\n"
          ],
          "name": "stdout"
        }
      ]
    },
    {
      "cell_type": "code",
      "metadata": {
        "id": "8MAZFjLBKsyo",
        "colab": {
          "base_uri": "https://localhost:8080/",
          "height": 34
        },
        "outputId": "996b25fd-0b6b-40ba-802e-e23b57df26b7"
      },
      "source": [
        "print('Переменная равна:', 5) # Альтернативный вариант печати информации из предыдущего пункта"
      ],
      "execution_count": null,
      "outputs": [
        {
          "output_type": "stream",
          "text": [
            "Переменная равна: 5\n"
          ],
          "name": "stdout"
        }
      ]
    },
    {
      "cell_type": "code",
      "metadata": {
        "id": "ak0ByW9pK3ON",
        "colab": {
          "base_uri": "https://localhost:8080/",
          "height": 34
        },
        "outputId": "ae2276f2-d3e0-4868-bf75-415310cbdbb6"
      },
      "source": [
        "print('Переменная равна: {} и вторая переменная равна: {}' .format(5, 7)) # Вызываем функцию print, которая использует функцию format для подстановки двух значений"
      ],
      "execution_count": null,
      "outputs": [
        {
          "output_type": "stream",
          "text": [
            "Переменная равна: 5 и вторая переменная равна: 7\n"
          ],
          "name": "stdout"
        }
      ]
    },
    {
      "cell_type": "code",
      "metadata": {
        "id": "QzE2VR0IK8mX",
        "colab": {
          "base_uri": "https://localhost:8080/",
          "height": 34
        },
        "outputId": "5d9e6dd0-67d2-46ed-96e4-0d5eaaa4f6ac"
      },
      "source": [
        "print('Переменная равна: {} и вторая переменная равна: {}'.format(5.123, 7.9384950)) # Альтернативный вариант печати информации из предыдущего пункта"
      ],
      "execution_count": null,
      "outputs": [
        {
          "output_type": "stream",
          "text": [
            "Переменная равна: 5.123 и вторая переменная равна: 7.938495\n"
          ],
          "name": "stdout"
        }
      ]
    },
    {
      "cell_type": "code",
      "metadata": {
        "id": "3imScjy0wvX9",
        "colab": {
          "base_uri": "https://localhost:8080/",
          "height": 34
        },
        "outputId": "ca0ca883-7eb4-45aa-b13e-14a6ae8064b3"
      },
      "source": [
        "print('Переменная равна: {:.1f} и вторая переменная равна: {:.2f}'.format(5.123, 7.9384950)) # Пример округления чисел с помощью функции format"
      ],
      "execution_count": null,
      "outputs": [
        {
          "output_type": "stream",
          "text": [
            "Переменная равна: 5.1 и вторая переменная равна: 7.94\n"
          ],
          "name": "stdout"
        }
      ]
    },
    {
      "cell_type": "code",
      "metadata": {
        "id": "uBzsZR42ueH8",
        "colab": {
          "base_uri": "https://localhost:8080/",
          "height": 34
        },
        "outputId": "93705bb1-4a4a-4156-f170-032a33395b2e"
      },
      "source": [
        "print('Переменная равна:', round(5.123, 1),'и вторая переменная равна:',  round(7.9384950,2))"
      ],
      "execution_count": null,
      "outputs": [
        {
          "output_type": "stream",
          "text": [
            "Переменная равна: 5.1 и вторая переменная равна: 7.94\n"
          ],
          "name": "stdout"
        }
      ]
    },
    {
      "cell_type": "markdown",
      "metadata": {
        "id": "AX_KsdJHgwN6"
      },
      "source": [
        "#### Задача 1\n",
        "\n",
        "*Разбор данного раздела:* https://youtu.be/q5haHRBGl70?t=1212\n",
        "\n",
        "Выведите на экран фразу \"Hello, world!\""
      ]
    },
    {
      "cell_type": "code",
      "metadata": {
        "id": "Q6Urwmq9gwOL",
        "colab": {
          "base_uri": "https://localhost:8080/",
          "height": 34
        },
        "outputId": "ff5ff9fc-6b4a-45da-9782-dc47dbc5a8e4"
      },
      "source": [
        "# Решение задачи с помощью функции print\n",
        "print(\"Hello, world!\")"
      ],
      "execution_count": null,
      "outputs": [
        {
          "output_type": "stream",
          "text": [
            "Hello, world!\n"
          ],
          "name": "stdout"
        }
      ]
    },
    {
      "cell_type": "markdown",
      "metadata": {
        "id": "FPmCE5oMgwPN"
      },
      "source": [
        "### Арифметические операции\n",
        "\n",
        "*Разбор данного раздела:* https://youtu.be/q5haHRBGl70?t=1280\n",
        "\n",
        "\n",
        "- Сложение: +\n",
        "- Вычитание: -\n",
        "- Умножение: *\n",
        "- Деление: /\n",
        "- Возведение в степень: **\n",
        "- Целочисленное деление: //\n",
        "- Остаток от деления: %"
      ]
    },
    {
      "cell_type": "code",
      "metadata": {
        "id": "lzqViGqYgwPR",
        "colab": {
          "base_uri": "https://localhost:8080/",
          "height": 153
        },
        "outputId": "bbcda54b-8281-4440-97c7-6f441c0b7d22"
      },
      "source": [
        "print('Работаем с числами', 5, 'и', 2) # Вызываем функцию print для печати сообщения \n",
        "print(5 + 2) # Вызываем функцию print, которая выведет результат сложения 5 и 2\n",
        "print(5 - 2) # Вызываем функцию print, которая выведет разность 5 и 2\n",
        "print(5 * 2) # Вызываем функцию print, которая выведет произведение 5 и 2\n",
        "print(5 / 2) # Вызываем функцию print, которая выведет частное 5 и 2\n",
        "print(5 // 2) # Вызываем функцию print, которая выведет результат целочисленного деления 5 на 2\n",
        "print('Результат остатка от деления:', 5 % 2) # Вызываем функцию print, которая выведет остаток от деления 5 на 2\n",
        "print('Результат возведения в степени:', 5 ** 2) # Вызываем функцию print, которая выведет результат возведения в квадрат числа 5"
      ],
      "execution_count": null,
      "outputs": [
        {
          "output_type": "stream",
          "text": [
            "Работаем с числами 5 и 2\n",
            "7\n",
            "3\n",
            "10\n",
            "2.5\n",
            "2\n",
            "Результат остатка от деления: 1\n",
            "Результат возведения в степени: 25\n"
          ],
          "name": "stdout"
        }
      ]
    },
    {
      "cell_type": "markdown",
      "metadata": {
        "id": "HWG-xiikgwPl"
      },
      "source": [
        "Для выведения результата на экран не обязательно прописывать print(), можно просто выполнить ячейку, при этом отобразится результат только последней строчки кода:"
      ]
    },
    {
      "cell_type": "code",
      "metadata": {
        "id": "Em4g2ATNgwPs",
        "colab": {
          "base_uri": "https://localhost:8080/",
          "height": 34
        },
        "outputId": "717ff901-6dd2-4343-8462-20a16abe2b4a"
      },
      "source": [
        "5 + 2 # Складываем 5 и 2"
      ],
      "execution_count": null,
      "outputs": [
        {
          "output_type": "execute_result",
          "data": {
            "text/plain": [
              "7"
            ]
          },
          "metadata": {
            "tags": []
          },
          "execution_count": 28
        }
      ]
    },
    {
      "cell_type": "code",
      "metadata": {
        "id": "WHo3fT33gwQE",
        "colab": {
          "base_uri": "https://localhost:8080/",
          "height": 34
        },
        "outputId": "840e302d-0d8e-43ab-c36b-40186f0dbdc2"
      },
      "source": [
        "5 + 2 # Складываем 5 и 2\n",
        "5 * 2 # Умножаем 5 на 2"
      ],
      "execution_count": null,
      "outputs": [
        {
          "output_type": "execute_result",
          "data": {
            "text/plain": [
              "10"
            ]
          },
          "metadata": {
            "tags": []
          },
          "execution_count": 29
        }
      ]
    },
    {
      "cell_type": "code",
      "metadata": {
        "id": "3zpgs4QcgwQV",
        "colab": {
          "base_uri": "https://localhost:8080/",
          "height": 51
        },
        "outputId": "305afcda-3ae3-4476-8ec9-8e847abc64ce"
      },
      "source": [
        "print(5 + 2) # Вызываем функцию print, которая выведет результат сложения 5 и 2\n",
        "5 * 2 # Умножаем 5 на 2"
      ],
      "execution_count": null,
      "outputs": [
        {
          "output_type": "stream",
          "text": [
            "7\n"
          ],
          "name": "stdout"
        },
        {
          "output_type": "execute_result",
          "data": {
            "text/plain": [
              "10"
            ]
          },
          "metadata": {
            "tags": []
          },
          "execution_count": 30
        }
      ]
    },
    {
      "cell_type": "code",
      "metadata": {
        "id": "vOuFjU_bgwQo"
      },
      "source": [
        "print(5 + 2) # Вызываем функцию print, которая выведет результат сложения 5 и 2\n",
        "print(5 * 2) # Вызываем функцию print, которая выведет произведение 5 и 2"
      ],
      "execution_count": null,
      "outputs": []
    },
    {
      "cell_type": "markdown",
      "metadata": {
        "id": "rl1kGggfgwQ4"
      },
      "source": [
        "#### Задача 2\n",
        "\n",
        "*Разбор данного раздела:* https://youtu.be/q5haHRBGl70?t=1710\n",
        "\n",
        "Найти площадь круга с радиусом $R = 5$. Подсказка: площадь круга вычисляется по формуле $S = \\pi * R^2, \\pi$ ~ 3.14"
      ]
    },
    {
      "cell_type": "code",
      "metadata": {
        "id": "BC0TxE7GgwQ_",
        "colab": {
          "base_uri": "https://localhost:8080/",
          "height": 34
        },
        "outputId": "bc5bed6b-904f-49cc-c58f-e8538fc21e7f"
      },
      "source": [
        "# Решение задачи\n",
        "print('Площадь круга равна:', 3.14 * 5 ** 2)"
      ],
      "execution_count": null,
      "outputs": [
        {
          "output_type": "stream",
          "text": [
            "Площадь круга равна: 78.5\n"
          ],
          "name": "stdout"
        }
      ]
    },
    {
      "cell_type": "markdown",
      "metadata": {
        "id": "qbpPCdLXgwRN"
      },
      "source": [
        "### Переменные и типы переменных\n",
        "\n",
        "*Разбор данного раздела:* https://youtu.be/q5haHRBGl70?t=1897\n",
        "\n",
        "Результаты операций и манипуляций иногда нужно сохранять, поэтому мы определяем переменные - именованные объекты, которым присваиваем значения. "
      ]
    },
    {
      "cell_type": "code",
      "metadata": {
        "id": "eTMoHu16gwRT"
      },
      "source": [
        "# Задаем значения переменных\n",
        "S = 100 # Создаем переменную S и присваиваем ей значение 100\n",
        "pi_ = 3.14 # Создаем переменную pi_  и присваиваем ей значение 3.14"
      ],
      "execution_count": null,
      "outputs": []
    },
    {
      "cell_type": "code",
      "metadata": {
        "id": "qDrMoGpsmazH"
      },
      "source": [
        "r = (S / pi_) ** (0.5) # Создаем переменную r и присваиваем ей значение, которое получается в  результате (S / pi_) ** (0.5)"
      ],
      "execution_count": null,
      "outputs": []
    },
    {
      "cell_type": "code",
      "metadata": {
        "id": "2MRHng15gwRd",
        "colab": {
          "base_uri": "https://localhost:8080/",
          "height": 34
        },
        "outputId": "bc00130d-1cbe-4296-8915-30fd5463f8ee"
      },
      "source": [
        "print('r', round(r,2), sep='=')  # Вызываем функцию print, которая выведет переменную r, округленную до двух знаков после запятой"
      ],
      "execution_count": null,
      "outputs": [
        {
          "output_type": "stream",
          "text": [
            "r=5.64\n"
          ],
          "name": "stdout"
        }
      ]
    },
    {
      "cell_type": "markdown",
      "metadata": {
        "id": "YNvnYZDqgwRt"
      },
      "source": [
        "#### Задача 3\n",
        "\n",
        "*Разбор данного раздела:* https://youtu.be/q5haHRBGl70?t=2546\n",
        "\n",
        "Найти площадь круга с радиусом $R = 5$. Подсказка: площадь круга вычисляется по формуле $S = \\pi * R^2, \\pi$ ~ 3.14\n",
        "\n",
        "- Создайте переменную r со значением 5\n",
        "- Создайте переменную pi_ со значением 3.14\n",
        "- Сохраните результат вычисления в переменную S\n",
        "- Выведите на печать результаты"
      ]
    },
    {
      "cell_type": "code",
      "metadata": {
        "id": "cQSPW3pqgwR0"
      },
      "source": [
        "# Решение задачи\n",
        "r = 5\n",
        "pi_ = 3.14"
      ],
      "execution_count": null,
      "outputs": []
    },
    {
      "cell_type": "code",
      "metadata": {
        "id": "6pbrTCeg1lrP",
        "colab": {
          "base_uri": "https://localhost:8080/",
          "height": 34
        },
        "outputId": "f0645c2c-7abd-48b3-983d-875d1fbebb89"
      },
      "source": [
        "S = pi_ * r ** 2\n",
        "print('Площадь круга равна:', S)"
      ],
      "execution_count": null,
      "outputs": [
        {
          "output_type": "stream",
          "text": [
            "Площадь круга равна: 78.5\n"
          ],
          "name": "stdout"
        }
      ]
    },
    {
      "cell_type": "markdown",
      "metadata": {
        "id": "BDS_hmbhgwOk"
      },
      "source": [
        "### input()\n",
        "\n",
        "*Разбор данного раздела:* https://youtu.be/q5haHRBGl70?t=2680\n",
        "\n",
        "Функция для ввода данных в программу с клавиатуры. <br>\n",
        "Обязательных аргументов нет. Можно передавать строчку, которая будет выведена перед ячейкой ввода. "
      ]
    },
    {
      "cell_type": "code",
      "metadata": {
        "id": "0YgIuroCgwOp",
        "colab": {
          "base_uri": "https://localhost:8080/",
          "height": 51
        },
        "outputId": "f4aa0fa1-bed8-48cf-a84a-9adf2fb768ea"
      },
      "source": [
        "name = input() # Вызываем функцию input, которая позволяет вводить данные с клавиатуры и записываем введенные данные в переменную name\n",
        "print('Меня зовут ', name) # Вызываем функцию print, которая выведет значение переменной name"
      ],
      "execution_count": null,
      "outputs": [
        {
          "output_type": "stream",
          "text": [
            "Сергей\n",
            "Меня зовут  Сергей\n"
          ],
          "name": "stdout"
        }
      ]
    },
    {
      "cell_type": "markdown",
      "metadata": {
        "id": "Asnp0MjxgwO3"
      },
      "source": [
        "А здесь небольшое преобразование позволит вывести перед ячейкой ввода нужный текст."
      ]
    },
    {
      "cell_type": "code",
      "metadata": {
        "id": "id69vPyigwO8",
        "colab": {
          "base_uri": "https://localhost:8080/",
          "height": 51
        },
        "outputId": "8fe6cec0-23d6-4970-e9a2-b06dfb8d64d4"
      },
      "source": [
        "name = input('Введите ваше имя: ') # Вызываем функцию input с приветственным сообщением, которая позволяет вводить данные с клавиатуры и записываем введенные данные в переменную name\n",
        "print('Меня зовут ', name) # Вызываем функцию print, которая выведет значение переменной name"
      ],
      "execution_count": null,
      "outputs": [
        {
          "output_type": "stream",
          "text": [
            "Введите ваше имя: Максим\n",
            "Меня зовут  Максим\n"
          ],
          "name": "stdout"
        }
      ]
    },
    {
      "cell_type": "markdown",
      "metadata": {
        "id": "_hqonrW0kPj3"
      },
      "source": [
        "# Часть №2"
      ]
    },
    {
      "cell_type": "markdown",
      "metadata": {
        "id": "fuSf1T6DgwR-"
      },
      "source": [
        "### Основные типы данных:\n",
        "\n",
        "*Разбор данного раздела:* https://youtu.be/AgbuYMAAlzM?t=29\n",
        "\n",
        "   \n",
        "- int (integer numbers) - целые числа\n",
        "- float (floating-point numbers) - числа с плавающей точкой\n",
        "- str (string) - строки\n",
        "- bool (boolean) - логический тип"
      ]
    },
    {
      "cell_type": "markdown",
      "metadata": {
        "id": "m6zDG1uTgwSB"
      },
      "source": [
        "Функция **type** позволяет определить, какого типа переменная нам дана или какого типа переменную мы записали. "
      ]
    },
    {
      "cell_type": "code",
      "metadata": {
        "id": "3XQqvrtGsBDC"
      },
      "source": [
        "r = 5\n",
        "S = r / 2"
      ],
      "execution_count": null,
      "outputs": []
    },
    {
      "cell_type": "code",
      "metadata": {
        "id": "TQ_XzJgggwSI",
        "colab": {
          "base_uri": "https://localhost:8080/",
          "height": 51
        },
        "outputId": "6c019529-3bce-4515-8049-7097d330f651"
      },
      "source": [
        "print(type(r)) # Вызываем функцию print, которая выведет тип переменной r\n",
        "print(type(S)) # Вызываем функцию print, которая выведет тип переменной S"
      ],
      "execution_count": null,
      "outputs": [
        {
          "output_type": "stream",
          "text": [
            "<class 'int'>\n",
            "<class 'float'>\n"
          ],
          "name": "stdout"
        }
      ]
    },
    {
      "cell_type": "code",
      "metadata": {
        "id": "Jadp2DK0gwST",
        "colab": {
          "base_uri": "https://localhost:8080/",
          "height": 34
        },
        "outputId": "5b8ef8ee-c10a-45d8-b6a4-b03eb1322e4b"
      },
      "source": [
        "text = 'Площадь круга' # Создаем переменную с именем text и присваиваем ей значение \"Площадь круга\"\n",
        "print(type(text)) # Вызываем функцию print, которая выведет тип переменной text"
      ],
      "execution_count": null,
      "outputs": [
        {
          "output_type": "stream",
          "text": [
            "<class 'str'>\n"
          ],
          "name": "stdout"
        }
      ]
    },
    {
      "cell_type": "code",
      "metadata": {
        "id": "IfkU7m2qgwSg",
        "colab": {
          "base_uri": "https://localhost:8080/",
          "height": 34
        },
        "outputId": "bebf3400-44a6-4fe3-c52d-f69f8a7cd062"
      },
      "source": [
        "x = True # Создаем переменную с именем x и присваиваем ей значение True\n",
        "print(type(x)) # Вызываем функцию print, которая выведет тип переменной x"
      ],
      "execution_count": null,
      "outputs": [
        {
          "output_type": "stream",
          "text": [
            "<class 'bool'>\n"
          ],
          "name": "stdout"
        }
      ]
    },
    {
      "cell_type": "markdown",
      "metadata": {
        "id": "YfLVBd0SgwS6"
      },
      "source": [
        "Если нужно поменять тип переменной, то полезны функции:\n",
        "\n",
        "- int() - возвращает целочисленную переменную\n",
        "- float() - возвращает нецелочисленную переменную\n",
        "- bool() - возвращает булеву переменную\n",
        "- str() - возвращает строковую переменную"
      ]
    },
    {
      "cell_type": "code",
      "metadata": {
        "id": "qD1wIW6wgwTQ",
        "colab": {
          "base_uri": "https://localhost:8080/",
          "height": 68
        },
        "outputId": "01d600d8-be5f-4d9e-8eb2-b807a47e2cde"
      },
      "source": [
        "print(r, type(r)) # Вызываем функцию print, которая выведет значение и тип переменной r\n",
        "r_new = str(r) # Создадим переменную r_new и запишем в нее значение переменной r, преобразованной к типу str (строковый)\n",
        "print(r_new, type(r_new)) # Вызываем функцию print, которая выведет значение и тип переменной r_new\n",
        "print('Радиус ' + 'круга: ' + r_new) # Вызываем функцию print, которая выведет радиус круга, записанный в переменной r_new"
      ],
      "execution_count": null,
      "outputs": [
        {
          "output_type": "stream",
          "text": [
            "5 <class 'int'>\n",
            "5 <class 'str'>\n",
            "Радиус круга: 5\n"
          ],
          "name": "stdout"
        }
      ]
    },
    {
      "cell_type": "code",
      "metadata": {
        "id": "GoHqTdGEgwS8",
        "colab": {
          "base_uri": "https://localhost:8080/",
          "height": 34
        },
        "outputId": "817fbef7-e96c-481a-fdda-dc4262e47720"
      },
      "source": [
        "# Конкатенация строк\n",
        "conc = 'Мое имя' + ' ' + 'Дмитрий' # Создадим переменную conc и запишем в нее резуьтат конкатенации 3 текстовых значения\n",
        "print(conc) # Вызываем функцию print, которая выведет значение переменной conc"
      ],
      "execution_count": null,
      "outputs": [
        {
          "output_type": "stream",
          "text": [
            "Мое имя Дмитрий\n"
          ],
          "name": "stdout"
        }
      ]
    },
    {
      "cell_type": "code",
      "metadata": {
        "id": "Qcm7kL4h4eiX",
        "colab": {
          "base_uri": "https://localhost:8080/",
          "height": 34
        },
        "outputId": "b7b738b3-3c35-45af-f8de-3942c4b599d1"
      },
      "source": [
        "5 + 6 + 7"
      ],
      "execution_count": null,
      "outputs": [
        {
          "output_type": "execute_result",
          "data": {
            "text/plain": [
              "18"
            ]
          },
          "metadata": {
            "tags": []
          },
          "execution_count": 11
        }
      ]
    },
    {
      "cell_type": "code",
      "metadata": {
        "id": "LwS-mDmPgwTp",
        "colab": {
          "base_uri": "https://localhost:8080/",
          "height": 34
        },
        "outputId": "0209f17d-0cba-453e-eb69-8b7620be145c"
      },
      "source": [
        "print(10 - float(r_new)) # Вызываем функцию print, которая выведет разность 10 и переменной r_new, преобразованной к типу float"
      ],
      "execution_count": null,
      "outputs": [
        {
          "output_type": "stream",
          "text": [
            "5.0\n"
          ],
          "name": "stdout"
        }
      ]
    },
    {
      "cell_type": "code",
      "metadata": {
        "id": "a_TjqfuqgwT9",
        "colab": {
          "base_uri": "https://localhost:8080/",
          "height": 34
        },
        "outputId": "bbc0a499-a2ce-42f2-a199-239f649dff13"
      },
      "source": [
        "2 != 3 # Проверяем на неравенство 2 и 3"
      ],
      "execution_count": null,
      "outputs": [
        {
          "output_type": "execute_result",
          "data": {
            "text/plain": [
              "True"
            ]
          },
          "metadata": {
            "tags": []
          },
          "execution_count": 13
        }
      ]
    },
    {
      "cell_type": "code",
      "metadata": {
        "id": "MgiYJJ_-gwUI",
        "colab": {
          "base_uri": "https://localhost:8080/",
          "height": 34
        },
        "outputId": "bcf6b068-5c3f-4433-b1ee-2fe699a6b447"
      },
      "source": [
        "a = 2 # Создаем переменную с именем a и присваиваем ей значение 2\n",
        "b = 3 # Создаем переменную с именем b и присваиваем ей значение 3\n",
        " \n",
        "a != b # Проверяем на неравенство переменные a и b"
      ],
      "execution_count": null,
      "outputs": [
        {
          "output_type": "execute_result",
          "data": {
            "text/plain": [
              "True"
            ]
          },
          "metadata": {
            "tags": []
          },
          "execution_count": 14
        }
      ]
    },
    {
      "cell_type": "code",
      "metadata": {
        "id": "H2bG8VYIgwUT",
        "colab": {
          "base_uri": "https://localhost:8080/",
          "height": 68
        },
        "outputId": "d6c7601c-ce0b-4c49-fa5d-ac76307ac8ba"
      },
      "source": [
        "x = 2 * 2 == 5 # Создаем переменную x и присваиваем ей результат выражения 2 * 2 == 5\n",
        "print(type(x)) # Вызываем функцию print, которая выведет тип переменной x\n",
        "print(x) # Вызываем функцию print, которая выведет значение переменной x\n",
        "print(int(x)) # Вызываем функцию print, которая выведет значение переменной x, преобразованной к типу int"
      ],
      "execution_count": null,
      "outputs": [
        {
          "output_type": "stream",
          "text": [
            "<class 'bool'>\n",
            "False\n",
            "0\n"
          ],
          "name": "stdout"
        }
      ]
    },
    {
      "cell_type": "code",
      "metadata": {
        "id": "gvl1qTrHgwUd",
        "colab": {
          "base_uri": "https://localhost:8080/",
          "height": 68
        },
        "outputId": "aab9be35-b911-4578-9fe6-da63912dca1c"
      },
      "source": [
        "x = 2 * 2 != 5 # Создаем переменную x и присваиваем ей результат выражения 2 * 2 != 5\n",
        "print(type(x)) # Вызываем функцию print, которая выведет тип переменной x\n",
        "print(x) # Вызываем функцию print, которая выведет значение переменной x\n",
        "print(int(x)) # Вызываем функцию print, которая выведет значение переменной x, преобразованной к типу int"
      ],
      "execution_count": null,
      "outputs": [
        {
          "output_type": "stream",
          "text": [
            "<class 'bool'>\n",
            "True\n",
            "1\n"
          ],
          "name": "stdout"
        }
      ]
    },
    {
      "cell_type": "markdown",
      "metadata": {
        "id": "75qI8JMIgwUo"
      },
      "source": [
        "Чтобы записать сложное логическое выражение, часто бывает необходимо воспользоваться логическими связками \"и\", \"или\" и \"не\". В Питоне они обозначаются как and, or и not соответственно. Операции and и or являеются бинарными, т.е. должны быть записаны между операндами, например x < 3 or y > 2. Операция not - унарная и должна быть записана перед единственным своим операндом."
      ]
    },
    {
      "cell_type": "code",
      "metadata": {
        "id": "iAfGrehIgwUq",
        "colab": {
          "base_uri": "https://localhost:8080/",
          "height": 68
        },
        "outputId": "3576feb2-07dc-4576-a979-9ee670f286bf"
      },
      "source": [
        "x = 4 # Создаем переменную x и присваиваем ей значение 4\n",
        "y = 5 # Создаем переменную y и присваиваем ей значение 5\n",
        "print(x > 3 and y > 3) # Вызываем функцию print, которая выведет результат выражения (x > 3 and y > 3)\n",
        "print(x > y or x == y) # Вызываем функцию print, которая выведет результат выражения (x > y or x == y)\n",
        "print(not (x > y)) # Вызываем функцию print, которая выведет результат выражения (not (x > y))"
      ],
      "execution_count": null,
      "outputs": [
        {
          "output_type": "stream",
          "text": [
            "True\n",
            "False\n",
            "True\n"
          ],
          "name": "stdout"
        }
      ]
    },
    {
      "cell_type": "code",
      "metadata": {
        "id": "yVFwyFkbgwU1",
        "colab": {
          "base_uri": "https://localhost:8080/",
          "height": 34
        },
        "outputId": "0e2467c5-dc2f-464d-893a-412c62241f74"
      },
      "source": [
        "a = 1 # Создаем переменную a и присваиваем ей значение 1\n",
        "b = 2 # Создаем переменную b и присваиваем ей значение 2\n",
        "c = 3 # Создаем переменную c и присваиваем ей значение 3\n",
        "d = 4 # Создаем переменную d и присваиваем ей значение 4\n",
        "\n",
        "((a == d) and (a > c)) != 4 # Считаем значение выражения"
      ],
      "execution_count": null,
      "outputs": [
        {
          "output_type": "execute_result",
          "data": {
            "text/plain": [
              "True"
            ]
          },
          "metadata": {
            "tags": []
          },
          "execution_count": 20
        }
      ]
    },
    {
      "cell_type": "code",
      "metadata": {
        "id": "PHba8zUpgwU_",
        "colab": {
          "base_uri": "https://localhost:8080/",
          "height": 34
        },
        "outputId": "5440438f-ef34-4aff-b4b1-6f41a1fb4b59"
      },
      "source": [
        "((False) and (False)) != 4 # Считаем значение выражения"
      ],
      "execution_count": null,
      "outputs": [
        {
          "output_type": "execute_result",
          "data": {
            "text/plain": [
              "True"
            ]
          },
          "metadata": {
            "tags": []
          },
          "execution_count": 19
        }
      ]
    },
    {
      "cell_type": "code",
      "metadata": {
        "id": "l-Ut9t-JgwVI",
        "colab": {
          "base_uri": "https://localhost:8080/",
          "height": 34
        },
        "outputId": "ebb61aa0-da49-4bf6-c21d-5d35c2322fb3"
      },
      "source": [
        "False != 4 # Проверяем на неравенство False и 4"
      ],
      "execution_count": null,
      "outputs": [
        {
          "output_type": "execute_result",
          "data": {
            "text/plain": [
              "True"
            ]
          },
          "metadata": {
            "tags": []
          },
          "execution_count": 18
        }
      ]
    },
    {
      "cell_type": "markdown",
      "metadata": {
        "id": "IYcBpG-hgwVQ"
      },
      "source": [
        "#### Задача 4\n",
        "\n",
        "*Разбор данного раздела:* https://youtu.be/AgbuYMAAlzM?t=1815\n",
        "\n",
        "Сравните $2^3$ и $3^2$. Результат распечатайте."
      ]
    },
    {
      "cell_type": "code",
      "metadata": {
        "id": "2Tsy5ctFgwVW",
        "colab": {
          "base_uri": "https://localhost:8080/",
          "height": 85
        },
        "outputId": "a26ed4af-de9c-4caa-9b94-6fb222042bf2"
      },
      "source": [
        "# Место для решения\n",
        "a = 2 ** 3\n",
        "b = 3 ** 2\n",
        "print(a, b)\n",
        "print (a == b)\n",
        "print (a > b)\n",
        "print (a < b)"
      ],
      "execution_count": null,
      "outputs": [
        {
          "output_type": "stream",
          "text": [
            "8 9\n",
            "False\n",
            "False\n",
            "True\n"
          ],
          "name": "stdout"
        }
      ]
    },
    {
      "cell_type": "markdown",
      "metadata": {
        "id": "zGYhxvAYgwVg"
      },
      "source": [
        "#### Задача 5\n",
        "\n",
        "*Разбор данного раздела:* https://youtu.be/AgbuYMAAlzM?t=1869\n",
        "\n",
        "Напишите логическое выражение для проверки попадания введенного числа в интервал от 0 до 10."
      ]
    },
    {
      "cell_type": "code",
      "metadata": {
        "id": "Zm54mA6AgwVj",
        "colab": {
          "base_uri": "https://localhost:8080/",
          "height": 51
        },
        "outputId": "156ccc4a-e4b3-46c5-adf9-aa2a3f720073"
      },
      "source": [
        "# Место для решения\n",
        "value = int(input ('Введите число ') )\n",
        "\n",
        "0 <= value <= 10"
      ],
      "execution_count": null,
      "outputs": [
        {
          "output_type": "stream",
          "text": [
            "Введите число 10\n"
          ],
          "name": "stdout"
        },
        {
          "output_type": "execute_result",
          "data": {
            "text/plain": [
              "True"
            ]
          },
          "metadata": {
            "tags": []
          },
          "execution_count": 27
        }
      ]
    },
    {
      "cell_type": "markdown",
      "metadata": {
        "id": "AuZ5H20IgwVw"
      },
      "source": [
        "### Условный оператор\n",
        "\n",
        "*Разбор данного раздела:* https://youtu.be/AgbuYMAAlzM?t=2043\n",
        "\n"
      ]
    },
    {
      "cell_type": "markdown",
      "metadata": {
        "id": "-O_f_ZXFgwV1"
      },
      "source": [
        "Наиболее частое применение логические выражения находят в условных операторах.\n",
        "\n",
        "Синтаксис в питоне: <br />\n",
        "**if** условие_1:<br />\n",
        "&emsp; команды<br />\n",
        "**elif** условие_2:<br />\n",
        "&emsp; команды<br />\n",
        "**elif** условие_3:<br />\n",
        "&emsp; команды<br />\n",
        "&emsp; ... <br />\n",
        "**elif** условие_N:<br />\n",
        "&emsp; команды<br />\n",
        "**else**: <br />\n",
        "&emsp; команды<br />"
      ]
    },
    {
      "cell_type": "code",
      "metadata": {
        "id": "XsELqqRWywe4"
      },
      "source": [
        "x = 5\n",
        "if x > 7:\n",
        "  print(5)"
      ],
      "execution_count": null,
      "outputs": []
    },
    {
      "cell_type": "markdown",
      "metadata": {
        "id": "P4vrCBc1gwV4"
      },
      "source": [
        "**Пример**"
      ]
    },
    {
      "cell_type": "code",
      "metadata": {
        "id": "UUmfDyKHgwV7",
        "colab": {
          "base_uri": "https://localhost:8080/",
          "height": 51
        },
        "outputId": "b813220e-f322-44e9-c899-05f13112d42d"
      },
      "source": [
        "x = 2 ** 3   # Создаем переменную x и присваиваем ей значение 2 ** 3\n",
        "y = 3 ** 2   # Создаем переменную y и присваиваем ей значение 3 ** 2\n",
        "\n",
        "if x > y: # Если x > y\n",
        "    print('X больше Y') # то вызываем функцию print, которая выведет фразу: 'X больше Y'\n",
        "    print(x - y) # И вызываем фугкцию print, которая выведет разность x и y\n",
        "else: # В противном случае (если x <= y)\n",
        "    print('') # Вызвываем функцию print, которая выведет пустую строку\n",
        "    print('Y не меньше, чем X') # и вызываем функцию print, которая выведет фразу: 'Y не меньше, чем X'"
      ],
      "execution_count": null,
      "outputs": [
        {
          "output_type": "stream",
          "text": [
            "\n",
            "Y не меньше, чем X\n"
          ],
          "name": "stdout"
        }
      ]
    },
    {
      "cell_type": "code",
      "metadata": {
        "id": "yS6ayadXgwWG",
        "colab": {
          "base_uri": "https://localhost:8080/",
          "height": 85
        },
        "outputId": "60a8bd55-de30-4a71-9d4b-ade46fbef70d"
      },
      "source": [
        "x = int(input('Введите число X: ')) # Вызываем функцию input (просим пользователя ввести число X) и записываем введенные данные в переменную x (при этом преобразуем их к типу int)\n",
        "y = int(input('Введите число Y: ')) # Вызываем функцию input (просим пользователя ввести число Y) и записываем введенные данные в переменную y (при этом преобразуем их к типу int)\n",
        "\n",
        "if x > y: # Если x > y\n",
        "    print('X больше Y') # то вызываем функцию print, которая выведет фразу: 'X больше Y'\n",
        "    print('x - y = ', x - y) # И вызываем фугкцию print, которая выведет разность x и y\n",
        "elif y > x: # в противном случае, если y > x\n",
        "    print('Y больше X') # то вызываем функцию print, которая выведет фразу: 'Y больше X'\n",
        "    print('y - x = ', y - x) # И вызываем фугкцию print, которая выведет разность y и x\n",
        "else: # в противном случае (x равен y)\n",
        "    print('X равно Y') # вызываем функцию print, которая выведет фразу: 'X равно Y'"
      ],
      "execution_count": null,
      "outputs": [
        {
          "output_type": "stream",
          "text": [
            "Введите число X: 8\n",
            "Введите число Y: 2\n",
            "X больше Y\n",
            "x - y =  6\n"
          ],
          "name": "stdout"
        }
      ]
    },
    {
      "cell_type": "markdown",
      "metadata": {
        "id": "F-qHPYKcgwWO"
      },
      "source": [
        "#### Задача 6\n",
        "\n",
        "*Разбор данного раздела:* https://youtu.be/AgbuYMAAlzM?t=2587\n",
        "\n",
        "Вас позвали на конференцию, которая будет проходить в другом городе, но времени до выезда осталось не так много. Напишите своим коллегам как можно быстрее, что вы думаете об этой идее. \n",
        "\n",
        "Если до вылета остается меньше 8 часов, то вы навряд ли успеете на самолет, так что должна появиться строчка \"К сожалению, я не успеваю!\", иначе - \"Ждите меня у входа в аэропорт\".\n"
      ]
    },
    {
      "cell_type": "code",
      "metadata": {
        "id": "i3UpP7FUgwWS",
        "colab": {
          "base_uri": "https://localhost:8080/",
          "height": 51
        },
        "outputId": "65c41e22-9fb2-4a25-e26c-b95524451dac"
      },
      "source": [
        "# Место для решения\n",
        "hours = int(input ('Сколько часов осталось до вылета?'))\n",
        "if hours < 8:\n",
        "  print('К сожалению, я не успеваю!')\n",
        "else:\n",
        "  print('Ждите меня у входа в аэропорт')"
      ],
      "execution_count": null,
      "outputs": [
        {
          "output_type": "stream",
          "text": [
            "Сколько часов осталось до вылета?9\n",
            "Ждите меня у входа в аэропорт\n"
          ],
          "name": "stdout"
        }
      ]
    },
    {
      "cell_type": "markdown",
      "metadata": {
        "id": "PeDoPl2ogwWb"
      },
      "source": [
        "2) Вас позвали на конференцию, которая будет проходить в другом городе, но времени до выезда осталось не так много, к тому же вы не знаете, получится ли взять выходной. Необходимо проверить ближайшие рейсы и предупредить начальство. Напишите своим коллегам как можно быстрее, что вы думаете об этой идее. \n",
        "\n",
        "Если до вылета остается больше 8 часов, а до начальства вы не добрались, то напишите: \"Предупредите, пожалуйста, шефа о конференции\". Если вы успеваете везде, напишите: \"Ждите меня у входа в аэропорт\". В случае, когда остается меньше 8 часов и начальство не в курсе, то должна появиться строчка \"К сожалению, я не успеваю!\""
      ]
    },
    {
      "cell_type": "code",
      "metadata": {
        "id": "2zY9qp4hgwWe",
        "colab": {
          "base_uri": "https://localhost:8080/",
          "height": 68
        },
        "outputId": "68c47a03-e11b-42a3-da7d-db67e5234785"
      },
      "source": [
        "# Введите любое число\n",
        "hours = int(input('Время до вылета: '))\n",
        "# Введите да или нет\n",
        "boss = input('Начальство предупреждено? ')\n",
        "\n",
        "if hours > 8 and boss == 'нет':\n",
        "    print(\"Предупредите, пожалуйста, шефа о конференции\")\n",
        "    \n",
        "elif hours > 8 and boss == 'да':\n",
        "    print(\"Ждите меня у входа в аэропорт\")\n",
        "    \n",
        "else:\n",
        "    print(\"К сожалению, я не успеваю!\")"
      ],
      "execution_count": null,
      "outputs": [
        {
          "output_type": "stream",
          "text": [
            "Время до вылета: 12\n",
            "Начальство предупреждено? нет\n",
            "Предупредите, пожалуйста, шефа о конференции\n"
          ],
          "name": "stdout"
        }
      ]
    },
    {
      "cell_type": "markdown",
      "metadata": {
        "id": "xevK5Jt3gwWn"
      },
      "source": [
        "### Цикл while\n",
        "\n",
        "*Разбор данного раздела:* https://youtu.be/AgbuYMAAlzM?t=3016\n",
        "\n",
        "Циклические конструкции используются для многократного повторения одних и тех же действий. \n",
        "\n",
        "В цикле while команды выполняются до тех пор, пока некоторое заданное условие верно. При этом, если в теле цикла прямо не прописана процедура изменения переменной, заданной в условии, то получится бесконечный цикл.\n",
        "\n",
        "Структура цикла while:"
      ]
    },
    {
      "cell_type": "code",
      "metadata": {
        "id": "pGDlhkfFgwWp",
        "colab": {
          "base_uri": "https://localhost:8080/",
          "height": 68
        },
        "outputId": "469f2980-437e-4f38-bd65-e86fc06a4762"
      },
      "source": [
        "value = 3 # Создаем переменную layers_num и записываем в нее значение 3\n",
        "\n",
        "while value > 0: # Пока значение переменной layers_num > 0\n",
        "    print('Это многослойная сеть', value) # Вызываем функцию print, которая напечатает фразу 'Это многослойная сеть'\n",
        "    value -=1 # Уменьшаем значение переменной layers_num на 1 (то же самое, что и layers_num = layers_num - 1)"
      ],
      "execution_count": null,
      "outputs": [
        {
          "output_type": "stream",
          "text": [
            "Это многослойная сеть 3\n",
            "Это многослойная сеть 2\n",
            "Это многослойная сеть 1\n"
          ],
          "name": "stdout"
        }
      ]
    },
    {
      "cell_type": "markdown",
      "metadata": {
        "id": "Tb33DpKogwWy"
      },
      "source": [
        "#### Задача 7\n",
        "\n",
        "*Разбор данного раздела:* https://youtu.be/AgbuYMAAlzM?t=3537\n",
        "\n",
        "По данному целому числу N распечатайте все квадраты натуральных чисел, не превосходящие N, в порядке возрастания. "
      ]
    },
    {
      "cell_type": "code",
      "metadata": {
        "id": "iBMSiAIngwW1",
        "colab": {
          "base_uri": "https://localhost:8080/",
          "height": 85
        },
        "outputId": "bfa12b62-6b56-42e0-9069-3a8e4dfc4b81"
      },
      "source": [
        "# Место для решения\n",
        "N = int(input('Введите целое число: '))\n",
        "i = 1\n",
        "while  i ** 2 < N:\n",
        "  print(i ** 2)\n",
        "  i += 1 "
      ],
      "execution_count": null,
      "outputs": [
        {
          "output_type": "stream",
          "text": [
            "Введите целое число: 13\n",
            "1\n",
            "4\n",
            "9\n"
          ],
          "name": "stdout"
        }
      ]
    },
    {
      "cell_type": "code",
      "metadata": {
        "id": "f7qAK6vaD90H",
        "colab": {
          "base_uri": "https://localhost:8080/",
          "height": 136
        },
        "outputId": "9dcbac76-5b1c-44a6-8064-ac8bbf9b1b8a"
      },
      "source": [
        "i = 1\n",
        "while  i <= 10:\n",
        "  if i == 4:\n",
        "    i+=1\n",
        "    continue\n",
        "  if i == 9:\n",
        "    break\n",
        "  print(i)\n",
        "  i+=1\n",
        "  "
      ],
      "execution_count": null,
      "outputs": [
        {
          "output_type": "stream",
          "text": [
            "1\n",
            "2\n",
            "3\n",
            "5\n",
            "6\n",
            "7\n",
            "8\n"
          ],
          "name": "stdout"
        }
      ]
    },
    {
      "cell_type": "markdown",
      "metadata": {
        "id": "JhBN5yTfgwX4"
      },
      "source": [
        "## Цикл for\n",
        "\n",
        "*Разбор данного раздела:* https://youtu.be/AgbuYMAAlzM?t=3995\n",
        "\n",
        "Команды в цикле for выполняются для заданного списка объектов и повторяются столько раз, сколько этих объектов.\n",
        "\n",
        "Дословно это работает так: \n",
        "\n",
        "*Питон, для каждого объекта из списка объектов выполни, пожалуйста, вот это действие* :)\n"
      ]
    },
    {
      "cell_type": "markdown",
      "metadata": {
        "id": "fmoNyACOgwW9"
      },
      "source": [
        "### Функция range(n)\n",
        "\n",
        "Функция range выдает последовательность чисел в зависимости от заданных параметров.\n",
        "\n",
        "Синтаксис функции:"
      ]
    },
    {
      "cell_type": "code",
      "metadata": {
        "id": "NI6YLkmTgwXa",
        "colab": {
          "base_uri": "https://localhost:8080/",
          "height": 187
        },
        "outputId": "4bfd6d77-4f7c-410d-89e1-86a8e7eb3560"
      },
      "source": [
        "for i in range(10): # Создаем цикл for, в котором переменная i поочередно будет принимать значения от 0 до 9\n",
        "    print(i) # Вызываем функцию print, которая выводит значение переменной i"
      ],
      "execution_count": null,
      "outputs": [
        {
          "output_type": "stream",
          "text": [
            "0\n",
            "1\n",
            "2\n",
            "3\n",
            "4\n",
            "5\n",
            "6\n",
            "7\n",
            "8\n",
            "9\n"
          ],
          "name": "stdout"
        }
      ]
    },
    {
      "cell_type": "code",
      "metadata": {
        "id": "999_SaIogwXi",
        "colab": {
          "base_uri": "https://localhost:8080/",
          "height": 170
        },
        "outputId": "f8a0e187-9f47-4397-bbfe-88fed53ee4a5"
      },
      "source": [
        "for i in range(3, 12): # Создаем цикл for, в котором переменная i поочередно будет принимать значения от 3 до 11\n",
        "    print(i) # Вызываем функцию print, которая выводит значение переменной i"
      ],
      "execution_count": null,
      "outputs": [
        {
          "output_type": "stream",
          "text": [
            "3\n",
            "4\n",
            "5\n",
            "6\n",
            "7\n",
            "8\n",
            "9\n",
            "10\n",
            "11\n"
          ],
          "name": "stdout"
        }
      ]
    },
    {
      "cell_type": "code",
      "metadata": {
        "id": "IcqURdFzgwXw",
        "colab": {
          "base_uri": "https://localhost:8080/",
          "height": 102
        },
        "outputId": "554f6dda-1814-4de2-fc46-4e4fd5f6ba44"
      },
      "source": [
        "for i in range(3, 12, 2): # Создаем цикл for, в котором переменная i поочередно будет принимать значения от 3 до 11 c шагом 2\n",
        "    print(i) # Вызываем функцию print, которая выводит значение переменной i"
      ],
      "execution_count": null,
      "outputs": [
        {
          "output_type": "stream",
          "text": [
            "3\n",
            "5\n",
            "7\n",
            "9\n",
            "11\n"
          ],
          "name": "stdout"
        }
      ]
    },
    {
      "cell_type": "code",
      "metadata": {
        "id": "DmWsBm7FgwYG",
        "colab": {
          "base_uri": "https://localhost:8080/",
          "height": 85
        },
        "outputId": "ce547eac-f75f-4f3b-973d-a943738417b8"
      },
      "source": [
        "for i in range(1, 5): # Создаем цикл for, в котором переменная i поочередно будет принимать значения от 1 до 4\n",
        "    print(i) # Вызываем функцию print, которая выводит значение переменной i"
      ],
      "execution_count": null,
      "outputs": [
        {
          "output_type": "stream",
          "text": [
            "1\n",
            "2\n",
            "3\n",
            "4\n"
          ],
          "name": "stdout"
        }
      ]
    },
    {
      "cell_type": "code",
      "metadata": {
        "id": "M7DIvHykgwYO",
        "colab": {
          "base_uri": "https://localhost:8080/",
          "height": 85
        },
        "outputId": "624a09ac-5263-4b7b-cf85-b30a67b24752"
      },
      "source": [
        "for animal in ['кошка', 'собака', 'енот', 'лиса']: # Создаем цикл for, в котором переменная animal поочередно будет принимать значения из последовательности 'кошка', 'собака', 'енот', 'лиса' \n",
        "    print(animal) # Вызываем функцию print, которая выводит значение переменной animal"
      ],
      "execution_count": null,
      "outputs": [
        {
          "output_type": "stream",
          "text": [
            "кошка\n",
            "собака\n",
            "енот\n",
            "лиса\n"
          ],
          "name": "stdout"
        }
      ]
    },
    {
      "cell_type": "markdown",
      "metadata": {
        "id": "MMCf4bodgwYW"
      },
      "source": [
        "#### Задача 8\n",
        "\n",
        "*Разбор данного раздела:* https://youtu.be/AgbuYMAAlzM?t=4341\n",
        "\n",
        "По данному целому числу N распечатайте все квадраты натуральных чисел, не превосходящие N, в порядке возрастания с использованием цикла for"
      ]
    },
    {
      "cell_type": "code",
      "metadata": {
        "id": "H8pDdN-GgwYZ",
        "colab": {
          "base_uri": "https://localhost:8080/",
          "height": 68
        },
        "outputId": "87627172-ba2a-4e74-9ae8-45f7da070392"
      },
      "source": [
        "# Место для решения\n",
        "N = int(input('Введите целое число: '))\n",
        "for i in range(1, N):\n",
        "  if i ** 2 > N:\n",
        "    break\n",
        "  print(i ** 2)\n"
      ],
      "execution_count": null,
      "outputs": [
        {
          "output_type": "stream",
          "text": [
            "Введите целое число: 7\n",
            "1\n",
            "4\n"
          ],
          "name": "stdout"
        }
      ]
    },
    {
      "cell_type": "markdown",
      "metadata": {
        "id": "PvHZCrnHgwYe"
      },
      "source": [
        "## Базовые структуры"
      ]
    },
    {
      "cell_type": "markdown",
      "metadata": {
        "id": "0GdbykDOgwYh"
      },
      "source": [
        "### Список (list)\n",
        "\n",
        "*Разбор данного раздела:* https://youtu.be/AgbuYMAAlzM?t=4490\n",
        "\n",
        "\n",
        "\n",
        "Среди наших коллег провели опрос о том, какие ассоциации вызывает каждое из времен года. Итог опроса показал среди топовых ассоциаций следующие:"
      ]
    },
    {
      "cell_type": "code",
      "metadata": {
        "id": "2OvlHymVgwYj"
      },
      "source": [
        "zima = 'снег' # Создаем переменную zima и записываем в нее значение 'снег'\n",
        "vesna = 'солнце' # Создаем переменную vesna и записываем в нее значение 'солнце'\n",
        "leto = 'фрукты' # Создаем переменную leto и записываем в нее значение 'фрукты' \n",
        "osen = 'листья' # Создаем переменную osen и записываем в нее значение 'листья'"
      ],
      "execution_count": null,
      "outputs": []
    },
    {
      "cell_type": "markdown",
      "metadata": {
        "id": "MM65W2uagwYr"
      },
      "source": [
        "Но это не очень удобно, можно хранить всю информацию в одной переменной:"
      ]
    },
    {
      "cell_type": "code",
      "metadata": {
        "id": "2p1MUbH-gwYw",
        "colab": {
          "base_uri": "https://localhost:8080/",
          "height": 34
        },
        "outputId": "b0e0ec5b-3cfb-473d-e3e3-1697707078f2"
      },
      "source": [
        "associations = ['снег', 'солнце', 'фрукты', 'листья'] # Создаем список значений\n",
        "print(associations) # Вызываем функцию print, которая выводит значения списка associations"
      ],
      "execution_count": null,
      "outputs": [
        {
          "output_type": "stream",
          "text": [
            "['снег', 'солнце', 'фрукты', 'листья']\n"
          ],
          "name": "stdout"
        }
      ]
    },
    {
      "cell_type": "code",
      "metadata": {
        "id": "yNf_zRUagwY9",
        "colab": {
          "base_uri": "https://localhost:8080/",
          "height": 51
        },
        "outputId": "d1645b1f-9c90-49e4-ccc0-205b2481de96"
      },
      "source": [
        "a1 = list() # Создаем пустой список a1\n",
        "a2 = [] # Создаем пустой список a2\n",
        "print(a1) # Вызываем функцию print, которая выводит значения списка a1\n",
        "print(a2) # Вызываем функцию print, которая выводит значения списка a2"
      ],
      "execution_count": null,
      "outputs": [
        {
          "output_type": "stream",
          "text": [
            "[]\n",
            "[]\n"
          ],
          "name": "stdout"
        }
      ]
    },
    {
      "cell_type": "markdown",
      "metadata": {
        "id": "A5S8XYMWgwZK"
      },
      "source": [
        "В списке можно хранить информацию разных типов:"
      ]
    },
    {
      "cell_type": "code",
      "metadata": {
        "id": "fFThzCDJgwZP",
        "colab": {
          "base_uri": "https://localhost:8080/",
          "height": 34
        },
        "outputId": "14257f04-72d7-4926-cc23-37eea72bb9de"
      },
      "source": [
        "my_list = [20, 'город', 0.45, 2 + 3j] # Создаем список из элементов различных типов\n",
        "print(my_list) # Вызываем функцию print, которая выводит значения списка my_list "
      ],
      "execution_count": null,
      "outputs": [
        {
          "output_type": "stream",
          "text": [
            "[20, 'город', 0.45, (2+3j)]\n"
          ],
          "name": "stdout"
        }
      ]
    },
    {
      "cell_type": "code",
      "metadata": {
        "id": "t5H9jVpdG7fl"
      },
      "source": [
        ""
      ],
      "execution_count": null,
      "outputs": []
    },
    {
      "cell_type": "markdown",
      "metadata": {
        "id": "-1MoM-fmgwZq"
      },
      "source": [
        "К элементам списка можно обращаться по индексу:"
      ]
    },
    {
      "cell_type": "code",
      "metadata": {
        "id": "BcnWkEjKgwZt",
        "colab": {
          "base_uri": "https://localhost:8080/",
          "height": 35
        },
        "outputId": "bd8e6dd7-6c56-4b75-d61c-d67d9b847251"
      },
      "source": [
        "associations[3]  # Вызываем функцию print, которая выводит значение 0-го элемента списка associations"
      ],
      "execution_count": null,
      "outputs": [
        {
          "output_type": "execute_result",
          "data": {
            "application/vnd.google.colaboratory.intrinsic+json": {
              "type": "string"
            },
            "text/plain": [
              "'листья'"
            ]
          },
          "metadata": {
            "tags": []
          },
          "execution_count": 60
        }
      ]
    },
    {
      "cell_type": "code",
      "metadata": {
        "id": "gmPn6llugwZ7",
        "colab": {
          "base_uri": "https://localhost:8080/",
          "height": 85
        },
        "outputId": "049806a6-0b30-4830-a1bf-22847a574b97"
      },
      "source": [
        "for el in range(-4, 0): # Создаем цикл for, в котором переменная el поочередно будет принимать значения от -4 до -1\n",
        "    print('Это значение индекса: {}, а это элемент списка: {}'.format(el, associations[el])) # Вызываем функцию print, которая выводит значение переменной el и значение элемента списка associations с индексом el"
      ],
      "execution_count": null,
      "outputs": [
        {
          "output_type": "stream",
          "text": [
            "Это значение индекса: -4, а это элемент списка: снег\n",
            "Это значение индекса: -3, а это элемент списка: солнце\n",
            "Это значение индекса: -2, а это элемент списка: фрукты\n",
            "Это значение индекса: -1, а это элемент списка: листья\n"
          ],
          "name": "stdout"
        }
      ]
    },
    {
      "cell_type": "markdown",
      "metadata": {
        "id": "rit6BDDjgwaR"
      },
      "source": [
        "Листы можно итерировать естественным способом:"
      ]
    },
    {
      "cell_type": "code",
      "metadata": {
        "id": "M55XfsD_gwaV",
        "colab": {
          "base_uri": "https://localhost:8080/",
          "height": 85
        },
        "outputId": "42516ce3-0810-4d27-c7c1-e8d89ffac5be"
      },
      "source": [
        "for a in associations: # Создаем цикл for, в котором переменная a поочередно будет принимать значения из списка associations\n",
        "    print(a)  # Вызываем функцию print, которая выводит значение элемента списка associations с индексом a"
      ],
      "execution_count": null,
      "outputs": [
        {
          "output_type": "stream",
          "text": [
            "снег\n",
            "солнце\n",
            "фрукты\n",
            "листья\n"
          ],
          "name": "stdout"
        }
      ]
    },
    {
      "cell_type": "code",
      "metadata": {
        "id": "e9fq9rpbgwaj",
        "colab": {
          "base_uri": "https://localhost:8080/",
          "height": 85
        },
        "outputId": "0cde1516-36d6-41e5-f2e0-3032510bb44b"
      },
      "source": [
        "for i in range(4): # Создаем цикл for, в котором переменная i поочередно будет принимать значения от 0 до 3\n",
        "    print(associations[i]) # Вызываем функцию print, которая выводит значение элемента списка associations с индексом i"
      ],
      "execution_count": null,
      "outputs": [
        {
          "output_type": "stream",
          "text": [
            "снег\n",
            "солнце\n",
            "фрукты\n",
            "листья\n"
          ],
          "name": "stdout"
        }
      ]
    },
    {
      "cell_type": "markdown",
      "metadata": {
        "id": "sqlmOkdkgwax"
      },
      "source": [
        "А еще бывает лист из листов :)"
      ]
    },
    {
      "cell_type": "code",
      "metadata": {
        "id": "WjloaOG5gwa1",
        "colab": {
          "base_uri": "https://localhost:8080/",
          "height": 34
        },
        "outputId": "944f96aa-826f-443b-eeb4-ee80cbd3bd41"
      },
      "source": [
        "associations = [['Зима', 'снег'], ['Весна', 'солнце'], ['Лето', 'фрукты'], ['Осень', 'листья']] # Создаем список, элементы которого также являются списками\n",
        "print(associations) # Вызываем функцию print, которая выводит список associations"
      ],
      "execution_count": null,
      "outputs": [
        {
          "output_type": "stream",
          "text": [
            "[['Зима', 'снег'], ['Весна', 'солнце'], ['Лето', 'фрукты'], ['Осень', 'листья']]\n"
          ],
          "name": "stdout"
        }
      ]
    },
    {
      "cell_type": "code",
      "metadata": {
        "id": "a3q8tHS0gwbH",
        "colab": {
          "base_uri": "https://localhost:8080/",
          "height": 85
        },
        "outputId": "12127071-a949-4b8e-d8a8-2033bdf30c55"
      },
      "source": [
        "for el in associations: # Создаем цикл for, в котором переменная el поочередно будет принимать значения из списка associations\n",
        "    print('время года: {}, ассоциация: {}'.format(el[0], el[1])) # Вызываем функцию print, которая выводит 0-е и 1-е значение элемента el"
      ],
      "execution_count": null,
      "outputs": [
        {
          "output_type": "stream",
          "text": [
            "время года: Зима, ассоциация: снег\n",
            "время года: Весна, ассоциация: солнце\n",
            "время года: Лето, ассоциация: фрукты\n",
            "время года: Осень, ассоциация: листья\n"
          ],
          "name": "stdout"
        }
      ]
    },
    {
      "cell_type": "markdown",
      "metadata": {
        "id": "67xaUWLfgwbW"
      },
      "source": [
        "**Есть много методов, т.е. функций, которые присущи только листам, для работы с листами:**\n",
        "\n",
        "Методы\n",
        "- list.append(x)\tДобавляет элемент в конец списка\n",
        "- list.extend(L)\tРасширяет список list, добавляя в конец все элементы списка L\n",
        "- list.insert(i, x)\tВставляет на i-ый элемент значение x\n",
        "- list.remove(x)\tУдаляет первый элемент в списке, имеющий значение x ValueError, если такого элемента не существует\n",
        "- list.pop([i])\tУдаляет i-ый элемент и возвращает его. Если индекс не указан, удаляется последний элемент\n",
        "- list.index(x, [start [, end]])\tВозвращает положение первого элемента со значением x (при этом поиск ведется от start до end)\n",
        "- list.count(x)\tВозвращает количество элементов со значением x\n",
        "- list.sort([key=функция])\tСортирует список на основе функции\n",
        "- list.reverse()\tРазворачивает список\n",
        "- list.copy()\tПоверхностная копия списка\n",
        "- list.clear()\tОчищает список"
      ]
    },
    {
      "cell_type": "code",
      "metadata": {
        "id": "ZC3pdUfYwz2D"
      },
      "source": [
        ""
      ],
      "execution_count": null,
      "outputs": []
    },
    {
      "cell_type": "markdown",
      "metadata": {
        "id": "nwUS_syNgwbb"
      },
      "source": [
        "### Словарь (dict)\n",
        "\n",
        "*Разбор данного раздела:* https://youtu.be/AgbuYMAAlzM?t=5209\n",
        "\n"
      ]
    },
    {
      "cell_type": "code",
      "metadata": {
        "id": "IF8Gv06cgwbi"
      },
      "source": [
        "my_dict = {'Зима' : 'снег',\n",
        "           'Весна' : 'солнце', \n",
        "           'Лето' : 'фрукты',\n",
        "           'Осень' : 'листья'\n",
        "          } # Создаем словарь значение"
      ],
      "execution_count": null,
      "outputs": []
    },
    {
      "cell_type": "code",
      "metadata": {
        "id": "flbOO3T5gwbt",
        "colab": {
          "base_uri": "https://localhost:8080/",
          "height": 34
        },
        "outputId": "25749645-45d1-41dd-c6f4-ecbcca60d812"
      },
      "source": [
        "my_dict # Отображаем созданный словарь"
      ],
      "execution_count": null,
      "outputs": [
        {
          "output_type": "execute_result",
          "data": {
            "text/plain": [
              "{'Весна': 'солнце', 'Зима': 'снег', 'Лето': 'фрукты', 'Осень': 'листья'}"
            ]
          },
          "metadata": {
            "tags": []
          },
          "execution_count": 67
        }
      ]
    },
    {
      "cell_type": "markdown",
      "metadata": {
        "id": "V0B7zsKvgwb6"
      },
      "source": [
        "У словаря есть 'ключи' и 'значения':"
      ]
    },
    {
      "cell_type": "code",
      "metadata": {
        "id": "KUv7u7Nqgwb-",
        "colab": {
          "base_uri": "https://localhost:8080/",
          "height": 34
        },
        "outputId": "6de2bd91-bb0d-4b69-e107-e815afdaf73b"
      },
      "source": [
        "my_dict.keys() # Вызываем метод .keys(), который вернет набор ключей словаря"
      ],
      "execution_count": null,
      "outputs": [
        {
          "output_type": "execute_result",
          "data": {
            "text/plain": [
              "dict_keys(['Зима', 'Весна', 'Лето', 'Осень'])"
            ]
          },
          "metadata": {
            "tags": []
          },
          "execution_count": 68
        }
      ]
    },
    {
      "cell_type": "code",
      "metadata": {
        "id": "F6NZUOOUgwcI",
        "colab": {
          "base_uri": "https://localhost:8080/",
          "height": 34
        },
        "outputId": "6038b458-7851-43ef-86b5-f38ced42e19c"
      },
      "source": [
        "my_dict.values() # Вызываем метод .keys(), который вернет набор значений словаря"
      ],
      "execution_count": null,
      "outputs": [
        {
          "output_type": "execute_result",
          "data": {
            "text/plain": [
              "dict_values(['снег', 'солнце', 'фрукты', 'листья'])"
            ]
          },
          "metadata": {
            "tags": []
          },
          "execution_count": 69
        }
      ]
    },
    {
      "cell_type": "code",
      "metadata": {
        "id": "rN6zjMacgwcZ",
        "colab": {
          "base_uri": "https://localhost:8080/",
          "height": 34
        },
        "outputId": "91027991-5f8c-4c7e-9218-69c38991b3ad"
      },
      "source": [
        "my_dict.items() # Вызываем метод .items(), который вернет набор пар: ключ-значение"
      ],
      "execution_count": null,
      "outputs": [
        {
          "output_type": "execute_result",
          "data": {
            "text/plain": [
              "dict_items([('Зима', 'снег'), ('Весна', 'солнце'), ('Лето', 'фрукты'), ('Осень', 'листья')])"
            ]
          },
          "metadata": {
            "tags": []
          },
          "execution_count": 70
        }
      ]
    },
    {
      "cell_type": "code",
      "metadata": {
        "id": "wQVjLPswgwcu",
        "colab": {
          "base_uri": "https://localhost:8080/",
          "height": 35
        },
        "outputId": "ca2f5561-dc7b-4d95-f6a9-d6de13481fc4"
      },
      "source": [
        "my_dict['Лето'] # Получаем значение элемента словаря с ключом 'Зима'"
      ],
      "execution_count": null,
      "outputs": [
        {
          "output_type": "execute_result",
          "data": {
            "application/vnd.google.colaboratory.intrinsic+json": {
              "type": "string"
            },
            "text/plain": [
              "'фрукты'"
            ]
          },
          "metadata": {
            "tags": []
          },
          "execution_count": 74
        }
      ]
    },
    {
      "cell_type": "code",
      "metadata": {
        "id": "77YpzTwGgwdE",
        "colab": {
          "base_uri": "https://localhost:8080/",
          "height": 51
        },
        "outputId": "bfc84190-8daf-4e54-936a-0c50eb7b545f"
      },
      "source": [
        "element = my_dict.pop('Весна') # Удаляем из словаря элемент с ключом 'Зима' и записываем значение по этому ключу в переменную element\n",
        "print(element) # Вызываем функцию print, которая выводит значение переменной element\n",
        "print(my_dict) # Вызываем функцию print, которая выводит словарь my_dict"
      ],
      "execution_count": null,
      "outputs": [
        {
          "output_type": "stream",
          "text": [
            "солнце\n",
            "{'Лето': 'фрукты', 'Осень': 'листья'}\n"
          ],
          "name": "stdout"
        }
      ]
    },
    {
      "cell_type": "markdown",
      "metadata": {
        "id": "2DYiGluPkolk"
      },
      "source": [
        "# **Глоссарий**\n",
        "\n",
        "*Функции (из коробки):*\n",
        "\n",
        "**print()** - вывод на экран\n",
        "\n",
        "**input()** - ввод с клавиатуры\n",
        "\n",
        "**len()** - длина объекта\n",
        "\n",
        "**range()** - диапазон чисел\n",
        "\n",
        "\n",
        "*Основные типы данных:*\n",
        "\n",
        "\n",
        "**int** - целые числа (7)\n",
        "\n",
        "**float** - числа с плавающей точкой (7.0)\n",
        "\n",
        "**string** - строковые данные ('строка')\n",
        "\n",
        "**bool** - булевы данные (True/False)\n",
        "\n"
      ]
    },
    {
      "cell_type": "markdown",
      "metadata": {
        "id": "VgEvT2a_oqNR"
      },
      "source": [
        "*Базовые структуры данных:*\n",
        "\n",
        "**list** - структура, предназначенная для хранения данных разных типов. \n",
        "> преобразовать объект в список **list()**\n",
        "\n",
        "**set** - множество - похож на список с разницей, что в нем не может быть повторяющихся элементов. Т.е., если список может быть [1,2,2], то множество будет (1,2).\n",
        "> преобразовать объект в множество/создать пустое множество **set()**\n",
        "\n",
        "**tuple** - кортеж - похож на список с разницей, что в него нельзя добавить новые элементы.\n",
        "> преобразовать объект в кортеж/создать новый кортеж **tuple()**\n",
        "\n",
        "**dict** - структура, предназначенная для хранения данных разных типов, при этом организована по типу ключа-значение.\n",
        "> преобразовать в словарь/ создать новый словарь {КЛЮЧ:ЗНАЧЕНИЕ}\n",
        "\n",
        "\n"
      ]
    },
    {
      "cell_type": "markdown",
      "metadata": {
        "id": "X8PXt3JIoCIf"
      },
      "source": [
        "# Краткий гайд по обозначениям в Python\n",
        "\n",
        "Если это...\n",
        "\n",
        "[ ] - список\n",
        "\n",
        "( ) - кортеж \n",
        "\n",
        "{ } - словарь \n",
        "\n",
        "----------------\n",
        "\n",
        "[ [ ], [ ] ] - список списков\n",
        "\n",
        "[ ( ) , ( ) ] - список кортежей\n",
        "\n",
        "[ { } , { } ] - список словарей\n",
        "\n",
        "----------------\n",
        "( [ ] , [ ] ) - кортеж из списков\n",
        "\n",
        "( ( ) , ( ) ) - котреж из кортежей\n",
        "\n",
        "( { } , { } ) - кортеж из словарей\n",
        "\n",
        "----------------\n",
        "{ключ:[значение]} - словарь и значение представлено в виде списка\n",
        "{ключ: ()} - словарь и значение представлено в виде кортежа\n",
        "\n",
        ".() - функция/метод \n",
        "\n",
        "Пример: \n",
        "\n",
        "         a = [5, 2, 3, 1, 4]\n",
        "        \n",
        "         a.sort() # вызываем функцию сортировки\n",
        "\n",
        "         >>>>[1, 2, 3, 4, 5]\n",
        "\n",
        ".- атрибут объекта\n",
        "\n",
        "        array.shape\n",
        "\n",
        "\n",
        "А если так, то...\n",
        "\n",
        "a[ ] - вытащить значение под конкретным индексом. **а** является в этом случае итерируемым объектом (объект, в котором есть другие объекты)\n",
        "\n",
        "a( ) - вызвать функцию (если необходимы параметры, то указываются в скобках)\n",
        "\n"
      ]
    }
  ]
}