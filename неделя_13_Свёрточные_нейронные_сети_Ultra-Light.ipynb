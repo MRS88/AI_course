{
  "nbformat": 4,
  "nbformat_minor": 0,
  "metadata": {
    "colab": {
      "name": "Untitled11.ipynb",
      "provenance": [],
      "authorship_tag": "ABX9TyOftnRdV++F3yG3LcDMCjUi",
      "include_colab_link": true
    },
    "kernelspec": {
      "name": "python3",
      "display_name": "Python 3"
    }
  },
  "cells": [
    {
      "cell_type": "markdown",
      "metadata": {
        "id": "view-in-github",
        "colab_type": "text"
      },
      "source": [
        "<a href=\"https://colab.research.google.com/github/ShutTheFuckUpDonny/AI_course/blob/master/%D0%BD%D0%B5%D0%B4%D0%B5%D0%BB%D1%8F_13_%D0%A1%D0%B2%D1%91%D1%80%D1%82%D0%BE%D1%87%D0%BD%D1%8B%D0%B5_%D0%BD%D0%B5%D0%B9%D1%80%D0%BE%D0%BD%D0%BD%D1%8B%D0%B5_%D1%81%D0%B5%D1%82%D0%B8_Ultra-Light.ipynb\" target=\"_parent\"><img src=\"https://colab.research.google.com/assets/colab-badge.svg\" alt=\"Open In Colab\"/></a>"
      ]
    },
    {
      "cell_type": "markdown",
      "metadata": {
        "id": "_IVLReLojZt9"
      },
      "source": [
        "Задание Ultra Lite\n",
        "\n",
        "Переписать ноутбук по распознаванию рукописных цифр своими руками, восстановив следующие операции:\n",
        "\n",
        "1. Импорт библиотек.\n",
        "2. Загрузка базы mnist.\n",
        "3. Нормирование и преобразование x_train и y_train.\n",
        "4. Создание сверточной нейронной сети.\n",
        "5. Обучение сверточной нейронной сети.\n",
        "Можно смотреть в ноутбук с занятия, но код писать самостоятельно."
      ]
    },
    {
      "cell_type": "code",
      "metadata": {
        "id": "-8niaIkwjcM5"
      },
      "source": [
        "from tensorflow.keras.datasets import mnist\n",
        "from tensorflow.keras.models import Sequential\n",
        "from tensorflow.keras.layers import Dense, Conv2D, MaxPooling2D, Flatten, Dropout, BatchNormalization\n",
        "from tensorflow.keras.optimizers import Adam\n",
        "from tensorflow.keras import utils\n",
        "import matplotlib.pyplot as plt\n",
        "import numpy as np"
      ],
      "execution_count": null,
      "outputs": []
    },
    {
      "cell_type": "code",
      "metadata": {
        "id": "PFWn2vjzkcEo"
      },
      "source": [
        "(x_train, y_train), (x_test, y_test) = mnist.load_data()"
      ],
      "execution_count": null,
      "outputs": []
    },
    {
      "cell_type": "code",
      "metadata": {
        "id": "fdmI4hLEk6NL"
      },
      "source": [
        "# Нормируем\n",
        "y_train = utils.to_categorical(y_train, 10)\n",
        "y_test = utils.to_categorical(y_test, 10)\n",
        "x_train = x_train.reshape(x_train.shape[0], 28, 28, 1)\n",
        "x_test = x_test.reshape(x_test.shape[0], 28, 28, 1)"
      ],
      "execution_count": null,
      "outputs": []
    },
    {
      "cell_type": "code",
      "metadata": {
        "id": "jDa9xr9mlq9H"
      },
      "source": [
        "# Создание сверточной нейронной сети\n",
        "batch_size = 128\n",
        "\n",
        "model = Sequential()\n",
        "model.add(BatchNormalization(input_shape=(28,28,1)))\n",
        "model.add(Conv2D(32, (3, 3), padding='same', activation='relu'))\n",
        "model.add(Conv2D(32, (3, 3), padding='same', activation='relu'))\n",
        "model.add(MaxPooling2D(pool_size=(2, 2)))\n",
        "model.add(Dropout(0.25))\n",
        "model.add(Flatten())\n",
        "model.add(Dense(256, activation='relu'))\n",
        "model.add(Dropout(0.25))\n",
        "model.add(Dense(10, activation='softmax'))\n",
        "model.compile(loss='categorical_crossentropy', optimizer='adam', metrics=['accuracy'])"
      ],
      "execution_count": null,
      "outputs": []
    },
    {
      "cell_type": "code",
      "metadata": {
        "colab": {
          "base_uri": "https://localhost:8080/",
          "height": 798
        },
        "id": "XpasdODVnnVq",
        "outputId": "0cf873e9-03f1-4a8f-c11e-7b376dcdb9d7"
      },
      "source": [
        "# Обучение сеть на данных mnist\n",
        "history = model.fit(x_train,\n",
        "                    y_train,\n",
        "                    batch_size=batch_size,\n",
        "                    epochs=15,\n",
        "                    validation_data=(x_test, y_test),\n",
        "                    verbose=1)\n",
        "\n",
        "# Отображение графика точности обучения\n",
        "plt.plot(history.history['accuracy'],\n",
        "         label='Доля верных ответов на обучающем наборе')\n",
        "plt.plot(history.history['val_accuracy'],\n",
        "         label='Доля верных ответов на провероном наборе')\n",
        "plt.xlabel('Эпоха обучения')\n",
        "plt.ylabel('Доля верных ответов')\n",
        "plt.legend()\n",
        "plt.grid()\n",
        "plt.show()"
      ],
      "execution_count": null,
      "outputs": [
        {
          "output_type": "stream",
          "text": [
            "Epoch 1/15\n",
            "469/469 [==============================] - 137s 292ms/step - loss: 0.1541 - accuracy: 0.9530 - val_loss: 0.0459 - val_accuracy: 0.9852\n",
            "Epoch 2/15\n",
            "469/469 [==============================] - 136s 291ms/step - loss: 0.0501 - accuracy: 0.9847 - val_loss: 0.0304 - val_accuracy: 0.9896\n",
            "Epoch 3/15\n",
            "469/469 [==============================] - 136s 290ms/step - loss: 0.0360 - accuracy: 0.9890 - val_loss: 0.0321 - val_accuracy: 0.9898\n",
            "Epoch 4/15\n",
            "469/469 [==============================] - 136s 290ms/step - loss: 0.0277 - accuracy: 0.9910 - val_loss: 0.0286 - val_accuracy: 0.9909\n",
            "Epoch 5/15\n",
            "469/469 [==============================] - 136s 289ms/step - loss: 0.0215 - accuracy: 0.9926 - val_loss: 0.0294 - val_accuracy: 0.9904\n",
            "Epoch 6/15\n",
            "469/469 [==============================] - 136s 290ms/step - loss: 0.0180 - accuracy: 0.9939 - val_loss: 0.0296 - val_accuracy: 0.9910\n",
            "Epoch 7/15\n",
            "469/469 [==============================] - 136s 290ms/step - loss: 0.0153 - accuracy: 0.9951 - val_loss: 0.0318 - val_accuracy: 0.9898\n",
            "Epoch 8/15\n",
            "469/469 [==============================] - 136s 290ms/step - loss: 0.0143 - accuracy: 0.9950 - val_loss: 0.0293 - val_accuracy: 0.9901\n",
            "Epoch 9/15\n",
            "469/469 [==============================] - 136s 290ms/step - loss: 0.0125 - accuracy: 0.9957 - val_loss: 0.0289 - val_accuracy: 0.9906\n",
            "Epoch 10/15\n",
            "469/469 [==============================] - 136s 290ms/step - loss: 0.0099 - accuracy: 0.9966 - val_loss: 0.0333 - val_accuracy: 0.9913\n",
            "Epoch 11/15\n",
            "469/469 [==============================] - 136s 291ms/step - loss: 0.0105 - accuracy: 0.9965 - val_loss: 0.0302 - val_accuracy: 0.9909\n",
            "Epoch 12/15\n",
            "469/469 [==============================] - 136s 290ms/step - loss: 0.0084 - accuracy: 0.9972 - val_loss: 0.0271 - val_accuracy: 0.9919\n",
            "Epoch 13/15\n",
            "469/469 [==============================] - 137s 292ms/step - loss: 0.0081 - accuracy: 0.9970 - val_loss: 0.0329 - val_accuracy: 0.9915\n",
            "Epoch 14/15\n",
            "469/469 [==============================] - 136s 290ms/step - loss: 0.0089 - accuracy: 0.9969 - val_loss: 0.0316 - val_accuracy: 0.9921\n",
            "Epoch 15/15\n",
            "469/469 [==============================] - 136s 289ms/step - loss: 0.0077 - accuracy: 0.9974 - val_loss: 0.0323 - val_accuracy: 0.9912\n"
          ],
          "name": "stdout"
        },
        {
          "output_type": "display_data",
          "data": {
            "image/png": "[encoded data removed]",
            "text/plain": [
              "<Figure size 432x288 with 1 Axes>"
            ]
          },
          "metadata": {
            "tags": [],
            "needs_background": "light"
          }
        }
      ]
    },
    {
      "cell_type": "code",
      "metadata": {
        "colab": {
          "base_uri": "https://localhost:8080/"
        },
        "id": "49BYUCw_o8S7",
        "outputId": "47446c64-bdd8-417b-ad7d-012a50b21596"
      },
      "source": [
        "# Определение цифр из тестовой выборки\n",
        "n = np.random.randint(x_test.shape[0])\n",
        "prediction = model.predict(x_test)\n",
        "print('Выход сети: ', prediction[n])\n",
        "print('Распознанная цифра: ', np.argmax(prediction[n]))\n",
        "print('Верный ответ: ', np.argmax(y_test[n]))"
      ],
      "execution_count": null,
      "outputs": [
        {
          "output_type": "stream",
          "text": [
            "Выход сети:  [2.09336314e-18 1.06017435e-08 1.00000000e+00 5.34107090e-12\n",
            " 1.92172314e-13 2.15391607e-24 3.33907125e-22 2.24871025e-10\n",
            " 1.44520268e-12 1.77501226e-14]\n",
            "Распознанная цифра:  2\n",
            "Верный ответ:  2\n"
          ],
          "name": "stdout"
        }
      ]
    }
  ]
}