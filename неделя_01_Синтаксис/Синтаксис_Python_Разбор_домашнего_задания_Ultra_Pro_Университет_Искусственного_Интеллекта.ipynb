{
  "nbformat": 4,
  "nbformat_minor": 0,
  "metadata": {
    "colab": {
      "name": "Синтаксис Python. Разбор домашнего задания. Ultra-Pro. Университет Искусственного Интеллекта.ipynb",
      "provenance": [],
      "collapsed_sections": [],
      "include_colab_link": true
    },
    "kernelspec": {
      "name": "python3",
      "display_name": "Python 3"
    }
  },
  "cells": [
    {
      "cell_type": "markdown",
      "metadata": {
        "id": "view-in-github",
        "colab_type": "text"
      },
      "source": [
        "<a href=\"https://colab.research.google.com/github/ShutTheFuckUpDonny/AI_course/blob/master/%D0%BD%D0%B5%D0%B4%D0%B5%D0%BB%D1%8F_01_%D0%A1%D0%B8%D0%BD%D1%82%D0%B0%D0%BA%D1%81%D0%B8%D1%81/%D0%A1%D0%B8%D0%BD%D1%82%D0%B0%D0%BA%D1%81%D0%B8%D1%81_Python_%D0%A0%D0%B0%D0%B7%D0%B1%D0%BE%D1%80_%D0%B4%D0%BE%D0%BC%D0%B0%D1%88%D0%BD%D0%B5%D0%B3%D0%BE_%D0%B7%D0%B0%D0%B4%D0%B0%D0%BD%D0%B8%D1%8F_Ultra_Pro_%D0%A3%D0%BD%D0%B8%D0%B2%D0%B5%D1%80%D1%81%D0%B8%D1%82%D0%B5%D1%82_%D0%98%D1%81%D0%BA%D1%83%D1%81%D1%81%D1%82%D0%B2%D0%B5%D0%BD%D0%BD%D0%BE%D0%B3%D0%BE_%D0%98%D0%BD%D1%82%D0%B5%D0%BB%D0%BB%D0%B5%D0%BA%D1%82%D0%B0.ipynb\" target=\"_parent\"><img src=\"https://colab.research.google.com/assets/colab-badge.svg\" alt=\"Open In Colab\"/></a>"
      ]
    },
    {
      "cell_type": "markdown",
      "metadata": {
        "id": "vLMY-BcTvDL_"
      },
      "source": [
        "### Задача 1\n",
        "\n",
        "Используя все возможные известные методы, посчтитайте сумму чисел от 1 до 20 следующим способом:\n",
        "1. Перебором параметра i в цикле for. \n",
        "2. Перебором параметра i в цикле while.\n",
        "3. При помощи специальной функции для созданного списка.\n",
        "4. При помощи перебора элементов созданного списка в цикле for. \n",
        "5. При помощи перебора элементов созданного списка в цикле while."
      ]
    },
    {
      "cell_type": "markdown",
      "metadata": {
        "id": "oaJJV6VPvuhx"
      },
      "source": [
        "**Решение:**"
      ]
    },
    {
      "cell_type": "markdown",
      "metadata": {
        "id": "UGK4J_FlK-Mh"
      },
      "source": [
        "Пункт 1"
      ]
    },
    {
      "cell_type": "code",
      "metadata": {
        "id": "4A1U2gNpK9hp",
        "colab": {
          "base_uri": "https://localhost:8080/",
          "height": 34
        },
        "outputId": "71d8cabd-da81-4139-dff0-3cba7daebd2d"
      },
      "source": [
        "s = 0 #Создаем переменную s, равную 0\n",
        "\n",
        "for i in range(1, 21): #Проходим по всем значениям интервала [0, 20]\n",
        "  s += i #Сумму увеличиваем на значение i\n",
        "\n",
        "print('Сумма равна:', s)"
      ],
      "execution_count": null,
      "outputs": [
        {
          "output_type": "stream",
          "text": [
            "Сумма равна: 210\n"
          ],
          "name": "stdout"
        }
      ]
    },
    {
      "cell_type": "markdown",
      "metadata": {
        "id": "wr6xEMyILcmb"
      },
      "source": [
        "Пункт 2"
      ]
    },
    {
      "cell_type": "code",
      "metadata": {
        "id": "V5iefCA2vuhz",
        "colab": {
          "base_uri": "https://localhost:8080/",
          "height": 34
        },
        "outputId": "44b3f719-e202-48a0-bed6-36845660fb47"
      },
      "source": [
        "s = 0 #Создаем переменную s, равную 0\n",
        "counter = 1 #Создаем переменную для счетчика\n",
        "\n",
        "while counter <= 20: #Пока счетчик меньше 20\n",
        "  s += counter #Сумму увеличиваем на значение счетчика\n",
        "  counter += 1 #Счетчик увеличиваем на 1\n",
        "\n",
        "print('Сумма равна:', s)"
      ],
      "execution_count": null,
      "outputs": [
        {
          "output_type": "stream",
          "text": [
            "Сумма равна: 210\n"
          ],
          "name": "stdout"
        }
      ]
    },
    {
      "cell_type": "markdown",
      "metadata": {
        "id": "Wtfcq7LWLlDf"
      },
      "source": [
        "Пункт 3. Решение 1"
      ]
    },
    {
      "cell_type": "code",
      "metadata": {
        "id": "ZSK1voi6LhCR",
        "colab": {
          "base_uri": "https://localhost:8080/",
          "height": 34
        },
        "outputId": "a71af4ce-c5e7-4c77-f980-862b8cac2dea"
      },
      "source": [
        "lst = [1, 2, 3, 4, 5, 6, 7, 8, 9, 10, 11, 12, 13 , 14 , 15, 16, 17, 18, 19, 20] #Создаем список\n",
        "print('Сумма равна:', sum(lst)) #Считаем сумму"
      ],
      "execution_count": null,
      "outputs": [
        {
          "output_type": "stream",
          "text": [
            "Сумма равна: 210\n"
          ],
          "name": "stdout"
        }
      ]
    },
    {
      "cell_type": "markdown",
      "metadata": {
        "id": "5VVUf4FoL3Wv"
      },
      "source": [
        "Пункт 3. Решение 2"
      ]
    },
    {
      "cell_type": "code",
      "metadata": {
        "id": "GvaPwauWL7P-",
        "colab": {
          "base_uri": "https://localhost:8080/",
          "height": 34
        },
        "outputId": "15affcc9-3782-494c-9cfa-39057e542a84"
      },
      "source": [
        "lst = [] #Создаем пустой список\n",
        "\n",
        "for i in range(1, 21): #Проходим по всем значениям интервала [1, 20]\n",
        "  lst.append(i) #Каждые из значений добавляем в список\n",
        "\n",
        "print('Сумма равна:', sum(lst)) #Считаем сумму"
      ],
      "execution_count": null,
      "outputs": [
        {
          "output_type": "stream",
          "text": [
            "Сумма равна: 210\n"
          ],
          "name": "stdout"
        }
      ]
    },
    {
      "cell_type": "markdown",
      "metadata": {
        "id": "fWTDsxfdMFTY"
      },
      "source": [
        "Пункт 3. Решение 3"
      ]
    },
    {
      "cell_type": "code",
      "metadata": {
        "id": "UiBl-yTAMWxu",
        "colab": {
          "base_uri": "https://localhost:8080/",
          "height": 34
        },
        "outputId": "664b0e37-30ae-4571-b618-370940a3ea29"
      },
      "source": [
        "lst = [i for i in range(1, 21)] #Создаем список\n",
        "print('Сумма равна:', sum(lst)) #Считаем сумму"
      ],
      "execution_count": null,
      "outputs": [
        {
          "output_type": "stream",
          "text": [
            "Сумма равна: 210\n"
          ],
          "name": "stdout"
        }
      ]
    },
    {
      "cell_type": "markdown",
      "metadata": {
        "id": "z-FkY9VDM55p"
      },
      "source": [
        "Пункт 4"
      ]
    },
    {
      "cell_type": "code",
      "metadata": {
        "id": "APDTfzniNCLH",
        "colab": {
          "base_uri": "https://localhost:8080/",
          "height": 34
        },
        "outputId": "3ed0d876-8a35-4fbb-c242-871c1516dc8c"
      },
      "source": [
        "s = 0 #Создаем переменную s, равную 0\n",
        "\n",
        "for el in lst: #Проходим по каждому элементу в списке\n",
        "  s += el #Добавялем элемент к сумме\n",
        "\n",
        "print('Сумма равна:', s)#Считаем сумму"
      ],
      "execution_count": null,
      "outputs": [
        {
          "output_type": "stream",
          "text": [
            "Сумма равна: 210\n"
          ],
          "name": "stdout"
        }
      ]
    },
    {
      "cell_type": "markdown",
      "metadata": {
        "id": "yq-1XJQJNVhc"
      },
      "source": [
        "Пункт 5"
      ]
    },
    {
      "cell_type": "code",
      "metadata": {
        "id": "bn5uVvNANKXJ",
        "colab": {
          "base_uri": "https://localhost:8080/",
          "height": 34
        },
        "outputId": "98c96cc1-f8c2-4aa0-f295-61b1ddceb5a0"
      },
      "source": [
        "s = 0 #Создаем переменную s, равную 0\n",
        "i = 0\n",
        "\n",
        "while i < len(lst): #Проходим по индексам списка\n",
        "  s += lst[i] #Добавляем каждый i-ый  элемент к сумме\n",
        "  i += 1 #Переходим к следующему элементу\n",
        "\n",
        "print('Сумма равна:', s)#Считаем сумму"
      ],
      "execution_count": null,
      "outputs": [
        {
          "output_type": "stream",
          "text": [
            "Сумма равна: 210\n"
          ],
          "name": "stdout"
        }
      ]
    },
    {
      "cell_type": "markdown",
      "metadata": {
        "id": "m-pYH0xDhdqk"
      },
      "source": [
        "### Задача 2\n",
        "\n",
        "Используя циклы, напишите код, который создает список (list) путем конкатенации значений данного листа с целыми числами от 1 до (произвольного) n включительно.\n",
        "\n",
        "Пример:\n",
        "\n",
        "для списка [\"сосиски\", \"горчица\"] при n = 3 результат должен выглядеть так:\n",
        "\n",
        "['сосиски$\\_$1', 'горчица$\\_$1', 'сосиски$\\_2$', 'горчица$\\_$2', 'сосиски$\\_$3', 'горчица$\\_$3']"
      ]
    },
    {
      "cell_type": "code",
      "metadata": {
        "id": "Eqz3zAL-hdqq"
      },
      "source": [
        "sample_list = [\"мандаринки\", \"киви\", \"лимон\"]"
      ],
      "execution_count": null,
      "outputs": []
    },
    {
      "cell_type": "markdown",
      "metadata": {
        "id": "_anmPG8lqDql"
      },
      "source": [
        "**Решение:**"
      ]
    },
    {
      "cell_type": "code",
      "metadata": {
        "id": "4j9kFTTPh5bX",
        "colab": {
          "base_uri": "https://localhost:8080/",
          "height": 34
        },
        "outputId": "920209fe-324c-4d02-d685-bb4c47297454"
      },
      "source": [
        "n = 4 #Указываем n \n",
        "new_list = [] #Создаем новый список\n",
        "for i in range(1,n+1): #Проходим от 1 до n\n",
        "  for el in sample_list: #Проходим по всем элементам sample_list\n",
        "    new_list.append(el+'_'+str(i)) #Добавляем каждый новый элемент\n",
        "print(new_list)"
      ],
      "execution_count": null,
      "outputs": [
        {
          "output_type": "stream",
          "text": [
            "['мандаринки_1', 'киви_1', 'лимон_1', 'мандаринки_2', 'киви_2', 'лимон_2', 'мандаринки_3', 'киви_3', 'лимон_3', 'мандаринки_4', 'киви_4', 'лимон_4']\n"
          ],
          "name": "stdout"
        }
      ]
    },
    {
      "cell_type": "markdown",
      "metadata": {
        "id": "WtwsV6BRhdrE"
      },
      "source": [
        "### Задача 3\n",
        "\n",
        "Напишите код, который считает количество элементов в заданном списке до тех пор, пока не встретится элемент типа словарь.\n",
        "\n",
        "Пример:\n",
        "\n",
        "для списка [3, \"котики\", 0.45, 5, {'котики' : 2, 'слоники' : 9}, \"слоники\", 34] на выходе должны получить число 4"
      ]
    },
    {
      "cell_type": "code",
      "metadata": {
        "id": "m5iv-Hj9hdrM",
        "outputId": "f0555914-ec07-420f-da65-6278f15ea4e4"
      },
      "source": [
        "list_for_pro_task_2 = [35, 0.24, 3 + 4j, \"котики\", 0.45, (8, 9), \"слоники\", {\"Мадрид\": 3, 'Лондон':5}, 23498]\n",
        "print(list_for_pro_task_2)"
      ],
      "execution_count": null,
      "outputs": [
        {
          "output_type": "stream",
          "text": [
            "[35, 0.24, (3+4j), 'котики', 0.45, (8, 9), 'слоники', {'Мадрид': 3, 'Лондон': 5}, 23498]\n"
          ],
          "name": "stdout"
        }
      ]
    },
    {
      "cell_type": "markdown",
      "metadata": {
        "id": "1gbBHwFzux7h"
      },
      "source": [
        "**Решение:**"
      ]
    },
    {
      "cell_type": "code",
      "metadata": {
        "id": "CHE8MsggJ_Mm",
        "colab": {
          "base_uri": "https://localhost:8080/",
          "height": 34
        },
        "outputId": "bb9de262-6937-4e79-8cc1-094f81c39c6a"
      },
      "source": [
        "list_for_pro_task_2 = [35, 0.24, 3 + 4j, \"котики\", 0.45, (8, 9), \"слоники\", {\"Мадрид\": 3, 'Лондон':5}, 23498] # Исходный список для поиска\n",
        "count = 0 # Задаем переменную, в которой будем считать количество элементов\n",
        "for elem in list_for_pro_task_2: # Проходим по всем элементам исходного списка\n",
        "  if type (elem) == dict: # Если тип текущего элемента равен dict (другим словами, если текущий элемент - словарь)\n",
        "    break # Выходим из цикла\n",
        "  count +=1 # В противном случае увеличиваем количество элементов на 1\n",
        "print (count) # Выводим количество элементов"
      ],
      "execution_count": null,
      "outputs": [
        {
          "output_type": "stream",
          "text": [
            "7\n"
          ],
          "name": "stdout"
        }
      ]
    },
    {
      "cell_type": "markdown",
      "metadata": {
        "id": "fHMBDh-ahdrz"
      },
      "source": [
        "### Задача 4\n",
        "\n",
        "Создайте словарь (dict) c ключами, соответствующими числам от 1 до 20 включительно и значениями, соответствующими квадратам ключей. \n",
        "\n",
        "P.S. Используйте циклы или функции, прямое \"ручное\" присваивание не допускается!!!\n",
        "\n",
        "Пример: \n",
        "\n",
        "для чисел от 1 до 3 включительно словарь должен выглядеть так: {1 : 1, 2 : 4, 3 : 9}"
      ]
    },
    {
      "cell_type": "markdown",
      "metadata": {
        "id": "QxTdxYntuyOE"
      },
      "source": [
        "**Решение:**"
      ]
    },
    {
      "cell_type": "code",
      "metadata": {
        "id": "IpZImRB2L9cW"
      },
      "source": [
        "my_dict = {} #Создаем пустой список\n",
        "for i in range (1,21): #Проходим по значениям интервала [1, 20]\n",
        "  my_dict[i] = i ** 2 #Добавялем квадраты ключей"
      ],
      "execution_count": null,
      "outputs": []
    },
    {
      "cell_type": "code",
      "metadata": {
        "id": "TiXcthvuMY0v",
        "colab": {
          "base_uri": "https://localhost:8080/",
          "height": 357
        },
        "outputId": "ca923405-0b76-48e8-d98c-9c4d3b2efd78"
      },
      "source": [
        "my_dict"
      ],
      "execution_count": null,
      "outputs": [
        {
          "output_type": "execute_result",
          "data": {
            "text/plain": [
              "{1: 1,\n",
              " 2: 4,\n",
              " 3: 9,\n",
              " 4: 16,\n",
              " 5: 25,\n",
              " 6: 36,\n",
              " 7: 49,\n",
              " 8: 64,\n",
              " 9: 81,\n",
              " 10: 100,\n",
              " 11: 121,\n",
              " 12: 144,\n",
              " 13: 169,\n",
              " 14: 196,\n",
              " 15: 225,\n",
              " 16: 256,\n",
              " 17: 289,\n",
              " 18: 324,\n",
              " 19: 361,\n",
              " 20: 400}"
            ]
          },
          "metadata": {
            "tags": []
          },
          "execution_count": 20
        }
      ]
    },
    {
      "cell_type": "markdown",
      "metadata": {
        "id": "wf85TNYHv31c"
      },
      "source": [
        "### Задача 5"
      ]
    },
    {
      "cell_type": "markdown",
      "metadata": {
        "id": "QQv6xeOnv71u"
      },
      "source": [
        "Дана следующая строка:"
      ]
    },
    {
      "cell_type": "code",
      "metadata": {
        "id": "vZOCDnMDv6_0"
      },
      "source": [
        "string = '[0, 1, 1, 2, 3, 5, 8, 13, 21, 34, 55, 89, 144, 233, 377,]'"
      ],
      "execution_count": null,
      "outputs": []
    },
    {
      "cell_type": "markdown",
      "metadata": {
        "id": "m2sCsCD8OtCF"
      },
      "source": [
        "Пройдя по символам строки, переведите строку в список."
      ]
    },
    {
      "cell_type": "code",
      "metadata": {
        "id": "O0q_UJxCP9PC"
      },
      "source": [
        "digits = ['0', '1', '2', '3', '4', '5', '6', '7', '8', '9'] #Указываем все возможные числа\n",
        "lst = [] #Создаем пустой список для преобразованных данных \n",
        "i = 0 #Начальный индекс создаем равным 0\n",
        "\n",
        "while i < len(string): #Проходим по всем символам строки \n",
        "\n",
        "  if string[i] in digits: #Если символ - строка\n",
        "    j = 0 #Добавляем индекс для определения длины числа\n",
        "\n",
        "    while string[i + j] in digits: #Пока каждый последующий индекс после i является числом\n",
        "      j += 1 #Увеличиваем j\n",
        "      \n",
        "    lst.append(int(string[i:i+j])) #Добавляем подстроку, переведенную в целое число в список\n",
        "    i += j #Пропускаем рассмотренные в цикле индексы \n",
        "    \n",
        "  else: #Иначе, если символ - не число\n",
        "    i += 1 #Двигаемся на шаг вперед"
      ],
      "execution_count": null,
      "outputs": []
    }
  ]
}