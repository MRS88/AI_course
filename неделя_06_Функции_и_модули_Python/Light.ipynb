{
  "nbformat": 4,
  "nbformat_minor": 0,
  "metadata": {
    "colab": {
      "name": "Копия блокнота \"ДЗ Light. Функции и модули.ipynb\"",
      "provenance": [],
      "collapsed_sections": [],
      "include_colab_link": true
    },
    "kernelspec": {
      "name": "python3",
      "display_name": "Python 3"
    }
  },
  "cells": [
    {
      "cell_type": "markdown",
      "metadata": {
        "id": "view-in-github",
        "colab_type": "text"
      },
      "source": [
        "<a href=\"https://colab.research.google.com/github/MRS88/AI_course/blob/master/%D0%BD%D0%B5%D0%B4%D0%B5%D0%BB%D1%8F_06_%D0%A4%D1%83%D0%BD%D0%BA%D1%86%D0%B8%D0%B8_%D0%B8_%D0%BC%D0%BE%D0%B4%D1%83%D0%BB%D0%B8_Python/Light.ipynb\" target=\"_parent\"><img src=\"https://colab.research.google.com/assets/colab-badge.svg\" alt=\"Open In Colab\"/></a>"
      ]
    },
    {
      "cell_type": "markdown",
      "metadata": {
        "id": "NRUICBBzlLh2"
      },
      "source": [
        "# Домашнее задание Функции и модули\n",
        "# Light"
      ]
    },
    {
      "cell_type": "markdown",
      "metadata": {
        "id": "J_3EMvI2E3fG"
      },
      "source": [
        "**Задача 1**\n",
        "\n",
        "Определите функцию ```shut_down```, которая на вход принимает некоторый аргумент. Если на вход было подано \"ДА\", то функция возвращает \"Выключение\", если \"НЕТ\", то должна вернуть \"Выключение отклонено\". Если же ни одно из условий не соблюдено (на вход подали что-то другое), то функция возвращает \"Ошибка!\""
      ]
    },
    {
      "cell_type": "markdown",
      "metadata": {
        "id": "TAv1C6Slr2At"
      },
      "source": [
        "**Решение:**"
      ]
    },
    {
      "cell_type": "code",
      "metadata": {
        "id": "Hn8T4IUgFrce",
        "colab": {
          "base_uri": "https://localhost:8080/",
          "height": 51
        },
        "outputId": "c4b60bfa-9076-4d73-85c2-a6f64a70affd"
      },
      "source": [
        "def shut_down(s):\n",
        "  if s == 'ДА': return 'Выключение'\n",
        "  elif s == 'НЕТ': return 'Выключение отклонено'\n",
        "  return 'Ошибка!'\n",
        "  \n",
        "shut_down(input().upper())"
      ],
      "execution_count": 1,
      "outputs": [
        {
          "output_type": "stream",
          "text": [
            "kk\n"
          ],
          "name": "stdout"
        },
        {
          "output_type": "execute_result",
          "data": {
            "application/vnd.google.colaboratory.intrinsic+json": {
              "type": "string"
            },
            "text/plain": [
              "'Ошибка!'"
            ]
          },
          "metadata": {
            "tags": []
          },
          "execution_count": 1
        }
      ]
    },
    {
      "cell_type": "markdown",
      "metadata": {
        "id": "y9HKW0zfFrx5"
      },
      "source": [
        "**Задача 2**\n",
        "\n",
        "Напишите функцию, которая возвращает сумму всех четных элементов списка. "
      ]
    },
    {
      "cell_type": "markdown",
      "metadata": {
        "id": "iySoBodZr751"
      },
      "source": [
        "**Решение:**"
      ]
    },
    {
      "cell_type": "code",
      "metadata": {
        "id": "4EarzKMgF-3S",
        "colab": {
          "base_uri": "https://localhost:8080/",
          "height": 52
        },
        "outputId": "5c04f1a5-9744-4a59-e600-c84589bbd90b"
      },
      "source": [
        "num = int(input())\n",
        "lst = [i for i in range(num)]\n",
        "\n",
        "def even_sum(lst):\n",
        "  res = 0\n",
        "  for k in lst:\n",
        "    if k % 2 == 0:\n",
        "      res += k\n",
        "  return res      \n",
        "\n",
        "print(even_sum(lst))"
      ],
      "execution_count": null,
      "outputs": [
        {
          "output_type": "stream",
          "text": [
            "5\n",
            "6\n"
          ],
          "name": "stdout"
        }
      ]
    },
    {
      "cell_type": "markdown",
      "metadata": {
        "id": "wmWxT1ibGfpN"
      },
      "source": [
        "**Задача 3**\n",
        "\n",
        "Импортируйте модуль ```math``` и воспользуйтесь оттуда функцией ```sqrt``` для нахождения квадратного корня каждого числа из списка (из задачи № 2).\n"
      ]
    },
    {
      "cell_type": "markdown",
      "metadata": {
        "id": "A0ErhyPBr-XG"
      },
      "source": [
        "**Решение:**"
      ]
    },
    {
      "cell_type": "code",
      "metadata": {
        "id": "zrsGIkgmG-AT",
        "colab": {
          "base_uri": "https://localhost:8080/",
          "height": 141
        },
        "outputId": "8d750483-1959-4174-afe6-c5d235fe37ab"
      },
      "source": [
        "from math import sqrt\n",
        "\n",
        "def sqrt_lst(lst):\n",
        "  return [sqrt(i) for i in lst]\n",
        "\n",
        "def sqrt_lst_2(lst):\n",
        "  for i in lst: print(sqrt(i))\n",
        "\n",
        " \n",
        "print(sqrt_lst(lst), '\\n')\n",
        "sqrt_lst_2(lst)"
      ],
      "execution_count": null,
      "outputs": [
        {
          "output_type": "stream",
          "text": [
            "[0.0, 1.0, 1.4142135623730951, 1.7320508075688772, 2.0] \n",
            "\n",
            "0.0\n",
            "1.0\n",
            "1.4142135623730951\n",
            "1.7320508075688772\n",
            "2.0\n"
          ],
          "name": "stdout"
        }
      ]
    },
    {
      "cell_type": "markdown",
      "metadata": {
        "id": "JQvwHuGsG9Of"
      },
      "source": [
        "**Задача 4**\n",
        "\n",
        "Напишите функцию, которая рассчитает примерное время выполнения этого домашнего задания. На вход она принимает количество минут, потраченное на каждое задание, и количество заданий. Выведите посчитанное время на экран."
      ]
    },
    {
      "cell_type": "markdown",
      "metadata": {
        "id": "qC8Ts9yesAB_"
      },
      "source": [
        "**Решение:**"
      ]
    },
    {
      "cell_type": "code",
      "metadata": {
        "id": "68KXmNplpTt5",
        "colab": {
          "base_uri": "https://localhost:8080/",
          "height": 34
        },
        "outputId": "737bba6c-5766-44be-b39f-571e58934235"
      },
      "source": [
        "def time_for_task(minutes, tasks):\n",
        "  res = minutes * tasks\n",
        "  return 'Общее время выполнения заданий: {:02}:{:02}'.format(res//60, res%60)\n",
        "  \n",
        "print(time_for_task(10, 6))  "
      ],
      "execution_count": null,
      "outputs": [
        {
          "output_type": "stream",
          "text": [
            "Общее время выполнения заданий: 01:00\n"
          ],
          "name": "stdout"
        }
      ]
    },
    {
      "cell_type": "markdown",
      "metadata": {
        "id": "uG25f7M3HZbU"
      },
      "source": [
        "**Задача 5**\n",
        "\n",
        "Напишите функцию, которая возвращает перевернутую строку наоборот.\n",
        "Пример: начальная строка11 -> 11акортс яаньлачан"
      ]
    },
    {
      "cell_type": "code",
      "metadata": {
        "id": "gP4TQuZJILE_"
      },
      "source": [
        "stroka = 'пароль от Wi-Fi: bOTOt0s@ni123'"
      ],
      "execution_count": null,
      "outputs": []
    },
    {
      "cell_type": "markdown",
      "metadata": {
        "id": "rJDo-zTPsFa4"
      },
      "source": [
        "**Решение:**"
      ]
    },
    {
      "cell_type": "code",
      "metadata": {
        "id": "rgx6PA44mb6p",
        "colab": {
          "base_uri": "https://localhost:8080/",
          "height": 52
        },
        "outputId": "1e427e3e-5ea1-4695-be7e-4bd76443977b"
      },
      "source": [
        "def versa():\n",
        "  return stroka[::-1] #самый производительный способ\n",
        "\n",
        "def versa_2():\n",
        "  return ''.join(reversed(stroka))\n",
        "\n",
        "print(versa())\n",
        "print(versa_2())"
      ],
      "execution_count": null,
      "outputs": [
        {
          "output_type": "stream",
          "text": [
            "321in@s0tOTOb :iF-iW то ьлорап\n",
            "321in@s0tOTOb :iF-iW то ьлорап\n"
          ],
          "name": "stdout"
        }
      ]
    }
  ]
}