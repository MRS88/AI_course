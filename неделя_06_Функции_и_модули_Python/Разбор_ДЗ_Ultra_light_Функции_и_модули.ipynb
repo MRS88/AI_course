{
  "nbformat": 4,
  "nbformat_minor": 0,
  "metadata": {
    "colab": {
      "name": "Разбор ДЗ Ultra light. Функции и модули.ipynb",
      "provenance": [],
      "collapsed_sections": [],
      "include_colab_link": true
    },
    "kernelspec": {
      "name": "python3",
      "display_name": "Python 3"
    }
  },
  "cells": [
    {
      "cell_type": "markdown",
      "metadata": {
        "id": "view-in-github",
        "colab_type": "text"
      },
      "source": [
        "<a href=\"https://colab.research.google.com/github/MRS88/AI_course/blob/master/%D0%BD%D0%B5%D0%B4%D0%B5%D0%BB%D1%8F_06_%D0%A4%D1%83%D0%BD%D0%BA%D1%86%D0%B8%D0%B8_%D0%B8_%D0%BC%D0%BE%D0%B4%D1%83%D0%BB%D0%B8_Python/%D0%A0%D0%B0%D0%B7%D0%B1%D0%BE%D1%80_%D0%94%D0%97_Ultra_light_%D0%A4%D1%83%D0%BD%D0%BA%D1%86%D0%B8%D0%B8_%D0%B8_%D0%BC%D0%BE%D0%B4%D1%83%D0%BB%D0%B8.ipynb\" target=\"_parent\"><img src=\"https://colab.research.google.com/assets/colab-badge.svg\" alt=\"Open In Colab\"/></a>"
      ]
    },
    {
      "cell_type": "markdown",
      "metadata": {
        "id": "NRUICBBzlLh2"
      },
      "source": [
        "# Разбор домашнего задания \n",
        "Функции и модули\n",
        "# Ultra light"
      ]
    },
    {
      "cell_type": "markdown",
      "metadata": {
        "id": "J_3EMvI2E3fG"
      },
      "source": [
        "**Задача 1**\n",
        "\n",
        "Напишите функцию, которая будет выводить количество букв в слове. Проверьте при помощи этой функции, сколько букв в слове восьмидесятивосьмимиллиметровое."
      ]
    },
    {
      "cell_type": "markdown",
      "metadata": {
        "id": "065bhRzLrNP_"
      },
      "source": [
        "**Решение:**"
      ]
    },
    {
      "cell_type": "code",
      "metadata": {
        "id": "qFDath-KrXwx"
      },
      "source": [
        "def slova(ar):\n",
        "  print(len(ar))\n"
      ],
      "execution_count": null,
      "outputs": []
    },
    {
      "cell_type": "code",
      "metadata": {
        "id": "V7FS6isnr4GR",
        "colab": {
          "base_uri": "https://localhost:8080/",
          "height": 34
        },
        "outputId": "f882adc0-8cb2-4be8-9dfa-efa30343b9de"
      },
      "source": [
        "slova('восьмидесятивосьмимиллиметровое')"
      ],
      "execution_count": null,
      "outputs": [
        {
          "output_type": "stream",
          "text": [
            "31\n"
          ],
          "name": "stdout"
        }
      ]
    },
    {
      "cell_type": "markdown",
      "metadata": {
        "id": "KIEnEygesl_g"
      },
      "source": [
        "**Задача 2**\n",
        "\n",
        "Напишите функцию, которая выводит таблицу умножения (от 1 до 9) для указанного числа в следующем формате:\n",
        "\n",
        "1 * 3 = 3\n",
        "\n",
        "2 * 3 = 6\n",
        "\n",
        "3 * 3 = 9 \n",
        "\n",
        "...\n",
        "\n",
        "9 * 3 = 27"
      ]
    },
    {
      "cell_type": "markdown",
      "metadata": {
        "id": "dTbM0w2frRd3"
      },
      "source": [
        "**Решение:**"
      ]
    },
    {
      "cell_type": "code",
      "metadata": {
        "id": "GrDRIczQr7Og"
      },
      "source": [
        "def mult(ar):\n",
        "  for i in range(9):\n",
        "    print(i+1, ' * ', ar, '= ', (i+1)*ar )"
      ],
      "execution_count": null,
      "outputs": []
    },
    {
      "cell_type": "code",
      "metadata": {
        "id": "BOiarJTetjsa",
        "colab": {
          "base_uri": "https://localhost:8080/",
          "height": 170
        },
        "outputId": "a0e10890-ca29-4b54-9514-d8624736a6e5"
      },
      "source": [
        "mult(8)"
      ],
      "execution_count": null,
      "outputs": [
        {
          "output_type": "stream",
          "text": [
            "1  *  8 =  8\n",
            "2  *  8 =  16\n",
            "3  *  8 =  24\n",
            "4  *  8 =  32\n",
            "5  *  8 =  40\n",
            "6  *  8 =  48\n",
            "7  *  8 =  56\n",
            "8  *  8 =  64\n",
            "9  *  8 =  72\n"
          ],
          "name": "stdout"
        }
      ]
    },
    {
      "cell_type": "markdown",
      "metadata": {
        "id": "HmPLoSSWt651"
      },
      "source": [
        "**Задача 3**\n",
        "\n",
        "Напишите функцию, которая выводит сумму, разность и произведение двух, поданных на вход чисел.\n"
      ]
    },
    {
      "cell_type": "markdown",
      "metadata": {
        "id": "nJavyXCCrSuH"
      },
      "source": [
        "**Решение:**"
      ]
    },
    {
      "cell_type": "code",
      "metadata": {
        "id": "z7YLR3g_tlip"
      },
      "source": [
        "def operations(ar1, ar2):\n",
        "  s = ar1 + ar2\n",
        "  d = ar1 - ar2\n",
        "  m = ar1 * ar2\n",
        "  return print('\\n сумма равна ', s, '\\n разность равна', d, '\\n произведение равно', m)"
      ],
      "execution_count": null,
      "outputs": []
    },
    {
      "cell_type": "code",
      "metadata": {
        "id": "17tJlVaLfLcT",
        "colab": {
          "base_uri": "https://localhost:8080/",
          "height": 85
        },
        "outputId": "edacea69-1f87-41d8-8bb0-0f7af3e7aeea"
      },
      "source": [
        "operations(5, 2)"
      ],
      "execution_count": null,
      "outputs": [
        {
          "output_type": "stream",
          "text": [
            "\n",
            " сумма равна  7 \n",
            " разность равна 3 \n",
            " произведение равно 10\n"
          ],
          "name": "stdout"
        }
      ]
    },
    {
      "cell_type": "markdown",
      "metadata": {
        "id": "tdcZIYm9yLYE"
      },
      "source": [
        "**Задача 4**\n",
        "\n",
        "Импортируйте функцию sin из модуля math с присвоением ей псевдонима sinus. Посчитайте при помощи импортированной функции, чему будет равен синус единицы.\n",
        "\n"
      ]
    },
    {
      "cell_type": "markdown",
      "metadata": {
        "id": "FZoszhJDrTfE"
      },
      "source": [
        "**Решение:**"
      ]
    },
    {
      "cell_type": "code",
      "metadata": {
        "id": "45zMwJsUyZQj",
        "colab": {
          "base_uri": "https://localhost:8080/",
          "height": 34
        },
        "outputId": "1d743011-498c-4353-ed4a-37bb340c68a1"
      },
      "source": [
        "from math import sin as sinus\n",
        "sinus(1)"
      ],
      "execution_count": null,
      "outputs": [
        {
          "output_type": "execute_result",
          "data": {
            "text/plain": [
              "0.8414709848078965"
            ]
          },
          "metadata": {
            "tags": []
          },
          "execution_count": 11
        }
      ]
    },
    {
      "cell_type": "markdown",
      "metadata": {
        "id": "W3cmoRj7feLA"
      },
      "source": [
        "**Задача 5**\n",
        "\n",
        "Напишите лямбда-функцию, которая считает куб числа.\n",
        "\n"
      ]
    },
    {
      "cell_type": "markdown",
      "metadata": {
        "id": "Q5phl8bHrT1b"
      },
      "source": [
        "**Решение:**"
      ]
    },
    {
      "cell_type": "code",
      "metadata": {
        "id": "X8LPhssbyj8d",
        "colab": {
          "base_uri": "https://localhost:8080/",
          "height": 34
        },
        "outputId": "6cb5965a-574a-4ebc-cd03-6c2869fcba0a"
      },
      "source": [
        "cube_lambda = lambda a: a**3\n",
        "cube_lambda(3)"
      ],
      "execution_count": null,
      "outputs": [
        {
          "output_type": "execute_result",
          "data": {
            "text/plain": [
              "27"
            ]
          },
          "metadata": {
            "tags": []
          },
          "execution_count": 12
        }
      ]
    },
    {
      "cell_type": "code",
      "metadata": {
        "id": "yKjyciPFxDux",
        "colab": {
          "base_uri": "https://localhost:8080/",
          "height": 34
        },
        "outputId": "44846a5c-52d9-40ef-9d42-d6bc5d81ada7"
      },
      "source": [
        "cube_lambda(17)"
      ],
      "execution_count": null,
      "outputs": [
        {
          "output_type": "execute_result",
          "data": {
            "text/plain": [
              "4913"
            ]
          },
          "metadata": {
            "tags": []
          },
          "execution_count": 13
        }
      ]
    },
    {
      "cell_type": "code",
      "metadata": {
        "id": "Q__X53zbxG8q"
      },
      "source": [
        ""
      ],
      "execution_count": null,
      "outputs": []
    }
  ]
}