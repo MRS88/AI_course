{
  "nbformat": 4,
  "nbformat_minor": 0,
  "metadata": {
    "colab": {
      "name": "Копия блокнота \"Синтаксис Python. Домашнее задание. Ultra-Pro. Университет Искусственного Интеллекта.ipynb\"",
      "provenance": [],
      "collapsed_sections": [],
      "include_colab_link": true
    },
    "kernelspec": {
      "name": "python3",
      "display_name": "Python 3"
    }
  },
  "cells": [
    {
      "cell_type": "markdown",
      "metadata": {
        "id": "view-in-github",
        "colab_type": "text"
      },
      "source": [
        "<a href=\"https://colab.research.google.com/github/ShutTheFuckUpDonny/AI_course/blob/master/%D0%BD%D0%B5%D0%B4%D0%B5%D0%BB%D1%8F_01_%D0%A1%D0%B8%D0%BD%D1%82%D0%B0%D0%BA%D1%81%D0%B8%D1%81/Ultra_Pro.ipynb\" target=\"_parent\"><img src=\"https://colab.research.google.com/assets/colab-badge.svg\" alt=\"Open In Colab\"/></a>"
      ]
    },
    {
      "cell_type": "markdown",
      "metadata": {
        "id": "vLMY-BcTvDL_"
      },
      "source": [
        "### Задача 1\n",
        "\n",
        "Используя все возможные известные методы, посчтитайте сумму чисел от 1 до 20 следующим способом:\n",
        "1. Перебором параметра i в цикле for. \n",
        "2. Перебором параметра i в цикле while.\n",
        "3. При помощи специальной функции для созданного списка.\n",
        "4. При помощи перебора элементов созданного списка в цикле for. \n",
        "5. При помощи перебора элементов созданного списка в цикле while."
      ]
    },
    {
      "cell_type": "markdown",
      "metadata": {
        "id": "oaJJV6VPvuhx"
      },
      "source": [
        "**Решение:**"
      ]
    },
    {
      "cell_type": "code",
      "metadata": {
        "id": "V5iefCA2vuhz",
        "colab": {
          "base_uri": "https://localhost:8080/",
          "height": 102
        },
        "outputId": "2b7aa298-5d7c-4c8f-f773-b922b6206d96"
      },
      "source": [
        "'''Сумма чисел перебором параметра i в цикле for'''\n",
        "res = 0\n",
        "for num in range(1, 21):\n",
        "    res += num\n",
        "print(res)\n",
        "\n",
        "'''Сумма чисел перебором параметра i в цикле while'''\n",
        "res_1 = 0\n",
        "count = 1\n",
        "while count <= 20:\n",
        "    res_1 += count\n",
        "    count += 1\n",
        "print(res_1)    \n",
        "\n",
        "'''Сумма чисел при помощи специальной функции для созданного списка'''\n",
        "lst = [i for i in range(1, 21)]\n",
        "print(sum(lst))\n",
        "\n",
        "'''Сумма чисел при помощи перебора элементов созданного списка в цикле for'''\n",
        "res_2 = 0\n",
        "for i in lst:\n",
        "    res_2 += i\n",
        "print(res_2)\n",
        "\n",
        "'''Сумма чисел при помощи перебора элементов созданного списка в цикле while'''\n",
        "res_3 = 0\n",
        "index = 0\n",
        "while index <= 19:\n",
        "    res_3 += lst[index]\n",
        "    index += 1\n",
        "print(res_3)      "
      ],
      "execution_count": null,
      "outputs": [
        {
          "output_type": "stream",
          "text": [
            "210\n",
            "210\n",
            "210\n",
            "210\n",
            "210\n"
          ],
          "name": "stdout"
        }
      ]
    },
    {
      "cell_type": "markdown",
      "metadata": {
        "id": "m-pYH0xDhdqk"
      },
      "source": [
        "### Задача 2\n",
        "\n",
        "Используя циклы, напишите код, который создает список (list) путем конкатенации значений данного листа с целыми числами от 1 до (произвольного) n включительно.\n",
        "\n",
        "Пример:\n",
        "\n",
        "для списка [\"сосиски\", \"горчица\"] при n = 3 результат должен выглядеть так:\n",
        "\n",
        "['сосиски$\\_$1', 'горчица$\\_$1', 'сосиски$\\_2$', 'горчица$\\_$2', 'сосиски$\\_$3', 'горчица$\\_$3']"
      ]
    },
    {
      "cell_type": "code",
      "metadata": {
        "id": "Eqz3zAL-hdqq"
      },
      "source": [
        "sample_list = [\"мандаринки\", \"киви\", \"лимон\"]"
      ],
      "execution_count": null,
      "outputs": []
    },
    {
      "cell_type": "markdown",
      "metadata": {
        "id": "_anmPG8lqDql"
      },
      "source": [
        "**Решение:**"
      ]
    },
    {
      "cell_type": "code",
      "metadata": {
        "id": "eHA_26PRqDqm",
        "colab": {
          "base_uri": "https://localhost:8080/",
          "height": 51
        },
        "outputId": "0f1ce4a4-f084-46fc-e822-aeaf09f428f6"
      },
      "source": [
        "sample_list = [\"мандаринки\", \"киви\", \"лимон\"]\n",
        "num = int(input('Введи произвольное целое число: '))\n",
        "new_list = []\n",
        "for i in range(1, num + 1):\n",
        "    for word in sample_list:\n",
        "        new_list.append('{}_{}'.format(word, i))\n",
        "print(new_list) "
      ],
      "execution_count": null,
      "outputs": [
        {
          "output_type": "stream",
          "text": [
            "Введи произвольное целое число: 4\n",
            "['мандаринки_1', 'киви_1', 'лимон_1', 'мандаринки_2', 'киви_2', 'лимон_2', 'мандаринки_3', 'киви_3', 'лимон_3', 'мандаринки_4', 'киви_4', 'лимон_4']\n"
          ],
          "name": "stdout"
        }
      ]
    },
    {
      "cell_type": "markdown",
      "metadata": {
        "id": "WtwsV6BRhdrE"
      },
      "source": [
        "### Задача 3\n",
        "\n",
        "Напишите код, который считает количество элементов в заданном списке до тех пор, пока не встретится элемент типа словарь.\n",
        "\n",
        "Пример:\n",
        "\n",
        "для списка [3, \"котики\", 0.45, 5, {'котики' : 2, 'слоники' : 9}, \"слоники\", 34] на выходе должны получить число 4"
      ]
    },
    {
      "cell_type": "code",
      "metadata": {
        "id": "m5iv-Hj9hdrM",
        "colab": {
          "base_uri": "https://localhost:8080/",
          "height": 34
        },
        "outputId": "3f4d4722-086f-4fbf-e624-16ee6c565e6b"
      },
      "source": [
        "list_for_pro_task_2 = [35, 0.24, 3 + 4j, \"котики\", 0.45, (8, 9), \"слоники\", {\"Мадрид\": 3, 'Лондон':5}, 23498]\n",
        "for i in list_for_pro_task_2:\n",
        "    if type(i) == dict: # находим индекс словаря\n",
        "        ind = list_for_pro_task_2.index(i)\n",
        "print(len(list_for_pro_task_2[:ind])) # делаем срез до этого индекса"
      ],
      "execution_count": null,
      "outputs": [
        {
          "output_type": "stream",
          "text": [
            "7\n"
          ],
          "name": "stdout"
        }
      ]
    },
    {
      "cell_type": "markdown",
      "metadata": {
        "id": "1gbBHwFzux7h"
      },
      "source": [
        "**Решение:**"
      ]
    },
    {
      "cell_type": "code",
      "metadata": {
        "id": "8qLexBf7ux7k"
      },
      "source": [
        ""
      ],
      "execution_count": null,
      "outputs": []
    },
    {
      "cell_type": "markdown",
      "metadata": {
        "id": "fHMBDh-ahdrz"
      },
      "source": [
        "### Задача 4\n",
        "\n",
        "Создайте словарь (dict) c ключами, соответствующими числам от 1 до 20 включительно и значениями, соответствующими квадратам ключей. \n",
        "\n",
        "P.S. Используйте циклы или функции, прямое \"ручное\" присваивание не допускается!!!\n",
        "\n",
        "Пример: \n",
        "\n",
        "для чисел от 1 до 3 включительно словарь должен выглядеть так: {1 : 1, 2 : 4, 3 : 9}"
      ]
    },
    {
      "cell_type": "markdown",
      "metadata": {
        "id": "QxTdxYntuyOE"
      },
      "source": [
        "**Решение:**"
      ]
    },
    {
      "cell_type": "code",
      "metadata": {
        "id": "RyUIe0tRuyOG",
        "colab": {
          "base_uri": "https://localhost:8080/",
          "height": 54
        },
        "outputId": "53d5fca7-0794-459c-a97b-03944e72c35f"
      },
      "source": [
        "print({i: i ** 2 for i in range(1, 21)})"
      ],
      "execution_count": null,
      "outputs": [
        {
          "output_type": "stream",
          "text": [
            "{1: 1, 2: 4, 3: 9, 4: 16, 5: 25, 6: 36, 7: 49, 8: 64, 9: 81, 10: 100, 11: 121, 12: 144, 13: 169, 14: 196, 15: 225, 16: 256, 17: 289, 18: 324, 19: 361, 20: 400}\n"
          ],
          "name": "stdout"
        }
      ]
    },
    {
      "cell_type": "markdown",
      "metadata": {
        "id": "wf85TNYHv31c"
      },
      "source": [
        "### Задача 5"
      ]
    },
    {
      "cell_type": "markdown",
      "metadata": {
        "id": "QQv6xeOnv71u"
      },
      "source": [
        "**Дана** следующая строка:"
      ]
    },
    {
      "cell_type": "code",
      "metadata": {
        "id": "vZOCDnMDv6_0",
        "colab": {
          "base_uri": "https://localhost:8080/",
          "height": 51
        },
        "outputId": "f5adc3bf-eae3-4f97-913f-aa5ebe735b6a"
      },
      "source": [
        "string = '[0, 1, 1, 2, 3, 5, 8, 13, 21, 34, 55, 89, 144, 233, 377,]'\n",
        "# первое решение\n",
        "print(eval(string))\n",
        "# второе решение\n",
        "string = '[0, 1, 1, 2, 3, 5, 8, 13, 21, 34, 55, 89, 144, 233, 377,]'\n",
        "string = string.replace('[', '').replace(']', '')\n",
        "string = string.split(',') # превращаем в список\n",
        "lst = []\n",
        "for i in string:\n",
        "    if i: # в списке string есть пустая строка\n",
        "        i = i.replace(' ', '')\n",
        "        lst.append(int(i))\n",
        "print(lst)"
      ],
      "execution_count": null,
      "outputs": [
        {
          "output_type": "stream",
          "text": [
            "[0, 1, 1, 2, 3, 5, 8, 13, 21, 34, 55, 89, 144, 233, 377]\n",
            "[0, 1, 1, 2, 3, 5, 8, 13, 21, 34, 55, 89, 144, 233, 377]\n"
          ],
          "name": "stdout"
        }
      ]
    },
    {
      "cell_type": "markdown",
      "metadata": {
        "id": "CnN6qg_2wbgH"
      },
      "source": [
        "Пройдя по символам строки, переведите строку в список."
      ]
    }
  ]
}