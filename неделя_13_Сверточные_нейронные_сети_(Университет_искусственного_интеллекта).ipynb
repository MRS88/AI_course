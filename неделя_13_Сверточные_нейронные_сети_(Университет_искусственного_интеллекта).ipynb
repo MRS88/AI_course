{
  "nbformat": 4,
  "nbformat_minor": 0,
  "metadata": {
    "colab": {
      "name": "Сверточные нейронные сети (Университет искусственного интеллекта)",
      "provenance": [],
      "collapsed_sections": [],
      "machine_shape": "hm",
      "include_colab_link": true
    },
    "kernelspec": {
      "name": "python3",
      "display_name": "Python 3"
    },
    "accelerator": "GPU"
  },
  "cells": [
    {
      "cell_type": "markdown",
      "metadata": {
        "id": "view-in-github",
        "colab_type": "text"
      },
      "source": [
        "<a href=\"https://colab.research.google.com/github/ShutTheFuckUpDonny/AI_course/blob/master/%D0%BD%D0%B5%D0%B4%D0%B5%D0%BB%D1%8F_13_%D0%A1%D0%B2%D0%B5%D1%80%D1%82%D0%BE%D1%87%D0%BD%D1%8B%D0%B5_%D0%BD%D0%B5%D0%B9%D1%80%D0%BE%D0%BD%D0%BD%D1%8B%D0%B5_%D1%81%D0%B5%D1%82%D0%B8_(%D0%A3%D0%BD%D0%B8%D0%B2%D0%B5%D1%80%D1%81%D0%B8%D1%82%D0%B5%D1%82_%D0%B8%D1%81%D0%BA%D1%83%D1%81%D1%81%D1%82%D0%B2%D0%B5%D0%BD%D0%BD%D0%BE%D0%B3%D0%BE_%D0%B8%D0%BD%D1%82%D0%B5%D0%BB%D0%BB%D0%B5%D0%BA%D1%82%D0%B0).ipynb\" target=\"_parent\"><img src=\"https://colab.research.google.com/assets/colab-badge.svg\" alt=\"Open In Colab\"/></a>"
      ]
    },
    {
      "cell_type": "markdown",
      "metadata": {
        "id": "fD7ucssva2QB"
      },
      "source": [
        "*Теоретический материал:* https://youtu.be/z94UWEnCCeI"
      ]
    },
    {
      "cell_type": "markdown",
      "metadata": {
        "id": "a4DAOEtDLMOY"
      },
      "source": [
        "**Распознавание изображений из набора данных MNIST, CIFAR-10 и базы автомобилей с помощью свёрточных нейронных сетей**\n",
        "---\n",
        "\n",
        "Чтобы запускать и редактировать код, сохраните копию этого ноутбука себе (File->Save a copy in Drive...). Свою копию вы сможете изменять и запускать.\n",
        "\n"
      ]
    },
    {
      "cell_type": "markdown",
      "metadata": {
        "id": "y-LN-dZhMNj7"
      },
      "source": [
        "**Импорт библиотек для работы всего ноутбука**\n",
        "\n",
        "*Разбор данного раздела:* https://youtu.be/c78nXd8NuK4?t=45"
      ]
    },
    {
      "cell_type": "code",
      "metadata": {
        "id": "3b4wMrfQKe2l"
      },
      "source": [
        "from tensorflow.keras.datasets import mnist #Загружаем базу mnist\n",
        "from tensorflow.keras.datasets import cifar10 #Загружаем базу cifar10\n",
        "from tensorflow.keras.datasets import cifar100 #Загружаем базу cifar100\n",
        "\n",
        "from tensorflow.keras.models import Sequential #Сеть прямого распространения\n",
        "#Базовые слои для счёрточных сетей\n",
        "from tensorflow.keras.layers import Dense, Conv2D, MaxPooling2D, Flatten, Dropout, BatchNormalization\n",
        "from tensorflow.python.keras.preprocessing.image import ImageDataGenerator # работа с изображениями\n",
        "from tensorflow.keras.optimizers import Adam, Adadelta # оптимизаторы\n",
        "from tensorflow.keras import utils #Используем дял to_categoricall\n",
        "from tensorflow.keras.preprocessing import image #Для отрисовки изображений\n",
        "from google.colab import files #Для загрузки своей картинки\n",
        "import numpy as np #Библиотека работы с массивами\n",
        "import matplotlib.pyplot as plt #Для отрисовки графиков\n",
        "from PIL import Image #Для отрисовки изображений\n",
        "import random #Для генерации случайных чисел \n",
        "import math # Для округления\n",
        "import os #Для работы с файлами \n",
        "# подключем диск\n",
        "from google.colab import drive\n",
        "\n",
        "%matplotlib inline"
      ],
      "execution_count": null,
      "outputs": []
    },
    {
      "cell_type": "code",
      "metadata": {
        "id": "92GfFwVWXB7z",
        "colab": {
          "base_uri": "https://localhost:8080/",
          "height": 122
        },
        "outputId": "b2203a6d-deb6-4ceb-ebc1-93a711020de5"
      },
      "source": [
        "from google.colab import drive\n",
        "drive.mount('/content/drive')"
      ],
      "execution_count": null,
      "outputs": [
        {
          "output_type": "stream",
          "text": [
            "Go to this URL in a browser: https://accounts.google.com/o/oauth2/auth?client_id=947318989803-6bn6qk8qdgf4n4g3pfee6491hc0brc4i.apps.googleusercontent.com&redirect_uri=urn%3aietf%3awg%3aoauth%3a2.0%3aoob&scope=email%20https%3a%2f%2fwww.googleapis.com%2fauth%2fdocs.test%20https%3a%2f%2fwww.googleapis.com%2fauth%2fdrive%20https%3a%2f%2fwww.googleapis.com%2fauth%2fdrive.photos.readonly%20https%3a%2f%2fwww.googleapis.com%2fauth%2fpeopleapi.readonly&response_type=code\n",
            "\n",
            "Enter your authorization code:\n",
            "··········\n",
            "Mounted at /content/drive\n"
          ],
          "name": "stdout"
        }
      ]
    },
    {
      "cell_type": "markdown",
      "metadata": {
        "id": "7A0tdANyLCPs"
      },
      "source": [
        "# Распознавание изображений из набора данных MNIST \n"
      ]
    },
    {
      "cell_type": "markdown",
      "metadata": {
        "id": "a-cggImwMCQP"
      },
      "source": [
        "**Подготовка данных**\n",
        "\n",
        "*Разбор данного раздела:* https://youtu.be/c78nXd8NuK4?t=93\n"
      ]
    },
    {
      "cell_type": "code",
      "metadata": {
        "id": "_PT1LV_KMVto",
        "colab": {
          "base_uri": "https://localhost:8080/",
          "height": 51
        },
        "outputId": "d5076dd8-7a0a-44de-c531-4b04b118456b"
      },
      "source": [
        "#Загружаем MNIST\n",
        "(x_train, y_train), (x_test, y_test) = mnist.load_data()"
      ],
      "execution_count": null,
      "outputs": [
        {
          "output_type": "stream",
          "text": [
            "Downloading data from https://storage.googleapis.com/tensorflow/tf-keras-datasets/mnist.npz\n",
            "11493376/11490434 [==============================] - 0s 0us/step\n"
          ],
          "name": "stdout"
        }
      ]
    },
    {
      "cell_type": "code",
      "metadata": {
        "id": "nft2zSCpVWYV",
        "colab": {
          "base_uri": "https://localhost:8080/",
          "height": 34
        },
        "outputId": "ef318ead-d3e0-4076-e28d-6da405644560"
      },
      "source": [
        "x_train.shape"
      ],
      "execution_count": null,
      "outputs": [
        {
          "output_type": "execute_result",
          "data": {
            "text/plain": [
              "(60000, 28, 28)"
            ]
          },
          "metadata": {
            "tags": []
          },
          "execution_count": 5
        }
      ]
    },
    {
      "cell_type": "code",
      "metadata": {
        "id": "vNoGJvE_M3YW",
        "colab": {
          "base_uri": "https://localhost:8080/",
          "height": 168
        },
        "outputId": "8ddfd4cc-6268-49f3-ffd2-ed0d60675980"
      },
      "source": [
        "#Выводим для примера картинки по каждому классу\n",
        "\n",
        "fig, axs = plt.subplots(1, 10, figsize=(25, 3)) #Создаем полотно из 10 графиков\n",
        "for i in range(10): #Проходим по классам от 0 до 9\n",
        "  label_indexes = np.where(y_train==i)[0] #Получаем список из индексов положений класса i в y_train\n",
        "  index = random.choice(label_indexes) #Случайным образом выбираем из списка индекс\n",
        "  img = x_train[index] #Выбираем из x_train нужное изображение\n",
        "  axs[i].imshow(Image.fromarray(img), cmap='gray') #Отображаем изображение i-ым графиков\n",
        "\n",
        "plt.show() #Показываем изображения"
      ],
      "execution_count": null,
      "outputs": [
        {
          "output_type": "display_data",
          "data": {
            "image/png": "[encoded data removed]",
            "text/plain": [
              "<Figure size 1800x216 with 10 Axes>"
            ]
          },
          "metadata": {
            "tags": [],
            "needs_background": "light"
          }
        }
      ]
    },
    {
      "cell_type": "code",
      "metadata": {
        "id": "ti92Kvp3NX61"
      },
      "source": [
        "#Превращаем y_train и y_test сетей в формат one hot encoding\n",
        "y_train = utils.to_categorical(y_train, 10)\n",
        "y_test = utils.to_categorical(y_test, 10)\n",
        "\n",
        "#Меняем формат данных MNIST\n",
        "#Надо добавить в конце размерность 1\n",
        "#Чтобы свёрточная сеть понимала, что это чёрно-белые данные\n",
        "x_train = x_train.reshape(x_train.shape[0], 28, 28, 1)\n",
        "x_test = x_test.reshape(x_test.shape[0], 28, 28, 1)"
      ],
      "execution_count": null,
      "outputs": []
    },
    {
      "cell_type": "code",
      "metadata": {
        "id": "tZwKJRB7dW3q",
        "colab": {
          "base_uri": "https://localhost:8080/",
          "height": 85
        },
        "outputId": "4a39e9b8-e96d-40e3-a20c-738a3019ab3b"
      },
      "source": [
        "# Посмотрим форматы выборок перед обучением\n",
        "print(x_train.shape)\n",
        "print(x_test.shape)\n",
        "print(y_train.shape)\n",
        "print(y_test.shape)"
      ],
      "execution_count": null,
      "outputs": [
        {
          "output_type": "stream",
          "text": [
            "(60000, 28, 28, 1)\n",
            "(10000, 28, 28, 1)\n",
            "(60000, 10)\n",
            "(10000, 10)\n"
          ],
          "name": "stdout"
        }
      ]
    },
    {
      "cell_type": "markdown",
      "metadata": {
        "id": "P93UbJvKSEAX"
      },
      "source": [
        "**Нейронная сеть**\n",
        "\n",
        "*Разбор данного раздела:* https://youtu.be/c78nXd8NuK4?t=343"
      ]
    },
    {
      "cell_type": "code",
      "metadata": {
        "id": "5YioYV0CPY7B"
      },
      "source": [
        "#задаём batch_size\n",
        "batch_size = 128 \n",
        "\n",
        "#Создаем последовательную модель\n",
        "model = Sequential()\n",
        "#Слой пакетной нормализации\n",
        "model.add(BatchNormalization(input_shape=(28, 28, 1)))\n",
        "#Первый сверточный слой\n",
        "model.add(Conv2D(32, (3, 3), padding='same', activation='relu'))\n",
        "#Второй сверточный слой\n",
        "model.add(Conv2D(32, (3, 3), padding='same', activation='relu'))\n",
        "#Первый слой подвыборки\n",
        "model.add(MaxPooling2D(pool_size=(2, 2)))\n",
        "#Слой регуляризации Dropout\n",
        "model.add(Dropout(0.25))\n",
        "\n",
        "model.add(Flatten())\n",
        "#Полносвязный слой для классификации\n",
        "model.add(Dense(256, activation='relu'))\n",
        "#Слой регуляризации Dropout\n",
        "model.add(Dropout(0.25))\n",
        "#Выходной полносвязный слой\n",
        "model.add(Dense(10, activation='softmax'))\n",
        "\n",
        "#Компилируем сеть\n",
        "model.compile(loss=\"categorical_crossentropy\", optimizer=\"adam\", metrics=[\"accuracy\"])"
      ],
      "execution_count": null,
      "outputs": []
    },
    {
      "cell_type": "code",
      "metadata": {
        "id": "3DJfoivkXWpq",
        "colab": {
          "base_uri": "https://localhost:8080/",
          "height": 459
        },
        "outputId": "0ef0005d-e3b8-4319-f0b9-512783034576"
      },
      "source": [
        "model.summary()"
      ],
      "execution_count": null,
      "outputs": [
        {
          "output_type": "stream",
          "text": [
            "Model: \"sequential_1\"\n",
            "_________________________________________________________________\n",
            "Layer (type)                 Output Shape              Param #   \n",
            "=================================================================\n",
            "batch_normalization_1 (Batch (None, 28, 28, 1)         4         \n",
            "_________________________________________________________________\n",
            "conv2d_2 (Conv2D)            (None, 28, 28, 32)        320       \n",
            "_________________________________________________________________\n",
            "conv2d_3 (Conv2D)            (None, 28, 28, 32)        9248      \n",
            "_________________________________________________________________\n",
            "max_pooling2d_1 (MaxPooling2 (None, 14, 14, 32)        0         \n",
            "_________________________________________________________________\n",
            "dropout_2 (Dropout)          (None, 14, 14, 32)        0         \n",
            "_________________________________________________________________\n",
            "flatten_1 (Flatten)          (None, 6272)              0         \n",
            "_________________________________________________________________\n",
            "dense_2 (Dense)              (None, 256)               1605888   \n",
            "_________________________________________________________________\n",
            "dropout_3 (Dropout)          (None, 256)               0         \n",
            "_________________________________________________________________\n",
            "dense_3 (Dense)              (None, 10)                2570      \n",
            "=================================================================\n",
            "Total params: 1,618,030\n",
            "Trainable params: 1,618,028\n",
            "Non-trainable params: 2\n",
            "_________________________________________________________________\n"
          ],
          "name": "stdout"
        }
      ]
    },
    {
      "cell_type": "code",
      "metadata": {
        "id": "Id69qEDaAx_4",
        "colab": {
          "base_uri": "https://localhost:8080/",
          "height": 789
        },
        "outputId": "501a73ce-8403-4192-8063-3866c592b229"
      },
      "source": [
        "#Обучаем сеть на данных mnist\n",
        "history = model.fit(x_train, \n",
        "                    y_train, \n",
        "                    batch_size=batch_size, \n",
        "                    epochs=15,\n",
        "                    validation_data=(x_test, y_test),\n",
        "                    verbose=1)\n",
        "\n",
        "#Отображаем график точности обучения\n",
        "plt.plot(history.history['accuracy'], \n",
        "         label='Доля верных ответов на обучающем наборе')\n",
        "plt.plot(history.history['val_accuracy'], \n",
        "         label='Доля верных ответов на проверочном наборе')\n",
        "plt.xlabel('Эпоха обучения')\n",
        "plt.ylabel('Доля верных ответов')\n",
        "plt.legend()\n",
        "plt.show()"
      ],
      "execution_count": null,
      "outputs": [
        {
          "output_type": "stream",
          "text": [
            "Epoch 1/15\n",
            "469/469 [==============================] - 3s 6ms/step - loss: 0.1513 - accuracy: 0.9532 - val_loss: 0.0430 - val_accuracy: 0.9850\n",
            "Epoch 2/15\n",
            "469/469 [==============================] - 3s 6ms/step - loss: 0.0513 - accuracy: 0.9836 - val_loss: 0.0334 - val_accuracy: 0.9895\n",
            "Epoch 3/15\n",
            "469/469 [==============================] - 3s 6ms/step - loss: 0.0353 - accuracy: 0.9885 - val_loss: 0.0324 - val_accuracy: 0.9899\n",
            "Epoch 4/15\n",
            "469/469 [==============================] - 3s 6ms/step - loss: 0.0276 - accuracy: 0.9910 - val_loss: 0.0254 - val_accuracy: 0.9912\n",
            "Epoch 5/15\n",
            "469/469 [==============================] - 3s 6ms/step - loss: 0.0205 - accuracy: 0.9929 - val_loss: 0.0313 - val_accuracy: 0.9892\n",
            "Epoch 6/15\n",
            "469/469 [==============================] - 3s 6ms/step - loss: 0.0177 - accuracy: 0.9942 - val_loss: 0.0320 - val_accuracy: 0.9892\n",
            "Epoch 7/15\n",
            "469/469 [==============================] - 3s 6ms/step - loss: 0.0141 - accuracy: 0.9955 - val_loss: 0.0328 - val_accuracy: 0.9907\n",
            "Epoch 8/15\n",
            "469/469 [==============================] - 3s 6ms/step - loss: 0.0128 - accuracy: 0.9957 - val_loss: 0.0360 - val_accuracy: 0.9905\n",
            "Epoch 9/15\n",
            "469/469 [==============================] - 3s 6ms/step - loss: 0.0128 - accuracy: 0.9962 - val_loss: 0.0334 - val_accuracy: 0.9904\n",
            "Epoch 10/15\n",
            "469/469 [==============================] - 3s 6ms/step - loss: 0.0102 - accuracy: 0.9963 - val_loss: 0.0353 - val_accuracy: 0.9902\n",
            "Epoch 11/15\n",
            "469/469 [==============================] - 3s 6ms/step - loss: 0.0113 - accuracy: 0.9959 - val_loss: 0.0371 - val_accuracy: 0.9893\n",
            "Epoch 12/15\n",
            "469/469 [==============================] - 3s 6ms/step - loss: 0.0095 - accuracy: 0.9968 - val_loss: 0.0361 - val_accuracy: 0.9907\n",
            "Epoch 13/15\n",
            "469/469 [==============================] - 3s 6ms/step - loss: 0.0090 - accuracy: 0.9969 - val_loss: 0.0333 - val_accuracy: 0.9912\n",
            "Epoch 14/15\n",
            "469/469 [==============================] - 3s 6ms/step - loss: 0.0078 - accuracy: 0.9974 - val_loss: 0.0302 - val_accuracy: 0.9921\n",
            "Epoch 15/15\n",
            "469/469 [==============================] - 3s 6ms/step - loss: 0.0080 - accuracy: 0.9974 - val_loss: 0.0411 - val_accuracy: 0.9893\n"
          ],
          "name": "stdout"
        },
        {
          "output_type": "display_data",
          "data": {
            "image/png": "[encoded data removed]",
            "text/plain": [
              "<Figure size 432x288 with 1 Axes>"
            ]
          },
          "metadata": {
            "tags": [],
            "needs_background": "light"
          }
        }
      ]
    },
    {
      "cell_type": "markdown",
      "metadata": {
        "id": "NEJGx4VISN2w"
      },
      "source": [
        "**Определение цифр из тестовой выборки**\n",
        "\n",
        "*Разбор данного раздела:* https://youtu.be/c78nXd8NuK4?t=828"
      ]
    },
    {
      "cell_type": "code",
      "metadata": {
        "id": "X2_KF-b0ar3i",
        "colab": {
          "base_uri": "https://localhost:8080/",
          "height": 85
        },
        "outputId": "24277a6a-9afb-462a-f3af-6464b184150a"
      },
      "source": [
        "#Выбираем номер пример\n",
        "n = np.random.randint(x_test.shape[0])\n",
        "#Получаем выход сети на этом примере\n",
        "prediction = model.predict(x_test)\n",
        "\n",
        "#Выводим на экран результаты\n",
        "print(\"Выход сети: \", prediction[n])\n",
        "print(\"Распознанная цифра: \", np.argmax(prediction[n]))\n",
        "print(\"Верный ответ: \", np.argmax(y_test[n]))"
      ],
      "execution_count": null,
      "outputs": [
        {
          "output_type": "stream",
          "text": [
            "Выход сети:  [2.3523159e-13 5.4586375e-09 9.9990392e-01 6.3481452e-06 8.2531105e-17\n",
            " 6.2494213e-14 2.5725358e-15 8.5476560e-05 4.3415821e-06 1.0994079e-11]\n",
            "Распознанная цифра:  2\n",
            "Верный ответ:  2\n"
          ],
          "name": "stdout"
        }
      ]
    },
    {
      "cell_type": "markdown",
      "metadata": {
        "id": "Y7e0r2CqanQl"
      },
      "source": [
        "**Определение цифр на реальных фотографиях**\n",
        "\n",
        "*Разбор данного раздела:* https://youtu.be/c78nXd8NuK4?t=895"
      ]
    },
    {
      "cell_type": "code",
      "metadata": {
        "id": "5Q9R7u5NTYMl",
        "colab": {
          "base_uri": "https://localhost:8080/",
          "height": 221
        },
        "outputId": "1932eb8b-6b26-4262-d8d6-38b2b74233ae"
      },
      "source": [
        "!unzip '/content/drive/My Drive/Занятия/Апрельский курс 2020/Занятие №3/digits.zip' #Извлечем файлы из архива"
      ],
      "execution_count": null,
      "outputs": [
        {
          "output_type": "stream",
          "text": [
            "Archive:  /content/drive/My Drive/Занятия/Апрельский курс 2020/Занятие №3/digits.zip\n",
            "   creating: digits/\n",
            "  inflating: digits/0.png            \n",
            "  inflating: digits/1.png            \n",
            "  inflating: digits/2.png            \n",
            "  inflating: digits/3.png            \n",
            "  inflating: digits/4.png            \n",
            "  inflating: digits/5.png            \n",
            "  inflating: digits/6.png            \n",
            "  inflating: digits/7.png            \n",
            "  inflating: digits/8.png            \n",
            "  inflating: digits/9.png            \n"
          ],
          "name": "stdout"
        }
      ]
    },
    {
      "cell_type": "code",
      "metadata": {
        "id": "sYIGO_QciOZ6",
        "colab": {
          "base_uri": "https://localhost:8080/",
          "height": 51
        },
        "outputId": "4ffd207c-095c-45ee-eb39-7e815f0d856c"
      },
      "source": [
        "#Выводим для примера картинки по каждому классу\n",
        "\n",
        "def change_contrast(img, factor): #Функция для увеличения контрастности \n",
        "    def contrast(pixel): #Функция для изменения цвета пикселя\n",
        "    #Изменяем цвет каждого пикселя следующим образом. \n",
        "    #Если цвет пикслея в численной мере меньше 128, то значение будет уменьшаться \n",
        "    #на меру factor * (pixel - 128). Иначе - увеличиваться на эту меру\n",
        "    #Очевидно, что чем сильнее цвет отличен от 128, тем сильнее он изменится\n",
        "        return 128 + factor * (pixel - 128) \n",
        "    return img.point(contrast)\n",
        "\n",
        "xTestReal = [] #Создаем x_test для загруженных картинок\n",
        "yTestReal = [] #Создаем y_test для классов изображений\n",
        "\n",
        "for i in range(10): #Проходим по классам от 0 до 9\n",
        "  img_path = 'digits/' + str(i) + '.png' #Определяем имя изображения\n",
        "  #Загружаем изображение, изменяя его размер на размер входного массива нейросети\n",
        "  #Другими словами, подгоняем изображение к размеру картинок, на которых обучалась сеть\n",
        "  #Указываем grayscale=True для того, чтобы цвет пиксяля задавался одним числом\n",
        "  img = image.load_img(img_path, grayscale=True, target_size=(28, 28))\n",
        "  img1 = change_contrast(img, factor=5.0) #Увеличиваем контрастность изображения\n",
        "  xTestReal.append(255 - np.asarray(img1)) #Инвертируем изображение и добавляем в выборку\n",
        "  yTestReal.append(i) #Добавляем в y_train номера классов\n",
        "\n",
        "xTestReal = np.array(xTestReal) #Преобразуем в Numpy array\n",
        "yTestReal = np.array(yTestReal) #Преобразуем в Numpy array"
      ],
      "execution_count": null,
      "outputs": [
        {
          "output_type": "stream",
          "text": [
            "/usr/local/lib/python3.6/dist-packages/keras_preprocessing/image/utils.py:107: UserWarning: grayscale is deprecated. Please use color_mode = \"grayscale\"\n",
            "  warnings.warn('grayscale is deprecated. Please use '\n"
          ],
          "name": "stderr"
        }
      ]
    },
    {
      "cell_type": "code",
      "metadata": {
        "id": "Yn34RXU7iYSx",
        "colab": {
          "base_uri": "https://localhost:8080/",
          "height": 168
        },
        "outputId": "9f45d281-fc77-483e-b812-46fedf036d0f"
      },
      "source": [
        "#Выводим для примера картинки по каждому классу\n",
        "\n",
        "fig, axs = plt.subplots(1, 10, figsize=(25, 3)) #Создаем полотно из 10 графиков\n",
        "for i in range(10): #Проходим по классам от 0 до 9\n",
        "  axs[i].imshow(Image.fromarray(xTestReal[i]), cmap='gray') #Конвертируем изображение в черно-белый формат и отображаем i-ым графиков\n",
        "\n",
        "plt.show() #Показываем изображения"
      ],
      "execution_count": null,
      "outputs": [
        {
          "output_type": "display_data",
          "data": {
            "image/png": "[encoded data removed]",
            "text/plain": [
              "<Figure size 1800x216 with 10 Axes>"
            ]
          },
          "metadata": {
            "tags": [],
            "needs_background": "light"
          }
        }
      ]
    },
    {
      "cell_type": "code",
      "metadata": {
        "id": "JiiBmJmKlJ4K"
      },
      "source": [
        "#Меняем формат данных, как делали это с выборкой MNIST\n",
        "xTestReal = xTestReal.reshape(xTestReal.shape[0], 28, 28, 1)"
      ],
      "execution_count": null,
      "outputs": []
    },
    {
      "cell_type": "code",
      "metadata": {
        "id": "ZSzmaDWnmWCW",
        "colab": {
          "base_uri": "https://localhost:8080/",
          "height": 187
        },
        "outputId": "80aed1c4-dc8d-44fe-8444-d8308235f54f"
      },
      "source": [
        "prediction = model.predict(xTestReal) #Классифицируем каждое изображение\n",
        "for i in range(10): #Проходим по картинкам\n",
        "  #Вводим результаты на экран\n",
        "  print(\"Распознанный образ:\", np.argmax(prediction[i]), '. Верный ответ', yTestReal[i])"
      ],
      "execution_count": null,
      "outputs": [
        {
          "output_type": "stream",
          "text": [
            "Распознанный образ: 0 . Верный ответ 0\n",
            "Распознанный образ: 1 . Верный ответ 1\n",
            "Распознанный образ: 2 . Верный ответ 2\n",
            "Распознанный образ: 3 . Верный ответ 3\n",
            "Распознанный образ: 4 . Верный ответ 4\n",
            "Распознанный образ: 5 . Верный ответ 5\n",
            "Распознанный образ: 6 . Верный ответ 6\n",
            "Распознанный образ: 7 . Верный ответ 7\n",
            "Распознанный образ: 8 . Верный ответ 8\n",
            "Распознанный образ: 9 . Верный ответ 9\n"
          ],
          "name": "stdout"
        }
      ]
    },
    {
      "cell_type": "markdown",
      "metadata": {
        "id": "9IYEGRTWcIMa"
      },
      "source": [
        "# Распознавание изображений из набора данных Cifar10\n",
        "\n",
        "*Разбор данного раздела:* https://youtu.be/c78nXd8NuK4?t=964"
      ]
    },
    {
      "cell_type": "code",
      "metadata": {
        "id": "SbNV5Ql3cdB4",
        "colab": {
          "base_uri": "https://localhost:8080/",
          "height": 51
        },
        "outputId": "31663cf3-0971-40fd-dcac-91e929d520eb"
      },
      "source": [
        "#Загружаем cifar10\n",
        "(x_train10, y_train10), (x_test10, y_test10) = cifar10.load_data()"
      ],
      "execution_count": null,
      "outputs": [
        {
          "output_type": "stream",
          "text": [
            "Downloading data from https://www.cs.toronto.edu/~kriz/cifar-10-python.tar.gz\n",
            "170500096/170498071 [==============================] - 5s 0us/step\n"
          ],
          "name": "stdout"
        }
      ]
    },
    {
      "cell_type": "code",
      "metadata": {
        "id": "LnLys2viYuZ7",
        "colab": {
          "base_uri": "https://localhost:8080/",
          "height": 34
        },
        "outputId": "c4524286-bb78-4563-ae65-7715841b3bd6"
      },
      "source": [
        "x_train10.shape"
      ],
      "execution_count": null,
      "outputs": [
        {
          "output_type": "execute_result",
          "data": {
            "text/plain": [
              "(50000, 32, 32, 3)"
            ]
          },
          "metadata": {
            "tags": []
          },
          "execution_count": 30
        }
      ]
    },
    {
      "cell_type": "code",
      "metadata": {
        "id": "mYazuCsYcr7F"
      },
      "source": [
        "#Определяем названия классов по порядку\n",
        "classes = ['самолет', 'автомобиль', 'птица', 'кот', 'олень', 'собака', 'лягушка', 'лошадь', 'корабль', 'грузовик']"
      ],
      "execution_count": null,
      "outputs": []
    },
    {
      "cell_type": "code",
      "metadata": {
        "id": "k_MZdoqTcdB6"
      },
      "source": [
        "#Выводим для примера картинки по каждому классу\n",
        "\n",
        "fig, axs = plt.subplots(1, 10, figsize=(25, 3)) #Создаем полотно из 10 графиков\n",
        "for i in range(10): #Проходим по классам от 0 до 9\n",
        "  label_indexes = np.where(y_train10==i)[0] #Получаем список из индексов положений класса i в y_train\n",
        "  index = random.choice(label_indexes) #Случайным образом выбираем из списка индекс\n",
        "  img = x_train10[index] #Выбираем из x_train нужное изображение\n",
        "  axs[i].imshow(Image.fromarray(img)) #Отображаем изображение i-ым графиков\n",
        "\n",
        "plt.show() #Показываем изображения"
      ],
      "execution_count": null,
      "outputs": []
    },
    {
      "cell_type": "code",
      "metadata": {
        "id": "B6gZ7EcUcdB9"
      },
      "source": [
        "#Превращаем y_train и y_test сетей в формат one hot encoding\n",
        "y_train10 = utils.to_categorical(y_train10, 10)\n",
        "y_test10 = utils.to_categorical(y_test10, 10)"
      ],
      "execution_count": null,
      "outputs": []
    },
    {
      "cell_type": "code",
      "metadata": {
        "id": "dXTrB8-TdL-1",
        "colab": {
          "base_uri": "https://localhost:8080/",
          "height": 85
        },
        "outputId": "849cf580-436d-4b71-f86d-399f271f581f"
      },
      "source": [
        "# Посмотрим размеры выборок перед обучением\n",
        "print(x_train10.shape)\n",
        "print(x_test10.shape)\n",
        "print(y_train10.shape)\n",
        "print(y_test10.shape)"
      ],
      "execution_count": null,
      "outputs": [
        {
          "output_type": "stream",
          "text": [
            "(50000, 32, 32, 3)\n",
            "(10000, 32, 32, 3)\n",
            "(50000, 10)\n",
            "(10000, 10)\n"
          ],
          "name": "stdout"
        }
      ]
    },
    {
      "cell_type": "markdown",
      "metadata": {
        "id": "dpqHnjMjcdCA"
      },
      "source": [
        "**Нейронная сеть**\n",
        "\n",
        "*Разбор данного раздела:* https://youtu.be/c78nXd8NuK4?t=1093"
      ]
    },
    {
      "cell_type": "code",
      "metadata": {
        "id": "PPfxYVf1duG2",
        "colab": {
          "base_uri": "https://localhost:8080/",
          "height": 962
        },
        "outputId": "f9a21020-8dd3-4549-e245-330f5fde01b4"
      },
      "source": [
        "#задаём batch_size\n",
        "batch_size = 128 \n",
        "\n",
        "#Создаем последовательную модель\n",
        "model = Sequential()\n",
        "#Слой пакетной нормализации\n",
        "model.add(BatchNormalization(input_shape=(32, 32, 3)))\n",
        "#Первый сверточный слой\n",
        "model.add(Conv2D(32, (3, 3), padding='same', activation='relu'))\n",
        "#Второй сверточный слой\n",
        "model.add(Conv2D(32, (3, 3), padding='same', activation='relu'))\n",
        "#Первый слой подвыборки\n",
        "model.add(MaxPooling2D(pool_size=(2, 2)))\n",
        "#Слой регуляризации Dropout\n",
        "model.add(Dropout(0.25))\n",
        "\n",
        "#Слой пакетной нормализации\n",
        "model.add(BatchNormalization())\n",
        "#Третий сверточный слой\n",
        "model.add(Conv2D(64, (3, 3), padding='same', activation='relu'))\n",
        "#Четвертый сверточный слой\n",
        "model.add(Conv2D(64, (3, 3), padding='same', activation='relu'))\n",
        "#Второй слой подвыборки\n",
        "model.add(MaxPooling2D(pool_size=(2, 2)))\n",
        "#Слой регуляризации Dropout\n",
        "model.add(Dropout(0.25))\n",
        "\n",
        "#Слой пакетной нормализации\n",
        "model.add(BatchNormalization())\n",
        "#Пятый сверточный слой\n",
        "model.add(Conv2D(128, (3, 3), padding='same', activation='relu'))\n",
        "#Шестой сверточный слой\n",
        "model.add(Conv2D(128, (3, 3), padding='same', activation='relu'))\n",
        "#Третий слой подвыборки\n",
        "model.add(MaxPooling2D(pool_size=(2, 2)))\n",
        "#Слой регуляризации Dropout\n",
        "model.add(Dropout(0.25))\n",
        "\n",
        "#Слой преобразования данных из 2D представления в плоское\n",
        "model.add(Flatten())\n",
        "#Полносвязный слой для классификации\n",
        "model.add(Dense(512, activation='relu'))\n",
        "#Слой регуляризации Dropout\n",
        "model.add(Dropout(0.25))\n",
        "#Выходной полносвязный слой\n",
        "model.add(Dense(10, activation='softmax'))\n",
        "\n",
        "#Компилируем сеть\n",
        "model.compile(loss=\"categorical_crossentropy\", optimizer=\"adam\", metrics=[\"accuracy\"])\n",
        "\n",
        "#Обучаем сеть на данных cifar10\n",
        "history = model.fit(x_train10, \n",
        "                    y_train10, \n",
        "                    batch_size=batch_size, \n",
        "                    epochs=20,\n",
        "                    validation_data=(x_test10, y_test10),\n",
        "                    verbose=1)\n",
        "\n",
        "#Оображаем график точности обучения\n",
        "plt.plot(history.history['accuracy'], \n",
        "         label='Доля верных ответов на обучающем наборе')\n",
        "plt.plot(history.history['val_accuracy'], \n",
        "         label='Доля верных ответов на проверочном наборе')\n",
        "plt.xlabel('Эпоха обучения')\n",
        "plt.ylabel('Доля верных ответов')\n",
        "plt.legend()\n",
        "plt.show()"
      ],
      "execution_count": null,
      "outputs": [
        {
          "output_type": "stream",
          "text": [
            "Epoch 1/20\n",
            "391/391 [==============================] - 4s 11ms/step - loss: 1.4760 - accuracy: 0.4599 - val_loss: 1.3757 - val_accuracy: 0.5227\n",
            "Epoch 2/20\n",
            "391/391 [==============================] - 4s 10ms/step - loss: 1.0600 - accuracy: 0.6216 - val_loss: 0.9647 - val_accuracy: 0.6581\n",
            "Epoch 3/20\n",
            "391/391 [==============================] - 4s 10ms/step - loss: 0.8878 - accuracy: 0.6866 - val_loss: 0.7753 - val_accuracy: 0.7323\n",
            "Epoch 4/20\n",
            "391/391 [==============================] - 4s 10ms/step - loss: 0.7792 - accuracy: 0.7256 - val_loss: 0.8258 - val_accuracy: 0.7242\n",
            "Epoch 5/20\n",
            "391/391 [==============================] - 4s 10ms/step - loss: 0.7100 - accuracy: 0.7489 - val_loss: 0.6801 - val_accuracy: 0.7657\n",
            "Epoch 6/20\n",
            "391/391 [==============================] - 4s 10ms/step - loss: 0.6476 - accuracy: 0.7710 - val_loss: 0.6766 - val_accuracy: 0.7675\n",
            "Epoch 7/20\n",
            "391/391 [==============================] - 4s 10ms/step - loss: 0.6069 - accuracy: 0.7876 - val_loss: 0.5903 - val_accuracy: 0.7978\n",
            "Epoch 8/20\n",
            "391/391 [==============================] - 4s 10ms/step - loss: 0.5676 - accuracy: 0.8018 - val_loss: 0.5829 - val_accuracy: 0.7980\n",
            "Epoch 9/20\n",
            "391/391 [==============================] - 4s 10ms/step - loss: 0.5362 - accuracy: 0.8126 - val_loss: 0.5948 - val_accuracy: 0.8013\n",
            "Epoch 10/20\n",
            "391/391 [==============================] - 4s 10ms/step - loss: 0.5046 - accuracy: 0.8229 - val_loss: 0.5893 - val_accuracy: 0.8007\n",
            "Epoch 11/20\n",
            "391/391 [==============================] - 4s 10ms/step - loss: 0.4833 - accuracy: 0.8287 - val_loss: 0.5455 - val_accuracy: 0.8139\n",
            "Epoch 12/20\n",
            "391/391 [==============================] - 4s 10ms/step - loss: 0.4620 - accuracy: 0.8359 - val_loss: 0.5391 - val_accuracy: 0.8210\n",
            "Epoch 13/20\n",
            "391/391 [==============================] - 4s 10ms/step - loss: 0.4378 - accuracy: 0.8446 - val_loss: 0.6034 - val_accuracy: 0.8062\n",
            "Epoch 14/20\n",
            "391/391 [==============================] - 4s 10ms/step - loss: 0.4248 - accuracy: 0.8500 - val_loss: 0.5640 - val_accuracy: 0.8155\n",
            "Epoch 15/20\n",
            "391/391 [==============================] - 4s 10ms/step - loss: 0.3959 - accuracy: 0.8588 - val_loss: 0.5679 - val_accuracy: 0.8147\n",
            "Epoch 16/20\n",
            "391/391 [==============================] - 4s 10ms/step - loss: 0.3881 - accuracy: 0.8634 - val_loss: 0.5811 - val_accuracy: 0.8203\n",
            "Epoch 17/20\n",
            "391/391 [==============================] - 4s 10ms/step - loss: 0.3751 - accuracy: 0.8650 - val_loss: 0.5284 - val_accuracy: 0.8266\n",
            "Epoch 18/20\n",
            "391/391 [==============================] - 4s 10ms/step - loss: 0.3631 - accuracy: 0.8728 - val_loss: 0.5442 - val_accuracy: 0.8266\n",
            "Epoch 19/20\n",
            "391/391 [==============================] - 4s 10ms/step - loss: 0.3462 - accuracy: 0.8788 - val_loss: 0.5363 - val_accuracy: 0.8269\n",
            "Epoch 20/20\n",
            "391/391 [==============================] - 4s 10ms/step - loss: 0.3359 - accuracy: 0.8808 - val_loss: 0.5215 - val_accuracy: 0.8310\n"
          ],
          "name": "stdout"
        },
        {
          "output_type": "display_data",
          "data": {
            "image/png": "[encoded data removed]",
            "text/plain": [
              "<Figure size 432x288 with 1 Axes>"
            ]
          },
          "metadata": {
            "tags": [],
            "needs_background": "light"
          }
        }
      ]
    },
    {
      "cell_type": "markdown",
      "metadata": {
        "id": "WwjAVmaZgbLd"
      },
      "source": [
        "**Определение изображений из тестовой выборки**\n",
        "\n",
        "*Разбор данного раздела:* https://youtu.be/c78nXd8NuK4?t=1405"
      ]
    },
    {
      "cell_type": "code",
      "metadata": {
        "id": "qTQEhiM1hV3l"
      },
      "source": [
        "#Распознаём все тестовые картинки\n",
        "prediction = model.predict(x_test10)"
      ],
      "execution_count": null,
      "outputs": []
    },
    {
      "cell_type": "code",
      "metadata": {
        "id": "oaF1locAgbLf",
        "colab": {
          "base_uri": "https://localhost:8080/",
          "height": 351
        },
        "outputId": "d3e0fdce-0b39-4f59-8249-0f4b96760104"
      },
      "source": [
        "#Выбираем номер пример\n",
        "n = np.random.randint(x_test10.shape[0])\n",
        "\n",
        "#Выводим на экран картинку\n",
        "plt.imshow(Image.fromarray(x_test10[n]).convert('RGBA'))\n",
        "plt.show()\n",
        "\n",
        "#Выводим на экран результаты\n",
        "print(\"Выход сети: \", prediction[n])\n",
        "print(\"Распознанный образ: \", np.argmax(prediction[n]))\n",
        "print(\"Верный ответ: \", y_test10[n])\n",
        "print(\"Распознанный браз на картинке: \", classes[np.argmax(prediction[n])])"
      ],
      "execution_count": null,
      "outputs": [
        {
          "output_type": "display_data",
          "data": {
            "image/png": "[encoded data removed]",
            "text/plain": [
              "<Figure size 432x288 with 1 Axes>"
            ]
          },
          "metadata": {
            "tags": [],
            "needs_background": "light"
          }
        },
        {
          "output_type": "stream",
          "text": [
            "Выход сети:  [1.7772280e-05 9.6259873e-06 3.5439482e-01 2.4164483e-01 4.1430067e-02\n",
            " 1.6530140e-01 1.0351713e-01 9.3647838e-02 9.7250968e-06 2.6797903e-05]\n",
            "Распознанный образ:  2\n",
            "Верный ответ:  [0. 0. 0. 0. 0. 0. 0. 1. 0. 0.]\n",
            "Распознанный браз на картинке:  птица\n"
          ],
          "name": "stdout"
        }
      ]
    },
    {
      "cell_type": "markdown",
      "metadata": {
        "id": "GPoBbKQ_gbLh"
      },
      "source": [
        "**Определение фотографий из интернета**\n",
        "\n",
        "*Разбор данного раздела:* https://youtu.be/c78nXd8NuK4?t=1571\n"
      ]
    },
    {
      "cell_type": "code",
      "metadata": {
        "id": "Vtny_0yLgbLk",
        "colab": {
          "base_uri": "https://localhost:8080/",
          "height": 221
        },
        "outputId": "df516e44-0def-4f4b-f8eb-74e0e418b0e0"
      },
      "source": [
        "!unzip '/content/drive/My Drive/Занятия/Апрельский курс 2020/Занятие №3/Images.zip' #Извлечем файлы из архива"
      ],
      "execution_count": null,
      "outputs": [
        {
          "output_type": "stream",
          "text": [
            "Archive:  /content/drive/My Drive/Занятия/Апрельский курс 2020/Занятие №3/Images.zip\n",
            "   creating: Images/\n",
            "  inflating: Images/0.jpg            \n",
            "  inflating: Images/1.jpg            \n",
            "  inflating: Images/2.jpg            \n",
            "  inflating: Images/3.jpg            \n",
            "  inflating: Images/4.jpg            \n",
            "  inflating: Images/5.jpg            \n",
            "  inflating: Images/6.jpg            \n",
            "  inflating: Images/7.jpg            \n",
            "  inflating: Images/8.jpg            \n",
            "  inflating: Images/9.jpg            \n"
          ],
          "name": "stdout"
        }
      ]
    },
    {
      "cell_type": "code",
      "metadata": {
        "id": "DKnHpPMbgbLl"
      },
      "source": [
        "#Выводим для примера картинки по каждому классу\n",
        "\n",
        "xTestReal10 = [] #Создаем x_test для загруженных картинок\n",
        "yTestReal10 = [] #Создаем y_test для классов изображений\n",
        "\n",
        "for i in range(10): #Проходим по классам от 0 до 9\n",
        "  img_path = 'Images/' + str(i) + '.jpg' #Определяем имя изображения\n",
        "  #Загружаем изображение, изменяя его размер на размер входного массива нейросети\n",
        "  #Другими словами, подгоняем изображение к размеру картинок, на которых обучалась сеть\n",
        "\n",
        "  xTestReal10.append(np.asarray(image.load_img(img_path, grayscale=False, target_size=(32, 32)))) #Добавляем изображение в выборку\n",
        "  yTestReal10.append(i) #Добавляем в y номера классов\n",
        "\n",
        "xTestReal10 = np.array(xTestReal10) #Преобразуем в Numpy array\n",
        "yTestReal10 = np.array(yTestReal10) #Преобразуем в Numpy array"
      ],
      "execution_count": null,
      "outputs": []
    },
    {
      "cell_type": "code",
      "metadata": {
        "id": "Ts9127ttgbLn",
        "colab": {
          "base_uri": "https://localhost:8080/",
          "height": 168
        },
        "outputId": "d819a779-a642-4d89-ed17-bb8129a08e13"
      },
      "source": [
        "#Выводим для примера картинки по каждому классу\n",
        "\n",
        "fig, axs = plt.subplots(1, 10, figsize=(25, 3)) #Создаем полотно из 10 графиков\n",
        "for i in range(10): #Проходим по классам от 0 до 9\n",
        "  axs[i].imshow(Image.fromarray(xTestReal10[i]).convert('RGB')) #Конвертируем изображение в черно-белый формат и отображаем i-ым графиков\n",
        "\n",
        "plt.show() #Показываем изображения"
      ],
      "execution_count": null,
      "outputs": [
        {
          "output_type": "display_data",
          "data": {
            "image/png": "[encoded data removed]",
            "text/plain": [
              "<Figure size 1800x216 with 10 Axes>"
            ]
          },
          "metadata": {
            "tags": [],
            "needs_background": "light"
          }
        }
      ]
    },
    {
      "cell_type": "code",
      "metadata": {
        "id": "SIQ9AZ-BgbLq",
        "colab": {
          "base_uri": "https://localhost:8080/",
          "height": 34
        },
        "outputId": "bc0eef2c-50a3-47f4-be19-fd044595d5b2"
      },
      "source": [
        "xTestReal10.shape #Посмотрим на размер массива, чтобы убедиться, что все сделали правильно"
      ],
      "execution_count": null,
      "outputs": [
        {
          "output_type": "execute_result",
          "data": {
            "text/plain": [
              "(10, 32, 32, 3)"
            ]
          },
          "metadata": {
            "tags": []
          },
          "execution_count": 54
        }
      ]
    },
    {
      "cell_type": "code",
      "metadata": {
        "id": "oGr2CYjTgbLs",
        "colab": {
          "base_uri": "https://localhost:8080/",
          "height": 527
        },
        "outputId": "beead4bd-1206-42b6-b512-8bb002ff95df"
      },
      "source": [
        "prediction = model.predict(xTestReal10) #Классифицируем каждое изображение\n",
        "for i in range(10): #Проходим по картинкам\n",
        "  #Вводим результаты на экран\n",
        "  print(\"Распознанный образ:\", classes[np.argmax(prediction[i])])\n",
        "  print('Верный ответ:', classes[yTestReal10[i]])\n",
        "  print()"
      ],
      "execution_count": null,
      "outputs": [
        {
          "output_type": "stream",
          "text": [
            "Распознанный образ: самолет\n",
            "Верный ответ: самолет\n",
            "\n",
            "Распознанный образ: автомобиль\n",
            "Верный ответ: автомобиль\n",
            "\n",
            "Распознанный образ: птица\n",
            "Верный ответ: птица\n",
            "\n",
            "Распознанный образ: кот\n",
            "Верный ответ: кот\n",
            "\n",
            "Распознанный образ: самолет\n",
            "Верный ответ: олень\n",
            "\n",
            "Распознанный образ: собака\n",
            "Верный ответ: собака\n",
            "\n",
            "Распознанный образ: лягушка\n",
            "Верный ответ: лягушка\n",
            "\n",
            "Распознанный образ: лошадь\n",
            "Верный ответ: лошадь\n",
            "\n",
            "Распознанный образ: корабль\n",
            "Верный ответ: корабль\n",
            "\n",
            "Распознанный образ: грузовик\n",
            "Верный ответ: грузовик\n",
            "\n"
          ],
          "name": "stdout"
        }
      ]
    },
    {
      "cell_type": "markdown",
      "metadata": {
        "id": "wpGW1AOhpR7_"
      },
      "source": [
        "#Распознавание изображений из набора данных Cifar100\n",
        "\n",
        "*Разбор данного раздела:* https://youtu.be/c78nXd8NuK4?t=1660"
      ]
    },
    {
      "cell_type": "code",
      "metadata": {
        "id": "OJkvdtT_oyqo",
        "colab": {
          "base_uri": "https://localhost:8080/",
          "height": 51
        },
        "outputId": "3b544c43-6fb6-4d65-f5c7-faf853f84514"
      },
      "source": [
        "#Загружаем cifar100\n",
        "(x_train100, y_train100), (x_test100, y_test100) = cifar100.load_data()"
      ],
      "execution_count": null,
      "outputs": [
        {
          "output_type": "stream",
          "text": [
            "Downloading data from https://www.cs.toronto.edu/~kriz/cifar-100-python.tar.gz\n",
            "169009152/169001437 [==============================] - 11s 0us/step\n"
          ],
          "name": "stdout"
        }
      ]
    },
    {
      "cell_type": "code",
      "metadata": {
        "id": "5y9xbdA-oyqt",
        "colab": {
          "base_uri": "https://localhost:8080/",
          "height": 168
        },
        "outputId": "8c5db853-5185-438e-9a7a-9319847f56d3"
      },
      "source": [
        "#Выводим для примера картинки по первым 10 классам\n",
        "\n",
        "fig, axs = plt.subplots(1, 10, figsize=(25, 3)) #Создаем полотно из 10 графиков\n",
        "for i in range(10): #Проходим по классам от 0 до 9\n",
        "  label_indexes = np.where(y_train100==i)[0] #Получаем список из индексов положений класса i в y_train\n",
        "  index = random.choice(label_indexes) #Случайным образом выбираем из списка индекс\n",
        "  img = x_train100[index] #Выбираем из x_train нужное изображение\n",
        "  axs[i].imshow(Image.fromarray(img)) #Отображаем изображение i-ым графиков\n",
        "\n",
        "plt.show() #Показываем изображения"
      ],
      "execution_count": null,
      "outputs": [
        {
          "output_type": "display_data",
          "data": {
            "image/png": "[encoded data removed]",
            "text/plain": [
              "<Figure size 1800x216 with 10 Axes>"
            ]
          },
          "metadata": {
            "tags": [],
            "needs_background": "light"
          }
        }
      ]
    },
    {
      "cell_type": "code",
      "metadata": {
        "id": "sHng7EIZoyqw"
      },
      "source": [
        "#Превращаем y_train и y_test сетей в формат one hot encoding\n",
        "y_train100 = utils.to_categorical(y_train100, 100)\n",
        "y_test100 = utils.to_categorical(y_test100, 100)"
      ],
      "execution_count": null,
      "outputs": []
    },
    {
      "cell_type": "code",
      "metadata": {
        "id": "eJ6tzOaIoyqy",
        "colab": {
          "base_uri": "https://localhost:8080/",
          "height": 85
        },
        "outputId": "49aec5f9-ebf2-41dc-f213-87c96333147d"
      },
      "source": [
        "# Посмотрим размеры выборок перед обучением\n",
        "print(x_train100.shape)\n",
        "print(x_test100.shape)\n",
        "print(y_train100.shape)\n",
        "print(y_test100.shape)"
      ],
      "execution_count": null,
      "outputs": [
        {
          "output_type": "stream",
          "text": [
            "(50000, 32, 32, 3)\n",
            "(10000, 32, 32, 3)\n",
            "(50000, 100)\n",
            "(10000, 100)\n"
          ],
          "name": "stdout"
        }
      ]
    },
    {
      "cell_type": "markdown",
      "metadata": {
        "id": "GiHfehm2oyq0"
      },
      "source": [
        "**Нейронная сеть**"
      ]
    },
    {
      "cell_type": "code",
      "metadata": {
        "id": "W2qNBBSYoyq0",
        "colab": {
          "base_uri": "https://localhost:8080/",
          "height": 1000
        },
        "outputId": "a496cd01-495a-4d8a-88c9-4748797daf28"
      },
      "source": [
        "#задаём batch_size\n",
        "batch_size = 128 \n",
        "\n",
        "#Создаем последовательную модель\n",
        "model = Sequential()\n",
        "#Слой пакетной нормализации\n",
        "model.add(BatchNormalization(input_shape=(32, 32, 3)))\n",
        "#Первый сверточный слой\n",
        "model.add(Conv2D(32, (3, 3), padding='same', activation='relu'))\n",
        "#Второй сверточный слой\n",
        "model.add(Conv2D(32, (3, 3), padding='same', activation='relu'))\n",
        "#Первый слой подвыборки\n",
        "model.add(MaxPooling2D(pool_size=(2, 2)))\n",
        "#Слой регуляризации Dropout\n",
        "model.add(Dropout(0.25))\n",
        "\n",
        "#Слой пакетной нормализации\n",
        "model.add(BatchNormalization())\n",
        "#Третий сверточный слой\n",
        "model.add(Conv2D(64, (3, 3), padding='same', activation='relu'))\n",
        "#Четвертый сверточный слой\n",
        "model.add(Conv2D(64, (3, 3), padding='same', activation='relu'))\n",
        "#Второй слой подвыборки\n",
        "model.add(MaxPooling2D(pool_size=(2, 2)))\n",
        "#Слой регуляризации Dropout\n",
        "model.add(Dropout(0.25))\n",
        "\n",
        "#Слой пакетной нормализации\n",
        "model.add(BatchNormalization())\n",
        "#Пятый сверточный слой\n",
        "model.add(Conv2D(256, (3, 3), padding='same', activation='relu'))\n",
        "#Шестой сверточный слой\n",
        "model.add(Conv2D(256, (3, 3), padding='same', activation='relu'))\n",
        "#Третий слой подвыборки\n",
        "model.add(MaxPooling2D(pool_size=(2, 2)))\n",
        "#Слой регуляризации Dropout\n",
        "model.add(Dropout(0.25))\n",
        "\n",
        "#Слой преобразования данных из 2D представления в плоское\n",
        "model.add(Flatten())\n",
        "#Полносвязный слой для классификации\n",
        "model.add(Dense(512, activation='relu'))\n",
        "#Слой регуляризации Dropout\n",
        "model.add(Dropout(0.25))\n",
        "#Выходной полносвязный слой\n",
        "model.add(Dense(100, activation='softmax'))\n",
        "\n",
        "#Компилируем сеть\n",
        "model.compile(loss=\"categorical_crossentropy\", optimizer=\"adam\", metrics=[\"accuracy\"])\n",
        "\n",
        "#Обучаем сеть на данных cifar100\n",
        "history = model.fit(x_train100, \n",
        "                    y_train100, \n",
        "                    batch_size=batch_size, \n",
        "                    epochs=40,\n",
        "                    validation_data=(x_test100, y_test100),\n",
        "                    verbose=1)\n",
        "\n",
        "#Оображаем график точности обучения\n",
        "plt.plot(history.history['accuracy'], \n",
        "         label='Доля верных ответов на обучающем наборе')\n",
        "plt.plot(history.history['val_accuracy'], \n",
        "         label='Доля верных ответов на проверочном наборе')\n",
        "plt.xlabel('Эпоха обучения')\n",
        "plt.ylabel('Доля верных ответов')\n",
        "plt.legend()\n",
        "plt.show()"
      ],
      "execution_count": null,
      "outputs": [
        {
          "output_type": "stream",
          "text": [
            "Epoch 1/40\n",
            "391/391 [==============================] - 5s 12ms/step - loss: 3.7938 - accuracy: 0.1220 - val_loss: 3.2723 - val_accuracy: 0.2113\n",
            "Epoch 2/40\n",
            "391/391 [==============================] - 5s 12ms/step - loss: 3.0806 - accuracy: 0.2417 - val_loss: 2.7051 - val_accuracy: 0.3180\n",
            "Epoch 3/40\n",
            "391/391 [==============================] - 5s 12ms/step - loss: 2.7213 - accuracy: 0.3082 - val_loss: 2.4837 - val_accuracy: 0.3692\n",
            "Epoch 4/40\n",
            "391/391 [==============================] - 5s 12ms/step - loss: 2.4796 - accuracy: 0.3558 - val_loss: 2.3489 - val_accuracy: 0.3914\n",
            "Epoch 5/40\n",
            "391/391 [==============================] - 4s 11ms/step - loss: 2.2919 - accuracy: 0.3966 - val_loss: 2.1251 - val_accuracy: 0.4436\n",
            "Epoch 6/40\n",
            "391/391 [==============================] - 4s 11ms/step - loss: 2.1497 - accuracy: 0.4266 - val_loss: 2.1366 - val_accuracy: 0.4419\n",
            "Epoch 7/40\n",
            "391/391 [==============================] - 4s 11ms/step - loss: 2.0186 - accuracy: 0.4549 - val_loss: 2.0271 - val_accuracy: 0.4643\n",
            "Epoch 8/40\n",
            "391/391 [==============================] - 4s 11ms/step - loss: 1.9180 - accuracy: 0.4763 - val_loss: 1.9781 - val_accuracy: 0.4768\n",
            "Epoch 9/40\n",
            "391/391 [==============================] - 4s 11ms/step - loss: 1.8191 - accuracy: 0.5005 - val_loss: 2.0265 - val_accuracy: 0.4674\n",
            "Epoch 10/40\n",
            "391/391 [==============================] - 4s 11ms/step - loss: 1.7339 - accuracy: 0.5185 - val_loss: 1.9273 - val_accuracy: 0.4907\n",
            "Epoch 11/40\n",
            "391/391 [==============================] - 4s 11ms/step - loss: 1.6596 - accuracy: 0.5341 - val_loss: 1.8612 - val_accuracy: 0.5089\n",
            "Epoch 12/40\n",
            "391/391 [==============================] - 4s 11ms/step - loss: 1.5806 - accuracy: 0.5546 - val_loss: 1.8892 - val_accuracy: 0.4964\n",
            "Epoch 13/40\n",
            "391/391 [==============================] - 4s 11ms/step - loss: 1.5162 - accuracy: 0.5713 - val_loss: 1.8398 - val_accuracy: 0.5182\n",
            "Epoch 14/40\n",
            "391/391 [==============================] - 4s 11ms/step - loss: 1.4525 - accuracy: 0.5859 - val_loss: 1.8462 - val_accuracy: 0.5200\n",
            "Epoch 15/40\n",
            "391/391 [==============================] - 4s 11ms/step - loss: 1.3868 - accuracy: 0.5973 - val_loss: 1.8785 - val_accuracy: 0.5138\n",
            "Epoch 16/40\n",
            "391/391 [==============================] - 4s 11ms/step - loss: 1.3247 - accuracy: 0.6151 - val_loss: 1.8511 - val_accuracy: 0.5185\n",
            "Epoch 17/40\n",
            "391/391 [==============================] - 4s 11ms/step - loss: 1.2642 - accuracy: 0.6316 - val_loss: 1.8912 - val_accuracy: 0.5217\n",
            "Epoch 18/40\n",
            "391/391 [==============================] - 4s 11ms/step - loss: 1.2167 - accuracy: 0.6454 - val_loss: 1.8582 - val_accuracy: 0.5270\n",
            "Epoch 19/40\n",
            "391/391 [==============================] - 4s 11ms/step - loss: 1.1595 - accuracy: 0.6570 - val_loss: 1.9072 - val_accuracy: 0.5278\n",
            "Epoch 20/40\n",
            "391/391 [==============================] - 4s 11ms/step - loss: 1.1114 - accuracy: 0.6711 - val_loss: 1.8795 - val_accuracy: 0.5322\n",
            "Epoch 21/40\n",
            "391/391 [==============================] - 4s 11ms/step - loss: 1.0704 - accuracy: 0.6822 - val_loss: 1.8926 - val_accuracy: 0.5273\n",
            "Epoch 22/40\n",
            "391/391 [==============================] - 4s 11ms/step - loss: 1.0290 - accuracy: 0.6906 - val_loss: 1.9308 - val_accuracy: 0.5271\n",
            "Epoch 23/40\n",
            "391/391 [==============================] - 4s 11ms/step - loss: 0.9743 - accuracy: 0.7059 - val_loss: 1.8887 - val_accuracy: 0.5286\n",
            "Epoch 24/40\n",
            "391/391 [==============================] - 4s 11ms/step - loss: 0.9316 - accuracy: 0.7187 - val_loss: 1.9494 - val_accuracy: 0.5267\n",
            "Epoch 25/40\n",
            "391/391 [==============================] - 4s 11ms/step - loss: 0.9029 - accuracy: 0.7260 - val_loss: 2.0080 - val_accuracy: 0.5275\n",
            "Epoch 26/40\n",
            "391/391 [==============================] - 4s 11ms/step - loss: 0.8596 - accuracy: 0.7369 - val_loss: 2.0309 - val_accuracy: 0.5313\n",
            "Epoch 27/40\n",
            "391/391 [==============================] - 4s 11ms/step - loss: 0.8282 - accuracy: 0.7466 - val_loss: 2.0431 - val_accuracy: 0.5250\n",
            "Epoch 28/40\n",
            "391/391 [==============================] - 4s 11ms/step - loss: 0.7862 - accuracy: 0.7582 - val_loss: 2.0288 - val_accuracy: 0.5297\n",
            "Epoch 29/40\n",
            "391/391 [==============================] - 4s 11ms/step - loss: 0.7610 - accuracy: 0.7668 - val_loss: 2.0643 - val_accuracy: 0.5371\n",
            "Epoch 30/40\n",
            "391/391 [==============================] - 4s 11ms/step - loss: 0.7325 - accuracy: 0.7743 - val_loss: 2.0692 - val_accuracy: 0.5416\n",
            "Epoch 31/40\n",
            "391/391 [==============================] - 4s 11ms/step - loss: 0.7192 - accuracy: 0.7760 - val_loss: 2.1002 - val_accuracy: 0.5376\n",
            "Epoch 32/40\n",
            "391/391 [==============================] - 4s 11ms/step - loss: 0.6763 - accuracy: 0.7913 - val_loss: 2.0937 - val_accuracy: 0.5332\n",
            "Epoch 33/40\n",
            "391/391 [==============================] - 4s 11ms/step - loss: 0.6537 - accuracy: 0.7964 - val_loss: 2.1442 - val_accuracy: 0.5370\n",
            "Epoch 34/40\n",
            "391/391 [==============================] - 4s 11ms/step - loss: 0.6338 - accuracy: 0.8028 - val_loss: 2.1793 - val_accuracy: 0.5236\n",
            "Epoch 35/40\n",
            "391/391 [==============================] - 4s 11ms/step - loss: 0.6080 - accuracy: 0.8102 - val_loss: 2.1533 - val_accuracy: 0.5395\n",
            "Epoch 36/40\n",
            "391/391 [==============================] - 4s 11ms/step - loss: 0.5980 - accuracy: 0.8137 - val_loss: 2.1791 - val_accuracy: 0.5418\n",
            "Epoch 37/40\n",
            "391/391 [==============================] - 4s 11ms/step - loss: 0.5834 - accuracy: 0.8184 - val_loss: 2.1594 - val_accuracy: 0.5363\n",
            "Epoch 38/40\n",
            "391/391 [==============================] - 4s 11ms/step - loss: 0.5599 - accuracy: 0.8249 - val_loss: 2.2112 - val_accuracy: 0.5363\n",
            "Epoch 39/40\n",
            "391/391 [==============================] - 4s 11ms/step - loss: 0.5406 - accuracy: 0.8300 - val_loss: 2.2330 - val_accuracy: 0.5304\n",
            "Epoch 40/40\n",
            "391/391 [==============================] - 4s 11ms/step - loss: 0.5284 - accuracy: 0.8356 - val_loss: 2.2456 - val_accuracy: 0.5343\n"
          ],
          "name": "stdout"
        },
        {
          "output_type": "display_data",
          "data": {
            "image/png": "[encoded data removed]",
            "text/plain": [
              "<Figure size 432x288 with 1 Axes>"
            ]
          },
          "metadata": {
            "tags": [],
            "needs_background": "light"
          }
        }
      ]
    },
    {
      "cell_type": "code",
      "metadata": {
        "id": "nzFKev01bhJo",
        "colab": {
          "base_uri": "https://localhost:8080/",
          "height": 799
        },
        "outputId": "82e5db73-78c8-40c4-e0f1-284984bcb232"
      },
      "source": [
        "model.summary()"
      ],
      "execution_count": null,
      "outputs": [
        {
          "output_type": "stream",
          "text": [
            "Model: \"sequential\"\n",
            "_________________________________________________________________\n",
            "Layer (type)                 Output Shape              Param #   \n",
            "=================================================================\n",
            "batch_normalization (BatchNo (None, 32, 32, 3)         12        \n",
            "_________________________________________________________________\n",
            "conv2d (Conv2D)              (None, 32, 32, 32)        896       \n",
            "_________________________________________________________________\n",
            "conv2d_1 (Conv2D)            (None, 32, 32, 32)        9248      \n",
            "_________________________________________________________________\n",
            "max_pooling2d (MaxPooling2D) (None, 16, 16, 32)        0         \n",
            "_________________________________________________________________\n",
            "dropout (Dropout)            (None, 16, 16, 32)        0         \n",
            "_________________________________________________________________\n",
            "batch_normalization_1 (Batch (None, 16, 16, 32)        128       \n",
            "_________________________________________________________________\n",
            "conv2d_2 (Conv2D)            (None, 16, 16, 64)        18496     \n",
            "_________________________________________________________________\n",
            "conv2d_3 (Conv2D)            (None, 16, 16, 64)        36928     \n",
            "_________________________________________________________________\n",
            "max_pooling2d_1 (MaxPooling2 (None, 8, 8, 64)          0         \n",
            "_________________________________________________________________\n",
            "dropout_1 (Dropout)          (None, 8, 8, 64)          0         \n",
            "_________________________________________________________________\n",
            "batch_normalization_2 (Batch (None, 8, 8, 64)          256       \n",
            "_________________________________________________________________\n",
            "conv2d_4 (Conv2D)            (None, 8, 8, 256)         147712    \n",
            "_________________________________________________________________\n",
            "conv2d_5 (Conv2D)            (None, 8, 8, 256)         590080    \n",
            "_________________________________________________________________\n",
            "max_pooling2d_2 (MaxPooling2 (None, 4, 4, 256)         0         \n",
            "_________________________________________________________________\n",
            "dropout_2 (Dropout)          (None, 4, 4, 256)         0         \n",
            "_________________________________________________________________\n",
            "flatten (Flatten)            (None, 4096)              0         \n",
            "_________________________________________________________________\n",
            "dense (Dense)                (None, 512)               2097664   \n",
            "_________________________________________________________________\n",
            "dropout_3 (Dropout)          (None, 512)               0         \n",
            "_________________________________________________________________\n",
            "dense_1 (Dense)              (None, 100)               51300     \n",
            "=================================================================\n",
            "Total params: 2,952,720\n",
            "Trainable params: 2,952,522\n",
            "Non-trainable params: 198\n",
            "_________________________________________________________________\n"
          ],
          "name": "stdout"
        }
      ]
    },
    {
      "cell_type": "markdown",
      "metadata": {
        "id": "H3NEfs2Kw4AI"
      },
      "source": [
        "#Распознавание марок машин (маленькая база)\n",
        "\n",
        "*Разбор данного раздела:* https://youtu.be/c78nXd8NuK4?t=1755"
      ]
    },
    {
      "cell_type": "code",
      "metadata": {
        "id": "gql75PDpyH7s"
      },
      "source": [
        "!unzip -q \"/content/drive/My Drive/Занятия/Апрельский курс 2020/Занятие №3/middle_fmr.zip\" -d /content/cars #Указываем путь к базе в Google Drive"
      ],
      "execution_count": null,
      "outputs": []
    },
    {
      "cell_type": "markdown",
      "metadata": {
        "id": "KrELNSXFXOTS"
      },
      "source": [
        ""
      ]
    },
    {
      "cell_type": "code",
      "metadata": {
        "id": "5ldyrDt5yIyN"
      },
      "source": [
        "train_path = '/content/cars' #Папка с папками картинок, рассортированных по категориям\n",
        "batch_size = 25 #Размер выборки\n",
        "img_width = 96 #Ширина изображения\n",
        "img_height = 54 #Высота изображения"
      ],
      "execution_count": null,
      "outputs": []
    },
    {
      "cell_type": "code",
      "metadata": {
        "id": "oDDOFCGwyNhW"
      },
      "source": [
        "#Генератор изображений\n",
        "datagen = ImageDataGenerator(\n",
        "    rescale=1. / 255, #Значения цвета меняем на дробные показания\n",
        "    rotation_range=10, #Поворачиваем изображения при генерации выборки\n",
        "    width_shift_range=0.1, #Двигаем изображения по ширине при генерации выборки\n",
        "    height_shift_range=0.1, #Двигаем изображения по высоте при генерации выборки\n",
        "    zoom_range=0.1, #Зумируем изображения при генерации выборки\n",
        "    horizontal_flip=True, #Отключаем отзеркаливание изображений\n",
        "    fill_mode='nearest', #Заполнение пикселей вне границ ввода\n",
        "    validation_split=0.1 #Указываем разделение изображений на обучающую и тестовую выборку\n",
        ")"
      ],
      "execution_count": null,
      "outputs": []
    },
    {
      "cell_type": "code",
      "metadata": {
        "id": "bSu406K1yOcQ",
        "colab": {
          "base_uri": "https://localhost:8080/",
          "height": 51
        },
        "outputId": "eea511ff-f856-4706-8afd-fbbf12bebc5d"
      },
      "source": [
        "# обучающая выборка\n",
        "train_generator = datagen.flow_from_directory(\n",
        "    train_path, #Путь ко всей выборке выборке\n",
        "    target_size=(img_width, img_height), #Размер изображений\n",
        "    batch_size=batch_size, #Размер batch_size\n",
        "    class_mode='categorical', #Категориальный тип выборки. Разбиение выборки по маркам авто \n",
        "    shuffle=True, #Перемешивание выборки\n",
        "    subset='training' # устанавливаем как набор для обучения\n",
        ")\n",
        "\n",
        "# проверочная выборка\n",
        "validation_generator = datagen.flow_from_directory(\n",
        "    train_path, #Путь ко всей выборке выборке\n",
        "    target_size=(img_width, img_height), #Размер изображений\n",
        "    batch_size=batch_size, #Размер batch_size\n",
        "    class_mode='categorical', #Категориальный тип выборки. Разбиение выборки по маркам авто \n",
        "    shuffle=True, #Перемешивание выборки\n",
        "    subset='validation' # устанавливаем как валидационный набор\n",
        ")"
      ],
      "execution_count": null,
      "outputs": [
        {
          "output_type": "stream",
          "text": [
            "Found 3086 images belonging to 3 classes.\n",
            "Found 341 images belonging to 3 classes.\n"
          ],
          "name": "stdout"
        }
      ]
    },
    {
      "cell_type": "code",
      "metadata": {
        "id": "2Sg81ThUyScS",
        "colab": {
          "base_uri": "https://localhost:8080/",
          "height": 281
        },
        "outputId": "615d8a22-944d-4809-f020-235a080be83a"
      },
      "source": [
        "#Выводим для примера картинки по каждому классу\n",
        "\n",
        "fig, axs = plt.subplots(1, 3, figsize=(25, 5)) #Создаем полотно из 3 графиков\n",
        "for i in range(3): #Проходим по всем классам\n",
        "  car_path = train_path + '/' + os.listdir(train_path)[i] + '/'#Формируем путь к выборке\n",
        "  img_path = car_path + random.choice(os.listdir(car_path)) #Выбираем случайное фото для отображения\n",
        "  axs[i].imshow(image.load_img(img_path, target_size=(img_height, img_width))) #Отображение фотографии\n",
        "\n",
        "plt.show() #Показываем изображения"
      ],
      "execution_count": null,
      "outputs": [
        {
          "output_type": "display_data",
          "data": {
            "image/png": "[encoded data removed]",
            "text/plain": [
              "<Figure size 1800x360 with 3 Axes>"
            ]
          },
          "metadata": {
            "tags": [],
            "needs_background": "light"
          }
        }
      ]
    },
    {
      "cell_type": "code",
      "metadata": {
        "id": "TBtq_FEsyVlZ"
      },
      "source": [
        "#Создаем последовательную модель\n",
        "model = Sequential()\n",
        "#Первый сверточный слой\n",
        "model.add(Conv2D(256, (3, 3), padding='same', activation='relu', input_shape=(img_width, img_height, 3)))\n",
        "#Второй сверточный слой\n",
        "model.add(Conv2D(256, (3, 3), padding='same', activation='relu'))\n",
        "model.add(MaxPooling2D(pool_size=(3, 3)))\n",
        "#Третий сверточный слой\n",
        "model.add(Conv2D(256, (3, 3), padding='same', activation='relu'))\n",
        "#Слой регуляризации Dropout\n",
        "model.add(Dropout(0.2))\n",
        "#Четвертый сверточный слой\n",
        "model.add(Conv2D(256, (3, 3), padding='same', activation='relu'))\n",
        "model.add(MaxPooling2D(pool_size=(3, 3)))\n",
        "#Слой регуляризации Dropout\n",
        "model.add(Dropout(0.2))\n",
        "#Пятый сверточный слой\n",
        "model.add(Conv2D(512, (3, 3), padding='same', activation='relu'))\n",
        "#Шестой сверточный слой\n",
        "model.add(Conv2D(1024, (3, 3), padding='same', activation='relu'))\n",
        "model.add(MaxPooling2D(pool_size=(3, 3)))\n",
        "#Слой регуляризации Dropout\n",
        "model.add(Dropout(0.2))\n",
        "#Слой преобразования двумерных данных в одномерные \n",
        "model.add(Flatten())\n",
        "#Полносвязный слой\n",
        "model.add(Dense(2048, activation='relu'))\n",
        "#Полносвязный слой\n",
        "model.add(Dense(4096, activation='relu'))\n",
        "#Вызодной полносвязный слой\n",
        "model.add(Dense(len(train_generator.class_indices), activation='softmax'))\n",
        "\n",
        "model.compile(loss='categorical_crossentropy', optimizer=Adam(lr=0.0001), metrics=['accuracy'])"
      ],
      "execution_count": null,
      "outputs": []
    },
    {
      "cell_type": "code",
      "metadata": {
        "id": "Ze3yKALByapN",
        "colab": {
          "base_uri": "https://localhost:8080/",
          "height": 1000
        },
        "outputId": "f967c900-4f21-49f7-a218-d12335eb00bd"
      },
      "source": [
        "history = model.fit_generator(\n",
        "    train_generator,\n",
        "    steps_per_epoch = train_generator.samples // batch_size,\n",
        "    validation_data = validation_generator, \n",
        "    validation_steps = validation_generator.samples // batch_size,\n",
        "    epochs=45,\n",
        "    verbose=1\n",
        ")"
      ],
      "execution_count": null,
      "outputs": [
        {
          "output_type": "stream",
          "text": [
            "WARNING:tensorflow:From <ipython-input-17-f21dcfb58631>:7: Model.fit_generator (from tensorflow.python.keras.engine.training) is deprecated and will be removed in a future version.\n",
            "Instructions for updating:\n",
            "Please use Model.fit, which supports generators.\n",
            "Epoch 1/45\n",
            "  2/123 [..............................] - ETA: 3s - loss: 1.1252 - accuracy: 0.2200WARNING:tensorflow:Callbacks method `on_train_batch_end` is slow compared to the batch time (batch time: 0.0214s vs `on_train_batch_end` time: 0.0329s). Check your callbacks.\n",
            "123/123 [==============================] - 9s 74ms/step - loss: 1.0247 - accuracy: 0.4182 - val_loss: 0.9376 - val_accuracy: 0.5046\n",
            "Epoch 2/45\n",
            "123/123 [==============================] - 9s 71ms/step - loss: 0.9227 - accuracy: 0.5335 - val_loss: 0.9263 - val_accuracy: 0.5200\n",
            "Epoch 3/45\n",
            "123/123 [==============================] - 9s 70ms/step - loss: 0.9016 - accuracy: 0.5524 - val_loss: 0.8930 - val_accuracy: 0.5415\n",
            "Epoch 4/45\n",
            "123/123 [==============================] - 9s 71ms/step - loss: 0.8882 - accuracy: 0.5779 - val_loss: 0.9008 - val_accuracy: 0.5538\n",
            "Epoch 5/45\n",
            "123/123 [==============================] - 9s 70ms/step - loss: 0.8545 - accuracy: 0.5890 - val_loss: 0.8844 - val_accuracy: 0.5846\n",
            "Epoch 6/45\n",
            "123/123 [==============================] - 9s 70ms/step - loss: 0.8074 - accuracy: 0.6344 - val_loss: 0.8412 - val_accuracy: 0.6277\n",
            "Epoch 7/45\n",
            "123/123 [==============================] - 9s 70ms/step - loss: 0.7812 - accuracy: 0.6478 - val_loss: 0.8496 - val_accuracy: 0.6062\n",
            "Epoch 8/45\n",
            "123/123 [==============================] - 9s 71ms/step - loss: 0.7607 - accuracy: 0.6589 - val_loss: 0.8540 - val_accuracy: 0.6215\n",
            "Epoch 9/45\n",
            "123/123 [==============================] - 9s 71ms/step - loss: 0.7422 - accuracy: 0.6740 - val_loss: 0.7904 - val_accuracy: 0.6769\n",
            "Epoch 10/45\n",
            "123/123 [==============================] - 9s 70ms/step - loss: 0.7050 - accuracy: 0.6932 - val_loss: 0.8483 - val_accuracy: 0.6215\n",
            "Epoch 11/45\n",
            "123/123 [==============================] - 8s 68ms/step - loss: 0.6652 - accuracy: 0.7148 - val_loss: 0.7612 - val_accuracy: 0.6831\n",
            "Epoch 12/45\n",
            "123/123 [==============================] - 9s 70ms/step - loss: 0.6426 - accuracy: 0.7190 - val_loss: 0.6969 - val_accuracy: 0.7077\n",
            "Epoch 13/45\n",
            "123/123 [==============================] - 9s 70ms/step - loss: 0.6183 - accuracy: 0.7279 - val_loss: 0.6730 - val_accuracy: 0.7108\n",
            "Epoch 14/45\n",
            "123/123 [==============================] - 9s 70ms/step - loss: 0.5947 - accuracy: 0.7468 - val_loss: 0.7427 - val_accuracy: 0.6892\n",
            "Epoch 15/45\n",
            "123/123 [==============================] - 9s 70ms/step - loss: 0.5566 - accuracy: 0.7687 - val_loss: 0.6447 - val_accuracy: 0.7046\n",
            "Epoch 16/45\n",
            "123/123 [==============================] - 9s 71ms/step - loss: 0.5185 - accuracy: 0.7837 - val_loss: 0.7093 - val_accuracy: 0.6954\n",
            "Epoch 17/45\n",
            "123/123 [==============================] - 9s 71ms/step - loss: 0.4751 - accuracy: 0.8056 - val_loss: 0.5968 - val_accuracy: 0.7631\n",
            "Epoch 18/45\n",
            "123/123 [==============================] - 9s 71ms/step - loss: 0.4627 - accuracy: 0.8154 - val_loss: 0.5557 - val_accuracy: 0.7846\n",
            "Epoch 19/45\n",
            "123/123 [==============================] - 9s 72ms/step - loss: 0.4264 - accuracy: 0.8321 - val_loss: 0.5693 - val_accuracy: 0.7446\n",
            "Epoch 20/45\n",
            "123/123 [==============================] - 9s 71ms/step - loss: 0.4100 - accuracy: 0.8376 - val_loss: 0.6546 - val_accuracy: 0.7292\n",
            "Epoch 21/45\n",
            "123/123 [==============================] - 9s 70ms/step - loss: 0.3810 - accuracy: 0.8484 - val_loss: 0.5621 - val_accuracy: 0.7877\n",
            "Epoch 22/45\n",
            "123/123 [==============================] - 9s 70ms/step - loss: 0.3613 - accuracy: 0.8589 - val_loss: 0.6138 - val_accuracy: 0.7723\n",
            "Epoch 23/45\n",
            "123/123 [==============================] - 9s 71ms/step - loss: 0.3592 - accuracy: 0.8556 - val_loss: 0.5945 - val_accuracy: 0.7815\n",
            "Epoch 24/45\n",
            "123/123 [==============================] - 9s 71ms/step - loss: 0.3244 - accuracy: 0.8687 - val_loss: 0.5920 - val_accuracy: 0.7754\n",
            "Epoch 25/45\n",
            "123/123 [==============================] - 9s 71ms/step - loss: 0.3050 - accuracy: 0.8788 - val_loss: 0.5838 - val_accuracy: 0.7692\n",
            "Epoch 26/45\n",
            "123/123 [==============================] - 9s 70ms/step - loss: 0.2838 - accuracy: 0.8915 - val_loss: 0.4933 - val_accuracy: 0.8000\n",
            "Epoch 27/45\n",
            "123/123 [==============================] - 9s 70ms/step - loss: 0.2810 - accuracy: 0.8938 - val_loss: 0.6346 - val_accuracy: 0.7969\n",
            "Epoch 28/45\n",
            "123/123 [==============================] - 9s 72ms/step - loss: 0.2547 - accuracy: 0.9017 - val_loss: 0.5892 - val_accuracy: 0.7877\n",
            "Epoch 29/45\n",
            "123/123 [==============================] - 9s 70ms/step - loss: 0.2527 - accuracy: 0.9046 - val_loss: 0.5211 - val_accuracy: 0.8154\n",
            "Epoch 30/45\n",
            "123/123 [==============================] - 9s 69ms/step - loss: 0.2293 - accuracy: 0.9089 - val_loss: 0.6163 - val_accuracy: 0.7723\n",
            "Epoch 31/45\n",
            "123/123 [==============================] - 9s 72ms/step - loss: 0.2219 - accuracy: 0.9138 - val_loss: 0.6879 - val_accuracy: 0.7815\n",
            "Epoch 32/45\n",
            "123/123 [==============================] - 9s 71ms/step - loss: 0.1949 - accuracy: 0.9252 - val_loss: 0.6166 - val_accuracy: 0.8277\n",
            "Epoch 33/45\n",
            "123/123 [==============================] - 9s 71ms/step - loss: 0.1941 - accuracy: 0.9262 - val_loss: 0.6004 - val_accuracy: 0.8154\n",
            "Epoch 34/45\n",
            "123/123 [==============================] - 9s 71ms/step - loss: 0.1936 - accuracy: 0.9222 - val_loss: 0.5389 - val_accuracy: 0.8092\n",
            "Epoch 35/45\n",
            "123/123 [==============================] - 9s 71ms/step - loss: 0.1806 - accuracy: 0.9304 - val_loss: 0.5445 - val_accuracy: 0.8154\n",
            "Epoch 36/45\n",
            "123/123 [==============================] - 9s 70ms/step - loss: 0.1713 - accuracy: 0.9353 - val_loss: 0.5710 - val_accuracy: 0.8062\n",
            "Epoch 37/45\n",
            "123/123 [==============================] - 9s 70ms/step - loss: 0.1600 - accuracy: 0.9402 - val_loss: 0.5841 - val_accuracy: 0.8308\n",
            "Epoch 38/45\n",
            "123/123 [==============================] - 9s 71ms/step - loss: 0.1392 - accuracy: 0.9454 - val_loss: 0.6336 - val_accuracy: 0.7908\n",
            "Epoch 39/45\n",
            "123/123 [==============================] - 9s 70ms/step - loss: 0.1579 - accuracy: 0.9396 - val_loss: 0.5010 - val_accuracy: 0.8308\n",
            "Epoch 40/45\n",
            "123/123 [==============================] - 9s 70ms/step - loss: 0.1360 - accuracy: 0.9428 - val_loss: 0.6703 - val_accuracy: 0.8154\n",
            "Epoch 41/45\n",
            "123/123 [==============================] - 9s 70ms/step - loss: 0.1273 - accuracy: 0.9494 - val_loss: 0.5835 - val_accuracy: 0.8092\n",
            "Epoch 42/45\n",
            "123/123 [==============================] - 9s 70ms/step - loss: 0.1338 - accuracy: 0.9520 - val_loss: 0.9561 - val_accuracy: 0.7692\n",
            "Epoch 43/45\n",
            "123/123 [==============================] - 9s 71ms/step - loss: 0.1371 - accuracy: 0.9530 - val_loss: 0.6228 - val_accuracy: 0.7938\n",
            "Epoch 44/45\n",
            "123/123 [==============================] - 9s 69ms/step - loss: 0.1227 - accuracy: 0.9530 - val_loss: 0.7234 - val_accuracy: 0.8246\n",
            "Epoch 45/45\n",
            "123/123 [==============================] - 9s 71ms/step - loss: 0.1095 - accuracy: 0.9634 - val_loss: 0.5806 - val_accuracy: 0.7908\n"
          ],
          "name": "stdout"
        }
      ]
    },
    {
      "cell_type": "code",
      "metadata": {
        "id": "I4zQn5Fd1t2Z",
        "colab": {
          "base_uri": "https://localhost:8080/",
          "height": 697
        },
        "outputId": "5b10828a-47b0-4cec-a2bb-c3c9c4ca8b8e"
      },
      "source": [
        "model.summary()"
      ],
      "execution_count": null,
      "outputs": [
        {
          "output_type": "stream",
          "text": [
            "Model: \"sequential_1\"\n",
            "_________________________________________________________________\n",
            "Layer (type)                 Output Shape              Param #   \n",
            "=================================================================\n",
            "conv2d_6 (Conv2D)            (None, 96, 54, 256)       7168      \n",
            "_________________________________________________________________\n",
            "conv2d_7 (Conv2D)            (None, 96, 54, 256)       590080    \n",
            "_________________________________________________________________\n",
            "max_pooling2d_3 (MaxPooling2 (None, 32, 18, 256)       0         \n",
            "_________________________________________________________________\n",
            "conv2d_8 (Conv2D)            (None, 32, 18, 256)       590080    \n",
            "_________________________________________________________________\n",
            "dropout_4 (Dropout)          (None, 32, 18, 256)       0         \n",
            "_________________________________________________________________\n",
            "conv2d_9 (Conv2D)            (None, 32, 18, 256)       590080    \n",
            "_________________________________________________________________\n",
            "max_pooling2d_4 (MaxPooling2 (None, 10, 6, 256)        0         \n",
            "_________________________________________________________________\n",
            "dropout_5 (Dropout)          (None, 10, 6, 256)        0         \n",
            "_________________________________________________________________\n",
            "conv2d_10 (Conv2D)           (None, 10, 6, 512)        1180160   \n",
            "_________________________________________________________________\n",
            "conv2d_11 (Conv2D)           (None, 10, 6, 1024)       4719616   \n",
            "_________________________________________________________________\n",
            "max_pooling2d_5 (MaxPooling2 (None, 3, 2, 1024)        0         \n",
            "_________________________________________________________________\n",
            "dropout_6 (Dropout)          (None, 3, 2, 1024)        0         \n",
            "_________________________________________________________________\n",
            "flatten_1 (Flatten)          (None, 6144)              0         \n",
            "_________________________________________________________________\n",
            "dense_2 (Dense)              (None, 2048)              12584960  \n",
            "_________________________________________________________________\n",
            "dense_3 (Dense)              (None, 4096)              8392704   \n",
            "_________________________________________________________________\n",
            "dense_4 (Dense)              (None, 3)                 12291     \n",
            "=================================================================\n",
            "Total params: 28,667,139\n",
            "Trainable params: 28,667,139\n",
            "Non-trainable params: 0\n",
            "_________________________________________________________________\n"
          ],
          "name": "stdout"
        }
      ]
    },
    {
      "cell_type": "code",
      "metadata": {
        "id": "Cp_hnqu5ifn4",
        "colab": {
          "base_uri": "https://localhost:8080/",
          "height": 279
        },
        "outputId": "08f0b133-0ea2-444b-c8a6-360506300200"
      },
      "source": [
        "#Оображаем график точности обучения\n",
        "plt.plot(history.history['accuracy'], \n",
        "         label='Доля верных ответов на обучающем наборе')\n",
        "plt.plot(history.history['val_accuracy'], \n",
        "         label='Доля верных ответов на проверочном наборе')\n",
        "plt.xlabel('Эпоха обучения')\n",
        "plt.ylabel('Доля верных ответов')\n",
        "plt.legend()\n",
        "plt.show()"
      ],
      "execution_count": null,
      "outputs": [
        {
          "output_type": "display_data",
          "data": {
            "image/png": "[encoded data removed]",
            "text/plain": [
              "<Figure size 432x288 with 1 Axes>"
            ]
          },
          "metadata": {
            "tags": [],
            "needs_background": "light"
          }
        }
      ]
    },
    {
      "cell_type": "markdown",
      "metadata": {
        "id": "MFXlKjHDc5xM"
      },
      "source": [
        "#Глоссарий"
      ]
    },
    {
      "cell_type": "markdown",
      "metadata": {
        "id": "TvYR3llIc5ty"
      },
      "source": [
        "**Сверточная нейронная сеть** - архитектура нейронных сетей, направленная на решение задачи распознавания образов \n",
        "\n",
        "---\n",
        "\n",
        "**Dense** - полносвязный слой \n",
        "\n",
        "**conv2D** - сверточный слой \n",
        "\n",
        "**MaxPooling2D** - слой объединения для пространственных данных \n",
        "\n",
        "**Dropout** - случайная блокировка нейронов для предотвращения переобучения\n",
        "\n",
        "**BatchNormalization** - слой пакетной нормализации\n",
        "\n",
        "**categorical_crossentropy** - метод определения ошибки нейронной сети для категориальных данных (классов). Категориальная кроссцентропия между выходным результатом и y_train.\n",
        "\n",
        "**Flatten** - слой преобразования двумерных данных в одномерные"
      ]
    },
    {
      "cell_type": "markdown",
      "metadata": {
        "id": "oHxFqiP1p6up"
      },
      "source": [
        "#Литература"
      ]
    },
    {
      "cell_type": "markdown",
      "metadata": {
        "id": "a5MkgzbEp6uq"
      },
      "source": [
        "Для более глубокого понимания использования библиотеки хорошо уметь искать информацию в документациях от разработчика. Официальная документация доступна на английском языке.\n",
        "\n",
        "**Документация Keras** - https://keras.io/ \n",
        "\n",
        "**Русскоязычная документация Keras** - https://ru-keras.com/ \n",
        "\n",
        "Помимо официальной документации можно найти огромное количество полезной информации и в других источниках.\n",
        "\n",
        "**Полезные статьи habr:**\n",
        "\n",
        "https://habr.com/ru/post/348000/\n",
        "\n",
        "https://habr.com/ru/post/309508/"
      ]
    }
  ]
}