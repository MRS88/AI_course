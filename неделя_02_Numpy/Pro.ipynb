{
  "nbformat": 4,
  "nbformat_minor": 0,
  "metadata": {
    "colab": {
      "name": "Копия блокнота \"Numpy. Домашнее задание. Pro. Университет Искусственного Интеллекта.ipynb\"",
      "provenance": [],
      "collapsed_sections": [],
      "include_colab_link": true
    },
    "kernelspec": {
      "name": "python3",
      "display_name": "Python 3"
    }
  },
  "cells": [
    {
      "cell_type": "markdown",
      "metadata": {
        "id": "view-in-github",
        "colab_type": "text"
      },
      "source": [
        "<a href=\"https://colab.research.google.com/github/ShutTheFuckUpDonny/AI_course/blob/master/%D0%BD%D0%B5%D0%B4%D0%B5%D0%BB%D1%8F_02_Numpy/Pro.ipynb\" target=\"_parent\"><img src=\"https://colab.research.google.com/assets/colab-badge.svg\" alt=\"Open In Colab\"/></a>"
      ]
    },
    {
      "cell_type": "markdown",
      "metadata": {
        "id": "iQhtbx8Z8SZj"
      },
      "source": [
        "### Задача 1\n",
        "\n",
        "* Подгрузите массив **iris.csv** и назовите его my_array. \n",
        "\n",
        "* Создайте двумерный массив из случайных чисел той же размерности, что и my_array (раздел \"Семплирование из распределений\", потребуется использовать размерность массива my_array).\n",
        "\n",
        "* Назовите его my_generated_array."
      ]
    },
    {
      "cell_type": "markdown",
      "metadata": {
        "id": "KdbAknB0AR0O"
      },
      "source": [
        "**Решение:**"
      ]
    },
    {
      "cell_type": "code",
      "metadata": {
        "id": "uQDyuRTB_ntY",
        "colab": {
          "base_uri": "https://localhost:8080/",
          "height": 52
        },
        "outputId": "cf8a5617-a68e-4cb3-8142-f5133eb5c938"
      },
      "source": [
        "import numpy as np\n",
        "\n",
        "my_array = np.loadtxt('iris.csv', delimiter=',', skiprows=1)\n",
        "print(my_array.shape)\n",
        "my_generated_array = np.random.random((my_array.shape))\n",
        "#print(my_generated_array)\n",
        "print(my_generated_array.shape)"
      ],
      "execution_count": null,
      "outputs": [
        {
          "output_type": "stream",
          "text": [
            "(150, 5)\n",
            "(150, 5)\n"
          ],
          "name": "stdout"
        }
      ]
    },
    {
      "cell_type": "markdown",
      "metadata": {
        "id": "hzR46ceA8SZp"
      },
      "source": [
        "### Задача 2\n",
        "\n",
        "* Выполните поэлементное умножение my_array на my_generated_array (раздел \"векторные операции\").\n",
        "\n",
        "* Склейте массивы my_array, my_generated_array в один (могут помочь методы np.concatenate, np.vstack, np.hstack).\n",
        "\n",
        "* Возьмите склеенный массив и разделите его на равные части (больше двух). Можно сделать вручную через циклы либо воспользоваться методом vsplit."
      ]
    },
    {
      "cell_type": "markdown",
      "metadata": {
        "id": "VJbqrCAvA0My"
      },
      "source": [
        "**Решение:**"
      ]
    },
    {
      "cell_type": "code",
      "metadata": {
        "id": "VuQOLDyRA0My"
      },
      "source": [
        "res_arr = my_array * my_generated_array\n",
        "# опционально можно удалить \"#\" для проверки результата\n",
        "#print(res_arr)\n",
        "conc_arr = np.concatenate([my_array, my_generated_array])\n",
        "np.vsplit(conc_arr, 75)"
      ],
      "execution_count": null,
      "outputs": []
    },
    {
      "cell_type": "markdown",
      "metadata": {
        "id": "z08ODJt78SZw"
      },
      "source": [
        "### Задача 3\n",
        "\n",
        "* Найдите все элементы массива my_array, которые больше трех и меньше 5 одновременно. Используйте методологию подвыборки массива с условием (раздел \"Индексация\")."
      ]
    },
    {
      "cell_type": "markdown",
      "metadata": {
        "id": "ABomd938A0wl"
      },
      "source": [
        "**Решение:**"
      ]
    },
    {
      "cell_type": "code",
      "metadata": {
        "id": "VvyzSiqWA0wn"
      },
      "source": [
        "my_array[(my_array > 3) & (my_array < 5)]"
      ],
      "execution_count": null,
      "outputs": []
    },
    {
      "cell_type": "markdown",
      "metadata": {
        "id": "P_O3RZUR8SZ6"
      },
      "source": [
        "### Задача 4\n",
        "\n",
        "Создайте трехмерный массив размера 2 на 3 на 4, состоящий из случайных ВЕЩЕСТВЕННЫХ чисел от 15 до 37. Используйте встроенные методы библиотеки  np.random."
      ]
    },
    {
      "cell_type": "markdown",
      "metadata": {
        "id": "tpfyzjF0A1HD"
      },
      "source": [
        "**Решение:**"
      ]
    },
    {
      "cell_type": "code",
      "metadata": {
        "id": "-l2omKOiA1HF",
        "colab": {
          "base_uri": "https://localhost:8080/",
          "height": 176
        },
        "outputId": "7260a890-19d7-47f9-a0f1-3a22c0462074"
      },
      "source": [
        "task_4_arr = np.random.uniform(15, 37, (2,3,4))\n",
        "print(task_4_arr)\n",
        "print()\n",
        "print(task_4_arr[:,0][0][1])"
      ],
      "execution_count": null,
      "outputs": [
        {
          "output_type": "stream",
          "text": [
            "[[[15.54064718 30.78127384 32.75799912 28.72809423]\n",
            "  [19.65461757 20.20971106 35.90976446 31.91579375]\n",
            "  [30.53576479 22.64064574 20.22498457 23.86547571]]\n",
            "\n",
            " [[34.99934748 21.43504049 29.02192848 25.52505717]\n",
            "  [36.89266465 26.14614775 28.3363305  33.45931962]\n",
            "  [31.26503774 27.26542044 19.0546872  29.06882471]]]\n",
            "\n",
            "30.781273838961525\n"
          ],
          "name": "stdout"
        }
      ]
    },
    {
      "cell_type": "markdown",
      "metadata": {
        "id": "_8q3NF_k8SaA"
      },
      "source": [
        "### Задача 5\n",
        "\n",
        "Используя массив из предыдущей задачи, преобразуйте его в новый массив со следующими значениями:\n",
        "\n",
        "    * \"small\", если значения меньше 20\n",
        "    * \"medium\", если значения в промежутке [20, 30]\n",
        "    * \"large\", если значения больше 30"
      ]
    },
    {
      "cell_type": "markdown",
      "metadata": {
        "id": "W0pitA1DA1vG"
      },
      "source": [
        "**Решение:**"
      ]
    },
    {
      "cell_type": "code",
      "metadata": {
        "id": "H6EAMd9XA1vH",
        "colab": {
          "base_uri": "https://localhost:8080/",
          "height": 141
        },
        "outputId": "204696cd-51b9-4d06-f04b-6d2bc32eef4c"
      },
      "source": [
        "'''Хотел найти лучшее решение, но не смог. Пытался через np.place и \n",
        "numpy.apply_along_axis, но возникали ошибки из-за несоответствия типов данных\n",
        "или размерности массива. Подскажите более изящный способ решения задачи'''\n",
        "A = []\n",
        "for i in np.nditer(task_4_arr):\n",
        "  if i < 20:\n",
        "    A.append('small')\n",
        "  elif 20 <= i <= 30:\n",
        "    A.append('medium')\n",
        "  else:\n",
        "    A.append('large')\n",
        "A = np.array(A).reshape(2,3,4)\n",
        "print(A)       "
      ],
      "execution_count": null,
      "outputs": [
        {
          "output_type": "stream",
          "text": [
            "[[['small' 'large' 'large' 'medium']\n",
            "  ['small' 'medium' 'large' 'large']\n",
            "  ['large' 'medium' 'medium' 'medium']]\n",
            "\n",
            " [['large' 'medium' 'medium' 'medium']\n",
            "  ['large' 'medium' 'medium' 'large']\n",
            "  ['large' 'medium' 'small' 'medium']]]\n"
          ],
          "name": "stdout"
        }
      ]
    }
  ]
}