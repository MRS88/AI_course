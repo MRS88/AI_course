{
  "nbformat": 4,
  "nbformat_minor": 0,
  "metadata": {
    "colab": {
      "name": "Numpy. Разбор домашнего задания. Ultra-Light. Университет Искусственного Интеллекта.ipynb",
      "provenance": [],
      "collapsed_sections": [],
      "include_colab_link": true
    },
    "kernelspec": {
      "name": "python3",
      "display_name": "Python 3"
    }
  },
  "cells": [
    {
      "cell_type": "markdown",
      "metadata": {
        "id": "view-in-github",
        "colab_type": "text"
      },
      "source": [
        "<a href=\"https://colab.research.google.com/github/ShutTheFuckUpDonny/AI_course/blob/master/%D0%BD%D0%B5%D0%B4%D0%B5%D0%BB%D1%8F_02_Numpy/Numpy_%D0%A0%D0%B0%D0%B7%D0%B1%D0%BE%D1%80_%D0%B4%D0%BE%D0%BC%D0%B0%D1%88%D0%BD%D0%B5%D0%B3%D0%BE_%D0%B7%D0%B0%D0%B4%D0%B0%D0%BD%D0%B8%D1%8F_Ultra_Light_%D0%A3%D0%BD%D0%B8%D0%B2%D0%B5%D1%80%D1%81%D0%B8%D1%82%D0%B5%D1%82_%D0%98%D1%81%D0%BA%D1%83%D1%81%D1%81%D1%82%D0%B2%D0%B5%D0%BD%D0%BD%D0%BE%D0%B3%D0%BE_%D0%98%D0%BD%D1%82%D0%B5%D0%BB%D0%BB%D0%B5%D0%BA%D1%82%D0%B0.ipynb\" target=\"_parent\"><img src=\"https://colab.research.google.com/assets/colab-badge.svg\" alt=\"Open In Colab\"/></a>"
      ]
    },
    {
      "cell_type": "markdown",
      "metadata": {
        "id": "ZyOyY9c0_Z6l"
      },
      "source": [
        "### Задача 1\n",
        "\n",
        "Создайте целочисленный массив Numpy. Для этого выполните следующее:\n",
        "1. Создайте список из целых значений (не меньше 5 штук).\n",
        "2. Используя метод numpy.array(), переведите список в массив Numpy."
      ]
    },
    {
      "cell_type": "markdown",
      "metadata": {
        "id": "B5QgsUZvr4k5"
      },
      "source": [
        "**Решение:**"
      ]
    },
    {
      "cell_type": "code",
      "metadata": {
        "id": "hl8JgJZQ-y1K"
      },
      "source": [
        "import numpy as np\n",
        "lst = [1, 2, 3, 4, 5]  #Создаем пустой список\n",
        "arr = np.array(lst) #Создаем массив"
      ],
      "execution_count": null,
      "outputs": []
    },
    {
      "cell_type": "markdown",
      "metadata": {
        "id": "eDzEB-0wr8NW"
      },
      "source": [
        "###Задача 2\n",
        "\n",
        "Используя индексы, выведите первый и третий элемент массива.\n"
      ]
    },
    {
      "cell_type": "markdown",
      "metadata": {
        "id": "oiga4LaOsL8g"
      },
      "source": [
        "**Решение:**"
      ]
    },
    {
      "cell_type": "code",
      "metadata": {
        "id": "PzUC9JorsL8i",
        "colab": {
          "base_uri": "https://localhost:8080/",
          "height": 51
        },
        "outputId": "ea99de5e-1be5-4e47-b6bb-15516f8e9bf2"
      },
      "source": [
        "print('Первый элемент:', arr[0])\n",
        "print('Второй элемент:', arr[2])"
      ],
      "execution_count": null,
      "outputs": [
        {
          "output_type": "stream",
          "text": [
            "Первый элемент: 1\n",
            "Второй элемент: 3\n"
          ],
          "name": "stdout"
        }
      ]
    },
    {
      "cell_type": "markdown",
      "metadata": {
        "id": "ERR-JLUVsURg"
      },
      "source": [
        "###Задача 3\n",
        "\n",
        "Используя метод type(), проверьте тип созданного массива. \n"
      ]
    },
    {
      "cell_type": "markdown",
      "metadata": {
        "id": "qKbam0VgsURi"
      },
      "source": [
        "**Решение:**"
      ]
    },
    {
      "cell_type": "code",
      "metadata": {
        "id": "ddMZ4hSasURj",
        "colab": {
          "base_uri": "https://localhost:8080/",
          "height": 34
        },
        "outputId": "4fdad413-90e8-4d22-ad38-dd47d72c3e44"
      },
      "source": [
        "type(arr) #Выводим тип созданного массива"
      ],
      "execution_count": null,
      "outputs": [
        {
          "output_type": "execute_result",
          "data": {
            "text/plain": [
              "numpy.ndarray"
            ]
          },
          "metadata": {
            "tags": []
          },
          "execution_count": 6
        }
      ]
    },
    {
      "cell_type": "markdown",
      "metadata": {
        "id": "Uii4V576sdLA"
      },
      "source": [
        "###Задача 4\n",
        "\n",
        "Используя метод sum(), найдите сумму всех элементов массива. \n"
      ]
    },
    {
      "cell_type": "markdown",
      "metadata": {
        "id": "yo2rp5vYsdLB"
      },
      "source": [
        "**Решение:**"
      ]
    },
    {
      "cell_type": "code",
      "metadata": {
        "id": "U3Syr035sdLC",
        "colab": {
          "base_uri": "https://localhost:8080/",
          "height": 34
        },
        "outputId": "f9b3473c-49f7-49ab-a6d9-c145fb91d47b"
      },
      "source": [
        "arr.sum() #Выводим сумму"
      ],
      "execution_count": null,
      "outputs": [
        {
          "output_type": "execute_result",
          "data": {
            "text/plain": [
              "15"
            ]
          },
          "metadata": {
            "tags": []
          },
          "execution_count": 7
        }
      ]
    },
    {
      "cell_type": "markdown",
      "metadata": {
        "id": "gdbBp7vKsxIR"
      },
      "source": [
        "###Задача 5\n",
        "\n",
        "Используя метод arange(), создайте новый массив из значений от 0 до 10.\n"
      ]
    },
    {
      "cell_type": "markdown",
      "metadata": {
        "id": "XPOyycyxsxIS"
      },
      "source": [
        "**Решение:**"
      ]
    },
    {
      "cell_type": "code",
      "metadata": {
        "id": "_Kfn8Yo5sxIS"
      },
      "source": [
        "arr2 = np.arange(0, 11) #Создаем массив значений"
      ],
      "execution_count": null,
      "outputs": []
    },
    {
      "cell_type": "code",
      "metadata": {
        "id": "Z-SrHGbvQYqF",
        "colab": {
          "base_uri": "https://localhost:8080/",
          "height": 34
        },
        "outputId": "9039da7d-ec8d-42fd-f0a3-c04a042f48be"
      },
      "source": [
        "arr2 #Выводим значения"
      ],
      "execution_count": null,
      "outputs": [
        {
          "output_type": "execute_result",
          "data": {
            "text/plain": [
              "array([ 0,  1,  2,  3,  4,  5,  6,  7,  8,  9, 10])"
            ]
          },
          "metadata": {
            "tags": []
          },
          "execution_count": 12
        }
      ]
    }
  ]
}