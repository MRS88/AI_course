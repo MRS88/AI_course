{
  "nbformat": 4,
  "nbformat_minor": 0,
  "metadata": {
    "colab": {
      "name": "Pandas #2. Разбор домашнего задания. Ultra-Pro. Университет Искусственного Интеллекта.ipynb",
      "provenance": [],
      "collapsed_sections": [],
      "include_colab_link": true
    },
    "kernelspec": {
      "name": "python3",
      "display_name": "Python 3"
    }
  },
  "cells": [
    {
      "cell_type": "markdown",
      "metadata": {
        "id": "view-in-github",
        "colab_type": "text"
      },
      "source": [
        "<a href=\"https://colab.research.google.com/github/MRS88/AI_course/blob/master/%D0%BD%D0%B5%D0%B4%D0%B5%D0%BB%D1%8F_04_Pandas_%D0%A7%D0%B0%D1%81%D1%82%D1%8C_2/Pandas_2_%D0%A0%D0%B0%D0%B7%D0%B1%D0%BE%D1%80_%D0%B4%D0%BE%D0%BC%D0%B0%D1%88%D0%BD%D0%B5%D0%B3%D0%BE_%D0%B7%D0%B0%D0%B4%D0%B0%D0%BD%D0%B8%D1%8F_Ultra_Pro_%D0%A3%D0%BD%D0%B8%D0%B2%D0%B5%D1%80%D1%81%D0%B8%D1%82%D0%B5%D1%82_%D0%98%D1%81%D0%BA%D1%83%D1%81%D1%81%D1%82%D0%B2%D0%B5%D0%BD%D0%BD%D0%BE%D0%B3%D0%BE_%D0%98%D0%BD%D1%82%D0%B5%D0%BB%D0%BB%D0%B5%D0%BA%D1%82%D0%B0.ipynb\" target=\"_parent\"><img src=\"https://colab.research.google.com/assets/colab-badge.svg\" alt=\"Open In Colab\"/></a>"
      ]
    },
    {
      "cell_type": "markdown",
      "metadata": {
        "id": "o5zbOypPjKp6"
      },
      "source": [
        "### Задача 1\n",
        "Подгрузите данные 'data.csv' (возможно, придется указать кодировку encoding сp1250) в переменную data.\n",
        "\n",
        "Создайте новый столбец TotalCost со значениями Quantity * UnitPrice. Сделайте resampling данных в еженедельные со значениями суммы по столбцам TotalCost.\n"
      ]
    },
    {
      "cell_type": "markdown",
      "metadata": {
        "id": "qMFZukAIK0vP"
      },
      "source": [
        "**Решение:**"
      ]
    },
    {
      "cell_type": "code",
      "metadata": {
        "id": "d-v_OBDXznbU"
      },
      "source": [
        "import pandas as pd"
      ],
      "execution_count": null,
      "outputs": []
    },
    {
      "cell_type": "code",
      "metadata": {
        "id": "Wjt07Ox8y3mz",
        "colab": {
          "base_uri": "https://localhost:8080/",
          "height": 34
        },
        "outputId": "b089b8fb-9e3c-4886-d981-eb41fdfe7d27"
      },
      "source": [
        "from google.colab import drive\n",
        "drive.mount('/content/drive')"
      ],
      "execution_count": null,
      "outputs": [
        {
          "output_type": "stream",
          "text": [
            "Mounted at /content/drive\n"
          ],
          "name": "stdout"
        }
      ]
    },
    {
      "cell_type": "code",
      "metadata": {
        "id": "0445B635gY86",
        "colab": {
          "base_uri": "https://localhost:8080/",
          "height": 235
        },
        "outputId": "5ad96364-96af-40f1-f893-769452ebd7c9"
      },
      "source": [
        "data = pd.read_csv('/content/drive/My Drive/Базы/data.csv', encoding='cp1250') # Загружаем данные из файла data.csv\n",
        "data.index = pd.to_datetime(data.InvoiceDate) # Преобразуем колонку InvoiceDate к типу DateTime\n",
        "data.head() # Выводим первые 5 строк ДатаФрейма data"
      ],
      "execution_count": null,
      "outputs": [
        {
          "output_type": "execute_result",
          "data": {
            "text/html": [
              "<div>\n",
              "<style scoped>\n",
              "    .dataframe tbody tr th:only-of-type {\n",
              "        vertical-align: middle;\n",
              "    }\n",
              "\n",
              "    .dataframe tbody tr th {\n",
              "        vertical-align: top;\n",
              "    }\n",
              "\n",
              "    .dataframe thead th {\n",
              "        text-align: right;\n",
              "    }\n",
              "</style>\n",
              "<table border=\"1\" class=\"dataframe\">\n",
              "  <thead>\n",
              "    <tr style=\"text-align: right;\">\n",
              "      <th></th>\n",
              "      <th>InvoiceNo</th>\n",
              "      <th>StockCode</th>\n",
              "      <th>Description</th>\n",
              "      <th>Quantity</th>\n",
              "      <th>InvoiceDate</th>\n",
              "      <th>UnitPrice</th>\n",
              "      <th>CustomerID</th>\n",
              "      <th>Country</th>\n",
              "    </tr>\n",
              "    <tr>\n",
              "      <th>InvoiceDate</th>\n",
              "      <th></th>\n",
              "      <th></th>\n",
              "      <th></th>\n",
              "      <th></th>\n",
              "      <th></th>\n",
              "      <th></th>\n",
              "      <th></th>\n",
              "      <th></th>\n",
              "    </tr>\n",
              "  </thead>\n",
              "  <tbody>\n",
              "    <tr>\n",
              "      <th>2010-12-01 08:26:00</th>\n",
              "      <td>536365</td>\n",
              "      <td>85123A</td>\n",
              "      <td>WHITE HANGING HEART T-LIGHT HOLDER</td>\n",
              "      <td>6</td>\n",
              "      <td>12/1/2010 8:26</td>\n",
              "      <td>2.55</td>\n",
              "      <td>17850.0</td>\n",
              "      <td>United Kingdom</td>\n",
              "    </tr>\n",
              "    <tr>\n",
              "      <th>2010-12-01 08:26:00</th>\n",
              "      <td>536365</td>\n",
              "      <td>71053</td>\n",
              "      <td>WHITE METAL LANTERN</td>\n",
              "      <td>6</td>\n",
              "      <td>12/1/2010 8:26</td>\n",
              "      <td>3.39</td>\n",
              "      <td>17850.0</td>\n",
              "      <td>United Kingdom</td>\n",
              "    </tr>\n",
              "    <tr>\n",
              "      <th>2010-12-01 08:26:00</th>\n",
              "      <td>536365</td>\n",
              "      <td>84406B</td>\n",
              "      <td>CREAM CUPID HEARTS COAT HANGER</td>\n",
              "      <td>8</td>\n",
              "      <td>12/1/2010 8:26</td>\n",
              "      <td>2.75</td>\n",
              "      <td>17850.0</td>\n",
              "      <td>United Kingdom</td>\n",
              "    </tr>\n",
              "    <tr>\n",
              "      <th>2010-12-01 08:26:00</th>\n",
              "      <td>536365</td>\n",
              "      <td>84029G</td>\n",
              "      <td>KNITTED UNION FLAG HOT WATER BOTTLE</td>\n",
              "      <td>6</td>\n",
              "      <td>12/1/2010 8:26</td>\n",
              "      <td>3.39</td>\n",
              "      <td>17850.0</td>\n",
              "      <td>United Kingdom</td>\n",
              "    </tr>\n",
              "    <tr>\n",
              "      <th>2010-12-01 08:26:00</th>\n",
              "      <td>536365</td>\n",
              "      <td>84029E</td>\n",
              "      <td>RED WOOLLY HOTTIE WHITE HEART.</td>\n",
              "      <td>6</td>\n",
              "      <td>12/1/2010 8:26</td>\n",
              "      <td>3.39</td>\n",
              "      <td>17850.0</td>\n",
              "      <td>United Kingdom</td>\n",
              "    </tr>\n",
              "  </tbody>\n",
              "</table>\n",
              "</div>"
            ],
            "text/plain": [
              "                    InvoiceNo StockCode  ... CustomerID         Country\n",
              "InvoiceDate                              ...                           \n",
              "2010-12-01 08:26:00    536365    85123A  ...    17850.0  United Kingdom\n",
              "2010-12-01 08:26:00    536365     71053  ...    17850.0  United Kingdom\n",
              "2010-12-01 08:26:00    536365    84406B  ...    17850.0  United Kingdom\n",
              "2010-12-01 08:26:00    536365    84029G  ...    17850.0  United Kingdom\n",
              "2010-12-01 08:26:00    536365    84029E  ...    17850.0  United Kingdom\n",
              "\n",
              "[5 rows x 8 columns]"
            ]
          },
          "metadata": {
            "tags": []
          },
          "execution_count": 3
        }
      ]
    },
    {
      "cell_type": "code",
      "metadata": {
        "id": "RFfqKaOdUKid",
        "colab": {
          "base_uri": "https://localhost:8080/",
          "height": 235
        },
        "outputId": "b1ea21b1-e076-42c7-ca7d-185491cb951e"
      },
      "source": [
        "data['TotalCost'] = data.Quantity * data.UnitPrice # Создаем новый столбец\n",
        "data.head() # Выводим первые 5 строк сформированного ДатаФрейма"
      ],
      "execution_count": null,
      "outputs": [
        {
          "output_type": "execute_result",
          "data": {
            "text/html": [
              "<div>\n",
              "<style scoped>\n",
              "    .dataframe tbody tr th:only-of-type {\n",
              "        vertical-align: middle;\n",
              "    }\n",
              "\n",
              "    .dataframe tbody tr th {\n",
              "        vertical-align: top;\n",
              "    }\n",
              "\n",
              "    .dataframe thead th {\n",
              "        text-align: right;\n",
              "    }\n",
              "</style>\n",
              "<table border=\"1\" class=\"dataframe\">\n",
              "  <thead>\n",
              "    <tr style=\"text-align: right;\">\n",
              "      <th></th>\n",
              "      <th>InvoiceNo</th>\n",
              "      <th>StockCode</th>\n",
              "      <th>Description</th>\n",
              "      <th>Quantity</th>\n",
              "      <th>InvoiceDate</th>\n",
              "      <th>UnitPrice</th>\n",
              "      <th>CustomerID</th>\n",
              "      <th>Country</th>\n",
              "      <th>TotalCost</th>\n",
              "    </tr>\n",
              "    <tr>\n",
              "      <th>InvoiceDate</th>\n",
              "      <th></th>\n",
              "      <th></th>\n",
              "      <th></th>\n",
              "      <th></th>\n",
              "      <th></th>\n",
              "      <th></th>\n",
              "      <th></th>\n",
              "      <th></th>\n",
              "      <th></th>\n",
              "    </tr>\n",
              "  </thead>\n",
              "  <tbody>\n",
              "    <tr>\n",
              "      <th>2010-12-01 08:26:00</th>\n",
              "      <td>536365</td>\n",
              "      <td>85123A</td>\n",
              "      <td>WHITE HANGING HEART T-LIGHT HOLDER</td>\n",
              "      <td>6</td>\n",
              "      <td>12/1/2010 8:26</td>\n",
              "      <td>2.55</td>\n",
              "      <td>17850.0</td>\n",
              "      <td>United Kingdom</td>\n",
              "      <td>15.30</td>\n",
              "    </tr>\n",
              "    <tr>\n",
              "      <th>2010-12-01 08:26:00</th>\n",
              "      <td>536365</td>\n",
              "      <td>71053</td>\n",
              "      <td>WHITE METAL LANTERN</td>\n",
              "      <td>6</td>\n",
              "      <td>12/1/2010 8:26</td>\n",
              "      <td>3.39</td>\n",
              "      <td>17850.0</td>\n",
              "      <td>United Kingdom</td>\n",
              "      <td>20.34</td>\n",
              "    </tr>\n",
              "    <tr>\n",
              "      <th>2010-12-01 08:26:00</th>\n",
              "      <td>536365</td>\n",
              "      <td>84406B</td>\n",
              "      <td>CREAM CUPID HEARTS COAT HANGER</td>\n",
              "      <td>8</td>\n",
              "      <td>12/1/2010 8:26</td>\n",
              "      <td>2.75</td>\n",
              "      <td>17850.0</td>\n",
              "      <td>United Kingdom</td>\n",
              "      <td>22.00</td>\n",
              "    </tr>\n",
              "    <tr>\n",
              "      <th>2010-12-01 08:26:00</th>\n",
              "      <td>536365</td>\n",
              "      <td>84029G</td>\n",
              "      <td>KNITTED UNION FLAG HOT WATER BOTTLE</td>\n",
              "      <td>6</td>\n",
              "      <td>12/1/2010 8:26</td>\n",
              "      <td>3.39</td>\n",
              "      <td>17850.0</td>\n",
              "      <td>United Kingdom</td>\n",
              "      <td>20.34</td>\n",
              "    </tr>\n",
              "    <tr>\n",
              "      <th>2010-12-01 08:26:00</th>\n",
              "      <td>536365</td>\n",
              "      <td>84029E</td>\n",
              "      <td>RED WOOLLY HOTTIE WHITE HEART.</td>\n",
              "      <td>6</td>\n",
              "      <td>12/1/2010 8:26</td>\n",
              "      <td>3.39</td>\n",
              "      <td>17850.0</td>\n",
              "      <td>United Kingdom</td>\n",
              "      <td>20.34</td>\n",
              "    </tr>\n",
              "  </tbody>\n",
              "</table>\n",
              "</div>"
            ],
            "text/plain": [
              "                    InvoiceNo StockCode  ...         Country  TotalCost\n",
              "InvoiceDate                              ...                           \n",
              "2010-12-01 08:26:00    536365    85123A  ...  United Kingdom      15.30\n",
              "2010-12-01 08:26:00    536365     71053  ...  United Kingdom      20.34\n",
              "2010-12-01 08:26:00    536365    84406B  ...  United Kingdom      22.00\n",
              "2010-12-01 08:26:00    536365    84029G  ...  United Kingdom      20.34\n",
              "2010-12-01 08:26:00    536365    84029E  ...  United Kingdom      20.34\n",
              "\n",
              "[5 rows x 9 columns]"
            ]
          },
          "metadata": {
            "tags": []
          },
          "execution_count": 4
        }
      ]
    },
    {
      "cell_type": "code",
      "metadata": {
        "id": "VOXLGbIRUL12",
        "colab": {
          "base_uri": "https://localhost:8080/",
          "height": 969
        },
        "outputId": "7b1c67ac-774a-4277-f2fb-471fb9243eae"
      },
      "source": [
        "data.TotalCost.resample('W').sum()"
      ],
      "execution_count": null,
      "outputs": [
        {
          "output_type": "execute_result",
          "data": {
            "text/plain": [
              "InvoiceDate\n",
              "2010-12-05    181847.250\n",
              "2010-12-12    270287.030\n",
              "2010-12-19    207052.170\n",
              "2010-12-26     89770.570\n",
              "2011-01-02         0.000\n",
              "2011-01-09     93720.930\n",
              "2011-01-16    190994.960\n",
              "2011-01-23    133782.910\n",
              "2011-01-30    119136.810\n",
              "2011-02-06    123642.180\n",
              "2011-02-13    102296.930\n",
              "2011-02-20    139664.580\n",
              "2011-02-27    133069.930\n",
              "2011-03-06    130435.560\n",
              "2011-03-13    129180.960\n",
              "2011-03-20    145262.610\n",
              "2011-03-27    147909.800\n",
              "2011-04-03    183501.710\n",
              "2011-04-10    121598.220\n",
              "2011-04-17    147459.771\n",
              "2011-04-24    115461.250\n",
              "2011-05-01     84382.660\n",
              "2011-05-08    130354.310\n",
              "2011-05-15    205445.230\n",
              "2011-05-22    198031.530\n",
              "2011-05-29    160569.820\n",
              "2011-06-05    116932.520\n",
              "2011-06-12    177916.870\n",
              "2011-06-19    184016.500\n",
              "2011-06-26    117086.710\n",
              "2011-07-03    136287.440\n",
              "2011-07-10    174659.170\n",
              "2011-07-17    124163.170\n",
              "2011-07-24    182513.960\n",
              "2011-07-31    180814.851\n",
              "2011-08-07    153176.200\n",
              "2011-08-14    161417.020\n",
              "2011-08-21    170724.890\n",
              "2011-08-28    149603.500\n",
              "2011-09-04    143819.060\n",
              "2011-09-11    190513.470\n",
              "2011-09-18    211722.620\n",
              "2011-09-25    326156.721\n",
              "2011-10-02    206858.231\n",
              "2011-10-09    302466.590\n",
              "2011-10-16    205734.640\n",
              "2011-10-23    263762.220\n",
              "2011-10-30    238642.190\n",
              "2011-11-06    288266.770\n",
              "2011-11-13    346560.140\n",
              "2011-11-20    380407.570\n",
              "2011-11-27    308185.020\n",
              "2011-12-04    319874.990\n",
              "2011-12-11    300605.220\n",
              "Freq: W-SUN, Name: TotalCost, dtype: float64"
            ]
          },
          "metadata": {
            "tags": []
          },
          "execution_count": 5
        }
      ]
    },
    {
      "cell_type": "markdown",
      "metadata": {
        "id": "XOVd5J4zjKp8"
      },
      "source": [
        "### Задача 2\n",
        "\n",
        "Посчитайте скользящее недельное среднее суммы ежедневных заказов. Для этого\n",
        "* сделайте resampling в ежедневные данные,\n",
        "* посчитайте скользящее среднее за 7 дней по столбцу TotalCost.\n",
        "\n",
        "*Для решения второй части данной задачи потребуется самостоятельно найти способ определения скользящего среднего.*"
      ]
    },
    {
      "cell_type": "markdown",
      "metadata": {
        "id": "1fI0ZG_97ejw"
      },
      "source": [
        "**Решение:**"
      ]
    },
    {
      "cell_type": "code",
      "metadata": {
        "id": "YphTYdv9gYoU",
        "colab": {
          "base_uri": "https://localhost:8080/",
          "height": 238
        },
        "outputId": "66f36c93-d1a4-4bcb-d121-b40798bbcbdc"
      },
      "source": [
        "data.TotalCost.resample('d').sum().rolling('7d').mean() # Делаем ресепл в ежедневные данные ('d') и считаем скользящее среднее ('7d')"
      ],
      "execution_count": null,
      "outputs": [
        {
          "output_type": "execute_result",
          "data": {
            "text/plain": [
              "InvoiceDate\n",
              "2010-12-01    58635.560000\n",
              "2010-12-02    52421.420000\n",
              "2010-12-03    50154.433333\n",
              "2010-12-04    37615.825000\n",
              "2010-12-05    36369.450000\n",
              "                  ...     \n",
              "2011-12-05    46026.327143\n",
              "2011-12-06    43456.208571\n",
              "2011-12-07    45731.242857\n",
              "2011-12-08    50017.932857\n",
              "2011-12-09    46453.000000\n",
              "Freq: D, Name: TotalCost, Length: 374, dtype: float64"
            ]
          },
          "metadata": {
            "tags": []
          },
          "execution_count": 6
        }
      ]
    },
    {
      "cell_type": "markdown",
      "metadata": {
        "id": "XS44TRvGjKp9"
      },
      "source": [
        "### Задача 3. GroupBy\n",
        "\n",
        "Посчитайте общую стоимость заказов на ежемесячной основе в разбивке по странам.\n"
      ]
    },
    {
      "cell_type": "markdown",
      "metadata": {
        "id": "xo5lhNKG7e94"
      },
      "source": [
        "**Решение:**"
      ]
    },
    {
      "cell_type": "code",
      "metadata": {
        "id": "8hud9NpJgYQS",
        "colab": {
          "base_uri": "https://localhost:8080/",
          "height": 391
        },
        "outputId": "1e6c3042-7394-4d9b-a93d-46e143d325bb"
      },
      "source": [
        "new_df = data.groupby(['Country']).TotalCost.resample('M').sum() # Группируем таблицу по странам и делаем ресемпл по месяцам\n",
        "new_df.head(20) # Выводим первые 20 строк"
      ],
      "execution_count": null,
      "outputs": [
        {
          "output_type": "execute_result",
          "data": {
            "text/plain": [
              "Country    InvoiceDate\n",
              "Australia  2010-12-31      1005.10\n",
              "           2011-01-31      9017.71\n",
              "           2011-02-28     14627.47\n",
              "           2011-03-31     17055.29\n",
              "           2011-04-30       333.40\n",
              "           2011-05-31     13628.51\n",
              "           2011-06-30     25164.77\n",
              "           2011-07-31      4767.57\n",
              "           2011-08-31     22489.20\n",
              "           2011-09-30      5031.73\n",
              "           2011-10-31     17150.53\n",
              "           2011-11-30      6805.99\n",
              "Austria    2010-12-31       257.04\n",
              "           2011-01-31         0.00\n",
              "           2011-02-28       518.36\n",
              "           2011-03-31      1708.12\n",
              "           2011-04-30       680.78\n",
              "           2011-05-31      1249.43\n",
              "           2011-06-30       -24.20\n",
              "           2011-07-31      1191.95\n",
              "Name: TotalCost, dtype: float64"
            ]
          },
          "metadata": {
            "tags": []
          },
          "execution_count": 7
        }
      ]
    },
    {
      "cell_type": "markdown",
      "metadata": {
        "id": "8cSn-5OVjKp_"
      },
      "source": [
        "### Задача 4. JOIN\n",
        "\n",
        "* Подгрузите данные, содержащие информацию о номерах карт лояльности пользователей (card_data.csv).\n",
        "* Назовите ее cards.\n",
        "* Сделайте Left Join исходной таблицы (которая получилась после задачи с datetime индексом) и таблицы cards.\n",
        "* Если будет переполнение памяти, попробуйте взять не все значения таблицы, а, например, первые 100 с помощью соответствующего метода iloc."
      ]
    },
    {
      "cell_type": "markdown",
      "metadata": {
        "id": "cNRL1aFH7fS-"
      },
      "source": [
        "**Решение:**"
      ]
    },
    {
      "cell_type": "code",
      "metadata": {
        "id": "ECXMLZ85lWsN",
        "colab": {
          "base_uri": "https://localhost:8080/",
          "height": 204
        },
        "outputId": "0e2cad51-23f0-4f24-e1f3-a2e3d1880a9f"
      },
      "source": [
        "cards = pd.read_csv('/content/drive/My Drive/Базы/card_data.csv', encoding ='cp1250') # Загружаем файл card_data.csv\n",
        "cards.head() # Выводим первые 5 строк"
      ],
      "execution_count": null,
      "outputs": [
        {
          "output_type": "execute_result",
          "data": {
            "text/html": [
              "<div>\n",
              "<style scoped>\n",
              "    .dataframe tbody tr th:only-of-type {\n",
              "        vertical-align: middle;\n",
              "    }\n",
              "\n",
              "    .dataframe tbody tr th {\n",
              "        vertical-align: top;\n",
              "    }\n",
              "\n",
              "    .dataframe thead th {\n",
              "        text-align: right;\n",
              "    }\n",
              "</style>\n",
              "<table border=\"1\" class=\"dataframe\">\n",
              "  <thead>\n",
              "    <tr style=\"text-align: right;\">\n",
              "      <th></th>\n",
              "      <th>CustomerID</th>\n",
              "      <th>TransactionNum</th>\n",
              "    </tr>\n",
              "  </thead>\n",
              "  <tbody>\n",
              "    <tr>\n",
              "      <th>0</th>\n",
              "      <td>17850.0</td>\n",
              "      <td>127</td>\n",
              "    </tr>\n",
              "    <tr>\n",
              "      <th>1</th>\n",
              "      <td>17850.0</td>\n",
              "      <td>414</td>\n",
              "    </tr>\n",
              "    <tr>\n",
              "      <th>2</th>\n",
              "      <td>17850.0</td>\n",
              "      <td>296</td>\n",
              "    </tr>\n",
              "    <tr>\n",
              "      <th>3</th>\n",
              "      <td>17850.0</td>\n",
              "      <td>409</td>\n",
              "    </tr>\n",
              "    <tr>\n",
              "      <th>4</th>\n",
              "      <td>17850.0</td>\n",
              "      <td>309</td>\n",
              "    </tr>\n",
              "  </tbody>\n",
              "</table>\n",
              "</div>"
            ],
            "text/plain": [
              "   CustomerID  TransactionNum\n",
              "0     17850.0             127\n",
              "1     17850.0             414\n",
              "2     17850.0             296\n",
              "3     17850.0             409\n",
              "4     17850.0             309"
            ]
          },
          "metadata": {
            "tags": []
          },
          "execution_count": 8
        }
      ]
    },
    {
      "cell_type": "code",
      "metadata": {
        "id": "uMaiOpIo2NRz"
      },
      "source": [
        "cards = cards[::100]"
      ],
      "execution_count": null,
      "outputs": []
    },
    {
      "cell_type": "code",
      "metadata": {
        "id": "bTGuBS4gx3cV",
        "colab": {
          "base_uri": "https://localhost:8080/",
          "height": 235
        },
        "outputId": "822c91c8-6061-4cae-efb0-cb061cd527e8"
      },
      "source": [
        "data = pd.read_csv('/content/drive/My Drive/Базы/data.csv', encoding='cp1250') # Загружаем данные из файла data.csv\n",
        "data.index = pd.to_datetime(data.InvoiceDate) # Преобразуем колонку InvoiceDate к типу DateTime\n",
        "data.drop('InvoiceDate', axis=1, inplace=True) # Удаляем столбец InvoiceDate\n",
        "data.head()"
      ],
      "execution_count": null,
      "outputs": [
        {
          "output_type": "execute_result",
          "data": {
            "text/html": [
              "<div>\n",
              "<style scoped>\n",
              "    .dataframe tbody tr th:only-of-type {\n",
              "        vertical-align: middle;\n",
              "    }\n",
              "\n",
              "    .dataframe tbody tr th {\n",
              "        vertical-align: top;\n",
              "    }\n",
              "\n",
              "    .dataframe thead th {\n",
              "        text-align: right;\n",
              "    }\n",
              "</style>\n",
              "<table border=\"1\" class=\"dataframe\">\n",
              "  <thead>\n",
              "    <tr style=\"text-align: right;\">\n",
              "      <th></th>\n",
              "      <th>InvoiceNo</th>\n",
              "      <th>StockCode</th>\n",
              "      <th>Description</th>\n",
              "      <th>Quantity</th>\n",
              "      <th>UnitPrice</th>\n",
              "      <th>CustomerID</th>\n",
              "      <th>Country</th>\n",
              "    </tr>\n",
              "    <tr>\n",
              "      <th>InvoiceDate</th>\n",
              "      <th></th>\n",
              "      <th></th>\n",
              "      <th></th>\n",
              "      <th></th>\n",
              "      <th></th>\n",
              "      <th></th>\n",
              "      <th></th>\n",
              "    </tr>\n",
              "  </thead>\n",
              "  <tbody>\n",
              "    <tr>\n",
              "      <th>2010-12-01 08:26:00</th>\n",
              "      <td>536365</td>\n",
              "      <td>85123A</td>\n",
              "      <td>WHITE HANGING HEART T-LIGHT HOLDER</td>\n",
              "      <td>6</td>\n",
              "      <td>2.55</td>\n",
              "      <td>17850.0</td>\n",
              "      <td>United Kingdom</td>\n",
              "    </tr>\n",
              "    <tr>\n",
              "      <th>2010-12-01 08:26:00</th>\n",
              "      <td>536365</td>\n",
              "      <td>71053</td>\n",
              "      <td>WHITE METAL LANTERN</td>\n",
              "      <td>6</td>\n",
              "      <td>3.39</td>\n",
              "      <td>17850.0</td>\n",
              "      <td>United Kingdom</td>\n",
              "    </tr>\n",
              "    <tr>\n",
              "      <th>2010-12-01 08:26:00</th>\n",
              "      <td>536365</td>\n",
              "      <td>84406B</td>\n",
              "      <td>CREAM CUPID HEARTS COAT HANGER</td>\n",
              "      <td>8</td>\n",
              "      <td>2.75</td>\n",
              "      <td>17850.0</td>\n",
              "      <td>United Kingdom</td>\n",
              "    </tr>\n",
              "    <tr>\n",
              "      <th>2010-12-01 08:26:00</th>\n",
              "      <td>536365</td>\n",
              "      <td>84029G</td>\n",
              "      <td>KNITTED UNION FLAG HOT WATER BOTTLE</td>\n",
              "      <td>6</td>\n",
              "      <td>3.39</td>\n",
              "      <td>17850.0</td>\n",
              "      <td>United Kingdom</td>\n",
              "    </tr>\n",
              "    <tr>\n",
              "      <th>2010-12-01 08:26:00</th>\n",
              "      <td>536365</td>\n",
              "      <td>84029E</td>\n",
              "      <td>RED WOOLLY HOTTIE WHITE HEART.</td>\n",
              "      <td>6</td>\n",
              "      <td>3.39</td>\n",
              "      <td>17850.0</td>\n",
              "      <td>United Kingdom</td>\n",
              "    </tr>\n",
              "  </tbody>\n",
              "</table>\n",
              "</div>"
            ],
            "text/plain": [
              "                    InvoiceNo StockCode  ... CustomerID         Country\n",
              "InvoiceDate                              ...                           \n",
              "2010-12-01 08:26:00    536365    85123A  ...    17850.0  United Kingdom\n",
              "2010-12-01 08:26:00    536365     71053  ...    17850.0  United Kingdom\n",
              "2010-12-01 08:26:00    536365    84406B  ...    17850.0  United Kingdom\n",
              "2010-12-01 08:26:00    536365    84029G  ...    17850.0  United Kingdom\n",
              "2010-12-01 08:26:00    536365    84029E  ...    17850.0  United Kingdom\n",
              "\n",
              "[5 rows x 7 columns]"
            ]
          },
          "metadata": {
            "tags": []
          },
          "execution_count": 10
        }
      ]
    },
    {
      "cell_type": "code",
      "metadata": {
        "id": "z-t2m4AA2Xjc"
      },
      "source": [
        "data = data[::100]"
      ],
      "execution_count": null,
      "outputs": []
    },
    {
      "cell_type": "code",
      "metadata": {
        "id": "tyGI58N5yxQL"
      },
      "source": [
        "new_data = data.merge (cards, how='left', on='CustomerID') # Делаем join"
      ],
      "execution_count": null,
      "outputs": []
    },
    {
      "cell_type": "code",
      "metadata": {
        "id": "C6seSi82y7UM",
        "colab": {
          "base_uri": "https://localhost:8080/",
          "height": 419
        },
        "outputId": "ecb8afa8-1f77-460c-bec0-12efd4e447e0"
      },
      "source": [
        "new_data"
      ],
      "execution_count": null,
      "outputs": [
        {
          "output_type": "execute_result",
          "data": {
            "text/html": [
              "<div>\n",
              "<style scoped>\n",
              "    .dataframe tbody tr th:only-of-type {\n",
              "        vertical-align: middle;\n",
              "    }\n",
              "\n",
              "    .dataframe tbody tr th {\n",
              "        vertical-align: top;\n",
              "    }\n",
              "\n",
              "    .dataframe thead th {\n",
              "        text-align: right;\n",
              "    }\n",
              "</style>\n",
              "<table border=\"1\" class=\"dataframe\">\n",
              "  <thead>\n",
              "    <tr style=\"text-align: right;\">\n",
              "      <th></th>\n",
              "      <th>InvoiceNo</th>\n",
              "      <th>StockCode</th>\n",
              "      <th>Description</th>\n",
              "      <th>Quantity</th>\n",
              "      <th>UnitPrice</th>\n",
              "      <th>CustomerID</th>\n",
              "      <th>Country</th>\n",
              "      <th>TransactionNum</th>\n",
              "    </tr>\n",
              "  </thead>\n",
              "  <tbody>\n",
              "    <tr>\n",
              "      <th>0</th>\n",
              "      <td>536365</td>\n",
              "      <td>85123A</td>\n",
              "      <td>WHITE HANGING HEART T-LIGHT HOLDER</td>\n",
              "      <td>6</td>\n",
              "      <td>2.55</td>\n",
              "      <td>17850.0</td>\n",
              "      <td>United Kingdom</td>\n",
              "      <td>127</td>\n",
              "    </tr>\n",
              "    <tr>\n",
              "      <th>1</th>\n",
              "      <td>536365</td>\n",
              "      <td>85123A</td>\n",
              "      <td>WHITE HANGING HEART T-LIGHT HOLDER</td>\n",
              "      <td>6</td>\n",
              "      <td>2.55</td>\n",
              "      <td>17850.0</td>\n",
              "      <td>United Kingdom</td>\n",
              "      <td>22</td>\n",
              "    </tr>\n",
              "    <tr>\n",
              "      <th>2</th>\n",
              "      <td>536365</td>\n",
              "      <td>85123A</td>\n",
              "      <td>WHITE HANGING HEART T-LIGHT HOLDER</td>\n",
              "      <td>6</td>\n",
              "      <td>2.55</td>\n",
              "      <td>17850.0</td>\n",
              "      <td>United Kingdom</td>\n",
              "      <td>226</td>\n",
              "    </tr>\n",
              "    <tr>\n",
              "      <th>3</th>\n",
              "      <td>536365</td>\n",
              "      <td>85123A</td>\n",
              "      <td>WHITE HANGING HEART T-LIGHT HOLDER</td>\n",
              "      <td>6</td>\n",
              "      <td>2.55</td>\n",
              "      <td>17850.0</td>\n",
              "      <td>United Kingdom</td>\n",
              "      <td>323</td>\n",
              "    </tr>\n",
              "    <tr>\n",
              "      <th>4</th>\n",
              "      <td>536378</td>\n",
              "      <td>84519A</td>\n",
              "      <td>TOMATO CHARLIE+LOLA COASTER SET</td>\n",
              "      <td>6</td>\n",
              "      <td>2.95</td>\n",
              "      <td>14688.0</td>\n",
              "      <td>United Kingdom</td>\n",
              "      <td>248</td>\n",
              "    </tr>\n",
              "    <tr>\n",
              "      <th>...</th>\n",
              "      <td>...</td>\n",
              "      <td>...</td>\n",
              "      <td>...</td>\n",
              "      <td>...</td>\n",
              "      <td>...</td>\n",
              "      <td>...</td>\n",
              "      <td>...</td>\n",
              "      <td>...</td>\n",
              "    </tr>\n",
              "    <tr>\n",
              "      <th>1868059</th>\n",
              "      <td>581538</td>\n",
              "      <td>21355</td>\n",
              "      <td>TOAST ITS - I LOVE YOU</td>\n",
              "      <td>1</td>\n",
              "      <td>1.25</td>\n",
              "      <td>14446.0</td>\n",
              "      <td>United Kingdom</td>\n",
              "      <td>117</td>\n",
              "    </tr>\n",
              "    <tr>\n",
              "      <th>1868060</th>\n",
              "      <td>581538</td>\n",
              "      <td>21355</td>\n",
              "      <td>TOAST ITS - I LOVE YOU</td>\n",
              "      <td>1</td>\n",
              "      <td>1.25</td>\n",
              "      <td>14446.0</td>\n",
              "      <td>United Kingdom</td>\n",
              "      <td>288</td>\n",
              "    </tr>\n",
              "    <tr>\n",
              "      <th>1868061</th>\n",
              "      <td>581538</td>\n",
              "      <td>21355</td>\n",
              "      <td>TOAST ITS - I LOVE YOU</td>\n",
              "      <td>1</td>\n",
              "      <td>1.25</td>\n",
              "      <td>14446.0</td>\n",
              "      <td>United Kingdom</td>\n",
              "      <td>171</td>\n",
              "    </tr>\n",
              "    <tr>\n",
              "      <th>1868062</th>\n",
              "      <td>581578</td>\n",
              "      <td>23298</td>\n",
              "      <td>SPOTTY BUNTING</td>\n",
              "      <td>9</td>\n",
              "      <td>4.95</td>\n",
              "      <td>12713.0</td>\n",
              "      <td>Germany</td>\n",
              "      <td>232</td>\n",
              "    </tr>\n",
              "    <tr>\n",
              "      <th>1868063</th>\n",
              "      <td>581587</td>\n",
              "      <td>22730</td>\n",
              "      <td>ALARM CLOCK BAKELIKE IVORY</td>\n",
              "      <td>4</td>\n",
              "      <td>3.75</td>\n",
              "      <td>12680.0</td>\n",
              "      <td>France</td>\n",
              "      <td>149</td>\n",
              "    </tr>\n",
              "  </tbody>\n",
              "</table>\n",
              "<p>1868064 rows × 8 columns</p>\n",
              "</div>"
            ],
            "text/plain": [
              "        InvoiceNo StockCode  ...         Country  TransactionNum\n",
              "0          536365    85123A  ...  United Kingdom             127\n",
              "1          536365    85123A  ...  United Kingdom              22\n",
              "2          536365    85123A  ...  United Kingdom             226\n",
              "3          536365    85123A  ...  United Kingdom             323\n",
              "4          536378    84519A  ...  United Kingdom             248\n",
              "...           ...       ...  ...             ...             ...\n",
              "1868059    581538     21355  ...  United Kingdom             117\n",
              "1868060    581538     21355  ...  United Kingdom             288\n",
              "1868061    581538     21355  ...  United Kingdom             171\n",
              "1868062    581578     23298  ...         Germany             232\n",
              "1868063    581587     22730  ...          France             149\n",
              "\n",
              "[1868064 rows x 8 columns]"
            ]
          },
          "metadata": {
            "tags": []
          },
          "execution_count": 13
        }
      ]
    },
    {
      "cell_type": "markdown",
      "metadata": {
        "id": "R_jqkxQm5Nrk"
      },
      "source": [
        "### Задача 5"
      ]
    },
    {
      "cell_type": "markdown",
      "metadata": {
        "id": "sriqito34pbh"
      },
      "source": [
        "Выведите квантили 0.4 и 0.6 по численным данным новой таблицы там, где это имеет смысл. "
      ]
    },
    {
      "cell_type": "markdown",
      "metadata": {
        "id": "g3c0_pOQ7gIE"
      },
      "source": [
        "**Решение:**"
      ]
    },
    {
      "cell_type": "code",
      "metadata": {
        "id": "XzoduG6E3WOn",
        "colab": {
          "base_uri": "https://localhost:8080/",
          "height": 111
        },
        "outputId": "5564fbb5-fd19-4204-b41d-4ccefd2bd9c2"
      },
      "source": [
        "new_data[['UnitPrice', 'TransactionNum', 'Quantity']].quantile([0.4, 0.6]) # Выведем квантили для датафрейма dataTraining"
      ],
      "execution_count": null,
      "outputs": [
        {
          "output_type": "execute_result",
          "data": {
            "text/html": [
              "<div>\n",
              "<style scoped>\n",
              "    .dataframe tbody tr th:only-of-type {\n",
              "        vertical-align: middle;\n",
              "    }\n",
              "\n",
              "    .dataframe tbody tr th {\n",
              "        vertical-align: top;\n",
              "    }\n",
              "\n",
              "    .dataframe thead th {\n",
              "        text-align: right;\n",
              "    }\n",
              "</style>\n",
              "<table border=\"1\" class=\"dataframe\">\n",
              "  <thead>\n",
              "    <tr style=\"text-align: right;\">\n",
              "      <th></th>\n",
              "      <th>UnitPrice</th>\n",
              "      <th>TransactionNum</th>\n",
              "      <th>Quantity</th>\n",
              "    </tr>\n",
              "  </thead>\n",
              "  <tbody>\n",
              "    <tr>\n",
              "      <th>0.4</th>\n",
              "      <td>2.46</td>\n",
              "      <td>189.0</td>\n",
              "      <td>1.0</td>\n",
              "    </tr>\n",
              "    <tr>\n",
              "      <th>0.6</th>\n",
              "      <td>4.13</td>\n",
              "      <td>298.0</td>\n",
              "      <td>2.0</td>\n",
              "    </tr>\n",
              "  </tbody>\n",
              "</table>\n",
              "</div>"
            ],
            "text/plain": [
              "     UnitPrice  TransactionNum  Quantity\n",
              "0.4       2.46           189.0       1.0\n",
              "0.6       4.13           298.0       2.0"
            ]
          },
          "metadata": {
            "tags": []
          },
          "execution_count": 15
        }
      ]
    },
    {
      "cell_type": "code",
      "metadata": {
        "id": "Yi6rA4RiLb-u"
      },
      "source": [
        ""
      ],
      "execution_count": null,
      "outputs": []
    }
  ]
}