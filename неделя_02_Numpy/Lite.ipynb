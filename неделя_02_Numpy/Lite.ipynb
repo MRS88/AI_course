{
  "nbformat": 4,
  "nbformat_minor": 0,
  "metadata": {
    "colab": {
      "name": "Копия блокнота \"Numpy. Домашнее задание. Light. Университет Искусственного Интеллекта.ipynb\"",
      "provenance": [],
      "collapsed_sections": [],
      "include_colab_link": true
    },
    "kernelspec": {
      "name": "python3",
      "display_name": "Python 3"
    }
  },
  "cells": [
    {
      "cell_type": "markdown",
      "metadata": {
        "id": "view-in-github",
        "colab_type": "text"
      },
      "source": [
        "<a href=\"https://colab.research.google.com/github/ShutTheFuckUpDonny/AI_course/blob/master/%D0%BD%D0%B5%D0%B4%D0%B5%D0%BB%D1%8F_02_Numpy/Lite.ipynb\" target=\"_parent\"><img src=\"https://colab.research.google.com/assets/colab-badge.svg\" alt=\"Open In Colab\"/></a>"
      ]
    },
    {
      "cell_type": "markdown",
      "metadata": {
        "id": "x3viGq298SYv"
      },
      "source": [
        "### Задача 1\n",
        "\n",
        "1. Подгрузите файл **train_vector_1.csv** с помощью функции **np.loadtxt**. \n",
        "\n",
        "2. Назовите подгруженный массив my_array.\n",
        "\n",
        "3. Убедитесь, что подгруженный массив имеет тип np.ndarray (выведите тип переменной my_array).\n",
        "\n",
        "Ссылка на файл: https://drive.google.com/open?id=1ngnrhmoMInequrA6JyAe90lEPhcbi0iH"
      ]
    },
    {
      "cell_type": "markdown",
      "metadata": {
        "id": "Aa_hR7Du_kBj"
      },
      "source": [
        "**Решение:**"
      ]
    },
    {
      "cell_type": "code",
      "metadata": {
        "id": "yHrMnJAr_e7c",
        "colab": {
          "base_uri": "https://localhost:8080/",
          "height": 51
        },
        "outputId": "88451a00-80f8-43ef-b137-a7977e86aa3e"
      },
      "source": [
        "import numpy as np\n",
        "\n",
        "my_array = np.loadtxt('train_vector_1.csv')\n",
        "print(type(my_array))\n",
        "print(my_array[:10])"
      ],
      "execution_count": null,
      "outputs": [
        {
          "output_type": "stream",
          "text": [
            "<class 'numpy.ndarray'>\n",
            "[3.5 3.  3.2 3.1 3.6 3.9 3.4 3.4 2.9 3.1]\n"
          ],
          "name": "stdout"
        }
      ]
    },
    {
      "cell_type": "markdown",
      "metadata": {
        "id": "Sa06XNJq8SY4"
      },
      "source": [
        "### Задача 2\n",
        "\n",
        "Напишите код, который считает среднее значение всех элементов массива (без использования встроенных функций np.mean и т.д.). Для решения задачи воспользуйтесь циклом.\n",
        "* С помощью команды %%timeit отобразите время выполнения написанного кода.\n",
        "* Преобразуйте массив my_array в список (с помощью метода list()), сохраните его в переменной my_list.\n",
        "* В новой ячейке посчитайте среднее значение всех элементов списка (воспользуйтесь тем же самым кодом, что и для массива).\n",
        "* Командой %%timeit отобразите время выполнения и этой ячейки."
      ]
    },
    {
      "cell_type": "markdown",
      "metadata": {
        "id": "nqv1QPGNBc9s"
      },
      "source": [
        "**Решение:**"
      ]
    },
    {
      "cell_type": "code",
      "metadata": {
        "id": "iEPsnBqUBc9s"
      },
      "source": [
        "'''Использовал с одним знаком %, т.к. с двумя выполняет всю ячейку и выводит тыщу строк'''\n",
        "%timeit mean_arr = sum(my_array) / len(my_array)\n",
        "my_list = list(my_array)\n",
        "print(mean_arr)\n",
        "print(np.mean(my_array), 'проверка с помощью \"np.mean\"')\n"
      ],
      "execution_count": null,
      "outputs": []
    },
    {
      "cell_type": "code",
      "metadata": {
        "id": "acaDx1L5SudL"
      },
      "source": [
        "%timeit mean_list = sum(my_list) / len(my_list)\n",
        "print(mean_list)"
      ],
      "execution_count": null,
      "outputs": []
    },
    {
      "cell_type": "markdown",
      "metadata": {
        "id": "Z7JZ-m918SZA"
      },
      "source": [
        "### Задача 3\n",
        "\n",
        "Подгрузите файл **iris.csv** с помощью встроенной функции **np.loadtxt**. Назовите его my_2d_array. Напишите код, который считает сумму элементов массива по столбцам (для решения данной задачи воспользуйтесь разделом ноутбук \"Операции с двумерными массивами и встроенные методы\").\n",
        "\n"
      ]
    },
    {
      "cell_type": "code",
      "metadata": {
        "id": "G-Rk1MlfBdR6",
        "colab": {
          "base_uri": "https://localhost:8080/",
          "height": 34
        },
        "outputId": "faf055e7-49a5-492f-e087-2291c7381ffb"
      },
      "source": [
        "my_2d_array = np.loadtxt('iris.csv', delimiter=',', skiprows=1)\n",
        "print(my_2d_array.sum(axis=0))"
      ],
      "execution_count": null,
      "outputs": [
        {
          "output_type": "stream",
          "text": [
            "[11175.    876.5   458.6   563.7   179.9]\n"
          ],
          "name": "stdout"
        }
      ]
    },
    {
      "cell_type": "markdown",
      "metadata": {
        "id": "uPDf0WtwY31Q"
      },
      "source": [
        "# Новый раздел"
      ]
    },
    {
      "cell_type": "markdown",
      "metadata": {
        "id": "5lm0wgbRzVSA"
      },
      "source": [
        "### Задача 4 \n",
        "\n",
        "* Используя библиотеку numpy, создайте массив 3x3, значения которого находятся в диапазоне от 11 до 40 (раздел \"Семплирование из распределений\"). \n",
        "\n",
        "* Не используя цикл for,  выведите на экран список элементов, которые меньше 20 (раздел \"Индексация\").\n",
        "\n",
        "* Просуммируйте все элементы, не используя цикл for (раздел \"Встроенные методы\").\n"
      ]
    },
    {
      "cell_type": "markdown",
      "metadata": {
        "id": "TI2bXsVuBdm8"
      },
      "source": [
        "**Решение:**"
      ]
    },
    {
      "cell_type": "code",
      "metadata": {
        "id": "BRzqyQTtBdm_",
        "colab": {
          "base_uri": "https://localhost:8080/",
          "height": 85
        },
        "outputId": "1fc2104c-dae0-4e1e-f60c-fb17f01e71a7"
      },
      "source": [
        "import numpy as np\n",
        "\n",
        "my_arr = np.random.randint(11, 40, (3,3))\n",
        "print(my_arr) # убедиться, что есть элементы меньше 20\n",
        "my_arr = my_arr.reshape(9,) # изменяем в одномерный массив\n",
        "i = 0\n",
        "while i <= 8: # последний индекс в массиве\n",
        "  if my_arr[i] < 20:\n",
        "    print(my_arr[i], end=' ')\n",
        "  i += 1  \n"
      ],
      "execution_count": null,
      "outputs": [
        {
          "output_type": "stream",
          "text": [
            "[[14 29 26]\n",
            " [26 33 19]\n",
            " [30 16 12]]\n",
            "14 19 16 12 "
          ],
          "name": "stdout"
        }
      ]
    },
    {
      "cell_type": "markdown",
      "metadata": {
        "id": "4t6Yrs7Vj80p"
      },
      "source": [
        "### Задача 5\n",
        "\n",
        "* Создайте массив, который будет содержать списки с именем студента(str), его возрастом(int) и средней оценкой(float) (обратите внимание на пример с занятия со списком автомобильных регионов).\n",
        "* Отсортируйте такой массив (обратите внимание на параметр order метода sort()).\n",
        "* Замените значение, отвечающее за возраст, у всех студентов на одно и то же, например, 10. Отсортируйте такой массив. "
      ]
    },
    {
      "cell_type": "markdown",
      "metadata": {
        "id": "uk_J0S55Bd2e"
      },
      "source": [
        "**Решение:**"
      ]
    },
    {
      "cell_type": "code",
      "metadata": {
        "id": "f0_qzDy3Bd2f",
        "colab": {
          "base_uri": "https://localhost:8080/",
          "height": 136
        },
        "outputId": "95230664-6f58-4cfe-c31d-e32ed7e68289"
      },
      "source": [
        "import numpy as np\n",
        "\n",
        "stud_arr = np.array([('Sarah', 20, 4.4),\n",
        "                     ('Alex', 22, 4.5), \n",
        "                     ('Bob', 19, 4.7)], \n",
        "                    dtype = [('name', 'U10'), ('age', int), ('point', float)])\n",
        "\n",
        "print(np.sort(stud_arr, order='name'))\n",
        "print(np.sort(stud_arr, order='age'))\n",
        "print(np.sort(stud_arr, order='point'))\n",
        "print()\n",
        "''' Больше ничего не придумал, кроме как перебором'''\n",
        "new_arr = []\n",
        "for lst in stud_arr:\n",
        "  lst[1] = 10\n",
        "  new_arr.append(lst)\n",
        "\n",
        "new_arr = np.array(new_arr, \n",
        "                   dtype = [('name', 'U10'), ('age', int), ('point', float)])\n",
        "\n",
        "print(np.sort(new_arr, order='name'))\n",
        "print(np.sort(new_arr, order='age'))\n",
        "print(np.sort(new_arr, order='point'))\n",
        "  \n"
      ],
      "execution_count": null,
      "outputs": [
        {
          "output_type": "stream",
          "text": [
            "[('Alex', 22, 4.5) ('Bob', 19, 4.7) ('Sarah', 20, 4.4)]\n",
            "[('Bob', 19, 4.7) ('Sarah', 20, 4.4) ('Alex', 22, 4.5)]\n",
            "[('Sarah', 20, 4.4) ('Alex', 22, 4.5) ('Bob', 19, 4.7)]\n",
            "\n",
            "[('Alex', 10, 4.5) ('Bob', 10, 4.7) ('Sarah', 10, 4.4)]\n",
            "[('Alex', 10, 4.5) ('Bob', 10, 4.7) ('Sarah', 10, 4.4)]\n",
            "[('Sarah', 10, 4.4) ('Alex', 10, 4.5) ('Bob', 10, 4.7)]\n"
          ],
          "name": "stdout"
        }
      ]
    }
  ]
}