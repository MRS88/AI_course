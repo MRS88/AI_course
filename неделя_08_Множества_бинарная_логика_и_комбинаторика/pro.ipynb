{
  "nbformat": 4,
  "nbformat_minor": 0,
  "metadata": {
    "colab": {
      "name": "Копия блокнота \"ДЗ 8. pro\"",
      "provenance": [],
      "collapsed_sections": [],
      "include_colab_link": true
    },
    "kernelspec": {
      "name": "python3",
      "display_name": "Python 3"
    }
  },
  "cells": [
    {
      "cell_type": "markdown",
      "metadata": {
        "id": "view-in-github",
        "colab_type": "text"
      },
      "source": [
        "<a href=\"https://colab.research.google.com/github/MRS88/AI_course/blob/master/%D0%BD%D0%B5%D0%B4%D0%B5%D0%BB%D1%8F_08_%D0%9C%D0%BD%D0%BE%D0%B6%D0%B5%D1%81%D1%82%D0%B2%D0%B0_%D0%B1%D0%B8%D0%BD%D0%B0%D1%80%D0%BD%D0%B0%D1%8F_%D0%BB%D0%BE%D0%B3%D0%B8%D0%BA%D0%B0_%D0%B8_%D0%BA%D0%BE%D0%BC%D0%B1%D0%B8%D0%BD%D0%B0%D1%82%D0%BE%D1%80%D0%B8%D0%BA%D0%B0/pro.ipynb\" target=\"_parent\"><img src=\"https://colab.research.google.com/assets/colab-badge.svg\" alt=\"Open In Colab\"/></a>"
      ]
    },
    {
      "cell_type": "code",
      "metadata": {
        "id": "ft_aZI3JcEkv"
      },
      "source": [
        "def P(n): #(факторил)\n",
        "  f =1\n",
        "  for x in range(2,n+1):\n",
        "    f*=x\n",
        "  return f\n",
        "\n",
        "# Сочетание \n",
        "def C_n_m(n,m):\n",
        "  return P(n)/ (P(n-m)* P(m))\n",
        "\n",
        "# Размещение \n",
        "def A_(n,m):\n",
        "  return C_n_m(n,m) * P(m)\n",
        "\n",
        "# Перестановка с повторением\n",
        "def P_rep(n,m):\n",
        "  add = 1\n",
        "  for x in m:\n",
        "    add*=P(x)\n",
        "  return P(n)/ add\n",
        "\n",
        "# Сочетание с повторением\n",
        "def C_n_m_rep(n,m):\n",
        "  return P(n+m-1)/ (P(n-1)* P(m))\n",
        "\n",
        "# Размещение с повторением\n",
        "def A_rep(n,m):\n",
        "  return n**m\n",
        "\n",
        "\n"
      ],
      "execution_count": null,
      "outputs": []
    },
    {
      "cell_type": "markdown",
      "metadata": {
        "id": "3Mq5CACckeYC"
      },
      "source": [
        "# Комбинаторика"
      ]
    },
    {
      "cell_type": "markdown",
      "metadata": {
        "id": "zzwh_ja4yEaH"
      },
      "source": [
        "###Задача 1\n",
        "\n",
        "Сколько существует выигрышных комбинаций из двух карт при игре в 21 (Блекджек)? (выигрышными комбинациями считаются карта стоимостью 10 + туз)"
      ]
    },
    {
      "cell_type": "code",
      "metadata": {
        "id": "9P6rhPlpyd0b",
        "colab": {
          "base_uri": "https://localhost:8080/",
          "height": 34
        },
        "outputId": "7c2061a0-f360-4ec9-c04e-3534274cd492"
      },
      "source": [
        "# порядок карт не важен\n",
        "C_n_m(8,2)"
      ],
      "execution_count": null,
      "outputs": [
        {
          "output_type": "execute_result",
          "data": {
            "text/plain": [
              "28.0"
            ]
          },
          "metadata": {
            "tags": []
          },
          "execution_count": 2
        }
      ]
    },
    {
      "cell_type": "markdown",
      "metadata": {
        "id": "uFHRu7aOyEmw"
      },
      "source": [
        "###Задача 2\n",
        "\n",
        "У Олега дома живут пять котов.\n",
        "\n",
        "а) Сколькими способами можно усадить четырех котов по углам комнаты?\n",
        "б) Сколькими способами можно выпустить котов погулять?\n",
        "в) Сколькими способами Вася может взять на руки двух котов (одного на левую, другого – на правую)?"
      ]
    },
    {
      "cell_type": "code",
      "metadata": {
        "id": "b-xBfAImyeS4",
        "colab": {
          "base_uri": "https://localhost:8080/",
          "height": 70
        },
        "outputId": "db5a4276-c6f2-43f1-de55-ce2c7c7ce55c"
      },
      "source": [
        "cats = 5\n",
        "# а) порядок расстановки котов важен\n",
        "print(A_(cats, 4))\n",
        "# б) факториал\n",
        "print(P(cats))\n",
        "# в) порядок расстановки котов важен\n",
        "print(A_(cats, 2))"
      ],
      "execution_count": null,
      "outputs": [
        {
          "output_type": "stream",
          "text": [
            "120.0\n",
            "120\n",
            "20.0\n"
          ],
          "name": "stdout"
        }
      ]
    },
    {
      "cell_type": "markdown",
      "metadata": {
        "id": "y24DK-TByExK"
      },
      "source": [
        "###Задача 3\n",
        "\n",
        "В лифт двенадцатиэтажного дома сели три пассажира. Каждый независимо от других с одинаковой вероятностью может выйти на любом (начиная со второго) этаже. \n",
        "1) Сколькими способами пассажиры могут выйти на одном и том же этаже (порядок выхода не имеет значения)?\n",
        "2) Сколькими способами два человека могут выйти на одном этаже, а третий – на другом?\n",
        "3) Сколькими способами люди могут выйти на разных этажах?\n",
        "4) Сколькими способами пассажиры могут выйти из лифта?"
      ]
    },
    {
      "cell_type": "code",
      "metadata": {
        "id": "HE39EaxHye3D",
        "colab": {
          "base_uri": "https://localhost:8080/",
          "height": 87
        },
        "outputId": "60a2dd5b-da42-4cb6-eb73-ae28161cb0f4"
      },
      "source": [
        "# 1) \n",
        "print(C_n_m(11,3))\n",
        "# 2) выходят вдвоем - порядок важен\n",
        "print(A_(11, 2) * A_(10, 1))\n",
        "# 3) выходят по одному на разных этажах\n",
        "sep = A_(11,1) * A_(10,1) * A_(9,1)\n",
        "print(sep)\n",
        "# 4) выходят втроем \n",
        "A_(11,3) + A_(11,2) * A_(10,1) + sep"
      ],
      "execution_count": null,
      "outputs": [
        {
          "output_type": "stream",
          "text": [
            "165.0\n",
            "1100.0\n",
            "990.0\n"
          ],
          "name": "stdout"
        },
        {
          "output_type": "execute_result",
          "data": {
            "text/plain": [
              "3080.0"
            ]
          },
          "metadata": {
            "tags": []
          },
          "execution_count": 20
        }
      ]
    },
    {
      "cell_type": "markdown",
      "metadata": {
        "id": "i-lUADpzvTMq"
      },
      "source": [
        "###Задача 4\n",
        "\n",
        "В кошельке находятся  одно-, двух- и десятирублевые монеты. Сколькими способами можно извлечь 4 монеты из кошелька?"
      ]
    },
    {
      "cell_type": "code",
      "metadata": {
        "id": "3jrYYLIAv09O",
        "colab": {
          "base_uri": "https://localhost:8080/",
          "height": 34
        },
        "outputId": "010ee6e4-b739-459f-d5ee-b6a9d52835fa"
      },
      "source": [
        "C_n_m_rep(3,4)"
      ],
      "execution_count": null,
      "outputs": [
        {
          "output_type": "execute_result",
          "data": {
            "text/plain": [
              "15.0"
            ]
          },
          "metadata": {
            "tags": []
          },
          "execution_count": 2
        }
      ]
    },
    {
      "cell_type": "markdown",
      "metadata": {
        "id": "zYNvIKpOvTju"
      },
      "source": [
        "###Задача 5\n",
        "\n",
        "Сколько всего существует вариантов IPv4 адресов (https://ru.wikipedia.org/wiki/IPv4) ?"
      ]
    },
    {
      "cell_type": "code",
      "metadata": {
        "id": "yC6A35DKeAdJ",
        "colab": {
          "base_uri": "https://localhost:8080/",
          "height": 52
        },
        "outputId": "05c042d3-a25f-4bda-d5ef-ef10fc3c1958"
      },
      "source": [
        "print(256*256*256*256)\n",
        "# или\n",
        "C_n_m(256,1) * C_n_m(256,1) * C_n_m(256,1) * C_n_m(256,1)"
      ],
      "execution_count": null,
      "outputs": [
        {
          "output_type": "stream",
          "text": [
            "4294967296\n"
          ],
          "name": "stdout"
        },
        {
          "output_type": "execute_result",
          "data": {
            "text/plain": [
              "4294967296.0"
            ]
          },
          "metadata": {
            "tags": []
          },
          "execution_count": 7
        }
      ]
    },
    {
      "cell_type": "markdown",
      "metadata": {
        "id": "ozHQXry5n2IS"
      },
      "source": [
        "# Множества"
      ]
    },
    {
      "cell_type": "markdown",
      "metadata": {
        "id": "TgKIOnlDu8cd"
      },
      "source": [
        "###Задача 1\n",
        "\n",
        "В классе 36 учеников. Каждый из них пользуется хотя бы одним из видов городского транспорта: метро, автобусом и троллейбусом. Всеми тремя видами транспорта пользуются 5 учеников, метро и автобусом – 17 учеников, метро и троллейбусом – 15 учеников, троллейбусом и автобусом – 7 учеников.\n",
        "\n",
        "Сколько учеников пользуются только одним видом транспорта?\n"
      ]
    },
    {
      "cell_type": "code",
      "metadata": {
        "id": "I9KwweluvPWt",
        "colab": {
          "base_uri": "https://localhost:8080/",
          "height": 34
        },
        "outputId": "5c846fac-e460-456f-b737-552899b62688"
      },
      "source": [
        "36 - 5 - (17-5) - (15-5) - (7-5)"
      ],
      "execution_count": null,
      "outputs": [
        {
          "output_type": "execute_result",
          "data": {
            "text/plain": [
              "7"
            ]
          },
          "metadata": {
            "tags": []
          },
          "execution_count": 1
        }
      ]
    },
    {
      "cell_type": "markdown",
      "metadata": {
        "id": "yCl-xEaju8CI"
      },
      "source": [
        "###Задача 2\n",
        "\n",
        "Первую или вторую контрольную работу по математике успешно написали 33 студента, первую или третью – 32 студента, вторую или третью – 31 студент. Не менее двух контрольных работ выполнили 20 студентов.\n",
        "\n",
        "Сколько студентов успешно решили только одну контрольную работу?"
      ]
    },
    {
      "cell_type": "code",
      "metadata": {
        "id": "9KkSB0DOeAGh",
        "colab": {
          "base_uri": "https://localhost:8080/",
          "height": 34
        },
        "outputId": "72341771-64ef-4327-8471-d4efed482b0d"
      },
      "source": [
        "# из каждого подмножества убираем тех, кто решил менее 2 к/р,\n",
        "# суммируем их, чтобы получить общее количество студентов, решивших одну из \n",
        "# двух работ. Делим на 2\n",
        "((33-20) + (32-20) + (31-20)) / 2"
      ],
      "execution_count": null,
      "outputs": [
        {
          "output_type": "execute_result",
          "data": {
            "text/plain": [
              "18.0"
            ]
          },
          "metadata": {
            "tags": []
          },
          "execution_count": 4
        }
      ]
    },
    {
      "cell_type": "markdown",
      "metadata": {
        "id": "YKz-zW2jum28"
      },
      "source": [
        "###Задача 3\n",
        "  Дано множество А={1, 2, 4}, существует множество B. Такое, что B\\E = {3} и $A\\cap B$ = {1}. \n",
        "\n",
        "Найти множество B, если его мощность равна 2."
      ]
    },
    {
      "cell_type": "code",
      "metadata": {
        "id": "zTcBhC5Qu4nY",
        "colab": {
          "base_uri": "https://localhost:8080/",
          "height": 52
        },
        "outputId": "e88f4422-beef-4198-dc37-a1556c5745ae"
      },
      "source": [
        "A = {1, 2, 4}\n",
        "B = {1, 3}\n",
        "E = {1, 2}\n",
        "print(B.difference(E))\n",
        "print(A.intersection(B))"
      ],
      "execution_count": null,
      "outputs": [
        {
          "output_type": "stream",
          "text": [
            "{3}\n",
            "{1}\n"
          ],
          "name": "stdout"
        }
      ]
    },
    {
      "cell_type": "markdown",
      "metadata": {
        "id": "yt6v1lWTkCNw"
      },
      "source": [
        "Домашнее задание принято. В первом номере есть недочет по расчету вероятностей карт. Не буду снимать баллы, ведь возможно, Вам точно неизвестны правила игры.\r\n",
        "Во втором номере неправильно рассчитали сколько существует вариантов для прогулок котов. Олег может выпустить из пяти котов одного, может двух, трех, четырех или вообще всех. Значит, общий результат будет суммой всех этих вариантов. \r\n",
        "В задаче 3, когда мы счетаем число возможных вариантов выхода пассажиров на одном этаже, мы считаем не C_n_m(11,3), а C_n_m(11,1), потому что все выходят на одном этаже, не смотря на количество пассажиров. В последнем пункте фактически можно возвести в куб вероятность из первого пункта, потому что пассажиры выбирают где выйти независимо друг от друга. \r\n",
        "В задаче 4 проблемы с использованием функции. Здесь надо использовать не размещение с повторением, а сочетание с повторением, ведь порядок элементов неважен. С остальным проблем нет. "
      ]
    }
  ]
}