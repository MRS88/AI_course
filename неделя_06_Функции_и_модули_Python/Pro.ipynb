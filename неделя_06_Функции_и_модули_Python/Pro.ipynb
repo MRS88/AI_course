{
  "nbformat": 4,
  "nbformat_minor": 0,
  "metadata": {
    "colab": {
      "name": "Копия блокнота \"ДЗ Pro. Функции и модули.ipynb\"",
      "provenance": [],
      "collapsed_sections": [],
      "include_colab_link": true
    },
    "kernelspec": {
      "name": "python3",
      "display_name": "Python 3"
    }
  },
  "cells": [
    {
      "cell_type": "markdown",
      "metadata": {
        "id": "view-in-github",
        "colab_type": "text"
      },
      "source": [
        "<a href=\"https://colab.research.google.com/github/MRS88/AI_course/blob/master/%D0%BD%D0%B5%D0%B4%D0%B5%D0%BB%D1%8F_06_%D0%A4%D1%83%D0%BD%D0%BA%D1%86%D0%B8%D0%B8_%D0%B8_%D0%BC%D0%BE%D0%B4%D1%83%D0%BB%D0%B8_Python/Pro.ipynb\" target=\"_parent\"><img src=\"https://colab.research.google.com/assets/colab-badge.svg\" alt=\"Open In Colab\"/></a>"
      ]
    },
    {
      "cell_type": "markdown",
      "metadata": {
        "id": "NRUICBBzlLh2"
      },
      "source": [
        "# Домашнее задание \n",
        "Функции и модули\n",
        "# Pro"
      ]
    },
    {
      "cell_type": "markdown",
      "metadata": {
        "id": "MdkF-g7RaL-e"
      },
      "source": [
        "**Задача 1**\n",
        "\n",
        "Напишите функцию, которая принимает на вход строку и считает количество букв в  верхнем и нижнем регистрах. \n",
        "Пример: 'На берегу Амазонки сидел Фернандо'.\n",
        "Что должно быть на выходе?\n",
        "\n",
        "Количество букв в верхнем регистре: 3\n",
        "\n",
        "Количество букв в нижнем регистре: 26"
      ]
    },
    {
      "cell_type": "markdown",
      "metadata": {
        "id": "RY_Va0a0tISa"
      },
      "source": [
        "**Решение:**"
      ]
    },
    {
      "cell_type": "code",
      "metadata": {
        "id": "fI31-iKKZpfK",
        "colab": {
          "base_uri": "https://localhost:8080/",
          "height": 52
        },
        "outputId": "c729d1a3-0815-479f-f4cc-efb2cdf7f8e8"
      },
      "source": [
        "def count_cases(s):\n",
        "  upper = 0\n",
        "  lower = 0\n",
        "  for i in s:\n",
        "    if i.isupper(): upper += 1\n",
        "    if i.islower(): lower += 1\n",
        "  print('Количество букв в верхнем регистре: {}'.format(upper))\n",
        "  print('Количество букв в нижнем регистре: {}'.format(lower))\n",
        "\n",
        "count_cases('На берегу Амазонки сидел Фернандо')    \n",
        "\n"
      ],
      "execution_count": null,
      "outputs": [
        {
          "output_type": "stream",
          "text": [
            "Количество букв в верхнем регистре: 3\n",
            "Количество букв в нижнем регистре: 26\n"
          ],
          "name": "stdout"
        }
      ]
    },
    {
      "cell_type": "markdown",
      "metadata": {
        "id": "62u1ta9Dbd6I"
      },
      "source": [
        "**Задача 2**\n",
        "\n",
        "Напишите функцию, которая принимает на вход число и проверяет, если оно простое.\n",
        "\n",
        "Простые числа - те, которые делятся только на себя или на единицу. \n",
        "Пример: 3 - это простое число, т. к. нацело 3 делится только на 3 и на 1."
      ]
    },
    {
      "cell_type": "markdown",
      "metadata": {
        "id": "j7zRnbUqtPWz"
      },
      "source": [
        "**Решение:**"
      ]
    },
    {
      "cell_type": "code",
      "metadata": {
        "id": "WQrf7m37bbzg"
      },
      "source": [
        "def simple_num():\n",
        "  num = int(input())\n",
        "  for i in range(2, num):\n",
        "    if num % i == 0: return f'Число {num} - составное!'\n",
        "  return f'Число {num} - простое!'\n",
        "\n",
        "simple_num()  \n",
        "\n",
        "\n"
      ],
      "execution_count": null,
      "outputs": []
    },
    {
      "cell_type": "markdown",
      "metadata": {
        "id": "EB8q1Uqmb3EM"
      },
      "source": [
        "**Задача 3**\n",
        "\n",
        "Напишите функцию, которая проверяет, если число совершенное.\n",
        "Совершенным числом является положительное число, такое, что оно является суммой собственных положительных делителей (все, кроме самого числа). \n",
        "Пример: первым в числовом ряду совершенным числом является 6: 1+2+3=6\n",
        "Найдите такие числа в промежутке, который вы будете вводить с клавиатуры (два числа: начало и конец промежутка), например, промежуток от 5 до 150."
      ]
    },
    {
      "cell_type": "markdown",
      "metadata": {
        "id": "YBvBJLLhtRj2"
      },
      "source": [
        "**Решение:**"
      ]
    },
    {
      "cell_type": "code",
      "metadata": {
        "id": "nw5dUEKobkcK"
      },
      "source": [
        "def perfect_num():\n",
        "  start_num = int(input())\n",
        "  end_num = int(input())\n",
        "  for num in range(start_num, end_num):\n",
        "    div_nums = []\n",
        "    for i in range(1, num):\n",
        "      if num % i == 0:\n",
        "        div_nums.append(i)\n",
        "    if num == sum(div_nums):\n",
        "      print(num)          \n",
        "    \n",
        "perfect_num()"
      ],
      "execution_count": null,
      "outputs": []
    },
    {
      "cell_type": "markdown",
      "metadata": {
        "id": "C6wZrXBkcREG"
      },
      "source": [
        "**Задача 4**\n",
        "\n",
        "Напишите функцию, которая проверяет, если фраза является палиндромом. Пример такой фразы:\n",
        "\n",
        "а роза упала на лапу Азора. "
      ]
    },
    {
      "cell_type": "markdown",
      "metadata": {
        "id": "Zl_EcHNztTkD"
      },
      "source": [
        "**Решение:**"
      ]
    },
    {
      "cell_type": "code",
      "metadata": {
        "id": "A8L1JTAOcQnn",
        "colab": {
          "base_uri": "https://localhost:8080/"
        },
        "outputId": "7ac5cb02-0617-4d87-e682-c9cdd32aa992"
      },
      "source": [
        "def palindrom(s):\n",
        "  s = s.lower().replace(' ', '')\n",
        "  return s == s[::-1]\n",
        "\n",
        "print(palindrom('а роза упала на лапу Азора'))"
      ],
      "execution_count": null,
      "outputs": [
        {
          "output_type": "stream",
          "text": [
            "True\n"
          ],
          "name": "stdout"
        }
      ]
    },
    {
      "cell_type": "markdown",
      "metadata": {
        "id": "xj7JnUMCdKDa"
      },
      "source": [
        "**Задача 5**\n",
        " \n",
        "Посчитать значение $\\cos^2(\\pi/7)$ и $\\sin^2(\\pi/7)$, используя указанные функции из библиотеки ```math```, применив для этого **каждую** из конструкций импорта:\n",
        "```\n",
        "# 1. Импорт модуля или модулей целиком\n",
        "import имя_модуля\n",
        "import имя_модуля1, имя_модуля2\n",
        " \n",
        "# 2. Импорт модуля с присвоением псевдонима модулю\n",
        "import имя_модуля as новое_имя\n",
        " \n",
        "# 3. Импорт конкретного объекта из модуля\n",
        "from имя_модуля import имя_объекта\n",
        "from имя_модуля import имя_объекта1, имя_объекта2\n",
        " \n",
        "# 4. Импорт конкретного объекта из модуля с присвоением псевдонима объекту\n",
        "from имя_модуля import имя_объекта as псевдоним_объекта\n",
        " \n",
        "# 5. Импорт всех объектов из модуля\n",
        "from имя_модуля import *\n",
        "```\n",
        "Найдите сумму $\\cos^2(\\pi/7)$ и $\\sin^2(\\pi/7)$.\n"
      ]
    },
    {
      "cell_type": "markdown",
      "metadata": {
        "id": "yVx2wkb1tWV5"
      },
      "source": [
        "**Решение:**"
      ]
    },
    {
      "cell_type": "code",
      "metadata": {
        "id": "nYI9t8umdYur"
      },
      "source": [
        "import math\n",
        "math.cos(math.pi/7)**2 + math.sin(math.pi/7)**2"
      ],
      "execution_count": null,
      "outputs": []
    },
    {
      "cell_type": "code",
      "metadata": {
        "id": "cOo8qerNDUXT",
        "colab": {
          "base_uri": "https://localhost:8080/"
        },
        "outputId": "9807836f-1c79-443d-8875-f82379936074"
      },
      "source": [
        "import math as m\n",
        "m.cos(m.pi/7)**2 + m.sin(m.pi/7)**2"
      ],
      "execution_count": null,
      "outputs": [
        {
          "output_type": "execute_result",
          "data": {
            "text/plain": [
              "1.0"
            ]
          },
          "metadata": {
            "tags": []
          },
          "execution_count": 20
        }
      ]
    },
    {
      "cell_type": "code",
      "metadata": {
        "id": "jo6cGMhYDcfH",
        "colab": {
          "base_uri": "https://localhost:8080/"
        },
        "outputId": "c4e778ba-4fc4-4535-ad4d-41bd4897a1ac"
      },
      "source": [
        "from math import cos, sin, pi\n",
        "cos(pi/7)**2 + sin(pi/7)**2"
      ],
      "execution_count": null,
      "outputs": [
        {
          "output_type": "execute_result",
          "data": {
            "text/plain": [
              "1.0"
            ]
          },
          "metadata": {
            "tags": []
          },
          "execution_count": 21
        }
      ]
    },
    {
      "cell_type": "code",
      "metadata": {
        "id": "83v8QCCcDmad",
        "colab": {
          "base_uri": "https://localhost:8080/"
        },
        "outputId": "ab5a8baa-83e6-4a16-c41b-0cb9ef805252"
      },
      "source": [
        "from math import cos as cs, sin as sn\n",
        "cs(pi/7)**2 + sn(pi/7)**2"
      ],
      "execution_count": null,
      "outputs": [
        {
          "output_type": "execute_result",
          "data": {
            "text/plain": [
              "1.0"
            ]
          },
          "metadata": {
            "tags": []
          },
          "execution_count": 22
        }
      ]
    },
    {
      "cell_type": "code",
      "metadata": {
        "id": "6Sl0OAAgD0M9",
        "colab": {
          "base_uri": "https://localhost:8080/"
        },
        "outputId": "f0a5cb4d-b1e2-4d0e-b758-31710475cbbf"
      },
      "source": [
        "from math import *\n",
        "cos(pi/7)**2 + sin(pi/7)**2"
      ],
      "execution_count": null,
      "outputs": [
        {
          "output_type": "execute_result",
          "data": {
            "text/plain": [
              "1.0"
            ]
          },
          "metadata": {
            "tags": []
          },
          "execution_count": 23
        }
      ]
    }
  ]
}