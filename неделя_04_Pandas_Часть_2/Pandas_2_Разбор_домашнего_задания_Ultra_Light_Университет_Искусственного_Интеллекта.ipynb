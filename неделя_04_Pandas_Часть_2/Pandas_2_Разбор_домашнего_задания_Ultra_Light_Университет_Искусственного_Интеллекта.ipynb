{
  "nbformat": 4,
  "nbformat_minor": 0,
  "metadata": {
    "colab": {
      "name": "Pandas #2. Разбор домашнего задания. Ultra-Light. Университет Искусственного Интеллекта.ipynb",
      "provenance": [],
      "collapsed_sections": [],
      "include_colab_link": true
    },
    "kernelspec": {
      "name": "python3",
      "display_name": "Python 3"
    }
  },
  "cells": [
    {
      "cell_type": "markdown",
      "metadata": {
        "id": "view-in-github",
        "colab_type": "text"
      },
      "source": [
        "<a href=\"https://colab.research.google.com/github/MRS88/AI_course/blob/master/%D0%BD%D0%B5%D0%B4%D0%B5%D0%BB%D1%8F_04_Pandas_%D0%A7%D0%B0%D1%81%D1%82%D1%8C_2/Pandas_2_%D0%A0%D0%B0%D0%B7%D0%B1%D0%BE%D1%80_%D0%B4%D0%BE%D0%BC%D0%B0%D1%88%D0%BD%D0%B5%D0%B3%D0%BE_%D0%B7%D0%B0%D0%B4%D0%B0%D0%BD%D0%B8%D1%8F_Ultra_Light_%D0%A3%D0%BD%D0%B8%D0%B2%D0%B5%D1%80%D1%81%D0%B8%D1%82%D0%B5%D1%82_%D0%98%D1%81%D0%BA%D1%83%D1%81%D1%81%D1%82%D0%B2%D0%B5%D0%BD%D0%BD%D0%BE%D0%B3%D0%BE_%D0%98%D0%BD%D1%82%D0%B5%D0%BB%D0%BB%D0%B5%D0%BA%D1%82%D0%B0.ipynb\" target=\"_parent\"><img src=\"https://colab.research.google.com/assets/colab-badge.svg\" alt=\"Open In Colab\"/></a>"
      ]
    },
    {
      "cell_type": "markdown",
      "metadata": {
        "id": "NYMOwEGWCTqE"
      },
      "source": [
        "### Задача 1\n",
        "\n",
        "Загрузите таблицу city_temperature.csv в pandas DataFrame. При помощи встроенных методов библиотеки Pandas найдите количество стран, среднее значение температуры в которых бывает больше 100 градусов по Фаренгейту.\n",
        "\n",
        "**Циклы и условия использовать нельзя**.\n",
        "\n",
        "Описание базы:\n",
        "---------------------------------\n",
        "**Region** - регион\n",
        "\n",
        "**Country** - страна \n",
        "\n",
        "**State** - штат (если есть) \n",
        "\n",
        "**Month** - месяц \n",
        "\n",
        "**Day** - день \n",
        "\n",
        "**Year** - год \n",
        "\n",
        "**AvgTemperature** - средняя температура в Фаренгейтах\n",
        "\n",
        "Ссылка на базу: https://drive.google.com/file/d/1bLiz_81Kb4pMryEalRe66jS38_F6vwMX/view?usp=sharing"
      ]
    },
    {
      "cell_type": "markdown",
      "metadata": {
        "id": "KsZiqj9SXgy1"
      },
      "source": [
        "**Решение:**"
      ]
    },
    {
      "cell_type": "code",
      "metadata": {
        "id": "GQbSFod-B-Yq"
      },
      "source": [
        "import pandas as pd #Импортируем Pandas "
      ],
      "execution_count": null,
      "outputs": []
    },
    {
      "cell_type": "code",
      "metadata": {
        "id": "ahEr3QkECAUM",
        "colab": {
          "base_uri": "https://localhost:8080/",
          "height": 34
        },
        "outputId": "c7a96448-84b5-42b9-f2a2-80622978d50b"
      },
      "source": [
        "#Подключаем Google Диск\n",
        "from google.colab import drive\n",
        "drive.mount('/content/drive')"
      ],
      "execution_count": null,
      "outputs": [
        {
          "output_type": "stream",
          "text": [
            "Drive already mounted at /content/drive; to attempt to forcibly remount, call drive.mount(\"/content/drive\", force_remount=True).\n"
          ],
          "name": "stdout"
        }
      ]
    },
    {
      "cell_type": "code",
      "metadata": {
        "id": "I-9o5Nc0B9Kk",
        "colab": {
          "base_uri": "https://localhost:8080/",
          "height": 238
        },
        "outputId": "286761cf-425c-4d5b-8e01-63548f0911ec"
      },
      "source": [
        "df = pd.read_csv('/content/drive/My Drive/Базы/city_temperature.csv') #Читаем базу \n",
        "df.head() # Отображаем первые 5 строк датафрейма df"
      ],
      "execution_count": null,
      "outputs": [
        {
          "output_type": "stream",
          "text": [
            "/usr/local/lib/python3.6/dist-packages/IPython/core/interactiveshell.py:2718: DtypeWarning: Columns (2) have mixed types.Specify dtype option on import or set low_memory=False.\n",
            "  interactivity=interactivity, compiler=compiler, result=result)\n"
          ],
          "name": "stderr"
        },
        {
          "output_type": "execute_result",
          "data": {
            "text/html": [
              "<div>\n",
              "<style scoped>\n",
              "    .dataframe tbody tr th:only-of-type {\n",
              "        vertical-align: middle;\n",
              "    }\n",
              "\n",
              "    .dataframe tbody tr th {\n",
              "        vertical-align: top;\n",
              "    }\n",
              "\n",
              "    .dataframe thead th {\n",
              "        text-align: right;\n",
              "    }\n",
              "</style>\n",
              "<table border=\"1\" class=\"dataframe\">\n",
              "  <thead>\n",
              "    <tr style=\"text-align: right;\">\n",
              "      <th></th>\n",
              "      <th>Region</th>\n",
              "      <th>Country</th>\n",
              "      <th>State</th>\n",
              "      <th>City</th>\n",
              "      <th>Month</th>\n",
              "      <th>Day</th>\n",
              "      <th>Year</th>\n",
              "      <th>AvgTemperature</th>\n",
              "    </tr>\n",
              "  </thead>\n",
              "  <tbody>\n",
              "    <tr>\n",
              "      <th>0</th>\n",
              "      <td>Africa</td>\n",
              "      <td>Algeria</td>\n",
              "      <td>NaN</td>\n",
              "      <td>Algiers</td>\n",
              "      <td>1</td>\n",
              "      <td>1</td>\n",
              "      <td>1995</td>\n",
              "      <td>64.2</td>\n",
              "    </tr>\n",
              "    <tr>\n",
              "      <th>1</th>\n",
              "      <td>Africa</td>\n",
              "      <td>Algeria</td>\n",
              "      <td>NaN</td>\n",
              "      <td>Algiers</td>\n",
              "      <td>1</td>\n",
              "      <td>2</td>\n",
              "      <td>1995</td>\n",
              "      <td>49.4</td>\n",
              "    </tr>\n",
              "    <tr>\n",
              "      <th>2</th>\n",
              "      <td>Africa</td>\n",
              "      <td>Algeria</td>\n",
              "      <td>NaN</td>\n",
              "      <td>Algiers</td>\n",
              "      <td>1</td>\n",
              "      <td>3</td>\n",
              "      <td>1995</td>\n",
              "      <td>48.8</td>\n",
              "    </tr>\n",
              "    <tr>\n",
              "      <th>3</th>\n",
              "      <td>Africa</td>\n",
              "      <td>Algeria</td>\n",
              "      <td>NaN</td>\n",
              "      <td>Algiers</td>\n",
              "      <td>1</td>\n",
              "      <td>4</td>\n",
              "      <td>1995</td>\n",
              "      <td>46.4</td>\n",
              "    </tr>\n",
              "    <tr>\n",
              "      <th>4</th>\n",
              "      <td>Africa</td>\n",
              "      <td>Algeria</td>\n",
              "      <td>NaN</td>\n",
              "      <td>Algiers</td>\n",
              "      <td>1</td>\n",
              "      <td>5</td>\n",
              "      <td>1995</td>\n",
              "      <td>47.9</td>\n",
              "    </tr>\n",
              "  </tbody>\n",
              "</table>\n",
              "</div>"
            ],
            "text/plain": [
              "   Region  Country State     City  Month  Day  Year  AvgTemperature\n",
              "0  Africa  Algeria   NaN  Algiers      1    1  1995            64.2\n",
              "1  Africa  Algeria   NaN  Algiers      1    2  1995            49.4\n",
              "2  Africa  Algeria   NaN  Algiers      1    3  1995            48.8\n",
              "3  Africa  Algeria   NaN  Algiers      1    4  1995            46.4\n",
              "4  Africa  Algeria   NaN  Algiers      1    5  1995            47.9"
            ]
          },
          "metadata": {
            "tags": []
          },
          "execution_count": 20
        }
      ]
    },
    {
      "cell_type": "code",
      "metadata": {
        "id": "8t4P6rZIG_D2",
        "colab": {
          "base_uri": "https://localhost:8080/",
          "height": 34
        },
        "outputId": "8e01dc1e-e3fa-4a50-fa7a-39c0f07f08f4"
      },
      "source": [
        "#При помощи маски определяем нужные данные, выбираем столбец и применяем метод для вывода уникальных значений в столбце\n",
        "df[df.AvgTemperature > 100].Country.nunique()"
      ],
      "execution_count": null,
      "outputs": [
        {
          "output_type": "execute_result",
          "data": {
            "text/plain": [
              "15"
            ]
          },
          "metadata": {
            "tags": []
          },
          "execution_count": 21
        }
      ]
    },
    {
      "cell_type": "markdown",
      "metadata": {
        "id": "-0RWVKaFH-R2"
      },
      "source": [
        "### Задача 2"
      ]
    },
    {
      "cell_type": "markdown",
      "metadata": {
        "id": "HP4ZO-WnPaho"
      },
      "source": [
        "Найдите медиану столбца AvgTemperature при помощи встроенных методов библиотеки Pandas."
      ]
    },
    {
      "cell_type": "markdown",
      "metadata": {
        "id": "QLixQiO_X6hK"
      },
      "source": [
        "**Решение:**"
      ]
    },
    {
      "cell_type": "code",
      "metadata": {
        "id": "1y3yUQlhH7m6",
        "colab": {
          "base_uri": "https://localhost:8080/",
          "height": 34
        },
        "outputId": "e64d21b3-b07e-4ca8-ca58-b87543d590ec"
      },
      "source": [
        "#Считаем медиану в столбце\n",
        "df.AvgTemperature.median()"
      ],
      "execution_count": null,
      "outputs": [
        {
          "output_type": "execute_result",
          "data": {
            "text/plain": [
              "62.5"
            ]
          },
          "metadata": {
            "tags": []
          },
          "execution_count": 22
        }
      ]
    },
    {
      "cell_type": "markdown",
      "metadata": {
        "id": "XOBMS887YKsY"
      },
      "source": [
        "### Задача 3"
      ]
    },
    {
      "cell_type": "markdown",
      "metadata": {
        "id": "Kz-o6ujPYKsY"
      },
      "source": [
        "Найдите число записей в базе данных для первого января 1995 года или первого января 2018 года при помощи масок. "
      ]
    },
    {
      "cell_type": "markdown",
      "metadata": {
        "id": "UlLW2RZuYKsZ"
      },
      "source": [
        "**Решение:**"
      ]
    },
    {
      "cell_type": "code",
      "metadata": {
        "id": "BA6U5_YRaGw4",
        "colab": {
          "base_uri": "https://localhost:8080/",
          "height": 34
        },
        "outputId": "a718bd82-41fd-4781-fe44-91681d51da94"
      },
      "source": [
        "#При помощи неоднократного использования масок и логических операторов выводим размерность полученной выборки\n",
        "df[((df.Day == 1) & (df.Month == 1) & (df.Year == 1995)) | ((df.Day == 1) & (df.Month == 1) & (df.Year == 2018))].shape[0]"
      ],
      "execution_count": null,
      "outputs": [
        {
          "output_type": "execute_result",
          "data": {
            "text/plain": [
              "612"
            ]
          },
          "metadata": {
            "tags": []
          },
          "execution_count": 29
        }
      ]
    },
    {
      "cell_type": "markdown",
      "metadata": {
        "id": "yXyZzjfWRHeH"
      },
      "source": [
        "### Задание 4"
      ]
    },
    {
      "cell_type": "markdown",
      "metadata": {
        "id": "T-I820HxX7Ii"
      },
      "source": [
        "**Решение:**"
      ]
    },
    {
      "cell_type": "markdown",
      "metadata": {
        "id": "n_Bi2hjgUYzx"
      },
      "source": [
        "Получите список всех уникальных значений стран в таблице при помощи встроенных методов."
      ]
    },
    {
      "cell_type": "code",
      "metadata": {
        "id": "fXgCvrlZTbzW"
      },
      "source": [
        "#Сохраняем в переменную уникальные страны в столбце Country\n",
        "countries = df.Country.unique().tolist()"
      ],
      "execution_count": null,
      "outputs": []
    },
    {
      "cell_type": "markdown",
      "metadata": {
        "id": "NFnSb1jlCnxH"
      },
      "source": [
        "### Задача 5\n",
        "При помощи переводчика или при помощи своих знаний переведите названия столбцов на русский язык. Замените в таблице английские названия столбцов на русские."
      ]
    },
    {
      "cell_type": "markdown",
      "metadata": {
        "id": "tKJATHoXX7cd"
      },
      "source": [
        "**Решение:**"
      ]
    },
    {
      "cell_type": "code",
      "metadata": {
        "id": "-N8UNaX2CLSP"
      },
      "source": [
        "#Определяем новые названия для столбцов\n",
        "columns = ['Регион', 'Страна', 'Штат', 'Город', 'Месяц', 'День', 'Год', 'Стредняя температура']\n",
        "#Переименовываем столбцы\n",
        "df.columns = columns"
      ],
      "execution_count": null,
      "outputs": []
    },
    {
      "cell_type": "code",
      "metadata": {
        "id": "Gse7LOSIH7K7",
        "colab": {
          "base_uri": "https://localhost:8080/",
          "height": 419
        },
        "outputId": "2e830730-d983-410d-9af3-681c0272e2c8"
      },
      "source": [
        "df #Смотрим, что получилось"
      ],
      "execution_count": null,
      "outputs": [
        {
          "output_type": "execute_result",
          "data": {
            "text/html": [
              "<div>\n",
              "<style scoped>\n",
              "    .dataframe tbody tr th:only-of-type {\n",
              "        vertical-align: middle;\n",
              "    }\n",
              "\n",
              "    .dataframe tbody tr th {\n",
              "        vertical-align: top;\n",
              "    }\n",
              "\n",
              "    .dataframe thead th {\n",
              "        text-align: right;\n",
              "    }\n",
              "</style>\n",
              "<table border=\"1\" class=\"dataframe\">\n",
              "  <thead>\n",
              "    <tr style=\"text-align: right;\">\n",
              "      <th></th>\n",
              "      <th>Регион</th>\n",
              "      <th>Страна</th>\n",
              "      <th>Штат</th>\n",
              "      <th>Город</th>\n",
              "      <th>Месяц</th>\n",
              "      <th>День</th>\n",
              "      <th>Год</th>\n",
              "      <th>Стредняя температура</th>\n",
              "    </tr>\n",
              "  </thead>\n",
              "  <tbody>\n",
              "    <tr>\n",
              "      <th>0</th>\n",
              "      <td>Africa</td>\n",
              "      <td>Algeria</td>\n",
              "      <td>NaN</td>\n",
              "      <td>Algiers</td>\n",
              "      <td>1</td>\n",
              "      <td>1</td>\n",
              "      <td>1995</td>\n",
              "      <td>64.2</td>\n",
              "    </tr>\n",
              "    <tr>\n",
              "      <th>1</th>\n",
              "      <td>Africa</td>\n",
              "      <td>Algeria</td>\n",
              "      <td>NaN</td>\n",
              "      <td>Algiers</td>\n",
              "      <td>1</td>\n",
              "      <td>2</td>\n",
              "      <td>1995</td>\n",
              "      <td>49.4</td>\n",
              "    </tr>\n",
              "    <tr>\n",
              "      <th>2</th>\n",
              "      <td>Africa</td>\n",
              "      <td>Algeria</td>\n",
              "      <td>NaN</td>\n",
              "      <td>Algiers</td>\n",
              "      <td>1</td>\n",
              "      <td>3</td>\n",
              "      <td>1995</td>\n",
              "      <td>48.8</td>\n",
              "    </tr>\n",
              "    <tr>\n",
              "      <th>3</th>\n",
              "      <td>Africa</td>\n",
              "      <td>Algeria</td>\n",
              "      <td>NaN</td>\n",
              "      <td>Algiers</td>\n",
              "      <td>1</td>\n",
              "      <td>4</td>\n",
              "      <td>1995</td>\n",
              "      <td>46.4</td>\n",
              "    </tr>\n",
              "    <tr>\n",
              "      <th>4</th>\n",
              "      <td>Africa</td>\n",
              "      <td>Algeria</td>\n",
              "      <td>NaN</td>\n",
              "      <td>Algiers</td>\n",
              "      <td>1</td>\n",
              "      <td>5</td>\n",
              "      <td>1995</td>\n",
              "      <td>47.9</td>\n",
              "    </tr>\n",
              "    <tr>\n",
              "      <th>...</th>\n",
              "      <td>...</td>\n",
              "      <td>...</td>\n",
              "      <td>...</td>\n",
              "      <td>...</td>\n",
              "      <td>...</td>\n",
              "      <td>...</td>\n",
              "      <td>...</td>\n",
              "      <td>...</td>\n",
              "    </tr>\n",
              "    <tr>\n",
              "      <th>2906322</th>\n",
              "      <td>North America</td>\n",
              "      <td>US</td>\n",
              "      <td>Additional Territories</td>\n",
              "      <td>San Juan Puerto Rico</td>\n",
              "      <td>7</td>\n",
              "      <td>27</td>\n",
              "      <td>2013</td>\n",
              "      <td>82.4</td>\n",
              "    </tr>\n",
              "    <tr>\n",
              "      <th>2906323</th>\n",
              "      <td>North America</td>\n",
              "      <td>US</td>\n",
              "      <td>Additional Territories</td>\n",
              "      <td>San Juan Puerto Rico</td>\n",
              "      <td>7</td>\n",
              "      <td>28</td>\n",
              "      <td>2013</td>\n",
              "      <td>81.6</td>\n",
              "    </tr>\n",
              "    <tr>\n",
              "      <th>2906324</th>\n",
              "      <td>North America</td>\n",
              "      <td>US</td>\n",
              "      <td>Additional Territories</td>\n",
              "      <td>San Juan Puerto Rico</td>\n",
              "      <td>7</td>\n",
              "      <td>29</td>\n",
              "      <td>2013</td>\n",
              "      <td>84.2</td>\n",
              "    </tr>\n",
              "    <tr>\n",
              "      <th>2906325</th>\n",
              "      <td>North America</td>\n",
              "      <td>US</td>\n",
              "      <td>Additional Territories</td>\n",
              "      <td>San Juan Puerto Rico</td>\n",
              "      <td>7</td>\n",
              "      <td>30</td>\n",
              "      <td>2013</td>\n",
              "      <td>83.8</td>\n",
              "    </tr>\n",
              "    <tr>\n",
              "      <th>2906326</th>\n",
              "      <td>North America</td>\n",
              "      <td>US</td>\n",
              "      <td>Additional Territories</td>\n",
              "      <td>San Juan Puerto Rico</td>\n",
              "      <td>7</td>\n",
              "      <td>31</td>\n",
              "      <td>2013</td>\n",
              "      <td>83.6</td>\n",
              "    </tr>\n",
              "  </tbody>\n",
              "</table>\n",
              "<p>2906327 rows × 8 columns</p>\n",
              "</div>"
            ],
            "text/plain": [
              "                Регион   Страна  ...   Год Стредняя температура\n",
              "0               Africa  Algeria  ...  1995                 64.2\n",
              "1               Africa  Algeria  ...  1995                 49.4\n",
              "2               Africa  Algeria  ...  1995                 48.8\n",
              "3               Africa  Algeria  ...  1995                 46.4\n",
              "4               Africa  Algeria  ...  1995                 47.9\n",
              "...                ...      ...  ...   ...                  ...\n",
              "2906322  North America       US  ...  2013                 82.4\n",
              "2906323  North America       US  ...  2013                 81.6\n",
              "2906324  North America       US  ...  2013                 84.2\n",
              "2906325  North America       US  ...  2013                 83.8\n",
              "2906326  North America       US  ...  2013                 83.6\n",
              "\n",
              "[2906327 rows x 8 columns]"
            ]
          },
          "metadata": {
            "tags": []
          },
          "execution_count": 16
        }
      ]
    }
  ]
}