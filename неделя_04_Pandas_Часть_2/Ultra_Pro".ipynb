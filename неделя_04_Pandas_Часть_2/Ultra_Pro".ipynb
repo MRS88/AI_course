{
  "nbformat": 4,
  "nbformat_minor": 0,
  "metadata": {
    "colab": {
      "name": "Копия блокнота \"Pandas #2. Домашнее задание. Ultra-Pro. Университет Искусственного Интеллекта.ipynb\"",
      "provenance": [],
      "collapsed_sections": [],
      "toc_visible": true,
      "include_colab_link": true
    },
    "kernelspec": {
      "name": "python3",
      "display_name": "Python 3"
    },
    "accelerator": "GPU"
  },
  "cells": [
    {
      "cell_type": "markdown",
      "metadata": {
        "id": "view-in-github",
        "colab_type": "text"
      },
      "source": [
        "<a href=\"https://colab.research.google.com/github/MRS88/AI_course/blob/master/%D0%BD%D0%B5%D0%B4%D0%B5%D0%BB%D1%8F_04_Pandas_%D0%A7%D0%B0%D1%81%D1%82%D1%8C_2/Ultra_Pro%22.ipynb\" target=\"_parent\"><img src=\"https://colab.research.google.com/assets/colab-badge.svg\" alt=\"Open In Colab\"/></a>"
      ]
    },
    {
      "cell_type": "markdown",
      "metadata": {
        "id": "o5zbOypPjKp6"
      },
      "source": [
        "### Задача 1\n",
        "Подгрузите данные 'data.csv' (возможно, придется указать кодировку encoding сp1250) в переменную data.\n",
        "\n",
        "Создайте новый столбец TotalCost со значениями Quantity * UnitPrice. Сделайте resampling данных в еженедельные со значениями суммы по столбцам TotalCost.\n"
      ]
    },
    {
      "cell_type": "markdown",
      "metadata": {
        "id": "qMFZukAIK0vP"
      },
      "source": [
        "**Решение:**"
      ]
    },
    {
      "cell_type": "code",
      "metadata": {
        "id": "IamaZQik72XB",
        "colab": {
          "base_uri": "https://localhost:8080/",
          "height": 311
        },
        "outputId": "29abb7a9-cc51-441b-fab5-bc00ec03d2e0"
      },
      "source": [
        "import pandas as pd\n",
        "\n",
        "data = pd.read_csv('/content/data.csv', encoding='cp1250')\n",
        "data['TotalCost'] = data.Quantity * data.UnitPrice\n",
        "data.index = pd.to_datetime(data.InvoiceDate)\n",
        "data.drop('InvoiceDate', axis=1, inplace=True)\n",
        "data.TotalCost.resample('W').sum()\n",
        "#data.TotalCost.resample('M').sum()\n",
        "data.head()"
      ],
      "execution_count": null,
      "outputs": [
        {
          "output_type": "execute_result",
          "data": {
            "text/html": [
              "<div>\n",
              "<style scoped>\n",
              "    .dataframe tbody tr th:only-of-type {\n",
              "        vertical-align: middle;\n",
              "    }\n",
              "\n",
              "    .dataframe tbody tr th {\n",
              "        vertical-align: top;\n",
              "    }\n",
              "\n",
              "    .dataframe thead th {\n",
              "        text-align: right;\n",
              "    }\n",
              "</style>\n",
              "<table border=\"1\" class=\"dataframe\">\n",
              "  <thead>\n",
              "    <tr style=\"text-align: right;\">\n",
              "      <th></th>\n",
              "      <th>InvoiceNo</th>\n",
              "      <th>StockCode</th>\n",
              "      <th>Description</th>\n",
              "      <th>Quantity</th>\n",
              "      <th>UnitPrice</th>\n",
              "      <th>CustomerID</th>\n",
              "      <th>Country</th>\n",
              "      <th>TotalCost</th>\n",
              "    </tr>\n",
              "    <tr>\n",
              "      <th>InvoiceDate</th>\n",
              "      <th></th>\n",
              "      <th></th>\n",
              "      <th></th>\n",
              "      <th></th>\n",
              "      <th></th>\n",
              "      <th></th>\n",
              "      <th></th>\n",
              "      <th></th>\n",
              "    </tr>\n",
              "  </thead>\n",
              "  <tbody>\n",
              "    <tr>\n",
              "      <th>2010-12-01 08:26:00</th>\n",
              "      <td>536365</td>\n",
              "      <td>85123A</td>\n",
              "      <td>WHITE HANGING HEART T-LIGHT HOLDER</td>\n",
              "      <td>6</td>\n",
              "      <td>2.55</td>\n",
              "      <td>17850.0</td>\n",
              "      <td>United Kingdom</td>\n",
              "      <td>15.30</td>\n",
              "    </tr>\n",
              "    <tr>\n",
              "      <th>2010-12-01 08:26:00</th>\n",
              "      <td>536365</td>\n",
              "      <td>71053</td>\n",
              "      <td>WHITE METAL LANTERN</td>\n",
              "      <td>6</td>\n",
              "      <td>3.39</td>\n",
              "      <td>17850.0</td>\n",
              "      <td>United Kingdom</td>\n",
              "      <td>20.34</td>\n",
              "    </tr>\n",
              "    <tr>\n",
              "      <th>2010-12-01 08:26:00</th>\n",
              "      <td>536365</td>\n",
              "      <td>84406B</td>\n",
              "      <td>CREAM CUPID HEARTS COAT HANGER</td>\n",
              "      <td>8</td>\n",
              "      <td>2.75</td>\n",
              "      <td>17850.0</td>\n",
              "      <td>United Kingdom</td>\n",
              "      <td>22.00</td>\n",
              "    </tr>\n",
              "    <tr>\n",
              "      <th>2010-12-01 08:26:00</th>\n",
              "      <td>536365</td>\n",
              "      <td>84029G</td>\n",
              "      <td>KNITTED UNION FLAG HOT WATER BOTTLE</td>\n",
              "      <td>6</td>\n",
              "      <td>3.39</td>\n",
              "      <td>17850.0</td>\n",
              "      <td>United Kingdom</td>\n",
              "      <td>20.34</td>\n",
              "    </tr>\n",
              "    <tr>\n",
              "      <th>2010-12-01 08:26:00</th>\n",
              "      <td>536365</td>\n",
              "      <td>84029E</td>\n",
              "      <td>RED WOOLLY HOTTIE WHITE HEART.</td>\n",
              "      <td>6</td>\n",
              "      <td>3.39</td>\n",
              "      <td>17850.0</td>\n",
              "      <td>United Kingdom</td>\n",
              "      <td>20.34</td>\n",
              "    </tr>\n",
              "  </tbody>\n",
              "</table>\n",
              "</div>"
            ],
            "text/plain": [
              "                    InvoiceNo StockCode  ...         Country  TotalCost\n",
              "InvoiceDate                              ...                           \n",
              "2010-12-01 08:26:00    536365    85123A  ...  United Kingdom      15.30\n",
              "2010-12-01 08:26:00    536365     71053  ...  United Kingdom      20.34\n",
              "2010-12-01 08:26:00    536365    84406B  ...  United Kingdom      22.00\n",
              "2010-12-01 08:26:00    536365    84029G  ...  United Kingdom      20.34\n",
              "2010-12-01 08:26:00    536365    84029E  ...  United Kingdom      20.34\n",
              "\n",
              "[5 rows x 8 columns]"
            ]
          },
          "metadata": {
            "tags": []
          },
          "execution_count": 2
        }
      ]
    },
    {
      "cell_type": "markdown",
      "metadata": {
        "id": "XOVd5J4zjKp8"
      },
      "source": [
        "### Задача 2\n",
        "\n",
        "Посчитайте скользящее недельное среднее суммы ежедневных заказов. Для этого\n",
        "* сделайте resampling в ежедневные данные,\n",
        "* посчитайте скользящее среднее за 7 дней по столбцу TotalCost.\n",
        "\n",
        "*Для решения второй части данной задачи потребуется самостоятельно найти способ определения скользящего среднего.*"
      ]
    },
    {
      "cell_type": "markdown",
      "metadata": {
        "id": "1fI0ZG_97ejw"
      },
      "source": [
        "**Решение:**"
      ]
    },
    {
      "cell_type": "code",
      "metadata": {
        "id": "ACrzRyeG7y5n",
        "colab": {
          "base_uri": "https://localhost:8080/",
          "height": 247
        },
        "outputId": "1c1182fe-8894-445a-e751-0f376e9710d1"
      },
      "source": [
        "res_df = data.TotalCost.resample('D').sum()\n",
        "res_df.rolling(window=7).mean()"
      ],
      "execution_count": null,
      "outputs": [
        {
          "output_type": "execute_result",
          "data": {
            "text/plain": [
              "InvoiceDate\n",
              "2010-12-01             NaN\n",
              "2010-12-02             NaN\n",
              "2010-12-03             NaN\n",
              "2010-12-04             NaN\n",
              "2010-12-05             NaN\n",
              "                  ...     \n",
              "2011-12-05    46026.327143\n",
              "2011-12-06    43456.208571\n",
              "2011-12-07    45731.242857\n",
              "2011-12-08    50017.932857\n",
              "2011-12-09    46453.000000\n",
              "Freq: D, Name: TotalCost, Length: 374, dtype: float64"
            ]
          },
          "metadata": {
            "tags": []
          },
          "execution_count": 3
        }
      ]
    },
    {
      "cell_type": "markdown",
      "metadata": {
        "id": "XS44TRvGjKp9"
      },
      "source": [
        "### Задача 3. GroupBy\n",
        "\n",
        "Посчитайте общую стоимость заказов на ежемесячной основе в разбивке по странам.\n"
      ]
    },
    {
      "cell_type": "markdown",
      "metadata": {
        "id": "xo5lhNKG7e94"
      },
      "source": [
        "**Решение:**"
      ]
    },
    {
      "cell_type": "code",
      "metadata": {
        "id": "O5UyRYEx7x4m",
        "colab": {
          "base_uri": "https://localhost:8080/",
          "height": 247
        },
        "outputId": "eb18074f-3d92-4ee5-d2ab-9bb07d44178d"
      },
      "source": [
        "month = data.TotalCost.resample('M').sum()\n",
        "data.groupby(['Country', pd.Grouper(freq='MS')])['TotalCost'].sum()"
      ],
      "execution_count": null,
      "outputs": [
        {
          "output_type": "execute_result",
          "data": {
            "text/plain": [
              "Country      InvoiceDate\n",
              "Australia    2010-12-01      1005.10\n",
              "             2011-01-01      9017.71\n",
              "             2011-02-01     14627.47\n",
              "             2011-03-01     17055.29\n",
              "             2011-04-01       333.40\n",
              "                              ...   \n",
              "Unspecified  2011-06-01       185.78\n",
              "             2011-07-01      1425.41\n",
              "             2011-08-01       531.03\n",
              "             2011-09-01       286.85\n",
              "             2011-11-01       965.75\n",
              "Name: TotalCost, Length: 314, dtype: float64"
            ]
          },
          "metadata": {
            "tags": []
          },
          "execution_count": 4
        }
      ]
    },
    {
      "cell_type": "markdown",
      "metadata": {
        "id": "8cSn-5OVjKp_"
      },
      "source": [
        "### Задача 4. JOIN\n",
        "\n",
        "* Подгрузите данные, содержащие информацию о номерах карт лояльности пользователей (card_data.csv).\n",
        "* Назовите ее cards.\n",
        "* Сделайте Left Join исходной таблицы (которая получилась после задачи с datetime индексом) и таблицы cards.\n",
        "* Если будет переполнение памяти, попробуйте взять не все значения таблицы, а, например, первые 100 с помощью соответствующего метода iloc."
      ]
    },
    {
      "cell_type": "markdown",
      "metadata": {
        "id": "cNRL1aFH7fS-"
      },
      "source": [
        "**Решение:**"
      ]
    },
    {
      "cell_type": "code",
      "metadata": {
        "id": "M-pHfhMJ7vaj"
      },
      "source": [
        "cards = pd.read_csv('/content/card_data.csv')\n",
        "data_1 = data.iloc[:100].merge(cards.iloc[:100], on='CustomerID', how='left')"
      ],
      "execution_count": null,
      "outputs": []
    },
    {
      "cell_type": "markdown",
      "metadata": {
        "id": "R_jqkxQm5Nrk"
      },
      "source": [
        "### Задача 5"
      ]
    },
    {
      "cell_type": "markdown",
      "metadata": {
        "id": "sriqito34pbh"
      },
      "source": [
        "Выведите квантили 0.4 и 0.6 по численным данным новой таблицы там, где это имеет смысл. "
      ]
    },
    {
      "cell_type": "markdown",
      "metadata": {
        "id": "g3c0_pOQ7gIE"
      },
      "source": [
        "**Решение:**"
      ]
    },
    {
      "cell_type": "code",
      "metadata": {
        "id": "UFbVrfFx7t8h",
        "colab": {
          "base_uri": "https://localhost:8080/",
          "height": 107
        },
        "outputId": "cca2f4c4-0465-47e8-ade4-b993d74693cf"
      },
      "source": [
        "data_1.quantile([0.4, 0.6])"
      ],
      "execution_count": null,
      "outputs": [
        {
          "output_type": "execute_result",
          "data": {
            "text/html": [
              "<div>\n",
              "<style scoped>\n",
              "    .dataframe tbody tr th:only-of-type {\n",
              "        vertical-align: middle;\n",
              "    }\n",
              "\n",
              "    .dataframe tbody tr th {\n",
              "        vertical-align: top;\n",
              "    }\n",
              "\n",
              "    .dataframe thead th {\n",
              "        text-align: right;\n",
              "    }\n",
              "</style>\n",
              "<table border=\"1\" class=\"dataframe\">\n",
              "  <thead>\n",
              "    <tr style=\"text-align: right;\">\n",
              "      <th></th>\n",
              "      <th>Quantity</th>\n",
              "      <th>UnitPrice</th>\n",
              "      <th>CustomerID</th>\n",
              "      <th>TotalCost</th>\n",
              "      <th>TransactionNum</th>\n",
              "    </tr>\n",
              "  </thead>\n",
              "  <tbody>\n",
              "    <tr>\n",
              "      <th>0.4</th>\n",
              "      <td>6.0</td>\n",
              "      <td>2.55</td>\n",
              "      <td>17850.0</td>\n",
              "      <td>15.30</td>\n",
              "      <td>250.0</td>\n",
              "    </tr>\n",
              "    <tr>\n",
              "      <th>0.6</th>\n",
              "      <td>6.0</td>\n",
              "      <td>3.39</td>\n",
              "      <td>17850.0</td>\n",
              "      <td>20.34</td>\n",
              "      <td>350.0</td>\n",
              "    </tr>\n",
              "  </tbody>\n",
              "</table>\n",
              "</div>"
            ],
            "text/plain": [
              "     Quantity  UnitPrice  CustomerID  TotalCost  TransactionNum\n",
              "0.4       6.0       2.55     17850.0      15.30           250.0\n",
              "0.6       6.0       3.39     17850.0      20.34           350.0"
            ]
          },
          "metadata": {
            "tags": []
          },
          "execution_count": 16
        }
      ]
    }
  ]
}