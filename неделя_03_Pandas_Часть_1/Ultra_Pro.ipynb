{
  "nbformat": 4,
  "nbformat_minor": 0,
  "metadata": {
    "colab": {
      "name": "Копия блокнота \"Pandas #1. Домашнее задание. Ultra-Pro. Университет Искусственного Интеллекта.ipynb\"",
      "provenance": [],
      "collapsed_sections": [],
      "include_colab_link": true
    },
    "kernelspec": {
      "name": "python3",
      "display_name": "Python 3"
    }
  },
  "cells": [
    {
      "cell_type": "markdown",
      "metadata": {
        "id": "view-in-github",
        "colab_type": "text"
      },
      "source": [
        "<a href=\"https://colab.research.google.com/github/MRS88/AI_course/blob/master/%D0%BD%D0%B5%D0%B4%D0%B5%D0%BB%D1%8F_03_Pandas_%D0%A7%D0%B0%D1%81%D1%82%D1%8C_1/Ultra_Pro.ipynb\" target=\"_parent\"><img src=\"https://colab.research.google.com/assets/colab-badge.svg\" alt=\"Open In Colab\"/></a>"
      ]
    },
    {
      "cell_type": "markdown",
      "metadata": {
        "id": "2cI6UlojpNPn"
      },
      "source": [
        "Представим ситуацию. Вы заказали базу у фрилансеров. Им необходимо было скачать с сайтов двух отелей анонимную базу данных, о всех клиентах. Фрилансеры выполнили заказ и прислали работу. Как оказалось, исходные данные очень загрязнены (пустыми колонками, неинформативными строками и т.д), да еще и представлены в виде нескольких различных файлов. Главная задача на всё ДЗ - очистить базу и сохранить в виде одного документа."
      ]
    },
    {
      "cell_type": "markdown",
      "metadata": {
        "id": "H3NGFYX111of"
      },
      "source": [
        "Ссылка на файлы: \n",
        "https://drive.google.com/drive/folders/12aykvz02214Q_7eNMm3loXzOIDXfeZ4b?usp=sharing\n",
        "\n",
        "Лучше сохранить на свой Google Диск"
      ]
    },
    {
      "cell_type": "markdown",
      "metadata": {
        "id": "xpelBtBBoNbH"
      },
      "source": [
        "### Задание 1\n"
      ]
    },
    {
      "cell_type": "markdown",
      "metadata": {
        "id": "sHYwZleXpBzE"
      },
      "source": [
        "Подключите Google Drive.\n",
        "\n",
        "Откройте папку с файлами и сохраните каждый из них в виде Pandas DataFrame. \n",
        "\n",
        "**Подсказка 1**: получить список имен файлов можно при помощи библиотеки os, командой os.listdir(путькпапкесфайлами). \n",
        "\n",
        "**Подсказка 2**: для сохранения всех файлов в виде Pandas DataFrame удобно использовать одну из структур данных Python\n",
        "\n",
        "Объедините все Pandas DataFrame в один."
      ]
    },
    {
      "cell_type": "markdown",
      "metadata": {
        "id": "XEhUp6r1qP_f"
      },
      "source": [
        "**Решение:**"
      ]
    },
    {
      "cell_type": "code",
      "metadata": {
        "id": "t5KKdsuVzVJA"
      },
      "source": [
        "import pandas as pd\n",
        "import os\n",
        "\n",
        "path = '/content/drive/My Drive/bookings/'\n",
        "dirs = os.listdir(path)\n",
        "data = pd.DataFrame()\n",
        "for file in dirs:\n",
        "  data = pd.concat([data, pd.read_csv(path + file)])"
      ],
      "execution_count": null,
      "outputs": []
    },
    {
      "cell_type": "markdown",
      "metadata": {
        "id": "3EhpzR3vrasF"
      },
      "source": [
        "### Задание 2\n",
        "\n",
        "Хорошо бы понимать с какими данными мы работаем. \n",
        "\n",
        "Узнайте размерность получившегося DataFrame (число столбцов и число строк).\n",
        "\n",
        "Проверьте, выведя график, есть ли пропуски в данных. Оцените насколько их много."
      ]
    },
    {
      "cell_type": "markdown",
      "metadata": {
        "id": "vvMEBPquy-jc"
      },
      "source": [
        "**Решение:**"
      ]
    },
    {
      "cell_type": "code",
      "metadata": {
        "id": "Y5fl0Ju4zYG-",
        "colab": {
          "base_uri": "https://localhost:8080/",
          "height": 1000
        },
        "outputId": "c0965a96-905d-4d05-c79f-35769244a8b6"
      },
      "source": [
        "import matplotlib.pyplot as plt\n",
        "import seaborn as sns\n",
        "\n",
        "print(data.shape)\n",
        "\n",
        "%matplotlib inline\n",
        "fig, ax = plt.subplots(figsize=(20,12))\n",
        "sns_heatmap = sns.heatmap(data.isnull(), yticklabels=False, cbar=False, cmap='viridis')\n",
        "plt.show\n",
        "print()\n",
        "data.isna().sum()\n"
      ],
      "execution_count": null,
      "outputs": [
        {
          "output_type": "stream",
          "text": [
            "/usr/local/lib/python3.6/dist-packages/statsmodels/tools/_testing.py:19: FutureWarning: pandas.util.testing is deprecated. Use the functions in the public API at pandas.testing instead.\n",
            "  import pandas.util.testing as tm\n"
          ],
          "name": "stderr"
        },
        {
          "output_type": "stream",
          "text": [
            "(238780, 37)\n",
            "\n"
          ],
          "name": "stdout"
        },
        {
          "output_type": "execute_result",
          "data": {
            "text/plain": [
              "Unnamed: 0                             0\n",
              "test_values                       238780\n",
              "Unnamed: 2                        238780\n",
              "for_notes                         238780\n",
              "hotel                              59695\n",
              "is_canceled                       179085\n",
              "lead_time                         179085\n",
              "arrival_date_year                 179085\n",
              "arrival_date_month                179085\n",
              "cashe                             238780\n",
              "arrival_date_week_number          179085\n",
              "arrival_date_day_of_month         179085\n",
              "stays_in_weekend_nights           179085\n",
              "stays_in_week_nights              179085\n",
              "adults                            179085\n",
              "children                          179087\n",
              "babies                            179085\n",
              "meal                              179085\n",
              "country                           179329\n",
              "market_segment                    179085\n",
              "distribution_channel              179085\n",
              "is_repeated_guest                 179085\n",
              "previous_cancellations            179085\n",
              "previous_bookings_not_canceled    179085\n",
              "reserved_room_type                179085\n",
              "assigned_room_type                179085\n",
              "booking_changes                   179085\n",
              "deposit_type                      179085\n",
              "agent                             187257\n",
              "company                           235388\n",
              "days_in_waiting_list              179085\n",
              "customer_type                     179085\n",
              "adr                               179085\n",
              "required_car_parking_spaces       179085\n",
              "total_of_special_requests         179085\n",
              "reservation_status                179085\n",
              "reservation_status_date           179085\n",
              "dtype: int64"
            ]
          },
          "metadata": {
            "tags": []
          },
          "execution_count": 5
        },
        {
          "output_type": "display_data",
          "data": {
            "image/png": "[encoded data removed]",
            "text/plain": [
              "<Figure size 1440x864 with 1 Axes>"
            ]
          },
          "metadata": {
            "tags": [],
            "needs_background": "light"
          }
        }
      ]
    },
    {
      "cell_type": "markdown",
      "metadata": {
        "id": "lAOsZ3Dar00C"
      },
      "source": [
        "### Задание 3"
      ]
    },
    {
      "cell_type": "markdown",
      "metadata": {
        "id": "5y_WVXBLr6NH"
      },
      "source": [
        "Основываясь на выводах из предыдущего задания очистите данные от пропусков.\n",
        "\n",
        "**Подсказка**: очевидно, что есть полностью пустые столбцы, неинформативные строки с одним лишь значением \"For notes:\", пустая часть датасета внизу. После этих преобразований могут остаться пустые значения в датасете с хаотичным расположением (Это допускается).\n",
        "\n",
        "Если остались пропуски, заполните их словом \"unknown\""
      ]
    },
    {
      "cell_type": "markdown",
      "metadata": {
        "id": "cVMGu9Cty_OM"
      },
      "source": [
        "**Решение:**"
      ]
    },
    {
      "cell_type": "code",
      "metadata": {
        "id": "HVinvCiYzZ9a",
        "colab": {
          "base_uri": "https://localhost:8080/",
          "height": 611
        },
        "outputId": "b1547727-3dcd-4c2c-8c58-edddff446f0c"
      },
      "source": [
        "data = data.drop(['Unnamed: 0'], axis=1)\n",
        "data = data.drop(data[data.hotel == 'For notes:'].index)\n",
        "data = data.dropna(axis=1, how='all')\n",
        "data = data.dropna(axis=0, how='all')\n",
        "print(data.shape)\n",
        "data.fillna('unknown')\n"
      ],
      "execution_count": null,
      "outputs": [
        {
          "output_type": "stream",
          "text": [
            "(59695, 32)\n"
          ],
          "name": "stdout"
        },
        {
          "output_type": "execute_result",
          "data": {
            "text/html": [
              "<div>\n",
              "<style scoped>\n",
              "    .dataframe tbody tr th:only-of-type {\n",
              "        vertical-align: middle;\n",
              "    }\n",
              "\n",
              "    .dataframe tbody tr th {\n",
              "        vertical-align: top;\n",
              "    }\n",
              "\n",
              "    .dataframe thead th {\n",
              "        text-align: right;\n",
              "    }\n",
              "</style>\n",
              "<table border=\"1\" class=\"dataframe\">\n",
              "  <thead>\n",
              "    <tr style=\"text-align: right;\">\n",
              "      <th></th>\n",
              "      <th>hotel</th>\n",
              "      <th>is_canceled</th>\n",
              "      <th>lead_time</th>\n",
              "      <th>arrival_date_year</th>\n",
              "      <th>arrival_date_month</th>\n",
              "      <th>arrival_date_week_number</th>\n",
              "      <th>arrival_date_day_of_month</th>\n",
              "      <th>stays_in_weekend_nights</th>\n",
              "      <th>stays_in_week_nights</th>\n",
              "      <th>adults</th>\n",
              "      <th>children</th>\n",
              "      <th>babies</th>\n",
              "      <th>meal</th>\n",
              "      <th>country</th>\n",
              "      <th>market_segment</th>\n",
              "      <th>distribution_channel</th>\n",
              "      <th>is_repeated_guest</th>\n",
              "      <th>previous_cancellations</th>\n",
              "      <th>previous_bookings_not_canceled</th>\n",
              "      <th>reserved_room_type</th>\n",
              "      <th>assigned_room_type</th>\n",
              "      <th>booking_changes</th>\n",
              "      <th>deposit_type</th>\n",
              "      <th>agent</th>\n",
              "      <th>company</th>\n",
              "      <th>days_in_waiting_list</th>\n",
              "      <th>customer_type</th>\n",
              "      <th>adr</th>\n",
              "      <th>required_car_parking_spaces</th>\n",
              "      <th>total_of_special_requests</th>\n",
              "      <th>reservation_status</th>\n",
              "      <th>reservation_status_date</th>\n",
              "    </tr>\n",
              "  </thead>\n",
              "  <tbody>\n",
              "    <tr>\n",
              "      <th>0</th>\n",
              "      <td>Resort Hotel</td>\n",
              "      <td>0.0</td>\n",
              "      <td>16.0</td>\n",
              "      <td>2016.0</td>\n",
              "      <td>April</td>\n",
              "      <td>18.0</td>\n",
              "      <td>29.0</td>\n",
              "      <td>2.0</td>\n",
              "      <td>5.0</td>\n",
              "      <td>2.0</td>\n",
              "      <td>0</td>\n",
              "      <td>0.0</td>\n",
              "      <td>HB</td>\n",
              "      <td>POL</td>\n",
              "      <td>Offline TA/TO</td>\n",
              "      <td>TA/TO</td>\n",
              "      <td>0.0</td>\n",
              "      <td>0.0</td>\n",
              "      <td>0.0</td>\n",
              "      <td>A</td>\n",
              "      <td>A</td>\n",
              "      <td>0.0</td>\n",
              "      <td>No Deposit</td>\n",
              "      <td>71</td>\n",
              "      <td>unknown</td>\n",
              "      <td>0.0</td>\n",
              "      <td>Transient-Party</td>\n",
              "      <td>65.10</td>\n",
              "      <td>0.0</td>\n",
              "      <td>0.0</td>\n",
              "      <td>Check-Out</td>\n",
              "      <td>2016-05-06</td>\n",
              "    </tr>\n",
              "    <tr>\n",
              "      <th>2</th>\n",
              "      <td>Resort Hotel</td>\n",
              "      <td>0.0</td>\n",
              "      <td>16.0</td>\n",
              "      <td>2016.0</td>\n",
              "      <td>April</td>\n",
              "      <td>18.0</td>\n",
              "      <td>29.0</td>\n",
              "      <td>2.0</td>\n",
              "      <td>5.0</td>\n",
              "      <td>2.0</td>\n",
              "      <td>0</td>\n",
              "      <td>0.0</td>\n",
              "      <td>BB</td>\n",
              "      <td>NLD</td>\n",
              "      <td>Offline TA/TO</td>\n",
              "      <td>TA/TO</td>\n",
              "      <td>0.0</td>\n",
              "      <td>0.0</td>\n",
              "      <td>0.0</td>\n",
              "      <td>A</td>\n",
              "      <td>C</td>\n",
              "      <td>0.0</td>\n",
              "      <td>No Deposit</td>\n",
              "      <td>71</td>\n",
              "      <td>unknown</td>\n",
              "      <td>0.0</td>\n",
              "      <td>Transient-Party</td>\n",
              "      <td>41.40</td>\n",
              "      <td>0.0</td>\n",
              "      <td>0.0</td>\n",
              "      <td>Check-Out</td>\n",
              "      <td>2016-05-06</td>\n",
              "    </tr>\n",
              "    <tr>\n",
              "      <th>4</th>\n",
              "      <td>Resort Hotel</td>\n",
              "      <td>0.0</td>\n",
              "      <td>99.0</td>\n",
              "      <td>2016.0</td>\n",
              "      <td>April</td>\n",
              "      <td>18.0</td>\n",
              "      <td>27.0</td>\n",
              "      <td>2.0</td>\n",
              "      <td>7.0</td>\n",
              "      <td>2.0</td>\n",
              "      <td>0</td>\n",
              "      <td>0.0</td>\n",
              "      <td>HB</td>\n",
              "      <td>NLD</td>\n",
              "      <td>Groups</td>\n",
              "      <td>TA/TO</td>\n",
              "      <td>0.0</td>\n",
              "      <td>0.0</td>\n",
              "      <td>0.0</td>\n",
              "      <td>A</td>\n",
              "      <td>I</td>\n",
              "      <td>9.0</td>\n",
              "      <td>No Deposit</td>\n",
              "      <td>95</td>\n",
              "      <td>unknown</td>\n",
              "      <td>0.0</td>\n",
              "      <td>Transient-Party</td>\n",
              "      <td>71.89</td>\n",
              "      <td>0.0</td>\n",
              "      <td>0.0</td>\n",
              "      <td>Check-Out</td>\n",
              "      <td>2016-05-06</td>\n",
              "    </tr>\n",
              "    <tr>\n",
              "      <th>6</th>\n",
              "      <td>Resort Hotel</td>\n",
              "      <td>0.0</td>\n",
              "      <td>0.0</td>\n",
              "      <td>2016.0</td>\n",
              "      <td>May</td>\n",
              "      <td>19.0</td>\n",
              "      <td>6.0</td>\n",
              "      <td>0.0</td>\n",
              "      <td>1.0</td>\n",
              "      <td>2.0</td>\n",
              "      <td>0</td>\n",
              "      <td>0.0</td>\n",
              "      <td>BB</td>\n",
              "      <td>NLD</td>\n",
              "      <td>Direct</td>\n",
              "      <td>TA/TO</td>\n",
              "      <td>1.0</td>\n",
              "      <td>0.0</td>\n",
              "      <td>0.0</td>\n",
              "      <td>A</td>\n",
              "      <td>A</td>\n",
              "      <td>0.0</td>\n",
              "      <td>No Deposit</td>\n",
              "      <td>unknown</td>\n",
              "      <td>unknown</td>\n",
              "      <td>0.0</td>\n",
              "      <td>Group</td>\n",
              "      <td>79.00</td>\n",
              "      <td>0.0</td>\n",
              "      <td>0.0</td>\n",
              "      <td>Check-Out</td>\n",
              "      <td>2016-05-07</td>\n",
              "    </tr>\n",
              "    <tr>\n",
              "      <th>8</th>\n",
              "      <td>Resort Hotel</td>\n",
              "      <td>0.0</td>\n",
              "      <td>104.0</td>\n",
              "      <td>2016.0</td>\n",
              "      <td>April</td>\n",
              "      <td>18.0</td>\n",
              "      <td>28.0</td>\n",
              "      <td>2.0</td>\n",
              "      <td>7.0</td>\n",
              "      <td>2.0</td>\n",
              "      <td>2</td>\n",
              "      <td>0.0</td>\n",
              "      <td>BB</td>\n",
              "      <td>CHE</td>\n",
              "      <td>Direct</td>\n",
              "      <td>Direct</td>\n",
              "      <td>0.0</td>\n",
              "      <td>0.0</td>\n",
              "      <td>0.0</td>\n",
              "      <td>G</td>\n",
              "      <td>G</td>\n",
              "      <td>0.0</td>\n",
              "      <td>No Deposit</td>\n",
              "      <td>250</td>\n",
              "      <td>unknown</td>\n",
              "      <td>0.0</td>\n",
              "      <td>Transient</td>\n",
              "      <td>99.22</td>\n",
              "      <td>1.0</td>\n",
              "      <td>1.0</td>\n",
              "      <td>Check-Out</td>\n",
              "      <td>2016-05-07</td>\n",
              "    </tr>\n",
              "    <tr>\n",
              "      <th>...</th>\n",
              "      <td>...</td>\n",
              "      <td>...</td>\n",
              "      <td>...</td>\n",
              "      <td>...</td>\n",
              "      <td>...</td>\n",
              "      <td>...</td>\n",
              "      <td>...</td>\n",
              "      <td>...</td>\n",
              "      <td>...</td>\n",
              "      <td>...</td>\n",
              "      <td>...</td>\n",
              "      <td>...</td>\n",
              "      <td>...</td>\n",
              "      <td>...</td>\n",
              "      <td>...</td>\n",
              "      <td>...</td>\n",
              "      <td>...</td>\n",
              "      <td>...</td>\n",
              "      <td>...</td>\n",
              "      <td>...</td>\n",
              "      <td>...</td>\n",
              "      <td>...</td>\n",
              "      <td>...</td>\n",
              "      <td>...</td>\n",
              "      <td>...</td>\n",
              "      <td>...</td>\n",
              "      <td>...</td>\n",
              "      <td>...</td>\n",
              "      <td>...</td>\n",
              "      <td>...</td>\n",
              "      <td>...</td>\n",
              "      <td>...</td>\n",
              "    </tr>\n",
              "    <tr>\n",
              "      <th>23868</th>\n",
              "      <td>City Hotel</td>\n",
              "      <td>0.0</td>\n",
              "      <td>44.0</td>\n",
              "      <td>2017.0</td>\n",
              "      <td>August</td>\n",
              "      <td>35.0</td>\n",
              "      <td>31.0</td>\n",
              "      <td>1.0</td>\n",
              "      <td>3.0</td>\n",
              "      <td>2.0</td>\n",
              "      <td>0</td>\n",
              "      <td>0.0</td>\n",
              "      <td>SC</td>\n",
              "      <td>DEU</td>\n",
              "      <td>Online TA</td>\n",
              "      <td>TA/TO</td>\n",
              "      <td>0.0</td>\n",
              "      <td>0.0</td>\n",
              "      <td>0.0</td>\n",
              "      <td>A</td>\n",
              "      <td>A</td>\n",
              "      <td>0.0</td>\n",
              "      <td>No Deposit</td>\n",
              "      <td>9</td>\n",
              "      <td>unknown</td>\n",
              "      <td>0.0</td>\n",
              "      <td>Transient</td>\n",
              "      <td>140.75</td>\n",
              "      <td>0.0</td>\n",
              "      <td>1.0</td>\n",
              "      <td>Check-Out</td>\n",
              "      <td>2017-09-04</td>\n",
              "    </tr>\n",
              "    <tr>\n",
              "      <th>23870</th>\n",
              "      <td>City Hotel</td>\n",
              "      <td>0.0</td>\n",
              "      <td>135.0</td>\n",
              "      <td>2017.0</td>\n",
              "      <td>August</td>\n",
              "      <td>35.0</td>\n",
              "      <td>30.0</td>\n",
              "      <td>2.0</td>\n",
              "      <td>4.0</td>\n",
              "      <td>3.0</td>\n",
              "      <td>0</td>\n",
              "      <td>0.0</td>\n",
              "      <td>BB</td>\n",
              "      <td>JPN</td>\n",
              "      <td>Online TA</td>\n",
              "      <td>TA/TO</td>\n",
              "      <td>0.0</td>\n",
              "      <td>0.0</td>\n",
              "      <td>0.0</td>\n",
              "      <td>G</td>\n",
              "      <td>G</td>\n",
              "      <td>0.0</td>\n",
              "      <td>No Deposit</td>\n",
              "      <td>7</td>\n",
              "      <td>unknown</td>\n",
              "      <td>0.0</td>\n",
              "      <td>Transient</td>\n",
              "      <td>209.00</td>\n",
              "      <td>0.0</td>\n",
              "      <td>0.0</td>\n",
              "      <td>Check-Out</td>\n",
              "      <td>2017-09-05</td>\n",
              "    </tr>\n",
              "    <tr>\n",
              "      <th>23872</th>\n",
              "      <td>City Hotel</td>\n",
              "      <td>0.0</td>\n",
              "      <td>21.0</td>\n",
              "      <td>2017.0</td>\n",
              "      <td>August</td>\n",
              "      <td>35.0</td>\n",
              "      <td>30.0</td>\n",
              "      <td>2.0</td>\n",
              "      <td>5.0</td>\n",
              "      <td>2.0</td>\n",
              "      <td>0</td>\n",
              "      <td>0.0</td>\n",
              "      <td>BB</td>\n",
              "      <td>BEL</td>\n",
              "      <td>Offline TA/TO</td>\n",
              "      <td>TA/TO</td>\n",
              "      <td>0.0</td>\n",
              "      <td>0.0</td>\n",
              "      <td>0.0</td>\n",
              "      <td>A</td>\n",
              "      <td>A</td>\n",
              "      <td>0.0</td>\n",
              "      <td>No Deposit</td>\n",
              "      <td>394</td>\n",
              "      <td>unknown</td>\n",
              "      <td>0.0</td>\n",
              "      <td>Transient</td>\n",
              "      <td>96.14</td>\n",
              "      <td>0.0</td>\n",
              "      <td>2.0</td>\n",
              "      <td>Check-Out</td>\n",
              "      <td>2017-09-06</td>\n",
              "    </tr>\n",
              "    <tr>\n",
              "      <th>23874</th>\n",
              "      <td>City Hotel</td>\n",
              "      <td>0.0</td>\n",
              "      <td>102.0</td>\n",
              "      <td>2017.0</td>\n",
              "      <td>August</td>\n",
              "      <td>35.0</td>\n",
              "      <td>31.0</td>\n",
              "      <td>2.0</td>\n",
              "      <td>5.0</td>\n",
              "      <td>3.0</td>\n",
              "      <td>0</td>\n",
              "      <td>0.0</td>\n",
              "      <td>BB</td>\n",
              "      <td>FRA</td>\n",
              "      <td>Online TA</td>\n",
              "      <td>TA/TO</td>\n",
              "      <td>0.0</td>\n",
              "      <td>0.0</td>\n",
              "      <td>0.0</td>\n",
              "      <td>E</td>\n",
              "      <td>E</td>\n",
              "      <td>0.0</td>\n",
              "      <td>No Deposit</td>\n",
              "      <td>9</td>\n",
              "      <td>unknown</td>\n",
              "      <td>0.0</td>\n",
              "      <td>Transient</td>\n",
              "      <td>225.43</td>\n",
              "      <td>0.0</td>\n",
              "      <td>2.0</td>\n",
              "      <td>Check-Out</td>\n",
              "      <td>2017-09-07</td>\n",
              "    </tr>\n",
              "    <tr>\n",
              "      <th>23876</th>\n",
              "      <td>City Hotel</td>\n",
              "      <td>0.0</td>\n",
              "      <td>109.0</td>\n",
              "      <td>2017.0</td>\n",
              "      <td>August</td>\n",
              "      <td>35.0</td>\n",
              "      <td>31.0</td>\n",
              "      <td>2.0</td>\n",
              "      <td>5.0</td>\n",
              "      <td>2.0</td>\n",
              "      <td>0</td>\n",
              "      <td>0.0</td>\n",
              "      <td>BB</td>\n",
              "      <td>GBR</td>\n",
              "      <td>Online TA</td>\n",
              "      <td>TA/TO</td>\n",
              "      <td>0.0</td>\n",
              "      <td>0.0</td>\n",
              "      <td>0.0</td>\n",
              "      <td>A</td>\n",
              "      <td>A</td>\n",
              "      <td>0.0</td>\n",
              "      <td>No Deposit</td>\n",
              "      <td>89</td>\n",
              "      <td>unknown</td>\n",
              "      <td>0.0</td>\n",
              "      <td>Transient</td>\n",
              "      <td>104.40</td>\n",
              "      <td>0.0</td>\n",
              "      <td>0.0</td>\n",
              "      <td>Check-Out</td>\n",
              "      <td>2017-09-07</td>\n",
              "    </tr>\n",
              "  </tbody>\n",
              "</table>\n",
              "<p>59695 rows × 32 columns</p>\n",
              "</div>"
            ],
            "text/plain": [
              "              hotel  is_canceled  ...  reservation_status  reservation_status_date\n",
              "0      Resort Hotel          0.0  ...           Check-Out               2016-05-06\n",
              "2      Resort Hotel          0.0  ...           Check-Out               2016-05-06\n",
              "4      Resort Hotel          0.0  ...           Check-Out               2016-05-06\n",
              "6      Resort Hotel          0.0  ...           Check-Out               2016-05-07\n",
              "8      Resort Hotel          0.0  ...           Check-Out               2016-05-07\n",
              "...             ...          ...  ...                 ...                      ...\n",
              "23868    City Hotel          0.0  ...           Check-Out               2017-09-04\n",
              "23870    City Hotel          0.0  ...           Check-Out               2017-09-05\n",
              "23872    City Hotel          0.0  ...           Check-Out               2017-09-06\n",
              "23874    City Hotel          0.0  ...           Check-Out               2017-09-07\n",
              "23876    City Hotel          0.0  ...           Check-Out               2017-09-07\n",
              "\n",
              "[59695 rows x 32 columns]"
            ]
          },
          "metadata": {
            "tags": []
          },
          "execution_count": 6
        }
      ]
    },
    {
      "cell_type": "markdown",
      "metadata": {
        "id": "rXJSEszGwQBY"
      },
      "source": [
        "### Задание 4\n",
        "\n",
        "Необходимо посмотреть сколько всего записей есть в столбце 'lead_time' по каждому отелю, за каждый год и каждый месяц каждого года\n",
        "\n",
        "**Подсказка**: примените метод groupby для столбцов 'hotel', 'arrival_date_year', 'arrival_date_month'"
      ]
    },
    {
      "cell_type": "markdown",
      "metadata": {
        "id": "J3Qk0t34zApQ"
      },
      "source": [
        "**Решение:**"
      ]
    },
    {
      "cell_type": "code",
      "metadata": {
        "id": "Sz83l6auzb63",
        "colab": {
          "base_uri": "https://localhost:8080/",
          "height": 976
        },
        "outputId": "eb794a3b-cbe2-4a86-822a-fe52c2e01044"
      },
      "source": [
        "data_gb = data.groupby(['hotel', 'arrival_date_year', 'arrival_date_month']).count()\n",
        "data_gb = data_gb['lead_time']\n",
        "data_gb"
      ],
      "execution_count": null,
      "outputs": [
        {
          "output_type": "execute_result",
          "data": {
            "text/plain": [
              "hotel         arrival_date_year  arrival_date_month\n",
              "City Hotel    2015.0             August                1235\n",
              "                                 December               829\n",
              "                                 July                   703\n",
              "                                 November               617\n",
              "                                 October               1696\n",
              "                                 September             1767\n",
              "              2016.0             April                 1781\n",
              "                                 August                1689\n",
              "                                 December              1242\n",
              "                                 February              1179\n",
              "                                 January                683\n",
              "                                 July                  1560\n",
              "                                 June                  1962\n",
              "                                 March                 1529\n",
              "                                 May                   1846\n",
              "                                 November              1551\n",
              "                                 October               2107\n",
              "                                 September             1936\n",
              "              2017.0             April                 1958\n",
              "                                 August                1566\n",
              "                                 February              1292\n",
              "                                 January               1188\n",
              "                                 July                  1784\n",
              "                                 June                  1986\n",
              "                                 March                 1711\n",
              "                                 May                   2268\n",
              "Resort Hotel  2015.0             August                 709\n",
              "                                 December               641\n",
              "                                 July                   695\n",
              "                                 November               558\n",
              "                                 October                777\n",
              "                                 September              789\n",
              "              2016.0             April                  940\n",
              "                                 August                 842\n",
              "                                 December               684\n",
              "                                 February               762\n",
              "                                 January                445\n",
              "                                 July                   716\n",
              "                                 June                   685\n",
              "                                 March                  884\n",
              "                                 May                    903\n",
              "                                 November               670\n",
              "                                 October                992\n",
              "                                 September              753\n",
              "              2017.0             April                  877\n",
              "                                 August                 903\n",
              "                                 February               796\n",
              "                                 January                652\n",
              "                                 July                   878\n",
              "                                 June                   841\n",
              "                                 March                  767\n",
              "                                 May                    871\n",
              "Name: lead_time, dtype: int64"
            ]
          },
          "metadata": {
            "tags": []
          },
          "execution_count": 46
        }
      ]
    },
    {
      "cell_type": "markdown",
      "metadata": {
        "id": "8cOfyRSjybMo"
      },
      "source": [
        "### Задание 5\n",
        "\n",
        "Узнайте размерность получившегося DataFrame (число столбцов и число строк)\n",
        "\n",
        "Сохраните получившийся DataFrame в одном файле"
      ]
    },
    {
      "cell_type": "markdown",
      "metadata": {
        "id": "OhtV6UTXzBEz"
      },
      "source": [
        "**Решение:**"
      ]
    },
    {
      "cell_type": "code",
      "metadata": {
        "id": "LEx4T9q-zcta",
        "colab": {
          "base_uri": "https://localhost:8080/",
          "height": 34
        },
        "outputId": "a39fd129-3d49-4382-c3c9-3154a7f77dfc"
      },
      "source": [
        "data_gb.shape"
      ],
      "execution_count": null,
      "outputs": [
        {
          "output_type": "execute_result",
          "data": {
            "text/plain": [
              "(52,)"
            ]
          },
          "metadata": {
            "tags": []
          },
          "execution_count": 47
        }
      ]
    }
  ]
}