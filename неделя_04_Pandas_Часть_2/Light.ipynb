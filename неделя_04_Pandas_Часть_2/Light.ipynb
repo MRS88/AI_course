{
  "nbformat": 4,
  "nbformat_minor": 0,
  "metadata": {
    "colab": {
      "name": "Копия блокнота \"Pandas #2. Домашнее задание. Light. Университет Искусственного Интеллекта.ipynb\"",
      "provenance": [],
      "collapsed_sections": [],
      "include_colab_link": true
    },
    "kernelspec": {
      "name": "python3",
      "display_name": "Python 3"
    }
  },
  "cells": [
    {
      "cell_type": "markdown",
      "metadata": {
        "id": "view-in-github",
        "colab_type": "text"
      },
      "source": [
        "<a href=\"https://colab.research.google.com/github/MRS88/AI_course/blob/master/%D0%BD%D0%B5%D0%B4%D0%B5%D0%BB%D1%8F_04_Pandas_%D0%A7%D0%B0%D1%81%D1%82%D1%8C_2/Light.ipynb\" target=\"_parent\"><img src=\"https://colab.research.google.com/assets/colab-badge.svg\" alt=\"Open In Colab\"/></a>"
      ]
    },
    {
      "cell_type": "markdown",
      "metadata": {
        "id": "xiuVQLy1kiOD"
      },
      "source": [
        "### Задача 1\n",
        "Загрузите базу статистики по приложениям из Google Play. Определите уникальные категории приложений. В цикле найдите число приложений по каждой категории\n",
        "\n",
        "Описание базы:\n",
        "---------------------------------\n",
        "**App** - имя приложения\n",
        "\n",
        "**Category** - категория \n",
        "\n",
        "**Rating** - рейтинг\n",
        "\n",
        "**Reviews** - Число комментариев \n",
        "\n",
        "**Size** - Размер \n",
        "\n",
        "**Instals** - Число установок \n",
        "\n",
        "**Type** - Платное или бесплатное приложение \n",
        "\n",
        "**Content Rating** - Ограничения по возрасту \n",
        "\n",
        "**Genres** - Жанры \n",
        "\n",
        "**Last Updated** - Последнее обновление \n",
        "\n",
        "**Current Ver** - Текущая версия \n",
        "\n",
        "**Android Ver** - Вресия для Android \n",
        "\n",
        "\n",
        "Ссылка на базу: https://drive.google.com/file/d/1dwFUK1PxzVLSyzHjPImCw_XvTIP-llJQ/view?usp=sharing"
      ]
    },
    {
      "cell_type": "code",
      "metadata": {
        "id": "c3s64hGMDuUC",
        "colab": {
          "base_uri": "https://localhost:8080/",
          "height": 656
        },
        "outputId": "d3a20320-8939-4b80-a3e9-048042053637"
      },
      "source": [
        "import pandas as pd\n",
        "\n",
        "data = pd.read_csv('/content/googleplaystore.csv')\n",
        "data_1 = data.Category.unique()\n",
        "# не понял, как циклом вывести - решил так:\n",
        "data.groupby(['Category'])['App'].count()\n"
      ],
      "execution_count": null,
      "outputs": [
        {
          "output_type": "execute_result",
          "data": {
            "text/plain": [
              "Category\n",
              "1.9                       1\n",
              "ART_AND_DESIGN           65\n",
              "AUTO_AND_VEHICLES        85\n",
              "BEAUTY                   53\n",
              "BOOKS_AND_REFERENCE     231\n",
              "BUSINESS                460\n",
              "COMICS                   60\n",
              "COMMUNICATION           387\n",
              "DATING                  234\n",
              "EDUCATION               156\n",
              "ENTERTAINMENT           149\n",
              "EVENTS                   64\n",
              "FAMILY                 1972\n",
              "FINANCE                 366\n",
              "FOOD_AND_DRINK          127\n",
              "GAME                   1144\n",
              "HEALTH_AND_FITNESS      341\n",
              "HOUSE_AND_HOME           88\n",
              "LIBRARIES_AND_DEMO       85\n",
              "LIFESTYLE               382\n",
              "MAPS_AND_NAVIGATION     137\n",
              "MEDICAL                 463\n",
              "NEWS_AND_MAGAZINES      283\n",
              "PARENTING                60\n",
              "PERSONALIZATION         392\n",
              "PHOTOGRAPHY             335\n",
              "PRODUCTIVITY            424\n",
              "SHOPPING                260\n",
              "SOCIAL                  295\n",
              "SPORTS                  384\n",
              "TOOLS                   843\n",
              "TRAVEL_AND_LOCAL        258\n",
              "VIDEO_PLAYERS           175\n",
              "WEATHER                  82\n",
              "Name: App, dtype: int64"
            ]
          },
          "metadata": {
            "tags": []
          },
          "execution_count": 2
        }
      ]
    },
    {
      "cell_type": "markdown",
      "metadata": {
        "id": "iW_iZZGPnOWA"
      },
      "source": [
        "### Задача 2\n",
        "Отсортируйте приложения по рейтингу при помощи встроенных методов Pandas"
      ]
    },
    {
      "cell_type": "markdown",
      "metadata": {
        "id": "GxmW23qwth2-"
      },
      "source": [
        "**Решение:**"
      ]
    },
    {
      "cell_type": "code",
      "metadata": {
        "id": "JSoHzflODvpS",
        "colab": {
          "base_uri": "https://localhost:8080/",
          "height": 473
        },
        "outputId": "2ea46989-5d96-41a7-fd72-70271385653e"
      },
      "source": [
        "sorted_apps = data.sort_values('Rating', ascending=False)\n",
        "sorted_apps = sorted_apps.drop(index=[10472]) # удалил строку, где данные были смещены по столбцам влево\n",
        "sorted_apps"
      ],
      "execution_count": null,
      "outputs": [
        {
          "output_type": "execute_result",
          "data": {
            "text/html": [
              "<div>\n",
              "<style scoped>\n",
              "    .dataframe tbody tr th:only-of-type {\n",
              "        vertical-align: middle;\n",
              "    }\n",
              "\n",
              "    .dataframe tbody tr th {\n",
              "        vertical-align: top;\n",
              "    }\n",
              "\n",
              "    .dataframe thead th {\n",
              "        text-align: right;\n",
              "    }\n",
              "</style>\n",
              "<table border=\"1\" class=\"dataframe\">\n",
              "  <thead>\n",
              "    <tr style=\"text-align: right;\">\n",
              "      <th></th>\n",
              "      <th>App</th>\n",
              "      <th>Category</th>\n",
              "      <th>Rating</th>\n",
              "      <th>Reviews</th>\n",
              "      <th>Size</th>\n",
              "      <th>Installs</th>\n",
              "      <th>Type</th>\n",
              "      <th>Price</th>\n",
              "      <th>Content Rating</th>\n",
              "      <th>Genres</th>\n",
              "      <th>Last Updated</th>\n",
              "      <th>Current Ver</th>\n",
              "      <th>Android Ver</th>\n",
              "    </tr>\n",
              "  </thead>\n",
              "  <tbody>\n",
              "    <tr>\n",
              "      <th>9511</th>\n",
              "      <td>Ek Bander Ne Kholi Dukan</td>\n",
              "      <td>FAMILY</td>\n",
              "      <td>5.0</td>\n",
              "      <td>10</td>\n",
              "      <td>3.0M</td>\n",
              "      <td>10,000+</td>\n",
              "      <td>Free</td>\n",
              "      <td>0</td>\n",
              "      <td>Everyone</td>\n",
              "      <td>Entertainment</td>\n",
              "      <td>June 26, 2017</td>\n",
              "      <td>1.0.9</td>\n",
              "      <td>4.0 and up</td>\n",
              "    </tr>\n",
              "    <tr>\n",
              "      <th>10166</th>\n",
              "      <td>FA Player Essentials</td>\n",
              "      <td>SPORTS</td>\n",
              "      <td>5.0</td>\n",
              "      <td>7</td>\n",
              "      <td>68M</td>\n",
              "      <td>100+</td>\n",
              "      <td>Free</td>\n",
              "      <td>0</td>\n",
              "      <td>Everyone</td>\n",
              "      <td>Sports</td>\n",
              "      <td>July 23, 2018</td>\n",
              "      <td>1.6.0</td>\n",
              "      <td>4.0.3 and up</td>\n",
              "    </tr>\n",
              "    <tr>\n",
              "      <th>7895</th>\n",
              "      <td>Dine In CT - Food Delivery</td>\n",
              "      <td>SHOPPING</td>\n",
              "      <td>5.0</td>\n",
              "      <td>4</td>\n",
              "      <td>1.6M</td>\n",
              "      <td>1,000+</td>\n",
              "      <td>Free</td>\n",
              "      <td>0</td>\n",
              "      <td>Everyone</td>\n",
              "      <td>Shopping</td>\n",
              "      <td>May 16, 2016</td>\n",
              "      <td>1.3</td>\n",
              "      <td>4.0 and up</td>\n",
              "    </tr>\n",
              "    <tr>\n",
              "      <th>5118</th>\n",
              "      <td>Eternal Light AG</td>\n",
              "      <td>SOCIAL</td>\n",
              "      <td>5.0</td>\n",
              "      <td>30</td>\n",
              "      <td>13M</td>\n",
              "      <td>100+</td>\n",
              "      <td>Free</td>\n",
              "      <td>0</td>\n",
              "      <td>Teen</td>\n",
              "      <td>Social</td>\n",
              "      <td>May 19, 2018</td>\n",
              "      <td>1.04</td>\n",
              "      <td>4.0.3 and up</td>\n",
              "    </tr>\n",
              "    <tr>\n",
              "      <th>6953</th>\n",
              "      <td>BxPort - Bitcoin Bx (Thailand)</td>\n",
              "      <td>FINANCE</td>\n",
              "      <td>5.0</td>\n",
              "      <td>4</td>\n",
              "      <td>4.1M</td>\n",
              "      <td>50+</td>\n",
              "      <td>Free</td>\n",
              "      <td>0</td>\n",
              "      <td>Everyone</td>\n",
              "      <td>Finance</td>\n",
              "      <td>July 14, 2018</td>\n",
              "      <td>1.0.4</td>\n",
              "      <td>4.2 and up</td>\n",
              "    </tr>\n",
              "    <tr>\n",
              "      <th>...</th>\n",
              "      <td>...</td>\n",
              "      <td>...</td>\n",
              "      <td>...</td>\n",
              "      <td>...</td>\n",
              "      <td>...</td>\n",
              "      <td>...</td>\n",
              "      <td>...</td>\n",
              "      <td>...</td>\n",
              "      <td>...</td>\n",
              "      <td>...</td>\n",
              "      <td>...</td>\n",
              "      <td>...</td>\n",
              "      <td>...</td>\n",
              "    </tr>\n",
              "    <tr>\n",
              "      <th>10824</th>\n",
              "      <td>Cardio-FR</td>\n",
              "      <td>MEDICAL</td>\n",
              "      <td>NaN</td>\n",
              "      <td>67</td>\n",
              "      <td>82M</td>\n",
              "      <td>10,000+</td>\n",
              "      <td>Free</td>\n",
              "      <td>0</td>\n",
              "      <td>Everyone</td>\n",
              "      <td>Medical</td>\n",
              "      <td>July 31, 2018</td>\n",
              "      <td>2.2.2</td>\n",
              "      <td>4.4 and up</td>\n",
              "    </tr>\n",
              "    <tr>\n",
              "      <th>10825</th>\n",
              "      <td>Naruto &amp; Boruto FR</td>\n",
              "      <td>SOCIAL</td>\n",
              "      <td>NaN</td>\n",
              "      <td>7</td>\n",
              "      <td>7.7M</td>\n",
              "      <td>100+</td>\n",
              "      <td>Free</td>\n",
              "      <td>0</td>\n",
              "      <td>Teen</td>\n",
              "      <td>Social</td>\n",
              "      <td>February 2, 2018</td>\n",
              "      <td>1.0</td>\n",
              "      <td>4.0 and up</td>\n",
              "    </tr>\n",
              "    <tr>\n",
              "      <th>10831</th>\n",
              "      <td>payermonstationnement.fr</td>\n",
              "      <td>MAPS_AND_NAVIGATION</td>\n",
              "      <td>NaN</td>\n",
              "      <td>38</td>\n",
              "      <td>9.8M</td>\n",
              "      <td>5,000+</td>\n",
              "      <td>Free</td>\n",
              "      <td>0</td>\n",
              "      <td>Everyone</td>\n",
              "      <td>Maps &amp; Navigation</td>\n",
              "      <td>June 13, 2018</td>\n",
              "      <td>2.0.148.0</td>\n",
              "      <td>4.0 and up</td>\n",
              "    </tr>\n",
              "    <tr>\n",
              "      <th>10835</th>\n",
              "      <td>FR Forms</td>\n",
              "      <td>BUSINESS</td>\n",
              "      <td>NaN</td>\n",
              "      <td>0</td>\n",
              "      <td>9.6M</td>\n",
              "      <td>10+</td>\n",
              "      <td>Free</td>\n",
              "      <td>0</td>\n",
              "      <td>Everyone</td>\n",
              "      <td>Business</td>\n",
              "      <td>September 29, 2016</td>\n",
              "      <td>1.1.5</td>\n",
              "      <td>4.0 and up</td>\n",
              "    </tr>\n",
              "    <tr>\n",
              "      <th>10838</th>\n",
              "      <td>Parkinson Exercices FR</td>\n",
              "      <td>MEDICAL</td>\n",
              "      <td>NaN</td>\n",
              "      <td>3</td>\n",
              "      <td>9.5M</td>\n",
              "      <td>1,000+</td>\n",
              "      <td>Free</td>\n",
              "      <td>0</td>\n",
              "      <td>Everyone</td>\n",
              "      <td>Medical</td>\n",
              "      <td>January 20, 2017</td>\n",
              "      <td>1.0</td>\n",
              "      <td>2.2 and up</td>\n",
              "    </tr>\n",
              "  </tbody>\n",
              "</table>\n",
              "<p>10840 rows × 13 columns</p>\n",
              "</div>"
            ],
            "text/plain": [
              "                                  App  ...   Android Ver\n",
              "9511         Ek Bander Ne Kholi Dukan  ...    4.0 and up\n",
              "10166            FA Player Essentials  ...  4.0.3 and up\n",
              "7895       Dine In CT - Food Delivery  ...    4.0 and up\n",
              "5118                 Eternal Light AG  ...  4.0.3 and up\n",
              "6953   BxPort - Bitcoin Bx (Thailand)  ...    4.2 and up\n",
              "...                               ...  ...           ...\n",
              "10824                       Cardio-FR  ...    4.4 and up\n",
              "10825              Naruto & Boruto FR  ...    4.0 and up\n",
              "10831        payermonstationnement.fr  ...    4.0 and up\n",
              "10835                        FR Forms  ...    4.0 and up\n",
              "10838          Parkinson Exercices FR  ...    2.2 and up\n",
              "\n",
              "[10840 rows x 13 columns]"
            ]
          },
          "metadata": {
            "tags": []
          },
          "execution_count": 11
        }
      ]
    },
    {
      "cell_type": "markdown",
      "metadata": {
        "id": "5Va4PVbHnts6"
      },
      "source": [
        "### Задача 3\n",
        "Оставьте в выборке только те приложения, которые имеют рейтинг в пределах от 5 до 3 (оба значения включительно)\n",
        "\n",
        "Узнайте число платных и бесплатных приложений в этом списке при помощи методов Pandas"
      ]
    },
    {
      "cell_type": "markdown",
      "metadata": {
        "id": "jEPdwV9xtiZD"
      },
      "source": [
        "**Решение:**"
      ]
    },
    {
      "cell_type": "code",
      "metadata": {
        "id": "JJPDkNIrDwwr",
        "colab": {
          "base_uri": "https://localhost:8080/",
          "height": 87
        },
        "outputId": "c48b1e3b-1fb3-470c-ca05-b4c89b6552a7"
      },
      "source": [
        "sorted_apps = sorted_apps[(sorted_apps['Rating'] >= 3) & (sorted_apps['Rating'] <= 5)]\n",
        "sorted_apps.groupby(['Type'])['Rating'].count()"
      ],
      "execution_count": null,
      "outputs": [
        {
          "output_type": "execute_result",
          "data": {
            "text/plain": [
              "Type\n",
              "Free    8454\n",
              "Paid     625\n",
              "Name: Rating, dtype: int64"
            ]
          },
          "metadata": {
            "tags": []
          },
          "execution_count": 14
        }
      ]
    },
    {
      "cell_type": "markdown",
      "metadata": {
        "id": "_xYFVuMSo8Th"
      },
      "source": [
        "### Задача 4"
      ]
    },
    {
      "cell_type": "markdown",
      "metadata": {
        "id": "WOkWibzLrSYx"
      },
      "source": [
        "В измененном массиве любым способом установите индексы из целых чисел в порядке возрастания"
      ]
    },
    {
      "cell_type": "markdown",
      "metadata": {
        "id": "OC-RtKu8tiyQ"
      },
      "source": [
        "**Решение:**"
      ]
    },
    {
      "cell_type": "code",
      "metadata": {
        "id": "b6Rsp5bSDzaS",
        "colab": {
          "base_uri": "https://localhost:8080/",
          "height": 590
        },
        "outputId": "71b2c5e4-28fc-4046-c403-fed4c810351c"
      },
      "source": [
        "df_size = sorted_apps.index.size\n",
        "index_list = list(sorted_apps.index)\n",
        "sorted_apps = sorted_apps.reset_index(drop=True)\n",
        "sorted_apps"
      ],
      "execution_count": null,
      "outputs": [
        {
          "output_type": "execute_result",
          "data": {
            "text/html": [
              "<div>\n",
              "<style scoped>\n",
              "    .dataframe tbody tr th:only-of-type {\n",
              "        vertical-align: middle;\n",
              "    }\n",
              "\n",
              "    .dataframe tbody tr th {\n",
              "        vertical-align: top;\n",
              "    }\n",
              "\n",
              "    .dataframe thead th {\n",
              "        text-align: right;\n",
              "    }\n",
              "</style>\n",
              "<table border=\"1\" class=\"dataframe\">\n",
              "  <thead>\n",
              "    <tr style=\"text-align: right;\">\n",
              "      <th></th>\n",
              "      <th>App</th>\n",
              "      <th>Category</th>\n",
              "      <th>Rating</th>\n",
              "      <th>Reviews</th>\n",
              "      <th>Size</th>\n",
              "      <th>Installs</th>\n",
              "      <th>Type</th>\n",
              "      <th>Price</th>\n",
              "      <th>Content Rating</th>\n",
              "      <th>Genres</th>\n",
              "      <th>Last Updated</th>\n",
              "      <th>Current Ver</th>\n",
              "      <th>Android Ver</th>\n",
              "    </tr>\n",
              "  </thead>\n",
              "  <tbody>\n",
              "    <tr>\n",
              "      <th>0</th>\n",
              "      <td>Ek Bander Ne Kholi Dukan</td>\n",
              "      <td>FAMILY</td>\n",
              "      <td>5.0</td>\n",
              "      <td>10</td>\n",
              "      <td>3.0M</td>\n",
              "      <td>10,000+</td>\n",
              "      <td>Free</td>\n",
              "      <td>0</td>\n",
              "      <td>Everyone</td>\n",
              "      <td>Entertainment</td>\n",
              "      <td>June 26, 2017</td>\n",
              "      <td>1.0.9</td>\n",
              "      <td>4.0 and up</td>\n",
              "    </tr>\n",
              "    <tr>\n",
              "      <th>1</th>\n",
              "      <td>FA Player Essentials</td>\n",
              "      <td>SPORTS</td>\n",
              "      <td>5.0</td>\n",
              "      <td>7</td>\n",
              "      <td>68M</td>\n",
              "      <td>100+</td>\n",
              "      <td>Free</td>\n",
              "      <td>0</td>\n",
              "      <td>Everyone</td>\n",
              "      <td>Sports</td>\n",
              "      <td>July 23, 2018</td>\n",
              "      <td>1.6.0</td>\n",
              "      <td>4.0.3 and up</td>\n",
              "    </tr>\n",
              "    <tr>\n",
              "      <th>2</th>\n",
              "      <td>Dine In CT - Food Delivery</td>\n",
              "      <td>SHOPPING</td>\n",
              "      <td>5.0</td>\n",
              "      <td>4</td>\n",
              "      <td>1.6M</td>\n",
              "      <td>1,000+</td>\n",
              "      <td>Free</td>\n",
              "      <td>0</td>\n",
              "      <td>Everyone</td>\n",
              "      <td>Shopping</td>\n",
              "      <td>May 16, 2016</td>\n",
              "      <td>1.3</td>\n",
              "      <td>4.0 and up</td>\n",
              "    </tr>\n",
              "    <tr>\n",
              "      <th>3</th>\n",
              "      <td>Eternal Light AG</td>\n",
              "      <td>SOCIAL</td>\n",
              "      <td>5.0</td>\n",
              "      <td>30</td>\n",
              "      <td>13M</td>\n",
              "      <td>100+</td>\n",
              "      <td>Free</td>\n",
              "      <td>0</td>\n",
              "      <td>Teen</td>\n",
              "      <td>Social</td>\n",
              "      <td>May 19, 2018</td>\n",
              "      <td>1.04</td>\n",
              "      <td>4.0.3 and up</td>\n",
              "    </tr>\n",
              "    <tr>\n",
              "      <th>4</th>\n",
              "      <td>BxPort - Bitcoin Bx (Thailand)</td>\n",
              "      <td>FINANCE</td>\n",
              "      <td>5.0</td>\n",
              "      <td>4</td>\n",
              "      <td>4.1M</td>\n",
              "      <td>50+</td>\n",
              "      <td>Free</td>\n",
              "      <td>0</td>\n",
              "      <td>Everyone</td>\n",
              "      <td>Finance</td>\n",
              "      <td>July 14, 2018</td>\n",
              "      <td>1.0.4</td>\n",
              "      <td>4.2 and up</td>\n",
              "    </tr>\n",
              "    <tr>\n",
              "      <th>...</th>\n",
              "      <td>...</td>\n",
              "      <td>...</td>\n",
              "      <td>...</td>\n",
              "      <td>...</td>\n",
              "      <td>...</td>\n",
              "      <td>...</td>\n",
              "      <td>...</td>\n",
              "      <td>...</td>\n",
              "      <td>...</td>\n",
              "      <td>...</td>\n",
              "      <td>...</td>\n",
              "      <td>...</td>\n",
              "      <td>...</td>\n",
              "    </tr>\n",
              "    <tr>\n",
              "      <th>9074</th>\n",
              "      <td>BN Mi Banco</td>\n",
              "      <td>BUSINESS</td>\n",
              "      <td>3.0</td>\n",
              "      <td>597</td>\n",
              "      <td>17M</td>\n",
              "      <td>100,000+</td>\n",
              "      <td>Free</td>\n",
              "      <td>0</td>\n",
              "      <td>Everyone</td>\n",
              "      <td>Business</td>\n",
              "      <td>July 12, 2018</td>\n",
              "      <td>9.0</td>\n",
              "      <td>5.0 and up</td>\n",
              "    </tr>\n",
              "    <tr>\n",
              "      <th>9075</th>\n",
              "      <td>Emerge EV App (eBike App)</td>\n",
              "      <td>LIFESTYLE</td>\n",
              "      <td>3.0</td>\n",
              "      <td>26</td>\n",
              "      <td>Varies with device</td>\n",
              "      <td>1,000+</td>\n",
              "      <td>Free</td>\n",
              "      <td>0</td>\n",
              "      <td>Everyone</td>\n",
              "      <td>Lifestyle</td>\n",
              "      <td>May 15, 2018</td>\n",
              "      <td>Varies with device</td>\n",
              "      <td>6.0 and up</td>\n",
              "    </tr>\n",
              "    <tr>\n",
              "      <th>9076</th>\n",
              "      <td>Acorn TV: World-class TV from Britain and Beyond</td>\n",
              "      <td>ENTERTAINMENT</td>\n",
              "      <td>3.0</td>\n",
              "      <td>493</td>\n",
              "      <td>23M</td>\n",
              "      <td>50,000+</td>\n",
              "      <td>Free</td>\n",
              "      <td>0</td>\n",
              "      <td>Everyone</td>\n",
              "      <td>Entertainment</td>\n",
              "      <td>June 15, 2018</td>\n",
              "      <td>2.0.0</td>\n",
              "      <td>4.4 and up</td>\n",
              "    </tr>\n",
              "    <tr>\n",
              "      <th>9077</th>\n",
              "      <td>Qserve EU MDR First Aid</td>\n",
              "      <td>BUSINESS</td>\n",
              "      <td>3.0</td>\n",
              "      <td>2</td>\n",
              "      <td>17M</td>\n",
              "      <td>100+</td>\n",
              "      <td>Free</td>\n",
              "      <td>0</td>\n",
              "      <td>Everyone</td>\n",
              "      <td>Business</td>\n",
              "      <td>May 11, 2017</td>\n",
              "      <td>1.2.22</td>\n",
              "      <td>4.1 and up</td>\n",
              "    </tr>\n",
              "    <tr>\n",
              "      <th>9078</th>\n",
              "      <td>The Artificial Intelligence Project (A.I. Chat)</td>\n",
              "      <td>FAMILY</td>\n",
              "      <td>3.0</td>\n",
              "      <td>76</td>\n",
              "      <td>39M</td>\n",
              "      <td>5,000+</td>\n",
              "      <td>Paid</td>\n",
              "      <td>$1.99</td>\n",
              "      <td>Everyone</td>\n",
              "      <td>Simulation</td>\n",
              "      <td>March 29, 2018</td>\n",
              "      <td>1.2</td>\n",
              "      <td>2.3 and up</td>\n",
              "    </tr>\n",
              "  </tbody>\n",
              "</table>\n",
              "<p>9079 rows × 13 columns</p>\n",
              "</div>"
            ],
            "text/plain": [
              "                                                   App  ...   Android Ver\n",
              "0                             Ek Bander Ne Kholi Dukan  ...    4.0 and up\n",
              "1                                 FA Player Essentials  ...  4.0.3 and up\n",
              "2                           Dine In CT - Food Delivery  ...    4.0 and up\n",
              "3                                     Eternal Light AG  ...  4.0.3 and up\n",
              "4                       BxPort - Bitcoin Bx (Thailand)  ...    4.2 and up\n",
              "...                                                ...  ...           ...\n",
              "9074                                       BN Mi Banco  ...    5.0 and up\n",
              "9075                         Emerge EV App (eBike App)  ...    6.0 and up\n",
              "9076  Acorn TV: World-class TV from Britain and Beyond  ...    4.4 and up\n",
              "9077                           Qserve EU MDR First Aid  ...    4.1 and up\n",
              "9078   The Artificial Intelligence Project (A.I. Chat)  ...    2.3 and up\n",
              "\n",
              "[9079 rows x 13 columns]"
            ]
          },
          "metadata": {
            "tags": []
          },
          "execution_count": 17
        }
      ]
    },
    {
      "cell_type": "markdown",
      "metadata": {
        "id": "KCcdJiyPqpom"
      },
      "source": [
        "### Задача 5"
      ]
    },
    {
      "cell_type": "markdown",
      "metadata": {
        "id": "5_O61Gc0p_Tb"
      },
      "source": [
        "Определите процент пустых ячеек к заполненным в начальной таблице. Результат выведите в процентах с округлением до двух знаков. "
      ]
    },
    {
      "cell_type": "markdown",
      "metadata": {
        "id": "M0oc4cCJtjQI"
      },
      "source": [
        "**Решение:**"
      ]
    },
    {
      "cell_type": "code",
      "metadata": {
        "id": "QVEGV0b_D0UD"
      },
      "source": [
        "empty = data.isnull().sum().sum()\n",
        "fill = data.size - empty\n",
        "print('{:.2f}%'.format(empty/fill))\n",
        "print('{}%'.format((empty/fill).round(2)))\n",
        "print(f'{(empty/fill).round(2)}%')"
      ],
      "execution_count": null,
      "outputs": []
    }
  ]
}