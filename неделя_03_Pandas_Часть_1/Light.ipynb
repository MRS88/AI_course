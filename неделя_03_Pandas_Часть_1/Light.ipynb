{
  "nbformat": 4,
  "nbformat_minor": 0,
  "metadata": {
    "colab": {
      "name": "Копия блокнота \"Pandas #1. Домашнее задание. Light. Университет Искусственного Интеллекта.ipynb\"",
      "provenance": [],
      "collapsed_sections": [],
      "include_colab_link": true
    },
    "kernelspec": {
      "name": "python3",
      "display_name": "Python 3"
    }
  },
  "cells": [
    {
      "cell_type": "markdown",
      "metadata": {
        "id": "view-in-github",
        "colab_type": "text"
      },
      "source": [
        "<a href=\"https://colab.research.google.com/github/MRS88/AI_course/blob/master/%D0%BD%D0%B5%D0%B4%D0%B5%D0%BB%D1%8F_03_Pandas_%D0%A7%D0%B0%D1%81%D1%82%D1%8C_1/Light.ipynb\" target=\"_parent\"><img src=\"https://colab.research.google.com/assets/colab-badge.svg\" alt=\"Open In Colab\"/></a>"
      ]
    },
    {
      "cell_type": "markdown",
      "metadata": {
        "id": "pE1Y1o7KJ2YE"
      },
      "source": [
        "### Задача 1\n",
        "Загрузите базу температур любым удобным способом. Выведите базу. Посчитайте число пустых записей в столбце State.\n",
        "\n",
        "Ссылка на скачивание базы: https://drive.google.com/file/d/1bLiz_81Kb4pMryEalRe66jS38_F6vwMX/view?usp=sharing"
      ]
    },
    {
      "cell_type": "markdown",
      "metadata": {
        "id": "2ezb2xCINL8_"
      },
      "source": [
        "**Решение:**"
      ]
    },
    {
      "cell_type": "code",
      "metadata": {
        "id": "B6MSVCRmC8nL",
        "colab": {
          "base_uri": "https://localhost:8080/",
          "height": 283
        },
        "outputId": "d5014081-2a51-41bc-b834-8231d01ed858"
      },
      "source": [
        "import pandas as pd\n",
        "\n",
        "data = pd.read_csv('/content/drive/My Drive/city_temperature.csv')\n",
        "print(data[::10000].head(10))\n",
        "print()\n",
        "data['State'].isna().sum() # число пустых записей"
      ],
      "execution_count": null,
      "outputs": [
        {
          "output_type": "stream",
          "text": [
            "       Region                   Country  State  ... Day  Year  AvgTemperature\n",
            "0      Africa                   Algeria    NaN  ...   1  1995            64.2\n",
            "10000  Africa                   Burundi    NaN  ...   4  1997           -99.0\n",
            "20000  Africa                     Benin    NaN  ...  14  2011            80.1\n",
            "30000  Africa  Central African Republic    NaN  ...  17  2013            72.4\n",
            "40000  Africa                     Congo    NaN  ...  21  2015            82.0\n",
            "50000  Africa                     Egypt    NaN  ...  24  2017            61.0\n",
            "60000  Africa                  Ethiopia    NaN  ...  28  2019            59.1\n",
            "70000  Africa                    Gambia    NaN  ...  23  1996            82.6\n",
            "80000  Africa                    Guinea    NaN  ...  26  2000           -99.0\n",
            "90000  Africa             Guinea-Bissau    NaN  ...  30  2002           -99.0\n",
            "\n",
            "[10 rows x 8 columns]\n",
            "\n"
          ],
          "name": "stdout"
        },
        {
          "output_type": "execute_result",
          "data": {
            "text/plain": [
              "153413"
            ]
          },
          "metadata": {
            "tags": []
          },
          "execution_count": 122
        }
      ]
    },
    {
      "cell_type": "markdown",
      "metadata": {
        "id": "L4tuO6nGPkge"
      },
      "source": [
        "### Задача 2\n",
        "Заполните пустые данные в базе словом \"No\". Запишите результат в ту же переменную. Выведите ее на экран."
      ]
    },
    {
      "cell_type": "markdown",
      "metadata": {
        "id": "FikmB_61P7JS"
      },
      "source": [
        "**Решение:**"
      ]
    },
    {
      "cell_type": "code",
      "metadata": {
        "id": "m0SAFNnLC9zG",
        "colab": {
          "base_uri": "https://localhost:8080/",
          "height": 406
        },
        "outputId": "400840e4-1040-445d-ad27-611673ef16ef"
      },
      "source": [
        "data = data.fillna(value='No')\n",
        "data"
      ],
      "execution_count": null,
      "outputs": [
        {
          "output_type": "execute_result",
          "data": {
            "text/html": [
              "<div>\n",
              "<style scoped>\n",
              "    .dataframe tbody tr th:only-of-type {\n",
              "        vertical-align: middle;\n",
              "    }\n",
              "\n",
              "    .dataframe tbody tr th {\n",
              "        vertical-align: top;\n",
              "    }\n",
              "\n",
              "    .dataframe thead th {\n",
              "        text-align: right;\n",
              "    }\n",
              "</style>\n",
              "<table border=\"1\" class=\"dataframe\">\n",
              "  <thead>\n",
              "    <tr style=\"text-align: right;\">\n",
              "      <th></th>\n",
              "      <th>Region</th>\n",
              "      <th>Country</th>\n",
              "      <th>State</th>\n",
              "      <th>City</th>\n",
              "      <th>Month</th>\n",
              "      <th>Day</th>\n",
              "      <th>Year</th>\n",
              "      <th>AvgTemperature</th>\n",
              "    </tr>\n",
              "  </thead>\n",
              "  <tbody>\n",
              "    <tr>\n",
              "      <th>0</th>\n",
              "      <td>Africa</td>\n",
              "      <td>Algeria</td>\n",
              "      <td>No</td>\n",
              "      <td>Algiers</td>\n",
              "      <td>1</td>\n",
              "      <td>1</td>\n",
              "      <td>1995</td>\n",
              "      <td>64.2</td>\n",
              "    </tr>\n",
              "    <tr>\n",
              "      <th>1</th>\n",
              "      <td>Africa</td>\n",
              "      <td>Algeria</td>\n",
              "      <td>No</td>\n",
              "      <td>Algiers</td>\n",
              "      <td>1</td>\n",
              "      <td>2</td>\n",
              "      <td>1995</td>\n",
              "      <td>49.4</td>\n",
              "    </tr>\n",
              "    <tr>\n",
              "      <th>2</th>\n",
              "      <td>Africa</td>\n",
              "      <td>Algeria</td>\n",
              "      <td>No</td>\n",
              "      <td>Algiers</td>\n",
              "      <td>1</td>\n",
              "      <td>3</td>\n",
              "      <td>1995</td>\n",
              "      <td>48.8</td>\n",
              "    </tr>\n",
              "    <tr>\n",
              "      <th>3</th>\n",
              "      <td>Africa</td>\n",
              "      <td>Algeria</td>\n",
              "      <td>No</td>\n",
              "      <td>Algiers</td>\n",
              "      <td>1</td>\n",
              "      <td>4</td>\n",
              "      <td>1995</td>\n",
              "      <td>46.4</td>\n",
              "    </tr>\n",
              "    <tr>\n",
              "      <th>4</th>\n",
              "      <td>Africa</td>\n",
              "      <td>Algeria</td>\n",
              "      <td>No</td>\n",
              "      <td>Algiers</td>\n",
              "      <td>1</td>\n",
              "      <td>5</td>\n",
              "      <td>1995</td>\n",
              "      <td>47.9</td>\n",
              "    </tr>\n",
              "    <tr>\n",
              "      <th>...</th>\n",
              "      <td>...</td>\n",
              "      <td>...</td>\n",
              "      <td>...</td>\n",
              "      <td>...</td>\n",
              "      <td>...</td>\n",
              "      <td>...</td>\n",
              "      <td>...</td>\n",
              "      <td>...</td>\n",
              "    </tr>\n",
              "    <tr>\n",
              "      <th>153408</th>\n",
              "      <td>Africa</td>\n",
              "      <td>Mozambique</td>\n",
              "      <td>No</td>\n",
              "      <td>Maputo</td>\n",
              "      <td>8</td>\n",
              "      <td>26</td>\n",
              "      <td>2013</td>\n",
              "      <td>69.6</td>\n",
              "    </tr>\n",
              "    <tr>\n",
              "      <th>153409</th>\n",
              "      <td>Africa</td>\n",
              "      <td>Mozambique</td>\n",
              "      <td>No</td>\n",
              "      <td>Maputo</td>\n",
              "      <td>8</td>\n",
              "      <td>27</td>\n",
              "      <td>2013</td>\n",
              "      <td>73.8</td>\n",
              "    </tr>\n",
              "    <tr>\n",
              "      <th>153410</th>\n",
              "      <td>Africa</td>\n",
              "      <td>Mozambique</td>\n",
              "      <td>No</td>\n",
              "      <td>Maputo</td>\n",
              "      <td>8</td>\n",
              "      <td>28</td>\n",
              "      <td>2013</td>\n",
              "      <td>79.5</td>\n",
              "    </tr>\n",
              "    <tr>\n",
              "      <th>153411</th>\n",
              "      <td>Africa</td>\n",
              "      <td>Mozambique</td>\n",
              "      <td>No</td>\n",
              "      <td>Maputo</td>\n",
              "      <td>8</td>\n",
              "      <td>29</td>\n",
              "      <td>2013</td>\n",
              "      <td>77.5</td>\n",
              "    </tr>\n",
              "    <tr>\n",
              "      <th>153412</th>\n",
              "      <td>Africa</td>\n",
              "      <td>Mozambique</td>\n",
              "      <td>No</td>\n",
              "      <td>Maputo</td>\n",
              "      <td>8</td>\n",
              "      <td>30</td>\n",
              "      <td>20</td>\n",
              "      <td>No</td>\n",
              "    </tr>\n",
              "  </tbody>\n",
              "</table>\n",
              "<p>153413 rows × 8 columns</p>\n",
              "</div>"
            ],
            "text/plain": [
              "        Region     Country State     City  Month  Day  Year AvgTemperature\n",
              "0       Africa     Algeria    No  Algiers      1    1  1995           64.2\n",
              "1       Africa     Algeria    No  Algiers      1    2  1995           49.4\n",
              "2       Africa     Algeria    No  Algiers      1    3  1995           48.8\n",
              "3       Africa     Algeria    No  Algiers      1    4  1995           46.4\n",
              "4       Africa     Algeria    No  Algiers      1    5  1995           47.9\n",
              "...        ...         ...   ...      ...    ...  ...   ...            ...\n",
              "153408  Africa  Mozambique    No   Maputo      8   26  2013           69.6\n",
              "153409  Africa  Mozambique    No   Maputo      8   27  2013           73.8\n",
              "153410  Africa  Mozambique    No   Maputo      8   28  2013           79.5\n",
              "153411  Africa  Mozambique    No   Maputo      8   29  2013           77.5\n",
              "153412  Africa  Mozambique    No   Maputo      8   30    20             No\n",
              "\n",
              "[153413 rows x 8 columns]"
            ]
          },
          "metadata": {
            "tags": []
          },
          "execution_count": 123
        }
      ]
    },
    {
      "cell_type": "markdown",
      "metadata": {
        "id": "4wSd0c6cHXy4"
      },
      "source": [
        "### Задание 3\n",
        "\n",
        "При помощи метода Pandas определите число уникальных записей в столбцах \"Country\", \"City\", \"Year\"."
      ]
    },
    {
      "cell_type": "markdown",
      "metadata": {
        "id": "0qBu8jZANGBY"
      },
      "source": [
        "**Решение:**"
      ]
    },
    {
      "cell_type": "code",
      "metadata": {
        "id": "o6e1OQ9ZC_kK",
        "colab": {
          "base_uri": "https://localhost:8080/",
          "height": 87
        },
        "outputId": "c04bf8bd-39f7-4500-c29c-263f58354bdd"
      },
      "source": [
        "data[['Country', 'City', 'Year']].nunique()\n"
      ],
      "execution_count": null,
      "outputs": [
        {
          "output_type": "execute_result",
          "data": {
            "text/plain": [
              "Country    18\n",
              "City       18\n",
              "Year       28\n",
              "dtype: int64"
            ]
          },
          "metadata": {
            "tags": []
          },
          "execution_count": 127
        }
      ]
    },
    {
      "cell_type": "markdown",
      "metadata": {
        "id": "ZqgZgXU3IaZF"
      },
      "source": [
        "### Задача 4\n",
        "При помощи библиотеки Pandas выведите строки, где в столбце \"Country\" встречается страна \"Russia\"\n",
        "\n",
        "При помощи метода Pandas отдельно выведите число элементов в этой выборке."
      ]
    },
    {
      "cell_type": "markdown",
      "metadata": {
        "id": "rCAbJ-HRNARr"
      },
      "source": [
        "**Решение:**"
      ]
    },
    {
      "cell_type": "code",
      "metadata": {
        "id": "aZxVQFGKDIJr",
        "colab": {
          "base_uri": "https://localhost:8080/",
          "height": 47
        },
        "outputId": "b8a5f619-9eba-49c6-931e-88a266a04a66"
      },
      "source": [
        "mask = data['Country'] == 'Russia'\n",
        "data[mask]"
      ],
      "execution_count": null,
      "outputs": [
        {
          "output_type": "execute_result",
          "data": {
            "text/html": [
              "<div>\n",
              "<style scoped>\n",
              "    .dataframe tbody tr th:only-of-type {\n",
              "        vertical-align: middle;\n",
              "    }\n",
              "\n",
              "    .dataframe tbody tr th {\n",
              "        vertical-align: top;\n",
              "    }\n",
              "\n",
              "    .dataframe thead th {\n",
              "        text-align: right;\n",
              "    }\n",
              "</style>\n",
              "<table border=\"1\" class=\"dataframe\">\n",
              "  <thead>\n",
              "    <tr style=\"text-align: right;\">\n",
              "      <th></th>\n",
              "      <th>Region</th>\n",
              "      <th>Country</th>\n",
              "      <th>State</th>\n",
              "      <th>City</th>\n",
              "      <th>Month</th>\n",
              "      <th>Day</th>\n",
              "      <th>Year</th>\n",
              "      <th>AvgTemperature</th>\n",
              "    </tr>\n",
              "  </thead>\n",
              "  <tbody>\n",
              "  </tbody>\n",
              "</table>\n",
              "</div>"
            ],
            "text/plain": [
              "Empty DataFrame\n",
              "Columns: [Region, Country, State, City, Month, Day, Year, AvgTemperature]\n",
              "Index: []"
            ]
          },
          "metadata": {
            "tags": []
          },
          "execution_count": 130
        }
      ]
    },
    {
      "cell_type": "markdown",
      "metadata": {
        "id": "HJQY0lbgNRkT"
      },
      "source": [
        "### Задача 5\n",
        "Создайте новый столбец температур, в котором будут записаны те же значения AvgTemperature, но в градусах Цельсия (исходная единица измерения - градусы Фаренгейта)."
      ]
    },
    {
      "cell_type": "markdown",
      "metadata": {
        "id": "M91qBqZ-Nq0P"
      },
      "source": [
        "**Решение:**"
      ]
    },
    {
      "cell_type": "code",
      "metadata": {
        "id": "I2JlfoFMDJRw",
        "colab": {
          "base_uri": "https://localhost:8080/",
          "height": 406
        },
        "outputId": "d9e971d8-b263-4cc3-937c-5a8f0899525b"
      },
      "source": [
        "# так как есть строковые данные 'No' в столбце\n",
        "try:\n",
        "  celc = ((data['AvgTemperature'] - 32) * 5 / 9).round(1)\n",
        "except TypeError:\n",
        "  pass\n",
        "data.assign(AvgTempCelc = celc)  "
      ],
      "execution_count": null,
      "outputs": [
        {
          "output_type": "execute_result",
          "data": {
            "text/html": [
              "<div>\n",
              "<style scoped>\n",
              "    .dataframe tbody tr th:only-of-type {\n",
              "        vertical-align: middle;\n",
              "    }\n",
              "\n",
              "    .dataframe tbody tr th {\n",
              "        vertical-align: top;\n",
              "    }\n",
              "\n",
              "    .dataframe thead th {\n",
              "        text-align: right;\n",
              "    }\n",
              "</style>\n",
              "<table border=\"1\" class=\"dataframe\">\n",
              "  <thead>\n",
              "    <tr style=\"text-align: right;\">\n",
              "      <th></th>\n",
              "      <th>Region</th>\n",
              "      <th>Country</th>\n",
              "      <th>State</th>\n",
              "      <th>City</th>\n",
              "      <th>Month</th>\n",
              "      <th>Day</th>\n",
              "      <th>Year</th>\n",
              "      <th>AvgTemperature</th>\n",
              "      <th>AvgTempCelc</th>\n",
              "    </tr>\n",
              "  </thead>\n",
              "  <tbody>\n",
              "    <tr>\n",
              "      <th>0</th>\n",
              "      <td>Africa</td>\n",
              "      <td>Algeria</td>\n",
              "      <td>No</td>\n",
              "      <td>Algiers</td>\n",
              "      <td>1</td>\n",
              "      <td>1</td>\n",
              "      <td>1995</td>\n",
              "      <td>64.2</td>\n",
              "      <td>17.9</td>\n",
              "    </tr>\n",
              "    <tr>\n",
              "      <th>1</th>\n",
              "      <td>Africa</td>\n",
              "      <td>Algeria</td>\n",
              "      <td>No</td>\n",
              "      <td>Algiers</td>\n",
              "      <td>1</td>\n",
              "      <td>2</td>\n",
              "      <td>1995</td>\n",
              "      <td>49.4</td>\n",
              "      <td>9.7</td>\n",
              "    </tr>\n",
              "    <tr>\n",
              "      <th>2</th>\n",
              "      <td>Africa</td>\n",
              "      <td>Algeria</td>\n",
              "      <td>No</td>\n",
              "      <td>Algiers</td>\n",
              "      <td>1</td>\n",
              "      <td>3</td>\n",
              "      <td>1995</td>\n",
              "      <td>48.8</td>\n",
              "      <td>9.3</td>\n",
              "    </tr>\n",
              "    <tr>\n",
              "      <th>3</th>\n",
              "      <td>Africa</td>\n",
              "      <td>Algeria</td>\n",
              "      <td>No</td>\n",
              "      <td>Algiers</td>\n",
              "      <td>1</td>\n",
              "      <td>4</td>\n",
              "      <td>1995</td>\n",
              "      <td>46.4</td>\n",
              "      <td>8.0</td>\n",
              "    </tr>\n",
              "    <tr>\n",
              "      <th>4</th>\n",
              "      <td>Africa</td>\n",
              "      <td>Algeria</td>\n",
              "      <td>No</td>\n",
              "      <td>Algiers</td>\n",
              "      <td>1</td>\n",
              "      <td>5</td>\n",
              "      <td>1995</td>\n",
              "      <td>47.9</td>\n",
              "      <td>8.8</td>\n",
              "    </tr>\n",
              "    <tr>\n",
              "      <th>...</th>\n",
              "      <td>...</td>\n",
              "      <td>...</td>\n",
              "      <td>...</td>\n",
              "      <td>...</td>\n",
              "      <td>...</td>\n",
              "      <td>...</td>\n",
              "      <td>...</td>\n",
              "      <td>...</td>\n",
              "      <td>...</td>\n",
              "    </tr>\n",
              "    <tr>\n",
              "      <th>153408</th>\n",
              "      <td>Africa</td>\n",
              "      <td>Mozambique</td>\n",
              "      <td>No</td>\n",
              "      <td>Maputo</td>\n",
              "      <td>8</td>\n",
              "      <td>26</td>\n",
              "      <td>2013</td>\n",
              "      <td>69.6</td>\n",
              "      <td>20.9</td>\n",
              "    </tr>\n",
              "    <tr>\n",
              "      <th>153409</th>\n",
              "      <td>Africa</td>\n",
              "      <td>Mozambique</td>\n",
              "      <td>No</td>\n",
              "      <td>Maputo</td>\n",
              "      <td>8</td>\n",
              "      <td>27</td>\n",
              "      <td>2013</td>\n",
              "      <td>73.8</td>\n",
              "      <td>23.2</td>\n",
              "    </tr>\n",
              "    <tr>\n",
              "      <th>153410</th>\n",
              "      <td>Africa</td>\n",
              "      <td>Mozambique</td>\n",
              "      <td>No</td>\n",
              "      <td>Maputo</td>\n",
              "      <td>8</td>\n",
              "      <td>28</td>\n",
              "      <td>2013</td>\n",
              "      <td>79.5</td>\n",
              "      <td>26.4</td>\n",
              "    </tr>\n",
              "    <tr>\n",
              "      <th>153411</th>\n",
              "      <td>Africa</td>\n",
              "      <td>Mozambique</td>\n",
              "      <td>No</td>\n",
              "      <td>Maputo</td>\n",
              "      <td>8</td>\n",
              "      <td>29</td>\n",
              "      <td>2013</td>\n",
              "      <td>77.5</td>\n",
              "      <td>25.3</td>\n",
              "    </tr>\n",
              "    <tr>\n",
              "      <th>153412</th>\n",
              "      <td>Africa</td>\n",
              "      <td>Mozambique</td>\n",
              "      <td>No</td>\n",
              "      <td>Maputo</td>\n",
              "      <td>8</td>\n",
              "      <td>30</td>\n",
              "      <td>20</td>\n",
              "      <td>No</td>\n",
              "      <td>NaN</td>\n",
              "    </tr>\n",
              "  </tbody>\n",
              "</table>\n",
              "<p>153413 rows × 9 columns</p>\n",
              "</div>"
            ],
            "text/plain": [
              "        Region     Country State  ...  Year  AvgTemperature  AvgTempCelc\n",
              "0       Africa     Algeria    No  ...  1995            64.2         17.9\n",
              "1       Africa     Algeria    No  ...  1995            49.4          9.7\n",
              "2       Africa     Algeria    No  ...  1995            48.8          9.3\n",
              "3       Africa     Algeria    No  ...  1995            46.4          8.0\n",
              "4       Africa     Algeria    No  ...  1995            47.9          8.8\n",
              "...        ...         ...   ...  ...   ...             ...          ...\n",
              "153408  Africa  Mozambique    No  ...  2013            69.6         20.9\n",
              "153409  Africa  Mozambique    No  ...  2013            73.8         23.2\n",
              "153410  Africa  Mozambique    No  ...  2013            79.5         26.4\n",
              "153411  Africa  Mozambique    No  ...  2013            77.5         25.3\n",
              "153412  Africa  Mozambique    No  ...    20              No          NaN\n",
              "\n",
              "[153413 rows x 9 columns]"
            ]
          },
          "metadata": {
            "tags": []
          },
          "execution_count": 131
        }
      ]
    }
  ]
}