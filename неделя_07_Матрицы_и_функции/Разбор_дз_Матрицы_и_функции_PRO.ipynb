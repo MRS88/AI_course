{
  "nbformat": 4,
  "nbformat_minor": 0,
  "metadata": {
    "colab": {
      "name": "Разбор дз Матрицы и функции. PRO",
      "provenance": [],
      "collapsed_sections": [],
      "include_colab_link": true
    },
    "kernelspec": {
      "name": "python3",
      "display_name": "Python 3"
    }
  },
  "cells": [
    {
      "cell_type": "markdown",
      "metadata": {
        "id": "view-in-github",
        "colab_type": "text"
      },
      "source": [
        "<a href=\"https://colab.research.google.com/github/MRS88/AI_course/blob/master/%D0%BD%D0%B5%D0%B4%D0%B5%D0%BB%D1%8F_07_%D0%9C%D0%B0%D1%82%D1%80%D0%B8%D1%86%D1%8B_%D0%B8_%D1%84%D1%83%D0%BD%D0%BA%D1%86%D0%B8%D0%B8/%D0%A0%D0%B0%D0%B7%D0%B1%D0%BE%D1%80_%D0%B4%D0%B7_%D0%9C%D0%B0%D1%82%D1%80%D0%B8%D1%86%D1%8B_%D0%B8_%D1%84%D1%83%D0%BD%D0%BA%D1%86%D0%B8%D0%B8_PRO.ipynb\" target=\"_parent\"><img src=\"https://colab.research.google.com/assets/colab-badge.svg\" alt=\"Open In Colab\"/></a>"
      ]
    },
    {
      "cell_type": "markdown",
      "metadata": {
        "id": "KMlmkLiw8SZR"
      },
      "source": [
        "## **Задача 1**\n",
        " \n",
        "Напишите код, который вычисляет значение следующей математической функции в зависимости от переменной х, где х - вектор\n",
        " \n",
        "$F(x) = \\frac{1}{25}AA^Tx + Bx + 5$\n",
        " \n",
        "* Создайте матрицы A и B размера 4 на 4, состоящие из случайных целых чисел в интервале от 1 до 10 (используйте соответствующую функцию модуля np.random)\n",
        "* Создайте вектор х размера 4, состоящие из случайных целых чисел в интервале от 1 до 5\n",
        "* Перемножение матриц, и матрицы на вектор должно быть матричное."
      ]
    },
    {
      "cell_type": "code",
      "metadata": {
        "id": "CEH_Gp-TNm8-",
        "colab": {
          "base_uri": "https://localhost:8080/",
          "height": 218
        },
        "outputId": "fb4e395d-7d27-414b-d0d3-ce16a4e43b72"
      },
      "source": [
        "a_matrix = np.random.randint(1, 10, (4, 4))\n",
        "b_matrix = np.random.randint(1, 10, (4, 4))\n",
        "x = np.random.randint(1, 5, 4)\n",
        "print('Матрица а\\n',a_matrix)\n",
        "print('Матрица b\\n',b_matrix)\n",
        "print('Матрица x\\n',x)\n"
      ],
      "execution_count": null,
      "outputs": [
        {
          "output_type": "stream",
          "text": [
            "Матрица а\n",
            " [[3 3 5 1]\n",
            " [8 2 1 2]\n",
            " [5 9 7 5]\n",
            " [7 8 1 3]]\n",
            "Матрица b\n",
            " [[3 2 9 4]\n",
            " [6 3 8 1]\n",
            " [9 6 9 3]\n",
            " [2 1 1 5]]\n",
            "Матрица x\n",
            " [3 3 2 1]\n"
          ],
          "name": "stdout"
        }
      ]
    },
    {
      "cell_type": "code",
      "metadata": {
        "id": "Hq5maiDslYnu",
        "colab": {
          "base_uri": "https://localhost:8080/",
          "height": 50
        },
        "outputId": "39e83bd9-9e90-4566-950d-1aa51a0eb049"
      },
      "source": [
        "res = 1/25 * a_matrix @ a_matrix.T @ x + b_matrix @ x + 5\n",
        "print('Результат функции\\n',res)"
      ],
      "execution_count": null,
      "outputs": [
        {
          "output_type": "stream",
          "text": [
            "Результат функции\n",
            " [ 60.4   71.36 109.4   52.08]\n"
          ],
          "name": "stdout"
        }
      ]
    },
    {
      "cell_type": "markdown",
      "metadata": {
        "id": "PA6MUg7y04Ro"
      },
      "source": [
        "##**Задача 2**\n",
        "\n",
        "Напишите функцию, которая находит все точки пересечения заданной одномерной математической функции с осью X и отображает их на графике функции красными кругами"
      ]
    },
    {
      "cell_type": "code",
      "metadata": {
        "id": "I8fSluore0WN",
        "colab": {
          "base_uri": "https://localhost:8080/",
          "height": 276
        },
        "outputId": "85f9064e-87e9-4c47-9a41-8fb9000c065c"
      },
      "source": [
        "# Функция\n",
        "def f3(x):\n",
        "  y = x*x*np.sin(x/300) + 300*x\n",
        "\n",
        "  return y\n",
        "\n",
        "# Функция, которая выводит график функции и отмечает точки пересечения с 0\n",
        "def plot_func(f, a, b):\n",
        "  x = np.linspace(a,b,10000)\n",
        "  y = [f(i) for i in x]\n",
        "  zero = []\n",
        "  for i in range(len(y)):\n",
        "    if abs(y[i]) < 2500:\n",
        "        zero.append(i)\n",
        "\n",
        "  plt.plot(x, y)\n",
        "  plt.plot([x[i] for i in zero], [y[i] for i in zero], 'ro')\n",
        "  plt.show()\n",
        "\n",
        "plot_func(f3,-2000,3000)"
      ],
      "execution_count": null,
      "outputs": [
        {
          "output_type": "display_data",
          "data": {
            "image/png": "[encoded data removed]",
            "text/plain": [
              "<Figure size 432x288 with 1 Axes>"
            ]
          },
          "metadata": {
            "tags": [],
            "needs_background": "light"
          }
        }
      ]
    },
    {
      "cell_type": "code",
      "metadata": {
        "id": "fKZgUvOWg_xU",
        "colab": {
          "base_uri": "https://localhost:8080/",
          "height": 34
        },
        "outputId": "78bbc02d-7497-42fa-8965-186ecffa1945"
      },
      "source": [
        "1e6"
      ],
      "execution_count": null,
      "outputs": [
        {
          "output_type": "execute_result",
          "data": {
            "text/plain": [
              "1000000.0"
            ]
          },
          "metadata": {
            "tags": []
          },
          "execution_count": 8
        }
      ]
    },
    {
      "cell_type": "code",
      "metadata": {
        "id": "U4Zzjg9LwAeE",
        "colab": {
          "base_uri": "https://localhost:8080/",
          "height": 185
        },
        "outputId": "5fa14920-5390-4a91-a970-abbac061d99b"
      },
      "source": [
        "x = np.linspace(-2000,3000,10000)\n",
        "y = [f3(i) for i in x]\n",
        "y[325:335]"
      ],
      "execution_count": null,
      "outputs": [
        {
          "output_type": "execute_result",
          "data": {
            "text/plain": [
              "[-19200.687145317672,\n",
              " -13786.483426107792,\n",
              " -8379.739266262157,\n",
              " -2980.4651685771532,\n",
              " 2411.328400576953,\n",
              " 7795.631011265097,\n",
              " 13172.432269995566,\n",
              " 18541.721819727565,\n",
              " 23903.489339880412,\n",
              " 29257.724546340527]"
            ]
          },
          "metadata": {
            "tags": []
          },
          "execution_count": 31
        }
      ]
    },
    {
      "cell_type": "code",
      "metadata": {
        "id": "ZUfvZkxkaKMs",
        "colab": {
          "base_uri": "https://localhost:8080/",
          "height": 265
        },
        "outputId": "663cfbf5-415f-4849-e4b6-16814164da7f"
      },
      "source": [
        "# Функция\n",
        "def f5(x):\n",
        "  y = np.sin(x)\n",
        "\n",
        "  return y\n",
        "\n",
        "# Функция, которая выводит график функции и отмечает точки пересечения с 0\n",
        "def plot_func(f, a, b):\n",
        "  x = np.linspace(a,b,10000)\n",
        "  y = [f(i) for i in x]\n",
        "  zero = []\n",
        "  for i in range(len(y)):\n",
        "    if abs(y[i]) < 0.001:\n",
        "        zero.append(i)\n",
        "\n",
        "  plt.plot(x, y)\n",
        "  plt.plot([x[i] for i in zero], [y[i] for i in zero], 'ro')\n",
        "  plt.show()\n",
        "\n",
        "plot_func(f5,-10,10)"
      ],
      "execution_count": null,
      "outputs": [
        {
          "output_type": "display_data",
          "data": {
            "image/png": "[encoded data removed]",
            "text/plain": [
              "<Figure size 432x288 with 1 Axes>"
            ]
          },
          "metadata": {
            "tags": [],
            "needs_background": "light"
          }
        }
      ]
    },
    {
      "cell_type": "markdown",
      "metadata": {
        "id": "weSQUISv3avD"
      },
      "source": [
        "## **Задача 3** \n",
        "\n",
        "Напишите функцию, которая получает на вход пару матриц и проверяет закон коммутативности матричного умножения, то есть свойства $A*B=B*A$, возвращая ```1``` в случае подтверждения и ```0``` в противном случае. Поставьте ```1000``` экспериментов для случайных целочисленных матриц размера ```(5,5)``` элементов, которые принадлежат отрезку ```[-5,5]```, и найдите количество успешных срабатываний."
      ]
    },
    {
      "cell_type": "code",
      "metadata": {
        "id": "dO0bQv03Nwtb"
      },
      "source": [
        "def matrix_com(matrix_1, matrix_2):\n",
        "  matrix_res1 = matrix_1.dot(matrix_2)\n",
        "  matrix_res2 = matrix_2.dot(matrix_1)\n",
        "  if (matrix_res1 == matrix_res2).all():\n",
        "    return 1\n",
        "  else:\n",
        "    return 0 "
      ],
      "execution_count": null,
      "outputs": []
    },
    {
      "cell_type": "code",
      "metadata": {
        "id": "-E2BzOxmR9KT",
        "colab": {
          "base_uri": "https://localhost:8080/",
          "height": 34
        },
        "outputId": "34f62291-56db-43eb-a26c-dc6d6da738fc"
      },
      "source": [
        "matrix_com(np.random.randint(-5, 5, (5,5)), np.random.randint(-5, 5, (5,5)))"
      ],
      "execution_count": null,
      "outputs": [
        {
          "output_type": "execute_result",
          "data": {
            "text/plain": [
              "0"
            ]
          },
          "metadata": {
            "tags": []
          },
          "execution_count": 7
        }
      ]
    },
    {
      "cell_type": "code",
      "metadata": {
        "id": "zB2SmCwKl5ep",
        "colab": {
          "base_uri": "https://localhost:8080/",
          "height": 187
        },
        "outputId": "1864d2b0-1554-4a40-ebff-459808d64a4b"
      },
      "source": [
        "for j in range (10):\n",
        "  res = 0\n",
        "  for i in range(1000):\n",
        "    matrix1 = np.random.randint(-5, 5, (5,5))\n",
        "    matrix2 = np.random.randint(-5, 5, (5,5))\n",
        "    res += matrix_com(matrix1, matrix2)\n",
        "  print('Количество коммутативных матриц в цикле', res)"
      ],
      "execution_count": null,
      "outputs": [
        {
          "output_type": "stream",
          "text": [
            "Количество коммутативных матриц в цикле 0\n",
            "Количество коммутативных матриц в цикле 0\n",
            "Количество коммутативных матриц в цикле 0\n",
            "Количество коммутативных матриц в цикле 0\n",
            "Количество коммутативных матриц в цикле 0\n",
            "Количество коммутативных матриц в цикле 0\n",
            "Количество коммутативных матриц в цикле 0\n",
            "Количество коммутативных матриц в цикле 0\n",
            "Количество коммутативных матриц в цикле 0\n",
            "Количество коммутативных матриц в цикле 0\n"
          ],
          "name": "stdout"
        }
      ]
    }
  ]
}