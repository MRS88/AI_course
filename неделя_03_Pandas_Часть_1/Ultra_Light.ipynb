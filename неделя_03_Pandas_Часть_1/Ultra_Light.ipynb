{
  "nbformat": 4,
  "nbformat_minor": 0,
  "metadata": {
    "colab": {
      "name": "Копия блокнота \"Pandas #1. Домашнее задание. Ultra-Light. Университет Искусственного Интеллекта.ipynb\"",
      "provenance": [],
      "collapsed_sections": [],
      "include_colab_link": true
    },
    "kernelspec": {
      "name": "python3",
      "display_name": "Python 3"
    }
  },
  "cells": [
    {
      "cell_type": "markdown",
      "metadata": {
        "id": "view-in-github",
        "colab_type": "text"
      },
      "source": [
        "<a href=\"https://colab.research.google.com/github/ShutTheFuckUpDonny/AI_course/blob/master/%D0%BD%D0%B5%D0%B4%D0%B5%D0%BB%D1%8F_03_Pandas_%D0%A7%D0%B0%D1%81%D1%82%D1%8C_1/Ultra_Light.ipynb\" target=\"_parent\"><img src=\"https://colab.research.google.com/assets/colab-badge.svg\" alt=\"Open In Colab\"/></a>"
      ]
    },
    {
      "cell_type": "markdown",
      "metadata": {
        "id": "tjFCQ3ZG9sn6"
      },
      "source": [
        "### Задание 1"
      ]
    },
    {
      "cell_type": "markdown",
      "metadata": {
        "id": "lIn6X8BgB9_E"
      },
      "source": [
        "Воссоздайте таблицу в виде Pandas DataFrame.\n",
        "\n",
        "![image.png](data:image/png;base64,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)"
      ]
    },
    {
      "cell_type": "markdown",
      "metadata": {
        "id": "lIaolcwW_3Hg"
      },
      "source": [
        "**Решение:**"
      ]
    },
    {
      "cell_type": "code",
      "metadata": {
        "id": "q9npylU2GKbP"
      },
      "source": [
        "import pandas as pd\n",
        "\n",
        "d = [[0, 0, 0, 0, 0, 0, 0],\n",
        "    [0, 1, 2, 3, 4, 5, 6],\n",
        "    [0, 2, 4, 6, 8, 10, 12],\n",
        "    [0, 3, 6, 9, 12, 15, 18]]\n",
        "f = [[0 for i in range(7)],\n",
        "    [i for i in range(7)],\n",
        "    [i for i in range(0, 13, 2)],\n",
        "    [i for i in range(0, 19, 3)]]\n",
        "df = pd.DataFrame(d)\n",
        "df\n",
        "#df_f = pd.DataFrame(f)\n",
        "#print(df_f)"
      ],
      "execution_count": null,
      "outputs": []
    },
    {
      "cell_type": "markdown",
      "metadata": {
        "id": "_LXAq1fXCFZg"
      },
      "source": [
        "### Задание 2"
      ]
    },
    {
      "cell_type": "markdown",
      "metadata": {
        "id": "tT4jusZCCIs6"
      },
      "source": [
        "Сложите все значения в таблице по столбцам без использования циклов и условий."
      ]
    },
    {
      "cell_type": "markdown",
      "metadata": {
        "id": "ABgHRBvUC5N-"
      },
      "source": [
        "**Решение:**"
      ]
    },
    {
      "cell_type": "code",
      "metadata": {
        "id": "WbluMtxjGLUF",
        "colab": {
          "base_uri": "https://localhost:8080/",
          "height": 158
        },
        "outputId": "0bc8502c-2fc1-4e13-ce57-0aa58d3ac860"
      },
      "source": [
        "df.sum()"
      ],
      "execution_count": null,
      "outputs": [
        {
          "output_type": "execute_result",
          "data": {
            "text/plain": [
              "0     0\n",
              "1     6\n",
              "2    12\n",
              "3    18\n",
              "4    24\n",
              "5    30\n",
              "6    36\n",
              "dtype: int64"
            ]
          },
          "metadata": {
            "tags": []
          },
          "execution_count": 32
        }
      ]
    },
    {
      "cell_type": "markdown",
      "metadata": {
        "id": "UG9w_A9jC7i5"
      },
      "source": [
        "### Задание 3"
      ]
    },
    {
      "cell_type": "markdown",
      "metadata": {
        "id": "Sf2OS-gaC7i6"
      },
      "source": [
        "При помощи метода Pandas выведите размерность матрицы. Убедитесь в корректности результата."
      ]
    },
    {
      "cell_type": "markdown",
      "metadata": {
        "id": "awB2hEn8C7i6"
      },
      "source": [
        "**Решение:**"
      ]
    },
    {
      "cell_type": "code",
      "metadata": {
        "id": "HzCIMqcTGMUB",
        "colab": {
          "base_uri": "https://localhost:8080/",
          "height": 34
        },
        "outputId": "04fb659d-af3a-4cf1-a4ee-580cc8ea8bd8"
      },
      "source": [
        "df.shape"
      ],
      "execution_count": null,
      "outputs": [
        {
          "output_type": "execute_result",
          "data": {
            "text/plain": [
              "(4, 7)"
            ]
          },
          "metadata": {
            "tags": []
          },
          "execution_count": 33
        }
      ]
    },
    {
      "cell_type": "markdown",
      "metadata": {
        "id": "66P1HKN3DwyJ"
      },
      "source": [
        "### Задание 4"
      ]
    },
    {
      "cell_type": "markdown",
      "metadata": {
        "id": "DaEJ27qJDwyK"
      },
      "source": [
        "При помощи метода Pandas выведите Series, содержащий данные из второго и пятого столбцов."
      ]
    },
    {
      "cell_type": "markdown",
      "metadata": {
        "id": "ER5Tc2cLDwyL"
      },
      "source": [
        "**Решение:**"
      ]
    },
    {
      "cell_type": "code",
      "metadata": {
        "id": "Wl5sOY95GNKv",
        "colab": {
          "base_uri": "https://localhost:8080/",
          "height": 194
        },
        "outputId": "1a49face-e6e5-48e0-f45e-58d58923c9a6"
      },
      "source": [
        "print(pd.Series(data=df[2]))\n",
        "print(pd.Series(data=df[5]))"
      ],
      "execution_count": null,
      "outputs": [
        {
          "output_type": "stream",
          "text": [
            "0    0\n",
            "1    2\n",
            "2    4\n",
            "3    6\n",
            "Name: 2, dtype: int64\n",
            "0     0\n",
            "1     5\n",
            "2    10\n",
            "3    15\n",
            "Name: 5, dtype: int64\n"
          ],
          "name": "stdout"
        }
      ]
    },
    {
      "cell_type": "markdown",
      "metadata": {
        "id": "5b-0JjkmFgVr"
      },
      "source": [
        "### Задание 5"
      ]
    },
    {
      "cell_type": "markdown",
      "metadata": {
        "id": "47p1DiYbFgVt"
      },
      "source": [
        "Добавьте в таблицу столбец **7**, содержащий значения **0, 7, 14, 21.**"
      ]
    },
    {
      "cell_type": "code",
      "metadata": {
        "id": "BbSwld_4GOSx",
        "colab": {
          "base_uri": "https://localhost:8080/",
          "height": 238
        },
        "outputId": "367f814f-688c-4b98-adbe-f82529dcb095"
      },
      "source": [
        "# для себя замерил прост\n",
        "%timeit df['7'] = [0, 7, 14, 21]\n",
        "%timeit df['8'] = [i for i in range(0, 22, 7)]\n",
        "df"
      ],
      "execution_count": null,
      "outputs": [
        {
          "output_type": "stream",
          "text": [
            "The slowest run took 19.38 times longer than the fastest. This could mean that an intermediate result is being cached.\n",
            "10000 loops, best of 3: 72.1 µs per loop\n",
            "The slowest run took 11.49 times longer than the fastest. This could mean that an intermediate result is being cached.\n",
            "10000 loops, best of 3: 73.8 µs per loop\n"
          ],
          "name": "stdout"
        },
        {
          "output_type": "execute_result",
          "data": {
            "text/html": [
              "<div>\n",
              "<style scoped>\n",
              "    .dataframe tbody tr th:only-of-type {\n",
              "        vertical-align: middle;\n",
              "    }\n",
              "\n",
              "    .dataframe tbody tr th {\n",
              "        vertical-align: top;\n",
              "    }\n",
              "\n",
              "    .dataframe thead th {\n",
              "        text-align: right;\n",
              "    }\n",
              "</style>\n",
              "<table border=\"1\" class=\"dataframe\">\n",
              "  <thead>\n",
              "    <tr style=\"text-align: right;\">\n",
              "      <th></th>\n",
              "      <th>0</th>\n",
              "      <th>1</th>\n",
              "      <th>2</th>\n",
              "      <th>3</th>\n",
              "      <th>4</th>\n",
              "      <th>5</th>\n",
              "      <th>6</th>\n",
              "      <th>7</th>\n",
              "      <th>8</th>\n",
              "    </tr>\n",
              "  </thead>\n",
              "  <tbody>\n",
              "    <tr>\n",
              "      <th>0</th>\n",
              "      <td>0</td>\n",
              "      <td>0</td>\n",
              "      <td>0</td>\n",
              "      <td>0</td>\n",
              "      <td>0</td>\n",
              "      <td>0</td>\n",
              "      <td>0</td>\n",
              "      <td>0</td>\n",
              "      <td>0</td>\n",
              "    </tr>\n",
              "    <tr>\n",
              "      <th>1</th>\n",
              "      <td>0</td>\n",
              "      <td>1</td>\n",
              "      <td>2</td>\n",
              "      <td>3</td>\n",
              "      <td>4</td>\n",
              "      <td>5</td>\n",
              "      <td>6</td>\n",
              "      <td>7</td>\n",
              "      <td>7</td>\n",
              "    </tr>\n",
              "    <tr>\n",
              "      <th>2</th>\n",
              "      <td>0</td>\n",
              "      <td>2</td>\n",
              "      <td>4</td>\n",
              "      <td>6</td>\n",
              "      <td>8</td>\n",
              "      <td>10</td>\n",
              "      <td>12</td>\n",
              "      <td>14</td>\n",
              "      <td>14</td>\n",
              "    </tr>\n",
              "    <tr>\n",
              "      <th>3</th>\n",
              "      <td>0</td>\n",
              "      <td>3</td>\n",
              "      <td>6</td>\n",
              "      <td>9</td>\n",
              "      <td>12</td>\n",
              "      <td>15</td>\n",
              "      <td>18</td>\n",
              "      <td>21</td>\n",
              "      <td>21</td>\n",
              "    </tr>\n",
              "  </tbody>\n",
              "</table>\n",
              "</div>"
            ],
            "text/plain": [
              "   0  1  2  3   4   5   6   7   8\n",
              "0  0  0  0  0   0   0   0   0   0\n",
              "1  0  1  2  3   4   5   6   7   7\n",
              "2  0  2  4  6   8  10  12  14  14\n",
              "3  0  3  6  9  12  15  18  21  21"
            ]
          },
          "metadata": {
            "tags": []
          },
          "execution_count": 36
        }
      ]
    }
  ]
}