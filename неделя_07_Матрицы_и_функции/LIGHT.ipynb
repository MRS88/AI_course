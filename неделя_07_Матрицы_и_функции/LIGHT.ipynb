{
  "nbformat": 4,
  "nbformat_minor": 0,
  "metadata": {
    "colab": {
      "name": "Копия блокнота \"Матрицы и функции. LIGHT\"",
      "provenance": [],
      "collapsed_sections": [],
      "include_colab_link": true
    },
    "kernelspec": {
      "name": "python3",
      "display_name": "Python 3"
    }
  },
  "cells": [
    {
      "cell_type": "markdown",
      "metadata": {
        "id": "view-in-github",
        "colab_type": "text"
      },
      "source": [
        "<a href=\"https://colab.research.google.com/github/MRS88/AI_course/blob/master/%D0%BD%D0%B5%D0%B4%D0%B5%D0%BB%D1%8F_07_%D0%9C%D0%B0%D1%82%D1%80%D0%B8%D1%86%D1%8B_%D0%B8_%D1%84%D1%83%D0%BD%D0%BA%D1%86%D0%B8%D0%B8/LIGHT.ipynb\" target=\"_parent\"><img src=\"https://colab.research.google.com/assets/colab-badge.svg\" alt=\"Open In Colab\"/></a>"
      ]
    },
    {
      "cell_type": "markdown",
      "metadata": {
        "id": "jplDGhCV53xQ"
      },
      "source": [
        "## **Задача 1**\n",
        "\n",
        "Напишите функцию умножения трёх матриц (не пользуйтесь встроенными функциями такими как  np.dot(), @)"
      ]
    },
    {
      "cell_type": "code",
      "metadata": {
        "id": "o9PT7GXO6o9t",
        "colab": {
          "base_uri": "https://localhost:8080/",
          "height": 156
        },
        "outputId": "d1e1795e-85a4-4c4f-b58f-991e567a9bcb"
      },
      "source": [
        "import numpy as np\n",
        "\n",
        "\n",
        "def my_matrix(matrix1, matrix2, matrix3):\n",
        "\n",
        "  #функция матричного умножения, принемающая на вход 2 матрицы\n",
        "  def prod_matrix_1():\n",
        "    shape1 = matrix1.shape # определим форму 1-ой матрицы\n",
        "    shape2 = matrix2.shape # определим форму 2-ой матрицы\n",
        "    \n",
        "    if (shape1[1] != shape2[0]): #если количество столбцов 1-ой матрицы не равно количеству строк 2-ой матрицы\n",
        "      return np.array([])        #возвращаем пустой массив\n",
        "    \n",
        "    out_matrix = np.zeros((shape1[0], shape2[1])) #создадим матрицу из 0, формой (количество строк 1-ой)Х(количество столбцов 2-ой) матриц\n",
        "    \n",
        "    for i in range(shape1[0]): #пройдемся по индексам строк 1-ой матрицы\n",
        "      for j in range(shape2[1]): #пройдемся по индексам столбцов 2-ой матрицы\n",
        "        curr_cell = 0\n",
        "        for t in range(shape1[1]): #пройдемся по индексам стобцов 1-ой матрицы\n",
        "          curr_cell += matrix1[i,t] * matrix2[t,j] #посчитаем сумму произведения элементов строки 1-ой матрицы и столбцов 2-ой матрицы\n",
        "        out_matrix[i,j] = curr_cell #заменим значения в матрице состоящих из 0, на посчитанную сумму произведений\n",
        "    \n",
        "    return out_matrix #вернем полученную матрицу\n",
        "\n",
        "  def prod_matrix_2():\n",
        "    shape1 = prod_matrix_1().shape # определим форму 1-ой матрицы\n",
        "    shape2 = matrix3.shape # определим форму 2-ой матрицы\n",
        "    \n",
        "    if (shape1[1] != shape2[0]): #если количество столбцов 1-ой матрицы не равно количеству строк 2-ой матрицы\n",
        "      return np.array([])        #возвращаем пустой массив\n",
        "    \n",
        "    out_matrix = np.zeros((shape1[0], shape2[1])) #создадим матрицу из 0, формой (количество строк 1-ой)Х(количество столбцов 2-ой) матриц\n",
        "    \n",
        "    for i in range(shape1[0]): #пройдемся по индексам строк 1-ой матрицы\n",
        "      for j in range(shape2[1]): #пройдемся по индексам столбцов 2-ой матрицы\n",
        "        curr_cell = 0\n",
        "        for t in range(shape1[1]): #пройдемся по индексам стобцов 1-ой матрицы\n",
        "          curr_cell += prod_matrix_1()[i,t] * matrix3[t,j] #посчитаем сумму произведения элементов строки 1-ой матрицы и столбцов 2-ой матрицы\n",
        "        out_matrix[i,j] = curr_cell #заменим значения в матрице состоящих из 0, на посчитанную сумму произведений\n",
        "    \n",
        "    return out_matrix #вернем полученную матрицу\n",
        "\n",
        "  return prod_matrix_2()\n",
        "\n",
        "matrix1 = np.array([[0, 1, 2], [1, 2, 3], [2, 3, 4], [3, 4, 5]]) #определим матрицу 4х3\n",
        "matrix2 = np.array([[0, 1, 2, 3], [1, 2, 3, 4], [2, 3, 4, 5]]) #определим матрицу 3х4\n",
        "matrix3 = np.array([[5, 11], [4, 7], [13, 6], [9, 1]]) #определим матрицу 4x2\n",
        "\n",
        "print(my_matrix(matrix1, matrix2, matrix3))\n",
        "\n",
        "print(matrix1 @ matrix2 @ matrix3)"
      ],
      "execution_count": null,
      "outputs": [
        {
          "output_type": "stream",
          "text": [
            "[[ 326.  191.]\n",
            " [ 590.  332.]\n",
            " [ 854.  473.]\n",
            " [1118.  614.]]\n",
            "[[ 326  191]\n",
            " [ 590  332]\n",
            " [ 854  473]\n",
            " [1118  614]]\n"
          ],
          "name": "stdout"
        }
      ]
    },
    {
      "cell_type": "markdown",
      "metadata": {
        "id": "BJJkft2r6svS"
      },
      "source": [
        "## **Задача 2**\n",
        "\n",
        "Напишите функцию, которая считает разницу между максимальным и минимальным элементами матрицы"
      ]
    },
    {
      "cell_type": "code",
      "metadata": {
        "id": "l_QbGpbW66WR",
        "colab": {
          "base_uri": "https://localhost:8080/",
          "height": 34
        },
        "outputId": "047c91d7-d281-4640-9487-b6a99ff200b3"
      },
      "source": [
        "def differ(matrix):\n",
        "  return np.max(matrix) - np.min(matrix)\n",
        "\n",
        "print(differ(matrix3))  "
      ],
      "execution_count": null,
      "outputs": [
        {
          "output_type": "stream",
          "text": [
            "12\n"
          ],
          "name": "stdout"
        }
      ]
    },
    {
      "cell_type": "markdown",
      "metadata": {
        "id": "d60LHjWW66gh"
      },
      "source": [
        "## **Задача 3**\n",
        "\n",
        "Напишите функцию, которая\n",
        "- умножает матрицу на транспорированную матрицу (пользуйтесь встроенными функциями такими как np.dot(), @, T)\n",
        "- получает обратную матрицу от результата"
      ]
    },
    {
      "cell_type": "code",
      "metadata": {
        "id": "jB3Nh4xP7cGy",
        "colab": {
          "base_uri": "https://localhost:8080/",
          "height": 86
        },
        "outputId": "5796730b-b538-4023-9e2e-0782636681d6"
      },
      "source": [
        "def func(matrix):\n",
        "  matrix = np.dot(matrix, matrix.T)\n",
        "  return np.linalg.inv(matrix)\n",
        "\n",
        "print(func(matrix3))  \n"
      ],
      "execution_count": null,
      "outputs": [
        {
          "output_type": "stream",
          "text": [
            "[[-3.33300138e+14  5.23856207e+14  1.03096784e+13 -6.25499948e+13]\n",
            " [ 5.77757142e+14 -8.83518677e+14 -5.32090111e+13  1.48556238e+14]\n",
            " [-6.72550829e+13  7.03687442e+13  5.29322412e+13 -7.03687442e+13]\n",
            " [ 2.55320222e+13  0.00000000e+00 -5.85368314e+13  7.03687442e+13]]\n"
          ],
          "name": "stdout"
        }
      ]
    },
    {
      "cell_type": "markdown",
      "metadata": {
        "id": "kW6CHp2Z0f9a"
      },
      "source": [
        "##**Задача 4**\n",
        "\n",
        "Напишите и отобразите функцию y = x * x * x/12 + x * (x-15) - 72 на отрезке -10; 10"
      ]
    },
    {
      "cell_type": "code",
      "metadata": {
        "id": "z5HR1J670vSA",
        "colab": {
          "base_uri": "https://localhost:8080/",
          "height": 265
        },
        "outputId": "363a455b-4b37-4b31-9ed0-5b74aa585684"
      },
      "source": [
        "import matplotlib.pyplot as plt\n",
        "\n",
        "\n",
        "def task_4(a, b):\n",
        "  x = np.arange(a, b)\n",
        "  y =  x * x * x/12 + x * (x-15) - 72\n",
        "  plt.plot(x, y)\n",
        "  plt.grid()\n",
        "  plt.show()\n",
        "\n",
        "task_4(-10, 10)  \n",
        "\n"
      ],
      "execution_count": null,
      "outputs": [
        {
          "output_type": "display_data",
          "data": {
            "image/png": "[encoded data removed]",
            "text/plain": [
              "<Figure size 432x288 with 1 Axes>"
            ]
          },
          "metadata": {
            "tags": [],
            "needs_background": "light"
          }
        }
      ]
    },
    {
      "cell_type": "markdown",
      "metadata": {
        "id": "cmn1rGQu0vbw"
      },
      "source": [
        "##**Задача 5**\n",
        "\n",
        "Отобразите ту же функцию на отрезке -10; 10, но с шагом 0.1 по оси x"
      ]
    },
    {
      "cell_type": "code",
      "metadata": {
        "id": "03vBvVYJ04JJ",
        "colab": {
          "base_uri": "https://localhost:8080/",
          "height": 265
        },
        "outputId": "ce091abd-b9cb-403c-f8ee-9310d1c80c5a"
      },
      "source": [
        "def task_4(a, b, s=1):\n",
        "  x = np.arange(a, b, s)\n",
        "  y =  x * x * x/12 + x * (x-15) - 72\n",
        "  plt.plot(x, y)\n",
        "  plt.grid()\n",
        "  plt.show()\n",
        "\n",
        "task_4(-10, 10, 0.1)"
      ],
      "execution_count": null,
      "outputs": [
        {
          "output_type": "display_data",
          "data": {
            "image/png": "[encoded data removed]",
            "text/plain": [
              "<Figure size 432x288 with 1 Axes>"
            ]
          },
          "metadata": {
            "tags": [],
            "needs_background": "light"
          }
        }
      ]
    }
  ]
}