{
  "nbformat": 4,
  "nbformat_minor": 0,
  "metadata": {
    "colab": {
      "name": "Синтаксис Python. Разбор домашнего задания. Pro. Университет Искусственного Интеллекта.ipynb",
      "provenance": [],
      "collapsed_sections": [],
      "include_colab_link": true
    },
    "kernelspec": {
      "name": "python3",
      "display_name": "Python 3"
    }
  },
  "cells": [
    {
      "cell_type": "markdown",
      "metadata": {
        "id": "view-in-github",
        "colab_type": "text"
      },
      "source": [
        "<a href=\"https://colab.research.google.com/github/ShutTheFuckUpDonny/AI_course/blob/master/%D0%BD%D0%B5%D0%B4%D0%B5%D0%BB%D1%8F_01_%D0%A1%D0%B8%D0%BD%D1%82%D0%B0%D0%BA%D1%81%D0%B8%D1%81/%D0%A1%D0%B8%D0%BD%D1%82%D0%B0%D0%BA%D1%81%D0%B8%D1%81_Python_%D0%A0%D0%B0%D0%B7%D0%B1%D0%BE%D1%80_%D0%B4%D0%BE%D0%BC%D0%B0%D1%88%D0%BD%D0%B5%D0%B3%D0%BE_%D0%B7%D0%B0%D0%B4%D0%B0%D0%BD%D0%B8%D1%8F_Pro_%D0%A3%D0%BD%D0%B8%D0%B2%D0%B5%D1%80%D1%81%D0%B8%D1%82%D0%B5%D1%82_%D0%98%D1%81%D0%BA%D1%83%D1%81%D1%81%D1%82%D0%B2%D0%B5%D0%BD%D0%BD%D0%BE%D0%B3%D0%BE_%D0%98%D0%BD%D1%82%D0%B5%D0%BB%D0%BB%D0%B5%D0%BA%D1%82%D0%B0.ipynb\" target=\"_parent\"><img src=\"https://colab.research.google.com/assets/colab-badge.svg\" alt=\"Open In Colab\"/></a>"
      ]
    },
    {
      "cell_type": "markdown",
      "metadata": {
        "id": "g9pd3inChdqC"
      },
      "source": [
        "### Задача 1\n",
        "\n",
        "Выведите на экран следующий паттерн:\n",
        "\n",
        "@\n",
        "\n",
        "@ @\n",
        "\n",
        "@ @ @\n",
        "\n",
        "@ @ @ @ @\n",
        "\n",
        "Обратите внимание на пробел между символами. Рекомендуется использовать циклы (любые) для решения данного задания."
      ]
    },
    {
      "cell_type": "markdown",
      "metadata": {
        "id": "_anmPG8lqDql"
      },
      "source": [
        "**Решение 1:**"
      ]
    },
    {
      "cell_type": "code",
      "metadata": {
        "id": "PmrjGgWe_pxx",
        "colab": {
          "base_uri": "https://localhost:8080/",
          "height": 85
        },
        "outputId": "a079ab0c-f72b-4b24-ac9a-ca91190af777"
      },
      "source": [
        "print (\"@\")\n",
        "print (\"@ @\")\n",
        "print (\"@ @ @\")\n",
        "print (\"@ @ @ @ @\")"
      ],
      "execution_count": null,
      "outputs": [
        {
          "output_type": "stream",
          "text": [
            "@\n",
            "@ @\n",
            "@ @ @\n",
            "@ @ @ @ @\n"
          ],
          "name": "stdout"
        }
      ]
    },
    {
      "cell_type": "markdown",
      "metadata": {
        "id": "gD7YzJvnW2z_"
      },
      "source": [
        "**Решение 2:**"
      ]
    },
    {
      "cell_type": "code",
      "metadata": {
        "id": "WkoBHwMaAG4q",
        "colab": {
          "base_uri": "https://localhost:8080/",
          "height": 85
        },
        "outputId": "755ed2bc-f6ba-49aa-e0ea-c50c3dd84a2b"
      },
      "source": [
        "for i in range(1, 6): # Проходим в цикле от 1 до 5 включительно\n",
        "  if i!=4: # Если итератор i не равен 4\n",
        "    print('@ '*i) # Печатаем '@ ' i-раз"
      ],
      "execution_count": null,
      "outputs": [
        {
          "output_type": "stream",
          "text": [
            "@ \n",
            "@ @ \n",
            "@ @ @ \n",
            "@ @ @ @ @ \n"
          ],
          "name": "stdout"
        }
      ]
    },
    {
      "cell_type": "markdown",
      "metadata": {
        "id": "r6N3qHuoW4br"
      },
      "source": [
        "**Решение 3:**"
      ]
    },
    {
      "cell_type": "code",
      "metadata": {
        "id": "m-AjkwVKATnB",
        "colab": {
          "base_uri": "https://localhost:8080/",
          "height": 85
        },
        "outputId": "eac26109-fd04-438a-e552-92f250c08b5e"
      },
      "source": [
        "my_list = [1,2,3,5]\n",
        "for i in my_list: # Проходим в цикле от 1 до 5 включительно\n",
        "  print('@ ' * i) # Печатаем '@ ' i-раз"
      ],
      "execution_count": null,
      "outputs": [
        {
          "output_type": "stream",
          "text": [
            "@ \n",
            "@ @ \n",
            "@ @ @ \n",
            "@ @ @ @ @ \n"
          ],
          "name": "stdout"
        }
      ]
    },
    {
      "cell_type": "markdown",
      "metadata": {
        "id": "Vh7SqVB5hdqL"
      },
      "source": [
        "### Задача 2\n",
        "\n",
        "Выведите на экран следующий паттерн:\n",
        "\n",
        "1\n",
        "\n",
        "2 2 \n",
        "\n",
        "3 3 3 \n",
        "\n",
        "4 4 4 4 \n",
        "\n",
        "5 5 5 5 5\n",
        "\n",
        "6 6 6 6\n",
        "\n",
        "7 7 7\n",
        "\n",
        "8 8\n",
        "\n",
        "9\n",
        "\n",
        "Обратите внимание на пробел между символами. Рекомендуется использовать циклы (любые) для решения данного задания."
      ]
    },
    {
      "cell_type": "markdown",
      "metadata": {
        "id": "k3Om_nPxuOWF"
      },
      "source": [
        "**Решение:**"
      ]
    },
    {
      "cell_type": "code",
      "metadata": {
        "id": "mrfBGAx8uOWH",
        "colab": {
          "base_uri": "https://localhost:8080/",
          "height": 170
        },
        "outputId": "e7ac2ea6-ada8-433e-ad1c-01d9fd7bca5d"
      },
      "source": [
        "for i in range(1, 10): # Создаем цикл от 1 до 9 включительно\n",
        "  if i <= 5: # Если итератор i меньше или равне 5\n",
        "    print((str(i) + ' ') * i) # Выводим значение i, разделенное пробелом i - раз\n",
        "  else: # В противном случае (если итератор i больше 5)\n",
        "    print((str(i) + ' ') * (10 - i)) # Выводим значение i, разделенное пробелом (10-i - раз)"
      ],
      "execution_count": null,
      "outputs": [
        {
          "output_type": "stream",
          "text": [
            "1 \n",
            "2 2 \n",
            "3 3 3 \n",
            "4 4 4 4 \n",
            "5 5 5 5 5 \n",
            "6 6 6 6 \n",
            "7 7 7 \n",
            "8 8 \n",
            "9 \n"
          ],
          "name": "stdout"
        }
      ]
    },
    {
      "cell_type": "markdown",
      "metadata": {
        "id": "IMoF_J7AhdqT"
      },
      "source": [
        "### Задача 3\n",
        "\n",
        "Используя цикл while, выведите на экран таблицу умножения для числа 7.\n",
        "\n",
        "**Пример**\n",
        "    \n",
        "Для числа 5 выдача выглядит так:\n",
        "    \n",
        "5 * 1 = 5\n",
        "\n",
        "5 * 2 = 10\n",
        "\n",
        "5 * 3 = 15\n",
        "\n",
        "5 * 4 = 20\n",
        "\n",
        "5 * 5 = 25\n",
        "\n",
        "...\n",
        "\n",
        "5 * 9 = 45"
      ]
    },
    {
      "cell_type": "markdown",
      "metadata": {
        "id": "cZ7X_QtSuOnz"
      },
      "source": [
        "**Решение:**"
      ]
    },
    {
      "cell_type": "code",
      "metadata": {
        "id": "K-6uXrJVuOn0",
        "colab": {
          "base_uri": "https://localhost:8080/",
          "height": 170
        },
        "outputId": "0843449e-b786-40e5-833c-b8ef5cb1dc8a"
      },
      "source": [
        "i = 0\n",
        "while i != 9:\n",
        "  i += 1\n",
        "  print('7 * ', i, ' = ', i * 7)"
      ],
      "execution_count": null,
      "outputs": [
        {
          "output_type": "stream",
          "text": [
            "7 *  1  =  7\n",
            "7 *  2  =  14\n",
            "7 *  3  =  21\n",
            "7 *  4  =  28\n",
            "7 *  5  =  35\n",
            "7 *  6  =  42\n",
            "7 *  7  =  49\n",
            "7 *  8  =  56\n",
            "7 *  9  =  63\n"
          ],
          "name": "stdout"
        }
      ]
    },
    {
      "cell_type": "markdown",
      "metadata": {
        "id": "rvEbKNeIhdqY"
      },
      "source": [
        "### Задача 4\n",
        "\n",
        "Представьте, что вы подбрасываете два кубика одновременно. Считайте с входящей строки два целых числа d1 и d2. Проверьте, соответсуют ли введенные числа интервалу значений для кубика. Если нет, то выведите на экран строку \"Ошибка! Значение на кубике (1 или 2, вставьте подходящее значение) не входит в интервал [1, 6]\". В противном случае посчитайте сумму выпавших значений. Если сумма равна 7 или 11, выведите на экран \"Я победил!!!\". Если сумма равна 2, 3 или 12, то выведите на экран \"Я проиграл :(\". Во всех остальных случаях выведите на экран сумму значений.\n"
      ]
    },
    {
      "cell_type": "markdown",
      "metadata": {
        "id": "LpsSV2UCuO5G"
      },
      "source": [
        "**Решение:**"
      ]
    },
    {
      "cell_type": "code",
      "metadata": {
        "id": "H8F17i8uuO5H",
        "colab": {
          "base_uri": "https://localhost:8080/",
          "height": 68
        },
        "outputId": "a6147dc8-f96c-4826-9345-15a057b7e7ae"
      },
      "source": [
        "d1 = int(input('Введите результат на первом кубике:')) #Создаем переменную для первого кубика\n",
        "d2 = int(input('Введите результат на первом кубике:')) #Создаем переменную для первого кубика\n",
        "\n",
        "norma = [1, 2, 3, 4, 5, 6] #Указываем приемлемые значения для кубиков\n",
        "\n",
        "#Проверяем корректность данных для первого кубика\n",
        "if d1 not in norma:\n",
        "  print(('Ошибка! Значение на кубике 1 - {}').format(d1))\n",
        "\n",
        "#Проверяем корректность данных для второго кубика\n",
        "if d2 not in norma:\n",
        "  print(('Ошибка! Значение на кубике 2 - {}').format(d2))\n",
        "\n",
        "#Если значения кубиков верны\n",
        "if d1 in norma and d2 in norma:\n",
        "\n",
        "  d_sum = d1 + d2  #Считаем сумму\n",
        "\n",
        "  #Считаем результат игры\n",
        "  if d_sum==7 or d_sum==11:\n",
        "    print('Я победил!')\n",
        "\n",
        "  elif d_sum==2 or d_sum==3 or d_sum==12:\n",
        "    print('Я проиграл :(')\n",
        "\n",
        "  else:\n",
        "    print('Сумма значений =', d_sum)"
      ],
      "execution_count": null,
      "outputs": [
        {
          "output_type": "stream",
          "text": [
            "Введите результат на первом кубике:1\n",
            "Введите результат на первом кубике:5\n",
            "Сумма значений = 6\n"
          ],
          "name": "stdout"
        }
      ]
    },
    {
      "cell_type": "markdown",
      "metadata": {
        "id": "OTSU9QTLhdqe"
      },
      "source": [
        "### Задача 5\n",
        "\n",
        "Напишите код, который ищет все числа в интервале от 3000 до 4300 включительно, делящиеся на 11, но не делящиеся на 5. Выведите на экран все найденные числа."
      ]
    },
    {
      "cell_type": "markdown",
      "metadata": {
        "id": "LP2a2huguPMf"
      },
      "source": [
        "**Решение:**"
      ]
    },
    {
      "cell_type": "code",
      "metadata": {
        "id": "lFNZisdcuPMg",
        "colab": {
          "base_uri": "https://localhost:8080/",
          "height": 1000
        },
        "outputId": "f39532e0-fb9b-4d8c-9b13-7bd7b556fa29"
      },
      "source": [
        "for i in range (3000, 4301): # Проходим в цикле по всем элементам от 3000 до 4300\n",
        "    if ((i % 11 == 0) and (i % 5 != 0)): # Проверяем, что если текущий элемент делится на 11 без остатка и не делится без остатка на 5\n",
        "        print (i)  # Выводим этот элемент"
      ],
      "execution_count": null,
      "outputs": [
        {
          "output_type": "stream",
          "text": [
            "3003\n",
            "3014\n",
            "3036\n",
            "3047\n",
            "3058\n",
            "3069\n",
            "3091\n",
            "3102\n",
            "3113\n",
            "3124\n",
            "3146\n",
            "3157\n",
            "3168\n",
            "3179\n",
            "3201\n",
            "3212\n",
            "3223\n",
            "3234\n",
            "3256\n",
            "3267\n",
            "3278\n",
            "3289\n",
            "3311\n",
            "3322\n",
            "3333\n",
            "3344\n",
            "3366\n",
            "3377\n",
            "3388\n",
            "3399\n",
            "3421\n",
            "3432\n",
            "3443\n",
            "3454\n",
            "3476\n",
            "3487\n",
            "3498\n",
            "3509\n",
            "3531\n",
            "3542\n",
            "3553\n",
            "3564\n",
            "3586\n",
            "3597\n",
            "3608\n",
            "3619\n",
            "3641\n",
            "3652\n",
            "3663\n",
            "3674\n",
            "3696\n",
            "3707\n",
            "3718\n",
            "3729\n",
            "3751\n",
            "3762\n",
            "3773\n",
            "3784\n",
            "3806\n",
            "3817\n",
            "3828\n",
            "3839\n",
            "3861\n",
            "3872\n",
            "3883\n",
            "3894\n",
            "3916\n",
            "3927\n",
            "3938\n",
            "3949\n",
            "3971\n",
            "3982\n",
            "3993\n",
            "4004\n",
            "4026\n",
            "4037\n",
            "4048\n",
            "4059\n",
            "4081\n",
            "4092\n",
            "4103\n",
            "4114\n",
            "4136\n",
            "4147\n",
            "4158\n",
            "4169\n",
            "4191\n",
            "4202\n",
            "4213\n",
            "4224\n",
            "4246\n",
            "4257\n",
            "4268\n",
            "4279\n"
          ],
          "name": "stdout"
        }
      ]
    },
    {
      "cell_type": "code",
      "metadata": {
        "id": "u3J8VBANXkDM"
      },
      "source": [
        ""
      ],
      "execution_count": null,
      "outputs": []
    }
  ]
}