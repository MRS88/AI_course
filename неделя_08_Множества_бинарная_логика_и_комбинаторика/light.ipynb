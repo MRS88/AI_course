{
  "nbformat": 4,
  "nbformat_minor": 0,
  "metadata": {
    "colab": {
      "name": "Копия блокнота \"ДЗ 8. light\"",
      "provenance": [],
      "collapsed_sections": [],
      "include_colab_link": true
    },
    "kernelspec": {
      "name": "python3",
      "display_name": "Python 3"
    }
  },
  "cells": [
    {
      "cell_type": "markdown",
      "metadata": {
        "id": "view-in-github",
        "colab_type": "text"
      },
      "source": [
        "<a href=\"https://colab.research.google.com/github/MRS88/AI_course/blob/master/%D0%BD%D0%B5%D0%B4%D0%B5%D0%BB%D1%8F_08_%D0%9C%D0%BD%D0%BE%D0%B6%D0%B5%D1%81%D1%82%D0%B2%D0%B0_%D0%B1%D0%B8%D0%BD%D0%B0%D1%80%D0%BD%D0%B0%D1%8F_%D0%BB%D0%BE%D0%B3%D0%B8%D0%BA%D0%B0_%D0%B8_%D0%BA%D0%BE%D0%BC%D0%B1%D0%B8%D0%BD%D0%B0%D1%82%D0%BE%D1%80%D0%B8%D0%BA%D0%B0/light.ipynb\" target=\"_parent\"><img src=\"https://colab.research.google.com/assets/colab-badge.svg\" alt=\"Open In Colab\"/></a>"
      ]
    },
    {
      "cell_type": "code",
      "metadata": {
        "id": "ft_aZI3JcEkv"
      },
      "source": [
        "def P(n): #(факторил)\n",
        "  f =1\n",
        "  for x in range(2,n+1):\n",
        "    f*=x\n",
        "  return f\n",
        "\n",
        "# Сочетание \n",
        "def C_n_m(n,m):\n",
        "  return P(n)/ (P(n-m)* P(m))\n",
        "\n",
        "# Размещение \n",
        "def A_(n,m):\n",
        "  return C_n_m(n,m) * P(m)\n",
        "\n",
        "# Перестановка с повторением\n",
        "def P_rep(n,m):\n",
        "  add = 1\n",
        "  for x in m:\n",
        "    add*=P(x)\n",
        "  return P(n)/ add\n",
        "\n",
        "# Сочетание с повторением\n",
        "def C_n_m_rep(n,m):\n",
        "  return P(n+m-1)/ (P(n-1)* P(m))\n",
        "\n",
        "# Размещение с повторением\n",
        "def A_rep(n,m):\n",
        "  return n**m\n",
        "\n",
        "\n"
      ],
      "execution_count": null,
      "outputs": []
    },
    {
      "cell_type": "markdown",
      "metadata": {
        "id": "3Mq5CACckeYC"
      },
      "source": [
        "# Комбинаторика"
      ]
    },
    {
      "cell_type": "markdown",
      "metadata": {
        "id": "mou3NzKpvSgV"
      },
      "source": [
        "###Задача 1\n",
        "\n",
        "Сколько четырёхзначных чисел можно составить из следующих четырёх цифр: 1, 6, 3, 0? Цифры не должны повторяться в одном четырехзначном числе."
      ]
    },
    {
      "cell_type": "code",
      "metadata": {
        "id": "7uZOCkkQvylp",
        "colab": {
          "base_uri": "https://localhost:8080/",
          "height": 34
        },
        "outputId": "5ecc4978-d6ec-48c0-84db-fb341872ecd3"
      },
      "source": [
        "P(4)"
      ],
      "execution_count": null,
      "outputs": [
        {
          "output_type": "execute_result",
          "data": {
            "text/plain": [
              "24"
            ]
          },
          "metadata": {
            "tags": []
          },
          "execution_count": 3
        }
      ]
    },
    {
      "cell_type": "markdown",
      "metadata": {
        "id": "ftyDoxBtvSuF"
      },
      "source": [
        "###Задача 2\n",
        "\n",
        "Сколькими способами из колоды в 36 карт можно выбрать 3 карты? (порядок выбора нам не важен)"
      ]
    },
    {
      "cell_type": "code",
      "metadata": {
        "id": "ai5H3ludvzFW",
        "colab": {
          "base_uri": "https://localhost:8080/",
          "height": 34
        },
        "outputId": "7b1ee186-f818-44f0-bd28-2ef53fa2c474"
      },
      "source": [
        "C_n_m(36,3)"
      ],
      "execution_count": null,
      "outputs": [
        {
          "output_type": "execute_result",
          "data": {
            "text/plain": [
              "7140.0"
            ]
          },
          "metadata": {
            "tags": []
          },
          "execution_count": 20
        }
      ]
    },
    {
      "cell_type": "markdown",
      "metadata": {
        "id": "HQirwSuavS4t"
      },
      "source": [
        "###Задача 3\n",
        "\n",
        "На должность менеджера по продажам и его ассистента подали резюме 23 человека. Сколькими способами можно выбрать двух финальных кандидатов?"
      ]
    },
    {
      "cell_type": "code",
      "metadata": {
        "id": "7lMrkGDbvzp4",
        "colab": {
          "base_uri": "https://localhost:8080/",
          "height": 34
        },
        "outputId": "30234ee2-774d-4f1b-f8f5-60245cb43522"
      },
      "source": [
        "A_(23,2)"
      ],
      "execution_count": null,
      "outputs": [
        {
          "output_type": "execute_result",
          "data": {
            "text/plain": [
              "506.0"
            ]
          },
          "metadata": {
            "tags": []
          },
          "execution_count": 10
        }
      ]
    },
    {
      "cell_type": "markdown",
      "metadata": {
        "id": "ozHQXry5n2IS"
      },
      "source": [
        "# Множества"
      ]
    },
    {
      "cell_type": "markdown",
      "metadata": {
        "id": "mEyOoNiAdgdm"
      },
      "source": [
        "**Light**\n"
      ]
    },
    {
      "cell_type": "markdown",
      "metadata": {
        "id": "2YOEEyyKuYDY"
      },
      "source": [
        "###Задача 1\n",
        " \n",
        "  Записать множество Е, если $E = A\\cap B $, причем А={2, 4, 6, 8, 10, 12}, B={3, 6, 9, 12}."
      ]
    },
    {
      "cell_type": "code",
      "metadata": {
        "id": "qBVQ5iklu1pD",
        "colab": {
          "base_uri": "https://localhost:8080/",
          "height": 34
        },
        "outputId": "ac30d502-11e6-4c88-c529-f3f1197032ee"
      },
      "source": [
        "A = {2, 4, 6, 8, 10, 12}\n",
        "B = {3, 6, 9, 12}\n",
        "E = A.intersection(B)\n",
        "E"
      ],
      "execution_count": null,
      "outputs": [
        {
          "output_type": "execute_result",
          "data": {
            "text/plain": [
              "{6, 12}"
            ]
          },
          "metadata": {
            "tags": []
          },
          "execution_count": 12
        }
      ]
    },
    {
      "cell_type": "markdown",
      "metadata": {
        "id": "JaYsr8M1ugtk"
      },
      "source": [
        "###Задача 2\n",
        " \n",
        "  Записать множество Е, если $E = A\\cup B $, причем А={1, 6, 2, 7, 9, 3}, B={1, 6, 2, 7, 9, 3}."
      ]
    },
    {
      "cell_type": "code",
      "metadata": {
        "id": "Ar-v905tu2Ke",
        "colab": {
          "base_uri": "https://localhost:8080/",
          "height": 34
        },
        "outputId": "fd6b3a5e-b1f0-4f28-9611-ca4bd5931bec"
      },
      "source": [
        "A = {1, 6, 2, 7, 9, 3}\n",
        "B = {1, 6, 2, 7, 9, 3}\n",
        "E = A.union(B)\n",
        "E"
      ],
      "execution_count": null,
      "outputs": [
        {
          "output_type": "execute_result",
          "data": {
            "text/plain": [
              "{1, 2, 3, 6, 7, 9}"
            ]
          },
          "metadata": {
            "tags": []
          },
          "execution_count": 14
        }
      ]
    },
    {
      "cell_type": "markdown",
      "metadata": {
        "id": "yLHWoqHEui0O"
      },
      "source": [
        "###Задача 3\n",
        " \n",
        "  Записать множество Е, если $E = A\\B $, причем А={2, 4, 6, 8, 10, 12}, B={1, 3, 6, 9, 12}."
      ]
    },
    {
      "cell_type": "code",
      "metadata": {
        "id": "cfFu7FOau3U1",
        "colab": {
          "base_uri": "https://localhost:8080/",
          "height": 34
        },
        "outputId": "d142919b-b9b8-4409-a6e5-80396757e23e"
      },
      "source": [
        "A = {2, 4, 6, 8, 10, 12}\n",
        "B = {1, 3, 6, 9, 12}\n",
        "E = A.difference(B)\n",
        "E"
      ],
      "execution_count": null,
      "outputs": [
        {
          "output_type": "execute_result",
          "data": {
            "text/plain": [
              "{2, 4, 8, 10}"
            ]
          },
          "metadata": {
            "tags": []
          },
          "execution_count": 15
        }
      ]
    },
    {
      "cell_type": "markdown",
      "metadata": {
        "id": "wnRDpITRumnS"
      },
      "source": [
        "###Задача 4\n",
        " \n",
        "  Записать множество Е, если $E = A\\cap B $, причем А={1, 6, 2, 7, 9, 3}, B={1, 6, 2, 7, 9, 3}."
      ]
    },
    {
      "cell_type": "code",
      "metadata": {
        "id": "uUeSaptHu4Ha",
        "colab": {
          "base_uri": "https://localhost:8080/",
          "height": 34
        },
        "outputId": "27aa27e3-952c-4200-e769-5b0ed08bf1bb"
      },
      "source": [
        "A = {1, 6, 2, 7, 9, 3}\n",
        "B = {1, 6, 2, 7, 9, 3}\n",
        "E = A.intersection(B)\n",
        "E"
      ],
      "execution_count": null,
      "outputs": [
        {
          "output_type": "execute_result",
          "data": {
            "text/plain": [
              "{1, 2, 3, 6, 7, 9}"
            ]
          },
          "metadata": {
            "tags": []
          },
          "execution_count": 16
        }
      ]
    }
  ]
}