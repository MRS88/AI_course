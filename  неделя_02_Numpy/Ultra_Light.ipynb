{
  "nbformat": 4,
  "nbformat_minor": 0,
  "metadata": {
    "colab": {
      "name": "Copy of Numpy. Домашнее задание. Ultra-Light. Университет Искусственного Интеллекта.ipynb",
      "provenance": [],
      "collapsed_sections": [],
      "include_colab_link": true
    },
    "kernelspec": {
      "name": "python3",
      "display_name": "Python 3"
    }
  },
  "cells": [
    {
      "cell_type": "markdown",
      "metadata": {
        "id": "view-in-github",
        "colab_type": "text"
      },
      "source": [
        "<a href=\"https://colab.research.google.com/github/ShutTheFuckUpDonny/AI_course/blob/master/%20%D0%BD%D0%B5%D0%B4%D0%B5%D0%BB%D1%8F_02_Numpy/Ultra_Light.ipynb\" target=\"_parent\"><img src=\"https://colab.research.google.com/assets/colab-badge.svg\" alt=\"Open In Colab\"/></a>"
      ]
    },
    {
      "cell_type": "markdown",
      "metadata": {
        "id": "ZyOyY9c0_Z6l"
      },
      "source": [
        "### Задача 1\n",
        "\n",
        "Создайте целочисленный массив Numpy. Для этого выполните следующие шаги:\n",
        "1. Создайте список из целых значений (не меньше 5 шт.)\n",
        "2. Используя метод numpy.array() переведите список в массив Numpy"
      ]
    },
    {
      "cell_type": "markdown",
      "metadata": {
        "id": "B5QgsUZvr4k5"
      },
      "source": [
        "**Решение:**"
      ]
    },
    {
      "cell_type": "code",
      "metadata": {
        "id": "hl8JgJZQ-y1K",
        "colab": {
          "base_uri": "https://localhost:8080/",
          "height": 34
        },
        "outputId": "c6d017ab-af33-428e-8f7a-8935cde80eba"
      },
      "source": [
        "import numpy as np\n",
        "\n",
        "list_of_num = [1, 2, 3, 4, 5]\n",
        "my_np = np.array(list_of_num)\n",
        "print(my_np)"
      ],
      "execution_count": null,
      "outputs": [
        {
          "output_type": "stream",
          "text": [
            "[1 2 3 4 5]\n"
          ],
          "name": "stdout"
        }
      ]
    },
    {
      "cell_type": "markdown",
      "metadata": {
        "id": "eDzEB-0wr8NW"
      },
      "source": [
        "###Задача 2\n",
        "\n",
        "Используя индексы, выведите первый и третий элемент массива\n"
      ]
    },
    {
      "cell_type": "markdown",
      "metadata": {
        "id": "oiga4LaOsL8g"
      },
      "source": [
        "**Решение:**"
      ]
    },
    {
      "cell_type": "code",
      "metadata": {
        "id": "PzUC9JorsL8i",
        "colab": {
          "base_uri": "https://localhost:8080/",
          "height": 34
        },
        "outputId": "d8badb38-23f3-4ebd-e111-e5680e486af2"
      },
      "source": [
        "print(my_np[0], my_np[2])"
      ],
      "execution_count": null,
      "outputs": [
        {
          "output_type": "stream",
          "text": [
            "1 3\n"
          ],
          "name": "stdout"
        }
      ]
    },
    {
      "cell_type": "markdown",
      "metadata": {
        "id": "ERR-JLUVsURg"
      },
      "source": [
        "###Задача 3\n",
        "\n",
        "Используя метод type(), проверьте тип созданного массива. \n"
      ]
    },
    {
      "cell_type": "markdown",
      "metadata": {
        "id": "qKbam0VgsURi"
      },
      "source": [
        "**Решение:**"
      ]
    },
    {
      "cell_type": "code",
      "metadata": {
        "id": "ddMZ4hSasURj",
        "colab": {
          "base_uri": "https://localhost:8080/",
          "height": 34
        },
        "outputId": "b18927f9-9135-4a58-af63-22f04eed058c"
      },
      "source": [
        "print(type(my_np))"
      ],
      "execution_count": null,
      "outputs": [
        {
          "output_type": "stream",
          "text": [
            "<class 'numpy.ndarray'>\n"
          ],
          "name": "stdout"
        }
      ]
    },
    {
      "cell_type": "markdown",
      "metadata": {
        "id": "Uii4V576sdLA"
      },
      "source": [
        "###Задача 4\n",
        "\n",
        "Используя метод sum(), найдите сумму всех элементов массива. \n"
      ]
    },
    {
      "cell_type": "markdown",
      "metadata": {
        "id": "yo2rp5vYsdLB"
      },
      "source": [
        "**Решение:**"
      ]
    },
    {
      "cell_type": "code",
      "metadata": {
        "id": "U3Syr035sdLC",
        "colab": {
          "base_uri": "https://localhost:8080/",
          "height": 34
        },
        "outputId": "fcccc9fd-45d8-44e3-ba52-5edec6d18487"
      },
      "source": [
        "print(sum(my_np))"
      ],
      "execution_count": null,
      "outputs": [
        {
          "output_type": "stream",
          "text": [
            "15\n"
          ],
          "name": "stdout"
        }
      ]
    },
    {
      "cell_type": "markdown",
      "metadata": {
        "id": "gdbBp7vKsxIR"
      },
      "source": [
        "###Задача 5\n",
        "\n",
        "Используя метод arange(), создайте новый массив из значений от 0 до 10.\n"
      ]
    },
    {
      "cell_type": "markdown",
      "metadata": {
        "id": "XPOyycyxsxIS"
      },
      "source": [
        "**Решение:**"
      ]
    },
    {
      "cell_type": "code",
      "metadata": {
        "id": "_Kfn8Yo5sxIS",
        "colab": {
          "base_uri": "https://localhost:8080/",
          "height": 34
        },
        "outputId": "5d060296-80ec-4cdb-8aa5-ed48d5f449aa"
      },
      "source": [
        "print(np.arange(10))"
      ],
      "execution_count": null,
      "outputs": [
        {
          "output_type": "stream",
          "text": [
            "[0 1 2 3 4 5 6 7 8 9]\n"
          ],
          "name": "stdout"
        }
      ]
    }
  ]
}