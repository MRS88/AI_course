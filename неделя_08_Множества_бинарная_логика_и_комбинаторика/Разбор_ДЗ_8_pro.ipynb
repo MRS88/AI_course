{
  "nbformat": 4,
  "nbformat_minor": 0,
  "metadata": {
    "colab": {
      "name": "Разбор ДЗ 8. pro",
      "provenance": [],
      "collapsed_sections": [],
      "include_colab_link": true
    },
    "kernelspec": {
      "name": "python3",
      "display_name": "Python 3"
    }
  },
  "cells": [
    {
      "cell_type": "markdown",
      "metadata": {
        "id": "view-in-github",
        "colab_type": "text"
      },
      "source": [
        "<a href=\"https://colab.research.google.com/github/MRS88/AI_course/blob/master/%D0%BD%D0%B5%D0%B4%D0%B5%D0%BB%D1%8F_08_%D0%9C%D0%BD%D0%BE%D0%B6%D0%B5%D1%81%D1%82%D0%B2%D0%B0_%D0%B1%D0%B8%D0%BD%D0%B0%D1%80%D0%BD%D0%B0%D1%8F_%D0%BB%D0%BE%D0%B3%D0%B8%D0%BA%D0%B0_%D0%B8_%D0%BA%D0%BE%D0%BC%D0%B1%D0%B8%D0%BD%D0%B0%D1%82%D0%BE%D1%80%D0%B8%D0%BA%D0%B0/%D0%A0%D0%B0%D0%B7%D0%B1%D0%BE%D1%80_%D0%94%D0%97_8_pro.ipynb\" target=\"_parent\"><img src=\"https://colab.research.google.com/assets/colab-badge.svg\" alt=\"Open In Colab\"/></a>"
      ]
    },
    {
      "cell_type": "code",
      "metadata": {
        "id": "ft_aZI3JcEkv"
      },
      "source": [
        "def P(n): #(факторил)\n",
        "  f =1\n",
        "  for x in range(2,n+1):\n",
        "    f*=x\n",
        "  return f\n",
        "\n",
        "# Сочетание \n",
        "def C_n_m(n,m):\n",
        "  return P(n)/ (P(n-m)* P(m))\n",
        "\n",
        "# Размещение \n",
        "def A_(n,m):\n",
        "  return C_n_m(n,m) * P(m)\n",
        "\n",
        "# Перестановка с повторением\n",
        "def P_rep(n,m):\n",
        "  add = 1\n",
        "  for x in m:\n",
        "    add*=P(x)\n",
        "  return P(n)/ add\n",
        "\n",
        "# Сочетание с повторением\n",
        "def C_n_m_rep(n,m):\n",
        "  return P(n+m-1)/ (P(n-1)* P(m))\n",
        "\n",
        "# Размещение с повторением\n",
        "def A_rep(n,m):\n",
        "  return n**m\n",
        "\n",
        "\n"
      ],
      "execution_count": null,
      "outputs": []
    },
    {
      "cell_type": "markdown",
      "metadata": {
        "id": "3Mq5CACckeYC"
      },
      "source": [
        "# Комбинаторика"
      ]
    },
    {
      "cell_type": "markdown",
      "metadata": {
        "id": "zzwh_ja4yEaH"
      },
      "source": [
        "###Задача 1\n",
        "\n",
        "Сколько существует выигрышных комбинаций из двух карт при игре в 21 (Блекджек)? (выигрышными комбинациями считаются карта стоимостью 10 + туз. Валет, дама, король и десятка имеют одинаковую стоимость - 10)"
      ]
    },
    {
      "cell_type": "code",
      "metadata": {
        "id": "9P6rhPlpyd0b",
        "colab": {
          "base_uri": "https://localhost:8080/",
          "height": 35
        },
        "outputId": "2fdbbfa8-3274-4ef7-bc75-06a54c4944e0"
      },
      "source": [
        "# По парвилам игры выигрышной будет комбинация: 10 + Туз (21 очко)\n",
        "k_10 = C_n_m(4,1)+C_n_m(4,1)+C_n_m(4,1)+C_n_m(4,1) # Способами может быть сдана 10-ка или Дама или Король или Валет\n",
        "k_t = C_n_m(4,1)  # Способами может быть сдан туз\n",
        "n = k_10 * k_t\n",
        "\n",
        "print(\"{} существует выигрышных комбинаций из 2-х карт при игре в 21\".format(n))"
      ],
      "execution_count": null,
      "outputs": [
        {
          "output_type": "stream",
          "text": [
            "64.0 существует выигрышных комбинаций из 2-х карт при игре в 21\n"
          ],
          "name": "stdout"
        }
      ]
    },
    {
      "cell_type": "markdown",
      "metadata": {
        "id": "uFHRu7aOyEmw"
      },
      "source": [
        "###Задача 2\n",
        "\n",
        "У Олега дома живут пять котов.\n",
        "\n",
        "а) Сколькими способами можно усадить четырех котов по углам комнаты?\n",
        "б) Сколькими способами можно выпустить котов погулять?\n",
        "в) Сколькими способами Вася может взять на руки двух котов (одного на левую, другого – на правую)?"
      ]
    },
    {
      "cell_type": "code",
      "metadata": {
        "id": "b-xBfAImyeS4",
        "colab": {
          "base_uri": "https://localhost:8080/",
          "height": 68
        },
        "outputId": "afe37e43-ba55-4c67-b359-9d107171cb3a"
      },
      "source": [
        "# Для решения данной задачи нам потребуется формула Перестановок\n",
        "# P = 4! - предполагаем, что в комнате 4 угла\n",
        "# Для начала разберемся с тем, что котов 5, а нужно выбрать только 4 для \"рассадки\"\n",
        "n_k = C_n_m(5,4)   # Способами можно выбрать 4 кота из 5\n",
        "n_u = P(4) # Способами можно рассадить 4-х котов по углам\n",
        "n = n_k * n_u \n",
        "print(\"{} способами можно усадить 4 котов по углам комнаты\".format(n))\n",
        "\n",
        "# Для ответа на второй вопрос отметим что нам не важно сколько именно котов пошло погулять (1,2,3,4 или все 5)\n",
        "c_1 = C_n_m(5,1) # Способом можно отпустить одного кота погулять\n",
        "c_2 = C_n_m(5,2) # Способом можно отпустить 2-х котов погулять\n",
        "c_3 = C_n_m(5,3) # Способом можно отпустить 3-х котов погулять\n",
        "c_4 = C_n_m(5,4) # Способом можно отпустить 4-х котов  погулять\n",
        "c_5 = C_n_m(5,5) # Способом можно отпустить 5 котов  погулять\n",
        "\n",
        "# Пойти погулять может один кот ИЛИ 2 кота ИЛИ ... 5 котов, по правилу сложения\n",
        "c = c_1 + c_2 + c_3 + c_4 + c_5\n",
        "print(\"{} способами можно выпустить котов погулять\".format(c))\n",
        "\n",
        "# Из условий задания предполагается, что порядок Размещения котов на руках ВАЖЕН, поэтому для решения мы можем воспользоваться формулой размещений без повторений\n",
        "a = A_(5,2)\n",
        "print(\"{} способами Олег может взять на руки двух котов (одного на левую, другого – на правую)\".format(a))"
      ],
      "execution_count": null,
      "outputs": [
        {
          "output_type": "stream",
          "text": [
            "120.0 способами можно усадить 4 котов по углам комнаты\n",
            "31.0 способами можно выпустить котов погулять\n",
            "20.0 способами Олег может взять на руки двух котов (одного на левую, другого – на правую)\n"
          ],
          "name": "stdout"
        }
      ]
    },
    {
      "cell_type": "markdown",
      "metadata": {
        "id": "y24DK-TByExK"
      },
      "source": [
        "###Задача 3\n",
        "\n",
        "В лифт двенадцатиэтажного дома сели три пассажира. Каждый независимо от других с одинаковой вероятностью может выйти на любом (начиная со второго) этаже. \n",
        "1) Сколькими способами пассажиры могут выйти на одном и том же этаже (порядок выхода не имеет значения)?\n",
        "2) Сколькими способами два человека могут выйти на одном этаже, а третий – на другом?\n",
        "3) Сколькими способами люди могут выйти на разных этажах?\n",
        "4) Сколькими способами пассажиры могут выйти из лифта?"
      ]
    },
    {
      "cell_type": "code",
      "metadata": {
        "id": "HE39EaxHye3D",
        "colab": {
          "base_uri": "https://localhost:8080/",
          "height": 87
        },
        "outputId": "a380352c-6f83-4e82-ebb5-9e877015c8b9"
      },
      "source": [
        "# Задание 1 решается нахождением кол-ва способов выбрать этаж, где могут выйти все 3 пассажира\n",
        "n_1 = C_n_m(11,1) # Сочетания по 1 из 11 этажей (начиная со 2-го) этажа)\n",
        "print(\"{} способами пассажиры могут выйти на одном и том же этаже\".format(n_1))\n",
        "\n",
        "# Задание 2 \n",
        "\n",
        "n_f = C_n_m(11,2) # Способами можно выбрать 2 этажа для выхода пассажиров\n",
        "n_p = A_(3,2)     # Возможно размещений пассажиров для выхода\n",
        "n_2 = n_f * n_p\n",
        "print(\"{} способами два человека могут выйти на одном этаже, а третий – на другом\".format(n_2))\n",
        "\n",
        "\n",
        "# Задание 3\n",
        "# Используем формулу размещений: \"Разместить 3 человек на 11 этажах\"\n",
        "n_3 = A_(11,3) # Возможно размещений пассажиров на разных этажах\n",
        "print(\"{} способами пассажиры могут выйти на разных этажах\".format(n_3))\n",
        "\n",
        "# Задание 4\n",
        "\n",
        "# Используем Правило умножения комбинаций\n",
        "c_p = C_n_m(11,1) # Способом может выйти любой пассажир из лифта\n",
        "\n",
        "# Так как пассажира у нас 3, то возводим в 3-ю степень\n",
        "n_4 = c_p**3\n",
        "print(\"{} способами пассажиры могут выйти из лифта\".format(n_4))"
      ],
      "execution_count": null,
      "outputs": [
        {
          "output_type": "stream",
          "text": [
            "11.0 способами пассажиры могут выйти на одном и том же этаже\n",
            "330.0 способами два человека могут выйти на одном этаже, а третий – на другом\n",
            "990.0 способами пассажиры могут выйти на разных этажах\n",
            "1331.0 способами пассажиры могут выйти из лифта\n"
          ],
          "name": "stdout"
        }
      ]
    },
    {
      "cell_type": "markdown",
      "metadata": {
        "id": "i-lUADpzvTMq"
      },
      "source": [
        "###Задача 4\n",
        "\n",
        "В кошельке находятся  одно-, двух- и десятирублевые монеты. Сколькими способами можно извлечь 4 монеты из кошелька?"
      ]
    },
    {
      "cell_type": "code",
      "metadata": {
        "id": "3jrYYLIAv09O",
        "colab": {
          "base_uri": "https://localhost:8080/",
          "height": 35
        },
        "outputId": "8835535c-fe49-4d44-80eb-cb7608741ecb"
      },
      "source": [
        "C_n_m_rep(3,4)"
      ],
      "execution_count": null,
      "outputs": [
        {
          "output_type": "execute_result",
          "data": {
            "text/plain": [
              "15.0"
            ]
          },
          "metadata": {
            "tags": []
          },
          "execution_count": 6
        }
      ]
    },
    {
      "cell_type": "markdown",
      "metadata": {
        "id": "zYNvIKpOvTju"
      },
      "source": [
        "###Задача 5\n",
        "\n",
        "Сколько всего существует вариантов IPv4 адресов (https://ru.wikipedia.org/wiki/IPv4) ?"
      ]
    },
    {
      "cell_type": "code",
      "metadata": {
        "id": "yC6A35DKeAdJ",
        "colab": {
          "base_uri": "https://localhost:8080/",
          "height": 35
        },
        "outputId": "d910af66-5ace-4b5f-ac0c-8325607d0d6d"
      },
      "source": [
        "A_rep(256,4)"
      ],
      "execution_count": null,
      "outputs": [
        {
          "output_type": "execute_result",
          "data": {
            "text/plain": [
              "4294967296"
            ]
          },
          "metadata": {
            "tags": []
          },
          "execution_count": 7
        }
      ]
    },
    {
      "cell_type": "markdown",
      "metadata": {
        "id": "ozHQXry5n2IS"
      },
      "source": [
        "# Множества"
      ]
    },
    {
      "cell_type": "markdown",
      "metadata": {
        "id": "TgKIOnlDu8cd"
      },
      "source": [
        "###Задача 1\n",
        "\n",
        "В классе 36 учеников. Каждый из них пользуется хотя бы одним из видов городского транспорта: метро, автобусом и троллейбусом. Всеми тремя видами транспорта пользуются 5 учеников, метро и автобусом – 17 учеников, метро и троллейбусом – 15 учеников, троллейбусом и автобусом – 7 учеников.\n",
        "\n",
        "Сколько учеников пользуются только одним видом транспорта?\n"
      ]
    },
    {
      "cell_type": "code",
      "metadata": {
        "id": "I9KwweluvPWt",
        "colab": {
          "base_uri": "https://localhost:8080/",
          "height": 253
        },
        "outputId": "5fb187a2-288f-454c-d275-7c79b5704d7b"
      },
      "source": [
        "# A - множество учеников, пользующихся метро\n",
        "# B - множество учеников, пользующихся автобусом\n",
        "# C - множество учеников, пользующихся троллейбусом\n",
        "# E - Множество учеников класса \n",
        "# m (Е) = 36\n",
        "# m (А∩В∩С)= m (7) = 5\n",
        "# m (А∩В)= 17\n",
        "# m (А∩С)= 15\n",
        "# m (В∩С)= 7\n",
        "\n",
        "# Начертим Диаграммы Вена, чтобы  сформулировать, что нужно найти\n",
        "import matplotlib.pyplot as plt\n",
        "from matplotlib_venn import venn3, venn3_circles\n",
        "\n",
        "v=venn3(subsets = (1, 2, 3, 4,5,6,7), set_labels = ('Metro', 'Avtobus', 'Trolleibus'))\n",
        "plt.show()\n",
        "\n",
        "# Из диаграммы видно, что для ответа на вопрос нам нужно найти подмножества 1,2 и 4\n",
        "# m (1) + m (2) + m (4)\n",
        "# m (3) = m (А∩В) - m(А∩В∩С) = 17-5=12\n",
        "# m (5) = m (А∩С) - m(А∩В∩С) = 15-5=10\n",
        "# m (6) = m (В∩С) - m(А∩В∩С) = 7-5=2\n",
        "# m (1) + m (2) + m (4) = m (Е) - m (3) - m (5) - m (6) - m(А∩В∩С) = 36-12-10-2-5=7\n",
        "\n",
        "# Ответ: 7 учеников пользуются только одним транспортом"
      ],
      "execution_count": null,
      "outputs": [
        {
          "output_type": "display_data",
          "data": {
            "image/png": "[encoded data removed]",
            "text/plain": [
              "<Figure size 432x288 with 1 Axes>"
            ]
          },
          "metadata": {
            "tags": []
          }
        }
      ]
    },
    {
      "cell_type": "markdown",
      "metadata": {
        "id": "yCl-xEaju8CI"
      },
      "source": [
        "###Задача 2\n",
        "\n",
        "Первую или вторую контрольную работу по математике успешно написали 33 студента, первую или третью – 32 студента, вторую или третью – 31 студент. Не менее двух контрольных работ выполнили 20 студентов.\n",
        "\n",
        "Сколько студентов успешно решили только одну контрольную работу?"
      ]
    },
    {
      "cell_type": "code",
      "metadata": {
        "id": "9KkSB0DOeAGh"
      },
      "source": [
        "# A - множество студентов, решивших первую контрольную работу\n",
        "# B - множество студентов, решивших вторую контрольную работу\n",
        "# C - множество студентов, решивших третью контрольную работу\n",
        "# m (A∪B) = 33\n",
        "# m (A∪C) = 32\n",
        "# m (B∪C) = 31\n",
        "# m (A∩B) ∪ m(A∩C) ∪ m(B∩C) = 20 = m(E) \n",
        "\n",
        "# Пусть A1 - студенты, решившие только первую контрольную\n",
        "# Пусть B1 - студенты, решившие только вторую контрольную\n",
        "# Пусть С1 - студенты, решившие только третью контрольную\n",
        "\n",
        "# По условию выполнили одну из двух работ:\n",
        "# m (A1) + m (B1) = m (A∪B) -  m (E) = 33 - 20 = 13\n",
        "# Аналогично, для пар множеств A, C и B, C:\n",
        "# m (A1) + m (C1) = m (A∪C) -  m (E) = 32 - 20 = 12\n",
        "# m (B1) + m (C1) = m (B∪C) -  m (E) = 31 - 20 = 11\n",
        "\n",
        "# Сложим все 3 равенства:\n",
        "# 2 * (m (A1) + m (B1) + m (C1)) = 36,\n",
        "# Откуда\n",
        "# m (A1) + m (B1) + m (C1) = 18 студентов решили только одну работу."
      ],
      "execution_count": null,
      "outputs": []
    },
    {
      "cell_type": "markdown",
      "metadata": {
        "id": "YKz-zW2jum28"
      },
      "source": [
        "###Задача 3\n",
        "  Дано множество А={1, 2, 4}, существует множество B. Такое, что B\\E = {3} и $A\\cap B$ = {1}. \n",
        "\n",
        "Найти множество B, если его мощность равна 2."
      ]
    },
    {
      "cell_type": "markdown",
      "metadata": {
        "id": "2gmP5JACmVXH"
      },
      "source": [
        "B\\E = {3} означает, что в B есть \"3\"\n",
        "\n",
        "$A\\cap B$ = {1} означает, что в B (как и в А) есть \"1\"\n",
        "\n",
        "Мы знаем, что в B всего 2 элемента, так как по условию его мощность равна 2, эти 2 элемента мы нашли"
      ]
    },
    {
      "cell_type": "code",
      "metadata": {
        "id": "EGxzUMLqmnp4"
      },
      "source": [
        "B = {3,1}"
      ],
      "execution_count": null,
      "outputs": []
    }
  ]
}