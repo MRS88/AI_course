{
  "nbformat": 4,
  "nbformat_minor": 0,
  "metadata": {
    "colab": {
      "name": "Разбор ДЗ Ultra Pro. Функции и модули.ipynb",
      "provenance": [],
      "collapsed_sections": [],
      "include_colab_link": true
    },
    "kernelspec": {
      "name": "python3",
      "display_name": "Python 3"
    }
  },
  "cells": [
    {
      "cell_type": "markdown",
      "metadata": {
        "id": "view-in-github",
        "colab_type": "text"
      },
      "source": [
        "<a href=\"https://colab.research.google.com/github/MRS88/AI_course/blob/master/%D0%BD%D0%B5%D0%B4%D0%B5%D0%BB%D1%8F_06_%D0%A4%D1%83%D0%BD%D0%BA%D1%86%D0%B8%D0%B8_%D0%B8_%D0%BC%D0%BE%D0%B4%D1%83%D0%BB%D0%B8_Python/%D0%A0%D0%B0%D0%B7%D0%B1%D0%BE%D1%80_%D0%94%D0%97_Ultra_Pro_%D0%A4%D1%83%D0%BD%D0%BA%D1%86%D0%B8%D0%B8_%D0%B8_%D0%BC%D0%BE%D0%B4%D1%83%D0%BB%D0%B8.ipynb\" target=\"_parent\"><img src=\"https://colab.research.google.com/assets/colab-badge.svg\" alt=\"Open In Colab\"/></a>"
      ]
    },
    {
      "cell_type": "markdown",
      "metadata": {
        "id": "NRUICBBzlLh2"
      },
      "source": [
        "## Разбор домашнего задания \"Функции и модули\"\n",
        "## Ultra-Pro"
      ]
    },
    {
      "cell_type": "markdown",
      "metadata": {
        "id": "j0nWwQpIaPch"
      },
      "source": [
        "**Задача 1**\n",
        "\n",
        "Уже весна, скоро в отпуск. Необходимо написать функцию расчета стоимости вашего путешествия. \n",
        "\n",
        "Определите функцию с названием ```hotel_cost``` и с аргументом \"Количество ночей\" в качестве входных данных. Цена отеля будет 140 у. е. за ночь. Выходит, функция должна вернуть стоимость всех ночей. \n",
        "\n",
        "Определите функцию под названием ```plane_car_cost```, которая на вход принимает строку \"Город\". Такая функция должна вернуть цену перелета в зависимости от места: если это Крым, то перелет обойдется в 120 у. е., \n",
        "       если Шри-Ланка - 800 у. е.,\n",
        "       если Каир - 400 у. е.,\n",
        "       если Сочи - 120 у. е.\n",
        "\n",
        "Напишите функцию ```rental_car_cost``` с аргументом \"Количество дней\". Эта функция должна рассчитать стоимость аренды авто, если за сутки вы должны оплачивать саму ренту (40 у. е.) + стоимость услуг страхового агентства (+1% от суммарной стоимости услуг каждый следующий день. Т. е. первый день 1% от стоимости, второй - берется 1% от стоимости предыдущего дня (включая 1% за предыдущий день)  и т. д.(следовательно сумма аренды авто за первый день будет составлять 40 * 1.01, \n",
        "за второй день 40 * 1.01 * 1.01, за третий день 40 * 1.01 * 1.01 * 1.01 и т.д.) Если вы арендуете на 7 и более дней, то скидка - 50 у. е., если от 3 до 6 дней включительно - 20 у. е. Обе скидки получить сразу нельзя. \n",
        "Задача состоит в том, чтобы эти функции (```hotel_cost, plane_ride_cost, rental_car_cost```) были локальными в составе одной глобальной функции trip_cost, которая бы возвращала сумму этих локальных функций. "
      ]
    },
    {
      "cell_type": "markdown",
      "metadata": {
        "id": "eaY2kmYSusXk"
      },
      "source": [
        "**Решение:**"
      ]
    },
    {
      "cell_type": "code",
      "metadata": {
        "id": "pngcgEEkaQbG"
      },
      "source": [
        "def trip_cost(nNights, city, nDays):\n",
        "  '''\n",
        "  trip_cost - функция расчета затрат на отпуск\n",
        "\n",
        "  Входные параметры: nNights - количество ночей\n",
        "                     city - город\n",
        "                     nDays - количествой дней\n",
        "  '''\n",
        "  def hotel_cost(nNights):\n",
        "    return nNights*140\n",
        "\n",
        "  def plane_ride_cost(city):\n",
        "\n",
        "    if city.lower()=='крым':\n",
        "      cost = 120\n",
        "    elif city.lower()=='шри-ланка':\n",
        "      cost = 800\n",
        "    elif city.lower()=='каир':\n",
        "      cost = 400\n",
        "    elif city.lower()=='сочи':\n",
        "      cost = 120\n",
        "    else:\n",
        "      print('Неизвестный город')\n",
        "      cost = 0\n",
        "\n",
        "    return cost\n",
        "\n",
        "  def rental_car_cost(nDays):\n",
        "    if nDays>=7:\n",
        "      discount=50\n",
        "    elif (nDays>=3 and nDays<=6):\n",
        "      discount=20\n",
        "    else:\n",
        "      discount=0\n",
        "\n",
        "    car_rent = 0\n",
        "    for i in range(nDays):\n",
        "      car_rent = car_rent + 40 * 1.01**(i+1)\n",
        "\n",
        "    if car_rent == 0:\n",
        "      cost = 0\n",
        "\n",
        "    cost = car_rent - discount\n",
        "\n",
        "    return cost\n",
        "\n",
        "  return hotel_cost(nNights)+plane_ride_cost(city)+rental_car_cost(nDays)"
      ],
      "execution_count": null,
      "outputs": []
    },
    {
      "cell_type": "code",
      "metadata": {
        "id": "P0iiTXLna80Q",
        "colab": {
          "base_uri": "https://localhost:8080/",
          "height": 90
        },
        "outputId": "fe92d654-edb1-4e5e-adfd-a1372f3a1823"
      },
      "source": [
        "nN = int(input('Количество ночей '))\n",
        "st = input('Какой город? ')\n",
        "nD = int(input('Количество дней аренды авто '))\n",
        "\n",
        "print(round(trip_cost(nN, st, nD), 2), '$')"
      ],
      "execution_count": null,
      "outputs": [
        {
          "output_type": "stream",
          "text": [
            "Количество ночей 5\n",
            "Какой город? сочи\n",
            "Количество дней аренды авто 3\n",
            "922.42 $\n"
          ],
          "name": "stdout"
        }
      ]
    },
    {
      "cell_type": "markdown",
      "metadata": {
        "id": "vx8FJjcGrx4b"
      },
      "source": [
        "**Задача 2**\n",
        "\n",
        "Напишите функцию, которая считает факториал заданного числа."
      ]
    },
    {
      "cell_type": "markdown",
      "metadata": {
        "id": "CV8UOQ7UuvqM"
      },
      "source": [
        "**Решение:**"
      ]
    },
    {
      "cell_type": "code",
      "metadata": {
        "id": "rwkN-nciXC41"
      },
      "source": [
        "def factorial(ar):\n",
        "  a = 1\n",
        "  for i in range(1, ar+1):\n",
        "    a *= i\n",
        "  return a\n"
      ],
      "execution_count": null,
      "outputs": []
    },
    {
      "cell_type": "code",
      "metadata": {
        "id": "jet4V0IEtqAl",
        "colab": {
          "base_uri": "https://localhost:8080/",
          "height": 35
        },
        "outputId": "045bf8f3-fba0-4379-dbbf-fb807676e17f"
      },
      "source": [
        "factorial(3)"
      ],
      "execution_count": null,
      "outputs": [
        {
          "output_type": "execute_result",
          "data": {
            "text/plain": [
              "6"
            ]
          },
          "metadata": {
            "tags": []
          },
          "execution_count": 30
        }
      ]
    },
    {
      "cell_type": "markdown",
      "metadata": {
        "id": "T8a_TGxGt7Yy"
      },
      "source": [
        "**Задача 3**\n",
        "\n",
        "Напишите **лямбда**-функцию, которая считает полную площадь конуса:\n",
        "S = πR(l + R)."
      ]
    },
    {
      "cell_type": "markdown",
      "metadata": {
        "id": "S3Osx-rEuwWc"
      },
      "source": [
        "**Решение:**"
      ]
    },
    {
      "cell_type": "code",
      "metadata": {
        "id": "c2M4DJJxtsTT"
      },
      "source": [
        "from math import pi, sqrt\n",
        "\n",
        "square = lambda h, r: pi*r*(sqrt(r**2 + h**2) + r)"
      ],
      "execution_count": null,
      "outputs": []
    },
    {
      "cell_type": "code",
      "metadata": {
        "id": "M3a4FRVrw9ch",
        "colab": {
          "base_uri": "https://localhost:8080/",
          "height": 35
        },
        "outputId": "f479501c-f5f2-4dfa-f73f-790a12bdec06"
      },
      "source": [
        "square(3, 3)"
      ],
      "execution_count": null,
      "outputs": [
        {
          "output_type": "execute_result",
          "data": {
            "text/plain": [
              "68.26028032573343"
            ]
          },
          "metadata": {
            "tags": []
          },
          "execution_count": 33
        }
      ]
    },
    {
      "cell_type": "markdown",
      "metadata": {
        "id": "6fXQoIiVysbl"
      },
      "source": [
        "**Задача 4**\n",
        "\n",
        "Напишите 2 локальные функции, которые будут переводить рубли в доллары и рубли в евро, внутри глобальной функции, которая будет принимать на вход число (рубли) и выводить две конвертированные валюты(доллары и евро)."
      ]
    },
    {
      "cell_type": "markdown",
      "metadata": {
        "id": "Q3lVc9lBuw46"
      },
      "source": [
        "**Решение:**"
      ]
    },
    {
      "cell_type": "code",
      "metadata": {
        "id": "N7uDMsRoxCvC"
      },
      "source": [
        "def conv(ar):\n",
        "  def usd(x):\n",
        "    return x/74.09\n",
        "\n",
        "  def eur(y):\n",
        "    return y/88.21\n",
        "  \n",
        "  return print('доллар', round(usd(ar), 2), '\\nевро', round(eur(ar), 2))"
      ],
      "execution_count": null,
      "outputs": []
    },
    {
      "cell_type": "code",
      "metadata": {
        "id": "wQHdypXe6Bkv",
        "colab": {
          "base_uri": "https://localhost:8080/",
          "height": 54
        },
        "outputId": "b01eac2b-bbbb-4c3f-8e95-d49426b74f50"
      },
      "source": [
        "conv(100)"
      ],
      "execution_count": null,
      "outputs": [
        {
          "output_type": "stream",
          "text": [
            "доллар 1.35 \n",
            "евро 1.13\n"
          ],
          "name": "stdout"
        }
      ]
    },
    {
      "cell_type": "markdown",
      "metadata": {
        "id": "TtWCCVfN6nCc"
      },
      "source": [
        "**Задача 5**\n",
        "\n",
        "Напишите функцию-генератор, которая будет выводить числа Фибоначчи."
      ]
    },
    {
      "cell_type": "markdown",
      "metadata": {
        "id": "bY6RWAf7uxiA"
      },
      "source": [
        "**Решение:**"
      ]
    },
    {
      "cell_type": "code",
      "metadata": {
        "id": "z8KBWxdz6EGv",
        "colab": {
          "base_uri": "https://localhost:8080/",
          "height": 35
        },
        "outputId": "1edf27a1-ff76-4719-fcd2-dcd89598d0b8"
      },
      "source": [
        "def fib(a=0, b=1):\n",
        "    \"\"\"Генератор чисел Фибоначчи. `a` и `b` - начальные значения\"\"\"\n",
        "    while True:\n",
        "        yield a\n",
        "        a, b = b, a + b\n",
        "\n",
        "f = fib()\n",
        "print(', '.join(str(next(f)) for _ in range(10)))"
      ],
      "execution_count": null,
      "outputs": [
        {
          "output_type": "stream",
          "text": [
            "0, 1, 1, 2, 3, 5, 8, 13, 21, 34\n"
          ],
          "name": "stdout"
        }
      ]
    },
    {
      "cell_type": "code",
      "metadata": {
        "id": "WR1nBMt6sjbB"
      },
      "source": [
        ""
      ],
      "execution_count": null,
      "outputs": []
    }
  ]
}