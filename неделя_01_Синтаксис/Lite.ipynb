{
  "nbformat": 4,
  "nbformat_minor": 0,
  "metadata": {
    "colab": {
      "name": "Копия блокнота \"Синтаксис Python. Домашнее задание Light. Университет Искусственного Интеллекта.ipynb\"",
      "provenance": [],
      "collapsed_sections": [],
      "include_colab_link": true
    },
    "kernelspec": {
      "name": "python3",
      "display_name": "Python 3"
    }
  },
  "cells": [
    {
      "cell_type": "markdown",
      "metadata": {
        "id": "view-in-github",
        "colab_type": "text"
      },
      "source": [
        "<a href=\"https://colab.research.google.com/github/ShutTheFuckUpDonny/AI_course/blob/master/%D0%BD%D0%B5%D0%B4%D0%B5%D0%BB%D1%8F_01_%D0%A1%D0%B8%D0%BD%D1%82%D0%B0%D0%BA%D1%81%D0%B8%D1%81/Light.ipynb\" target=\"_parent\"><img src=\"https://colab.research.google.com/assets/colab-badge.svg\" alt=\"Open In Colab\"/></a>"
      ]
    },
    {
      "cell_type": "markdown",
      "metadata": {
        "id": "_L4Bd414hdog"
      },
      "source": [
        "### Задача 1\n",
        "\n",
        "С помощью функции input считайте с входящей строки целое положительное число и сохраните его в переменную N. Используя конструкцию if...else, выведите на экран результат в зависимости от условий:\n",
        "\n",
        "* если N нечетное, то выведите на экран \"N нечетное\",\n",
        "* если N четное и входит в интервал от 5 до 10 включительно, выведите на экран \"N четное и принадлежит интервалу [5, 10]\",\n",
        "* если N четное и больше 10, выведите на экран \"N четное и N > 10\",\n",
        "* если N четное и меньше 5, выведите на экран \"N четное и N < 5\"."
      ]
    },
    {
      "cell_type": "markdown",
      "metadata": {
        "id": "_anmPG8lqDql"
      },
      "source": [
        "**Решение:**"
      ]
    },
    {
      "cell_type": "code",
      "metadata": {
        "id": "eHA_26PRqDqm",
        "colab": {
          "base_uri": "https://localhost:8080/",
          "height": 51
        },
        "outputId": "8fe9d495-fa77-47ae-8a2a-c4f6c2208402"
      },
      "source": [
        "n = int(input())\n",
        "if n % 2 == 1:\n",
        "  print('n нечетное')\n",
        "elif n % 2 == 0 and n > 10:\n",
        "  print('n четное и n > 10')\n",
        "elif n % 2 == 0 and n < 5:\n",
        "  print('n четное и n < 5')  \n",
        "else:\n",
        "  print('n четное и принадлежит интервалу [5, 10]')"
      ],
      "execution_count": null,
      "outputs": [
        {
          "output_type": "stream",
          "text": [
            "5\n",
            "n нечетное\n"
          ],
          "name": "stdout"
        }
      ]
    },
    {
      "cell_type": "markdown",
      "metadata": {
        "id": "WQweBQ8nhdol"
      },
      "source": [
        "### Задача 2\n",
        "\n",
        "Используя цикл while, посчитайте и выведите на экран сумму квадратов всех целых чисел от 15 до 22 включительно.\n"
      ]
    },
    {
      "cell_type": "markdown",
      "metadata": {
        "id": "fJ0y-ZHssmGw"
      },
      "source": [
        "**Решение:**"
      ]
    },
    {
      "cell_type": "code",
      "metadata": {
        "id": "99XZHQETsmGz",
        "colab": {
          "base_uri": "https://localhost:8080/",
          "height": 34
        },
        "outputId": "47f039d3-a2e8-486b-8189-c81b7bea09bd"
      },
      "source": [
        "count = 15\n",
        "res = 0\n",
        "while count <= 22:\n",
        "  res += count ** 2\n",
        "  count += 1\n",
        "print(res)  "
      ],
      "execution_count": null,
      "outputs": [
        {
          "output_type": "stream",
          "text": [
            "2780\n"
          ],
          "name": "stdout"
        }
      ]
    },
    {
      "cell_type": "markdown",
      "metadata": {
        "id": "YhJKiRAchdow"
      },
      "source": [
        "### Задача 3\n",
        "\n",
        "Используя цикл for, найдите сумму всех элементов заданного списка (без использования встроенных функций sum, len, sort и т. д.)."
      ]
    },
    {
      "cell_type": "code",
      "metadata": {
        "id": "Im5W6TNGhdo6"
      },
      "source": [
        "my_list = [56, 23, 67, 45, 67, 2, 47, 158, 31, 34, 78, 23, 78, 23, 89, 23, 36]"
      ],
      "execution_count": null,
      "outputs": []
    },
    {
      "cell_type": "markdown",
      "metadata": {
        "id": "mjVTPt9YsmgJ"
      },
      "source": [
        "**Решение:**"
      ]
    },
    {
      "cell_type": "code",
      "metadata": {
        "id": "6cUITZNnsmgK",
        "colab": {
          "base_uri": "https://localhost:8080/",
          "height": 34
        },
        "outputId": "d83b1b60-7b3f-4c27-ce5a-f5a183f8458f"
      },
      "source": [
        "res = 0\n",
        "for i in my_list:\n",
        "  res += i\n",
        "print(res) "
      ],
      "execution_count": null,
      "outputs": [
        {
          "output_type": "stream",
          "text": [
            "880\n"
          ],
          "name": "stdout"
        }
      ]
    },
    {
      "cell_type": "markdown",
      "metadata": {
        "id": "wIZELo0mhdpU"
      },
      "source": [
        "### Задача 4\n",
        "\n",
        "Используя цикл (любой), найдите значение максимального элемента списка из предыдущего задания (без использования встроенных функций max и т. д.). Можно использовать встроенные методы списков (любые). \n",
        "\n",
        "P.S. Не стесняйтесь гуглить :)\n",
        "\n",
        "P.S. 2 Гуглить нужно фразу \"алгоритм поиска максимального элемента массива\".\n",
        "\n",
        "Пример: для списка [3, 4, 1, 7, 2] значением максимального элемента является число 7."
      ]
    },
    {
      "cell_type": "markdown",
      "metadata": {
        "id": "Bj8PTxlEspmy"
      },
      "source": [
        "**Решение:**"
      ]
    },
    {
      "cell_type": "code",
      "metadata": {
        "id": "9SBzyfntspm0",
        "colab": {
          "base_uri": "https://localhost:8080/",
          "height": 34
        },
        "outputId": "1f232303-f502-40d9-cb61-2e813a32705e"
      },
      "source": [
        "max_index = 0\n",
        "for i in range(1, len(my_list)):\n",
        "    if my_list[i] > my_list[max_index]:\n",
        "        max_index = i\n",
        "print(my_list[max_index])     "
      ],
      "execution_count": null,
      "outputs": [
        {
          "output_type": "stream",
          "text": [
            "158\n"
          ],
          "name": "stdout"
        }
      ]
    },
    {
      "cell_type": "markdown",
      "metadata": {
        "id": "omPfU7u9hdpi"
      },
      "source": [
        "### Задача 5\n",
        "\n",
        "Создайте словарь, соответствующий следующему описанию. \n",
        "    \n",
        "В честь 8 марта начальник отдела Валера решил принести на работу коробку конфет и угостить коллег :) Красотка Наташа съела две конфеты, ее подруга Алина - целых три, разработчик Марат унес с собой в соседний опен-спейс целых пятнадцать, чтобы поделиться со своей командой, менеджер проекта Лев проходил мимо и съел одну конфету, а сам Валера, будучи сторонником здорового образа жизни, не съел ни одной.\n",
        "\n",
        "Добавьте в словарь из предыдущего задания данные для студента Ромы, который работает неполный рабочий день, и, придя на работу после экзамена, с удовольствием съел 4 конфеты.\n",
        "\n",
        "P.S. Все совпадения случайны :). Для добавления Ромы используйте встроенный метод .update"
      ]
    },
    {
      "cell_type": "markdown",
      "metadata": {
        "id": "G8pJ9EoJsp_w"
      },
      "source": [
        "**Решение:**"
      ]
    },
    {
      "cell_type": "code",
      "metadata": {
        "id": "HyWPaeagsp_x",
        "colab": {
          "base_uri": "https://localhost:8080/",
          "height": 34
        },
        "outputId": "71570bfb-408d-496e-f4b5-f48f84a31acf"
      },
      "source": [
        "candies = {'Наташа': 2, 'Алина': 3, 'Марат': 15, 'Лев': 1, 'Валера': 0}\n",
        "candies_roman = {'Рома': 4}\n",
        "candies.update(candies_roman)\n",
        "print(candies)"
      ],
      "execution_count": null,
      "outputs": [
        {
          "output_type": "stream",
          "text": [
            "{'Наташа': 2, 'Алина': 3, 'Марат': 15, 'Лев': 1, 'Валера': 0, 'Рома': 4}\n"
          ],
          "name": "stdout"
        }
      ]
    }
  ]
}
