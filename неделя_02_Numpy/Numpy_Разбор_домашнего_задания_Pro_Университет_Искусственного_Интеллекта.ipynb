{
  "nbformat": 4,
  "nbformat_minor": 0,
  "metadata": {
    "colab": {
      "name": "Numpy. Разбор домашнего задания. Pro. Университет Искусственного Интеллекта.ipynb",
      "provenance": [],
      "collapsed_sections": [],
      "include_colab_link": true
    },
    "kernelspec": {
      "name": "python3",
      "display_name": "Python 3"
    }
  },
  "cells": [
    {
      "cell_type": "markdown",
      "metadata": {
        "id": "view-in-github",
        "colab_type": "text"
      },
      "source": [
        "<a href=\"https://colab.research.google.com/github/ShutTheFuckUpDonny/AI_course/blob/master/%D0%BD%D0%B5%D0%B4%D0%B5%D0%BB%D1%8F_02_Numpy/Numpy_%D0%A0%D0%B0%D0%B7%D0%B1%D0%BE%D1%80_%D0%B4%D0%BE%D0%BC%D0%B0%D1%88%D0%BD%D0%B5%D0%B3%D0%BE_%D0%B7%D0%B0%D0%B4%D0%B0%D0%BD%D0%B8%D1%8F_Pro_%D0%A3%D0%BD%D0%B8%D0%B2%D0%B5%D1%80%D1%81%D0%B8%D1%82%D0%B5%D1%82_%D0%98%D1%81%D0%BA%D1%83%D1%81%D1%81%D1%82%D0%B2%D0%B5%D0%BD%D0%BD%D0%BE%D0%B3%D0%BE_%D0%98%D0%BD%D1%82%D0%B5%D0%BB%D0%BB%D0%B5%D0%BA%D1%82%D0%B0.ipynb\" target=\"_parent\"><img src=\"https://colab.research.google.com/assets/colab-badge.svg\" alt=\"Open In Colab\"/></a>"
      ]
    },
    {
      "cell_type": "markdown",
      "metadata": {
        "id": "iQhtbx8Z8SZj"
      },
      "source": [
        "### Задача 1\n",
        "\n",
        "* Подгрузите массив **iris.csv** и назовите его my_array. \n",
        "\n",
        "* Создайте двумерный массив из случайных чисел той же размерности, что и my_array (раздел \"Семплирование из распределений\", потребуется использовать размерность массива my_array).\n",
        "\n",
        "* Назовите его my_generated_array."
      ]
    },
    {
      "cell_type": "markdown",
      "metadata": {
        "id": "KdbAknB0AR0O"
      },
      "source": [
        "**Решение:**"
      ]
    },
    {
      "cell_type": "code",
      "metadata": {
        "id": "PmrjGgWe_pxx"
      },
      "source": [
        "import numpy as np\n",
        "my_array = np.loadtxt('iris.csv', delimiter=',', skiprows=1) # Создаем переменную my_generated_array и записываем в нее данные из файла iris.csv"
      ],
      "execution_count": null,
      "outputs": []
    },
    {
      "cell_type": "code",
      "metadata": {
        "id": "yS2ONncNYqCw",
        "colab": {
          "base_uri": "https://localhost:8080/",
          "height": 34
        },
        "outputId": "afc1f95a-973a-45b8-b028-d3fd292d3df0"
      },
      "source": [
        "my_array.shape"
      ],
      "execution_count": null,
      "outputs": [
        {
          "output_type": "execute_result",
          "data": {
            "text/plain": [
              "(150, 5)"
            ]
          },
          "metadata": {
            "tags": []
          },
          "execution_count": 2
        }
      ]
    },
    {
      "cell_type": "code",
      "metadata": {
        "id": "WkoBHwMaAG4q",
        "colab": {
          "base_uri": "https://localhost:8080/",
          "height": 51
        },
        "outputId": "4822b908-eeef-4c56-94fb-30a3d821cd43"
      },
      "source": [
        "my_generated_array = np.random.random(my_array.shape) # Создаем массив той же размерности, что и my_array\n",
        "print(my_array.shape) # Выводим размерность массива my_array\n",
        "print(my_generated_array.shape) # Выводим размерность массива my_generated_array"
      ],
      "execution_count": null,
      "outputs": [
        {
          "output_type": "stream",
          "text": [
            "(150, 5)\n",
            "(150, 5)\n"
          ],
          "name": "stdout"
        }
      ]
    },
    {
      "cell_type": "markdown",
      "metadata": {
        "id": "hzR46ceA8SZp"
      },
      "source": [
        "### Задача 2\n",
        "\n",
        "* Выполните поэлементное умножение my_array на my_generated_array (раздел \"Векторные операции\").\n",
        "\n",
        "* Склейте массивы my_array и my_generated_array в один (могут помочь методы np.concatenate, np.vstack, np.hstack).\n",
        "\n",
        "* Возьмите склеенный массив и разделите его на равные части (больше двух). Можно сделать вручную через циклы либо воспользоваться методом vsplit."
      ]
    },
    {
      "cell_type": "markdown",
      "metadata": {
        "id": "VJbqrCAvA0My"
      },
      "source": [
        "**Решение:**"
      ]
    },
    {
      "cell_type": "code",
      "metadata": {
        "id": "VuQOLDyRA0My",
        "colab": {
          "base_uri": "https://localhost:8080/",
          "height": 102
        },
        "outputId": "fa82c949-edbf-44b3-bc01-ffdf050e3513"
      },
      "source": [
        "prod_array = (my_array * my_generated_array) # Выполняем поэлементное умножение элементов массива\n",
        "prod_array[:5]"
      ],
      "execution_count": null,
      "outputs": [
        {
          "output_type": "execute_result",
          "data": {
            "text/plain": [
              "array([[0.        , 2.05306026, 3.17611085, 0.66817581, 0.04433603],\n",
              "       [0.01032647, 3.96935089, 1.15188406, 0.02836379, 0.10801529],\n",
              "       [0.75484703, 1.0542058 , 3.04912438, 1.23204373, 0.07857828],\n",
              "       [2.9463855 , 3.90495301, 2.62008503, 1.00189219, 0.14061665],\n",
              "       [0.32086139, 2.72670334, 2.88053015, 0.69141782, 0.05592068]])"
            ]
          },
          "metadata": {
            "tags": []
          },
          "execution_count": 4
        }
      ]
    },
    {
      "cell_type": "code",
      "metadata": {
        "id": "3PXk3CoqJxiV",
        "colab": {
          "base_uri": "https://localhost:8080/",
          "height": 68
        },
        "outputId": "f3199ff7-9e28-4b7d-aa65-9176f7693495"
      },
      "source": [
        "c1_array = np.concatenate((my_array, my_generated_array)) # Склеиваем массивы методом .concatenate()\n",
        "print(c1_array.shape) # Выводим размерность нового массива\n",
        "c2_array = np.vstack((my_array, my_generated_array)) # Склеиваем массивы методом .vstack() построчно\n",
        "print(c2_array.shape) # Выводим размерность нового массива\n",
        "c3_array = np.hstack((my_array, my_generated_array)) # Склеиваем массивы методом .hstack() построчно\n",
        "print(c3_array.shape) # Выводим размерность нового массива"
      ],
      "execution_count": null,
      "outputs": [
        {
          "output_type": "stream",
          "text": [
            "(300, 5)\n",
            "(300, 5)\n",
            "(150, 10)\n"
          ],
          "name": "stdout"
        }
      ]
    },
    {
      "cell_type": "code",
      "metadata": {
        "id": "wD7c0TjhKbmA",
        "colab": {
          "base_uri": "https://localhost:8080/",
          "height": 51
        },
        "outputId": "4c75863d-c76f-42c7-82bf-9a0eff94d11f"
      },
      "source": [
        "list_arrays = np.vsplit(c1_array, 10) # Разделяем массив на 5 частей\n",
        "print(len(list_arrays)) # Выводим на экран длину списка list_arrays\n",
        "print(list_arrays[0].shape) # Выводим на экран размерность первого элемента list_arrays"
      ],
      "execution_count": null,
      "outputs": [
        {
          "output_type": "stream",
          "text": [
            "10\n",
            "(30, 5)\n"
          ],
          "name": "stdout"
        }
      ]
    },
    {
      "cell_type": "markdown",
      "metadata": {
        "id": "z08ODJt78SZw"
      },
      "source": [
        "### Задача 3\n",
        "\n",
        "* Найдите все элементы массива my_array, которые больше трех и меньше 5 одновременно. Используйте методологию подвыборки массива с условием (раздел \"Индексация\")."
      ]
    },
    {
      "cell_type": "markdown",
      "metadata": {
        "id": "ABomd938A0wl"
      },
      "source": [
        "**Решение:**"
      ]
    },
    {
      "cell_type": "code",
      "metadata": {
        "id": "VvyzSiqWA0wn",
        "colab": {
          "base_uri": "https://localhost:8080/",
          "height": 204
        },
        "outputId": "fb31467b-875d-4ef2-98ad-992cd067b004"
      },
      "source": [
        "my_array[(my_array > 3) & (my_array < 5)]"
      ],
      "execution_count": null,
      "outputs": [
        {
          "output_type": "execute_result",
          "data": {
            "text/plain": [
              "array([3.5, 4.9, 4.7, 3.2, 4.6, 3.1, 4. , 3.6, 3.9, 4.6, 3.4, 3.4, 4.4,\n",
              "       4.9, 3.1, 3.7, 4.8, 3.4, 4.8, 4.3, 4. , 4.4, 3.9, 3.5, 3.8, 3.8,\n",
              "       3.4, 3.7, 4.6, 3.6, 3.3, 4.8, 3.4, 3.4, 3.5, 3.4, 4.7, 3.2, 4.8,\n",
              "       3.1, 3.4, 4.1, 4.2, 4.9, 3.1, 3.2, 3.5, 4.9, 3.6, 4.4, 3.4, 3.5,\n",
              "       4.5, 4.4, 3.2, 3.5, 3.8, 4.8, 3.8, 4.6, 3.2, 3.7, 3.3, 3.2, 4.7,\n",
              "       3.2, 4.5, 3.1, 4.9, 4. , 4.6, 4.5, 3.3, 4.7, 4.9, 3.3, 4.6, 3.9,\n",
              "       3.5, 4.2, 4. , 4.7, 3.6, 3.1, 4.4, 4.5, 4.1, 4.5, 3.9, 3.2, 4.8,\n",
              "       4. , 4.9, 4.7, 4.3, 4.4, 4.8, 4.5, 3.5, 3.8, 3.7, 3.9, 4.5, 3.4,\n",
              "       4.5, 3.1, 4.7, 4.4, 4.1, 4. , 4.4, 4.6, 4. , 3.3, 4.2, 4.2, 4.2,\n",
              "       4.3, 4.1, 3.3, 4.9, 4.5, 3.6, 3.2, 3.2, 3.8, 3.2, 4.9, 4.9, 3.3,\n",
              "       3.2, 4.8, 4.9, 3.8, 3.4, 3.1, 4.8, 3.1, 3.1, 3.1, 3.2, 3.3, 3.4])"
            ]
          },
          "metadata": {
            "tags": []
          },
          "execution_count": 8
        }
      ]
    },
    {
      "cell_type": "markdown",
      "metadata": {
        "id": "P_O3RZUR8SZ6"
      },
      "source": [
        "### Задача 4\n",
        "\n",
        "Создайте трехмерный массив размера 2 на 3 на 4, состоящий из случайных ВЕЩЕСТВЕННЫХ чисел от 15 до 37. Используйте встроенные методы библиотеки  np.random."
      ]
    },
    {
      "cell_type": "markdown",
      "metadata": {
        "id": "tpfyzjF0A1HD"
      },
      "source": [
        "**Решение:**"
      ]
    },
    {
      "cell_type": "code",
      "metadata": {
        "id": "-l2omKOiA1HF",
        "colab": {
          "base_uri": "https://localhost:8080/",
          "height": 136
        },
        "outputId": "a55b868c-1cc6-4010-fcc1-5ce162788ef6"
      },
      "source": [
        "rnd_array = np.random.uniform(15, 37, (2,3,4)) # Создаем массив из случайных вещественных чисел от 15 до 37 размерностью 2 на 3 на 4\n",
        "print(rnd_array) # Отображаем созданный массив"
      ],
      "execution_count": null,
      "outputs": [
        {
          "output_type": "stream",
          "text": [
            "[[[17.57084123 24.87265668 31.03420172 36.96985425]\n",
            "  [30.48414655 34.20719299 22.80018747 24.17688222]\n",
            "  [22.94463262 36.02442465 25.16278591 17.64246521]]\n",
            "\n",
            " [[31.37706367 22.35541348 25.84634805 22.0956851 ]\n",
            "  [19.76517896 23.73085426 25.16278501 20.34991453]\n",
            "  [26.50514742 16.42507819 23.02659051 30.75183197]]]\n"
          ],
          "name": "stdout"
        }
      ]
    },
    {
      "cell_type": "markdown",
      "metadata": {
        "id": "_8q3NF_k8SaA"
      },
      "source": [
        "### Задача 5\n",
        "\n",
        "Используя массив из предыдущей задачи, преобразуйте его в новый массив со следующими значениями:\n",
        "\n",
        "    * \"small\", если значения меньше 20\n",
        "    * \"medium\", если значения в промежутке [20, 30]\n",
        "    * \"large\", если значения больше 30"
      ]
    },
    {
      "cell_type": "markdown",
      "metadata": {
        "id": "W0pitA1DA1vG"
      },
      "source": [
        "**Решение:**"
      ]
    },
    {
      "cell_type": "code",
      "metadata": {
        "id": "H6EAMd9XA1vH",
        "colab": {
          "base_uri": "https://localhost:8080/",
          "height": 272
        },
        "outputId": "d3e0c406-b59b-4d57-dad4-7efd18c4be70"
      },
      "source": [
        "new_array = np.full((2,3,4), 'medium', dtype='<U32') # Создаем массив размерности 2 на 3 на 4, заполненный словом medium\n",
        "new_array[rnd_array < 20] = 'small' # Меняем значение в массива на small для тех элемнтов, у которых выполняется условие rnd_array < 20\n",
        "new_array[rnd_array > 30] = 'large' # Меняем значение в массива на large для тех элемнтов, у которых выполняется условие rnd_array > 30\n",
        "print(rnd_array) # Отображаем массив из предыдущей задачи\n",
        "print()\n",
        "print(new_array) # Отображаем сформированный массив"
      ],
      "execution_count": null,
      "outputs": [
        {
          "output_type": "stream",
          "text": [
            "[[[17.57084123 24.87265668 31.03420172 36.96985425]\n",
            "  [30.48414655 34.20719299 22.80018747 24.17688222]\n",
            "  [22.94463262 36.02442465 25.16278591 17.64246521]]\n",
            "\n",
            " [[31.37706367 22.35541348 25.84634805 22.0956851 ]\n",
            "  [19.76517896 23.73085426 25.16278501 20.34991453]\n",
            "  [26.50514742 16.42507819 23.02659051 30.75183197]]]\n",
            "\n",
            "[[['small' 'medium' 'large' 'large']\n",
            "  ['large' 'large' 'medium' 'medium']\n",
            "  ['medium' 'large' 'medium' 'small']]\n",
            "\n",
            " [['large' 'medium' 'medium' 'medium']\n",
            "  ['small' 'medium' 'medium' 'medium']\n",
            "  ['medium' 'small' 'medium' 'large']]]\n"
          ],
          "name": "stdout"
        }
      ]
    },
    {
      "cell_type": "code",
      "metadata": {
        "id": "qp5LoiqOHuUF"
      },
      "source": [
        ""
      ],
      "execution_count": null,
      "outputs": []
    }
  ]
}