{
  "nbformat": 4,
  "nbformat_minor": 0,
  "metadata": {
    "colab": {
      "name": "Разбор дз Матрицы и функции. LIGHT",
      "provenance": [],
      "include_colab_link": true
    },
    "kernelspec": {
      "name": "python3",
      "display_name": "Python 3"
    }
  },
  "cells": [
    {
      "cell_type": "markdown",
      "metadata": {
        "id": "view-in-github",
        "colab_type": "text"
      },
      "source": [
        "<a href=\"https://colab.research.google.com/github/MRS88/AI_course/blob/master/%D0%BD%D0%B5%D0%B4%D0%B5%D0%BB%D1%8F_07_%D0%9C%D0%B0%D1%82%D1%80%D0%B8%D1%86%D1%8B_%D0%B8_%D1%84%D1%83%D0%BD%D0%BA%D1%86%D0%B8%D0%B8/%D0%A0%D0%B0%D0%B7%D0%B1%D0%BE%D1%80_%D0%B4%D0%B7_%D0%9C%D0%B0%D1%82%D1%80%D0%B8%D1%86%D1%8B_%D0%B8_%D1%84%D1%83%D0%BD%D0%BA%D1%86%D0%B8%D0%B8_LIGHT.ipynb\" target=\"_parent\"><img src=\"https://colab.research.google.com/assets/colab-badge.svg\" alt=\"Open In Colab\"/></a>"
      ]
    },
    {
      "cell_type": "markdown",
      "metadata": {
        "id": "jplDGhCV53xQ"
      },
      "source": [
        "## **Задача 1**\n",
        "\n",
        "Напишите функцию умножения трёх матриц (не пользуйтесь встроенными функциями такими как  np.dot(), @)"
      ]
    },
    {
      "cell_type": "code",
      "metadata": {
        "id": "o9PT7GXO6o9t"
      },
      "source": [
        "#функция матричного умножения, принемающая на вход 2 матрицы\n",
        "def prod_matrix(matrix1, matrix2):\n",
        "  shape1 = matrix1.shape # определим форму 1-ой матрицы\n",
        "  shape2 = matrix2.shape # определим форму 2-ой матрицы\n",
        "  \n",
        "  if (shape1[1] != shape2[0]): #если количество столбцов 1-ой матрицы не равно количеству строк 2-ой матрицы\n",
        "    return np.array([])        #возвращаем пустой массив\n",
        "  \n",
        "  out_matrix = np.zeros((shape1[0], shape2[1])) #создадим матрицу из 0, формой (количество строк 1-ой)Х(количество столбцов 2-ой) матриц\n",
        "  \n",
        "  for i in range(shape1[0]): #пройдемся по индексам строк 1-ой матрицы\n",
        "    for j in range(shape2[1]): #пройдемся по индексам столбцов 2-ой матрицы\n",
        "      curr_cell = 0\n",
        "      for t in range(shape1[1]): #пройдемся по индексам стобцов 1-ой матрицы\n",
        "        curr_cell += matrix1[i,t] * matrix2[t,j] #посчитаем сумму произведения элементов строки 1-ой матрицы и столбцов 2-ой матрицы\n",
        "      out_matrix[i,j] = curr_cell #заменим значения в матрице состоящих из 0, на посчитанную сумму произведений\n",
        "  \n",
        "  return out_matrix #вернем полученную матрицу\n",
        "\n",
        "\n",
        "def prod_matrix_3(matrix1, matrix2, matrix3):\n",
        "    print(matrix1, '\\n\\n', matrix2, '\\n\\n', '==='*10, '\\n')\n",
        "    out_matrix = prod_matrix(matrix1, matrix2)\n",
        "    print(out_matrix, '\\n\\n', matrix3, '\\n\\n', '==='*10, '\\n')\n",
        "    res_matrix = prod_matrix(out_matrix, matrix3)\n",
        "    return res_matrix"
      ],
      "execution_count": null,
      "outputs": []
    },
    {
      "cell_type": "code",
      "metadata": {
        "id": "gumVnY6TmTRL"
      },
      "source": [
        "matrix1 = np.random.randint(0, 12, (4,3)) #определим матрицу 4х3\n",
        "matrix2 = np.random.randint(12, 24, (3,4))  #определим матрицу 3х4\n",
        "matrix3 = np.random.randint(24, 46, (4,2))  #определим матрицу 4x2"
      ],
      "execution_count": null,
      "outputs": []
    },
    {
      "cell_type": "code",
      "metadata": {
        "id": "sJMCW_7OmTZR",
        "colab": {
          "base_uri": "https://localhost:8080/",
          "height": 476
        },
        "outputId": "d51c2d19-d095-472f-e605-0658572bd324"
      },
      "source": [
        "res_matrix = prod_matrix_3(matrix1, matrix2, matrix3) #посчитаем матричное произведение двух матриц\n",
        "res_matrix"
      ],
      "execution_count": null,
      "outputs": [
        {
          "output_type": "stream",
          "text": [
            "[[ 2  0  8]\n",
            " [11  6  8]\n",
            " [ 4  9  4]\n",
            " [ 0 11 10]] \n",
            "\n",
            " [[20 23 19 12]\n",
            " [19 22 18 12]\n",
            " [17 22 16 22]] \n",
            "\n",
            " ============================== \n",
            "\n",
            "[[176. 222. 166. 200.]\n",
            " [470. 561. 445. 380.]\n",
            " [319. 378. 302. 244.]\n",
            " [379. 462. 358. 352.]] \n",
            "\n",
            " [[39 31]\n",
            " [30 34]\n",
            " [45 28]\n",
            " [38 29]] \n",
            "\n",
            " ============================== \n",
            "\n"
          ],
          "name": "stdout"
        },
        {
          "output_type": "execute_result",
          "data": {
            "text/plain": [
              "array([[28594., 23452.],\n",
              "       [69625., 57124.],\n",
              "       [46643., 38273.],\n",
              "       [58127., 47689.]])"
            ]
          },
          "metadata": {
            "tags": []
          },
          "execution_count": 4
        }
      ]
    },
    {
      "cell_type": "markdown",
      "metadata": {
        "id": "BJJkft2r6svS"
      },
      "source": [
        "## **Задача 2**\n",
        "\n",
        "Напишите функцию, которая считает разницу между максимальным и минимальным элементами матрицы"
      ]
    },
    {
      "cell_type": "code",
      "metadata": {
        "id": "l_QbGpbW66WR"
      },
      "source": [
        "def matrix_val(matrix_):\n",
        "  return matrix_.max() - matrix_.min()"
      ],
      "execution_count": null,
      "outputs": []
    },
    {
      "cell_type": "code",
      "metadata": {
        "id": "PjTjRY_6kcpL",
        "colab": {
          "base_uri": "https://localhost:8080/",
          "height": 85
        },
        "outputId": "20d4395b-1aea-48dc-ee5b-a897622690f4"
      },
      "source": [
        "matrix = np.random.randint(0, 20, (3,2))\n",
        "print(matrix)\n",
        "print('Разница между max и min элементами матрицы равна', matrix_val(matrix))"
      ],
      "execution_count": null,
      "outputs": [
        {
          "output_type": "stream",
          "text": [
            "[[ 2 12]\n",
            " [12  2]\n",
            " [15  5]]\n",
            "Разница между max и min элементами матрицы равна 13\n"
          ],
          "name": "stdout"
        }
      ]
    },
    {
      "cell_type": "markdown",
      "metadata": {
        "id": "d60LHjWW66gh"
      },
      "source": [
        "## **Задача 3**\n",
        "\n",
        "Напишите функцию, которая\n",
        "- умножает матрицу на транспорированную матрицу (пользуйтесь встроенными функциями такими как np.dot(), @, T)\n",
        "- получает обратную матрицу от результата"
      ]
    },
    {
      "cell_type": "code",
      "metadata": {
        "id": "jB3Nh4xP7cGy"
      },
      "source": [
        "def transpose_matrix(matrix):\n",
        "  print('Матрица\\n',matrix)\n",
        "  transp = matrix.T\n",
        "  print('Транспонированная матрицы\\n', transp)\n",
        "  umnoz = matrix.dot(transp)\n",
        "  print('Полученная матрица\\n', umnoz)\n",
        "  inv_matrix = np.linalg.inv(umnoz)\n",
        "  print('Обратная матрица\\n')\n",
        "  return inv_matrix"
      ],
      "execution_count": null,
      "outputs": []
    },
    {
      "cell_type": "code",
      "metadata": {
        "id": "UK1f7nk2kmFg",
        "colab": {
          "base_uri": "https://localhost:8080/",
          "height": 272
        },
        "outputId": "576b0116-d58f-4209-cddc-bf42a3b2dc99"
      },
      "source": [
        "transpose_matrix(matrix)"
      ],
      "execution_count": null,
      "outputs": [
        {
          "output_type": "stream",
          "text": [
            "Матрица\n",
            " [[ 2 12]\n",
            " [12  2]\n",
            " [15  5]]\n",
            "Транспонированная матрицы\n",
            " [[ 2 12 15]\n",
            " [12  2  5]]\n",
            "Полученная матрица\n",
            " [[148  48  90]\n",
            " [ 48 148 190]\n",
            " [ 90 190 250]]\n",
            "Обратная матрица\n",
            " [[-1.33050147e+12 -7.53950830e+12  6.20900684e+12]\n",
            " [-7.53950830e+12 -4.27238804e+13  3.51843721e+13]\n",
            " [ 6.20900684e+12  3.51843721e+13 -2.89753652e+13]]\n"
          ],
          "name": "stdout"
        }
      ]
    },
    {
      "cell_type": "markdown",
      "metadata": {
        "id": "kW6CHp2Z0f9a"
      },
      "source": [
        "##**Задача 4**\n",
        "\n",
        "Напишите и отобразите функцию y = x * x * x/12 + x * (x-15) - 72 на отрезке -10; 10"
      ]
    },
    {
      "cell_type": "code",
      "metadata": {
        "id": "z5HR1J670vSA"
      },
      "source": [
        "def f1(x):\n",
        "    y = x * x * x/12 + x*(x - 15) - 72\n",
        "    plt.figure(figsize=(14,6))\n",
        "    plt.plot(x,y)\n",
        "    plt.show()"
      ],
      "execution_count": null,
      "outputs": []
    },
    {
      "cell_type": "code",
      "metadata": {
        "id": "K98aFZbXglx1",
        "colab": {
          "base_uri": "https://localhost:8080/",
          "height": 374
        },
        "outputId": "34cc725a-e383-4164-9f8b-41639be64b16"
      },
      "source": [
        "x = np.arange(-10 , 11, 1)\n",
        "f1(x)"
      ],
      "execution_count": null,
      "outputs": [
        {
          "output_type": "display_data",
          "data": {
            "image/png": "[encoded data removed]",
            "text/plain": [
              "<Figure size 1008x432 with 1 Axes>"
            ]
          },
          "metadata": {
            "tags": [],
            "needs_background": "light"
          }
        }
      ]
    },
    {
      "cell_type": "markdown",
      "metadata": {
        "id": "cmn1rGQu0vbw"
      },
      "source": [
        "##**Задача 5**\n",
        "\n",
        "Отобразите ту же функцию на отрезке -10; 10, но с шагом 0.1 по оси x"
      ]
    },
    {
      "cell_type": "code",
      "metadata": {
        "id": "03vBvVYJ04JJ",
        "colab": {
          "base_uri": "https://localhost:8080/",
          "height": 374
        },
        "outputId": "121927e9-f260-4e85-cf76-6504db67b416"
      },
      "source": [
        "x = np.arange(-10 , 11, 0.1)\n",
        "f1(x)"
      ],
      "execution_count": null,
      "outputs": [
        {
          "output_type": "display_data",
          "data": {
            "image/png": "[encoded data removed]",
            "text/plain": [
              "<Figure size 1008x432 with 1 Axes>"
            ]
          },
          "metadata": {
            "tags": [],
            "needs_background": "light"
          }
        }
      ]
    }
  ]
}