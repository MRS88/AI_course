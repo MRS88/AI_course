{
  "nbformat": 4,
  "nbformat_minor": 0,
  "metadata": {
    "colab": {
      "name": "Копия блокнота \"Pandas #2. Домашнее задание. Ultra-Light. Университет Искусственного Интеллекта.ipynb\"",
      "provenance": [],
      "collapsed_sections": [],
      "include_colab_link": true
    },
    "kernelspec": {
      "name": "python3",
      "display_name": "Python 3"
    }
  },
  "cells": [
    {
      "cell_type": "markdown",
      "metadata": {
        "id": "view-in-github",
        "colab_type": "text"
      },
      "source": [
        "<a href=\"https://colab.research.google.com/github/MRS88/AI_course/blob/master/%D0%BD%D0%B5%D0%B4%D0%B5%D0%BB%D1%8F_04_Pandas_%D0%A7%D0%B0%D1%81%D1%82%D1%8C_2/Ultra_Light.ipynb\" target=\"_parent\"><img src=\"https://colab.research.google.com/assets/colab-badge.svg\" alt=\"Open In Colab\"/></a>"
      ]
    },
    {
      "cell_type": "markdown",
      "metadata": {
        "id": "NYMOwEGWCTqE"
      },
      "source": [
        "### Задача 1\n",
        "\n",
        "Загрузите таблицу city_temperature.csv в pandas DataFrame. При помощи встроенных методов библиотеки Pandas найдите количество стран, среднее значение температуры в которых бывает больше 100 градусов по Фаренгейту.\n",
        "\n",
        "**Циклы и условия использовать нельзя**\n",
        "\n",
        "Описание базы:\n",
        "---------------------------------\n",
        "**Region** - регион\n",
        "\n",
        "**Country** - страна \n",
        "\n",
        "**State** - штат (если есть) \n",
        "\n",
        "**Month** - месяц \n",
        "\n",
        "**Day** - день \n",
        "\n",
        "**Year** - год \n",
        "\n",
        "**AvgTemperature** - средняя температура в Фаренгейтах\n",
        "\n",
        "Ссылка на базу: https://drive.google.com/file/d/1bLiz_81Kb4pMryEalRe66jS38_F6vwMX/view?usp=sharing"
      ]
    },
    {
      "cell_type": "markdown",
      "metadata": {
        "id": "KsZiqj9SXgy1"
      },
      "source": [
        "**Решение:**"
      ]
    },
    {
      "cell_type": "code",
      "metadata": {
        "id": "1Tcn6VBTa-yB",
        "colab": {
          "base_uri": "https://localhost:8080/",
          "height": 107
        },
        "outputId": "6a2147de-7e14-4cfd-aa79-551480eff7c5"
      },
      "source": [
        "import pandas as pd\n",
        "\n",
        "data = pd.read_csv('/city_temperature.csv')\n",
        "data[data['AvgTemperature'] > 100]"
      ],
      "execution_count": null,
      "outputs": [
        {
          "output_type": "execute_result",
          "data": {
            "text/html": [
              "<div>\n",
              "<style scoped>\n",
              "    .dataframe tbody tr th:only-of-type {\n",
              "        vertical-align: middle;\n",
              "    }\n",
              "\n",
              "    .dataframe tbody tr th {\n",
              "        vertical-align: top;\n",
              "    }\n",
              "\n",
              "    .dataframe thead th {\n",
              "        text-align: right;\n",
              "    }\n",
              "</style>\n",
              "<table border=\"1\" class=\"dataframe\">\n",
              "  <thead>\n",
              "    <tr style=\"text-align: right;\">\n",
              "      <th></th>\n",
              "      <th>Region</th>\n",
              "      <th>Country</th>\n",
              "      <th>State</th>\n",
              "      <th>City</th>\n",
              "      <th>Month</th>\n",
              "      <th>Day</th>\n",
              "      <th>Year</th>\n",
              "      <th>AvgTemperature</th>\n",
              "    </tr>\n",
              "  </thead>\n",
              "  <tbody>\n",
              "    <tr>\n",
              "      <th>50515</th>\n",
              "      <td>Africa</td>\n",
              "      <td>Egypt</td>\n",
              "      <td>NaN</td>\n",
              "      <td>Cairo</td>\n",
              "      <td>5</td>\n",
              "      <td>23</td>\n",
              "      <td>2019</td>\n",
              "      <td>100.2</td>\n",
              "    </tr>\n",
              "    <tr>\n",
              "      <th>88434</th>\n",
              "      <td>Africa</td>\n",
              "      <td>Guinea-Bissau</td>\n",
              "      <td>NaN</td>\n",
              "      <td>Bissau</td>\n",
              "      <td>4</td>\n",
              "      <td>16</td>\n",
              "      <td>1998</td>\n",
              "      <td>100.1</td>\n",
              "    </tr>\n",
              "  </tbody>\n",
              "</table>\n",
              "</div>"
            ],
            "text/plain": [
              "       Region        Country  State    City  Month  Day  Year  AvgTemperature\n",
              "50515  Africa          Egypt    NaN   Cairo      5   23  2019           100.2\n",
              "88434  Africa  Guinea-Bissau    NaN  Bissau      4   16  1998           100.1"
            ]
          },
          "metadata": {
            "tags": []
          },
          "execution_count": 5
        }
      ]
    },
    {
      "cell_type": "markdown",
      "metadata": {
        "id": "-0RWVKaFH-R2"
      },
      "source": [
        "### Задача 2"
      ]
    },
    {
      "cell_type": "markdown",
      "metadata": {
        "id": "HP4ZO-WnPaho"
      },
      "source": [
        "Найдите медиану столбца AvgTemperature при помощи встроенных методов библиотеки Pandas"
      ]
    },
    {
      "cell_type": "markdown",
      "metadata": {
        "id": "QLixQiO_X6hK"
      },
      "source": [
        "**Решение:**"
      ]
    },
    {
      "cell_type": "code",
      "metadata": {
        "id": "d_OYfhhpbADw",
        "colab": {
          "base_uri": "https://localhost:8080/",
          "height": 34
        },
        "outputId": "2998c994-e6ff-43ce-cf47-a5bfe9c170e6"
      },
      "source": [
        "data.AvgTemperature.median()"
      ],
      "execution_count": null,
      "outputs": [
        {
          "output_type": "execute_result",
          "data": {
            "text/plain": [
              "75.1"
            ]
          },
          "metadata": {
            "tags": []
          },
          "execution_count": 6
        }
      ]
    },
    {
      "cell_type": "markdown",
      "metadata": {
        "id": "XOBMS887YKsY"
      },
      "source": [
        "### Задача 3"
      ]
    },
    {
      "cell_type": "markdown",
      "metadata": {
        "id": "Kz-o6ujPYKsY"
      },
      "source": [
        "Найдите число записей в базе данных для первого января 1995 года или первого января 2018 года при помощи масок. "
      ]
    },
    {
      "cell_type": "markdown",
      "metadata": {
        "id": "UlLW2RZuYKsZ"
      },
      "source": [
        "**Решение:**"
      ]
    },
    {
      "cell_type": "code",
      "metadata": {
        "id": "9q84XnvuMNU3",
        "colab": {
          "base_uri": "https://localhost:8080/",
          "height": 34
        },
        "outputId": "c49fc0d9-1c68-42f6-fa16-44fcfd909708"
      },
      "source": [
        "data_1 = data[(data['Day'] == 1) & (data['Month'] == 1) & (data['Year'] == 1995)]\n",
        "data_2 = data[(data['Day'] == 1) & (data['Month'] == 1) & (data['Year'] == 2018)]\n",
        "print(data_1.size, data_2.size)"
      ],
      "execution_count": null,
      "outputs": [
        {
          "output_type": "stream",
          "text": [
            "136 120\n"
          ],
          "name": "stdout"
        }
      ]
    },
    {
      "cell_type": "markdown",
      "metadata": {
        "id": "yXyZzjfWRHeH"
      },
      "source": [
        "### Задание 4"
      ]
    },
    {
      "cell_type": "markdown",
      "metadata": {
        "id": "T-I820HxX7Ii"
      },
      "source": [
        "**Решение:**"
      ]
    },
    {
      "cell_type": "markdown",
      "metadata": {
        "id": "n_Bi2hjgUYzx"
      },
      "source": [
        "Получите список всех уникальных значений стран в таблице при помощи встроенных методов."
      ]
    },
    {
      "cell_type": "code",
      "metadata": {
        "id": "FRMoNWICbBwt",
        "colab": {
          "base_uri": "https://localhost:8080/",
          "height": 87
        },
        "outputId": "e5d6aad4-6893-4d37-a343-094ac6d1373c"
      },
      "source": [
        "data.Country.unique()"
      ],
      "execution_count": null,
      "outputs": [
        {
          "output_type": "execute_result",
          "data": {
            "text/plain": [
              "array(['Algeria', 'Burundi', 'Benin', 'Central African Republic', 'Congo',\n",
              "       'Egypt', 'Ethiopia', 'Gabon', 'Gambia', 'Guinea', 'Guinea-Bissau',\n",
              "       'Ivory Coast', 'Kenya', 'Morocco', 'Madagascar', 'Mauritania',\n",
              "       'Malawi', 'Mozambique'], dtype=object)"
            ]
          },
          "metadata": {
            "tags": []
          },
          "execution_count": 8
        }
      ]
    },
    {
      "cell_type": "markdown",
      "metadata": {
        "id": "NFnSb1jlCnxH"
      },
      "source": [
        "### Задача 5\n",
        "При помощи переводчика или при помощи своих знаний переведите названия столбцов на русский язык. Замените в таблице английские названия столбцов на русские"
      ]
    },
    {
      "cell_type": "markdown",
      "metadata": {
        "id": "tKJATHoXX7cd"
      },
      "source": [
        "**Решение:**"
      ]
    },
    {
      "cell_type": "code",
      "metadata": {
        "id": "8wzD_rY0bCi-",
        "colab": {
          "base_uri": "https://localhost:8080/",
          "height": 406
        },
        "outputId": "ba67c4e8-1630-4ff8-9552-ddf88a849aed"
      },
      "source": [
        "my_dict = {'Region': 'Регион',\n",
        "           'Country': 'Страна',\n",
        "           'State': 'Область',\n",
        "           'City': 'Город',\n",
        "           'Month': 'Месяц',\n",
        "           'Day': 'День',\n",
        "           'Year': 'Год',\n",
        "           'AvgTemperature': 'Ср.температура'}\n",
        "\n",
        "data.rename(columns=my_dict, inplace=True)\n",
        "data         \n"
      ],
      "execution_count": null,
      "outputs": [
        {
          "output_type": "execute_result",
          "data": {
            "text/html": [
              "<div>\n",
              "<style scoped>\n",
              "    .dataframe tbody tr th:only-of-type {\n",
              "        vertical-align: middle;\n",
              "    }\n",
              "\n",
              "    .dataframe tbody tr th {\n",
              "        vertical-align: top;\n",
              "    }\n",
              "\n",
              "    .dataframe thead th {\n",
              "        text-align: right;\n",
              "    }\n",
              "</style>\n",
              "<table border=\"1\" class=\"dataframe\">\n",
              "  <thead>\n",
              "    <tr style=\"text-align: right;\">\n",
              "      <th></th>\n",
              "      <th>Регион</th>\n",
              "      <th>Страна</th>\n",
              "      <th>Область</th>\n",
              "      <th>Город</th>\n",
              "      <th>Месяц</th>\n",
              "      <th>День</th>\n",
              "      <th>Год</th>\n",
              "      <th>Ср.температура</th>\n",
              "    </tr>\n",
              "  </thead>\n",
              "  <tbody>\n",
              "    <tr>\n",
              "      <th>0</th>\n",
              "      <td>Africa</td>\n",
              "      <td>Algeria</td>\n",
              "      <td>NaN</td>\n",
              "      <td>Algiers</td>\n",
              "      <td>1</td>\n",
              "      <td>1</td>\n",
              "      <td>1995</td>\n",
              "      <td>64.2</td>\n",
              "    </tr>\n",
              "    <tr>\n",
              "      <th>1</th>\n",
              "      <td>Africa</td>\n",
              "      <td>Algeria</td>\n",
              "      <td>NaN</td>\n",
              "      <td>Algiers</td>\n",
              "      <td>1</td>\n",
              "      <td>2</td>\n",
              "      <td>1995</td>\n",
              "      <td>49.4</td>\n",
              "    </tr>\n",
              "    <tr>\n",
              "      <th>2</th>\n",
              "      <td>Africa</td>\n",
              "      <td>Algeria</td>\n",
              "      <td>NaN</td>\n",
              "      <td>Algiers</td>\n",
              "      <td>1</td>\n",
              "      <td>3</td>\n",
              "      <td>1995</td>\n",
              "      <td>48.8</td>\n",
              "    </tr>\n",
              "    <tr>\n",
              "      <th>3</th>\n",
              "      <td>Africa</td>\n",
              "      <td>Algeria</td>\n",
              "      <td>NaN</td>\n",
              "      <td>Algiers</td>\n",
              "      <td>1</td>\n",
              "      <td>4</td>\n",
              "      <td>1995</td>\n",
              "      <td>46.4</td>\n",
              "    </tr>\n",
              "    <tr>\n",
              "      <th>4</th>\n",
              "      <td>Africa</td>\n",
              "      <td>Algeria</td>\n",
              "      <td>NaN</td>\n",
              "      <td>Algiers</td>\n",
              "      <td>1</td>\n",
              "      <td>5</td>\n",
              "      <td>1995</td>\n",
              "      <td>47.9</td>\n",
              "    </tr>\n",
              "    <tr>\n",
              "      <th>...</th>\n",
              "      <td>...</td>\n",
              "      <td>...</td>\n",
              "      <td>...</td>\n",
              "      <td>...</td>\n",
              "      <td>...</td>\n",
              "      <td>...</td>\n",
              "      <td>...</td>\n",
              "      <td>...</td>\n",
              "    </tr>\n",
              "    <tr>\n",
              "      <th>153408</th>\n",
              "      <td>Africa</td>\n",
              "      <td>Mozambique</td>\n",
              "      <td>NaN</td>\n",
              "      <td>Maputo</td>\n",
              "      <td>8</td>\n",
              "      <td>26</td>\n",
              "      <td>2013</td>\n",
              "      <td>69.6</td>\n",
              "    </tr>\n",
              "    <tr>\n",
              "      <th>153409</th>\n",
              "      <td>Africa</td>\n",
              "      <td>Mozambique</td>\n",
              "      <td>NaN</td>\n",
              "      <td>Maputo</td>\n",
              "      <td>8</td>\n",
              "      <td>27</td>\n",
              "      <td>2013</td>\n",
              "      <td>73.8</td>\n",
              "    </tr>\n",
              "    <tr>\n",
              "      <th>153410</th>\n",
              "      <td>Africa</td>\n",
              "      <td>Mozambique</td>\n",
              "      <td>NaN</td>\n",
              "      <td>Maputo</td>\n",
              "      <td>8</td>\n",
              "      <td>28</td>\n",
              "      <td>2013</td>\n",
              "      <td>79.5</td>\n",
              "    </tr>\n",
              "    <tr>\n",
              "      <th>153411</th>\n",
              "      <td>Africa</td>\n",
              "      <td>Mozambique</td>\n",
              "      <td>NaN</td>\n",
              "      <td>Maputo</td>\n",
              "      <td>8</td>\n",
              "      <td>29</td>\n",
              "      <td>2013</td>\n",
              "      <td>77.5</td>\n",
              "    </tr>\n",
              "    <tr>\n",
              "      <th>153412</th>\n",
              "      <td>Africa</td>\n",
              "      <td>Mozambique</td>\n",
              "      <td>NaN</td>\n",
              "      <td>Maputo</td>\n",
              "      <td>8</td>\n",
              "      <td>30</td>\n",
              "      <td>20</td>\n",
              "      <td>NaN</td>\n",
              "    </tr>\n",
              "  </tbody>\n",
              "</table>\n",
              "<p>153413 rows × 8 columns</p>\n",
              "</div>"
            ],
            "text/plain": [
              "        Регион      Страна  Область    Город  Месяц  День   Год  Ср.температура\n",
              "0       Africa     Algeria      NaN  Algiers      1     1  1995            64.2\n",
              "1       Africa     Algeria      NaN  Algiers      1     2  1995            49.4\n",
              "2       Africa     Algeria      NaN  Algiers      1     3  1995            48.8\n",
              "3       Africa     Algeria      NaN  Algiers      1     4  1995            46.4\n",
              "4       Africa     Algeria      NaN  Algiers      1     5  1995            47.9\n",
              "...        ...         ...      ...      ...    ...   ...   ...             ...\n",
              "153408  Africa  Mozambique      NaN   Maputo      8    26  2013            69.6\n",
              "153409  Africa  Mozambique      NaN   Maputo      8    27  2013            73.8\n",
              "153410  Africa  Mozambique      NaN   Maputo      8    28  2013            79.5\n",
              "153411  Africa  Mozambique      NaN   Maputo      8    29  2013            77.5\n",
              "153412  Africa  Mozambique      NaN   Maputo      8    30    20             NaN\n",
              "\n",
              "[153413 rows x 8 columns]"
            ]
          },
          "metadata": {
            "tags": []
          },
          "execution_count": 19
        }
      ]
    }
  ]
}