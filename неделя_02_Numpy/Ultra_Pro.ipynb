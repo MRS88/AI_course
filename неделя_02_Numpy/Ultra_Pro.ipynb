{
  "nbformat": 4,
  "nbformat_minor": 0,
  "metadata": {
    "colab": {
      "name": "Копия блокнота \"Numpy. Домашнее задание. Ultra-Pro. Университет Искусственного Интеллекта.ipynb\"",
      "provenance": [],
      "collapsed_sections": [],
      "include_colab_link": true
    },
    "kernelspec": {
      "name": "python3",
      "display_name": "Python 3"
    }
  },
  "cells": [
    {
      "cell_type": "markdown",
      "metadata": {
        "id": "view-in-github",
        "colab_type": "text"
      },
      "source": [
        "<a href=\"https://colab.research.google.com/github/ShutTheFuckUpDonny/AI_course/blob/master/%D0%BD%D0%B5%D0%B4%D0%B5%D0%BB%D1%8F_02_Numpy/Ultra_Pro.ipynb\" target=\"_parent\"><img src=\"https://colab.research.google.com/assets/colab-badge.svg\" alt=\"Open In Colab\"/></a>"
      ]
    },
    {
      "cell_type": "markdown",
      "metadata": {
        "id": "zX8krr1RwqJN"
      },
      "source": [
        "### Задача 1\n",
        "\n",
        "Создайте единичную матрицу размером 5*5.\n",
        "\n",
        "**Должна получиться матрица вида:**\n",
        "\n",
        "**1** 0 0 0 0 \n",
        "\n",
        "0 **1** 0 0 0 \n",
        "\n",
        "0 0 **1** 0 0 \n",
        "\n",
        "0 0 0 **1** 0 \n",
        "\n",
        "0 0 0 0 **1** \n",
        "\n",
        "**Действовать можно двумя путями:**\n",
        "\n",
        "1. Используя соответствующий метод Numpy. (О нем не говорилось в занятии. Стоит обратиться к документации Numpy)\n",
        "2. Если первый вариант сложный, можно создать массив из нулей, используя метод, о котором говорилось в занятии. В цикле заменить все элементы по диагонали на единицы. \n",
        "\n",
        "\n",
        "\n",
        "\n"
      ]
    },
    {
      "cell_type": "markdown",
      "metadata": {
        "id": "DRipyLjR0H6_"
      },
      "source": [
        "**Решение:**"
      ]
    },
    {
      "cell_type": "code",
      "metadata": {
        "id": "A0t1durJ0H7D",
        "colab": {
          "base_uri": "https://localhost:8080/",
          "height": 105
        },
        "outputId": "75b2f721-1a96-4d21-c243-82213b557f87"
      },
      "source": [
        "import numpy as np\n",
        "\n",
        "np.eye(5, dtype=int)"
      ],
      "execution_count": null,
      "outputs": [
        {
          "output_type": "execute_result",
          "data": {
            "text/plain": [
              "array([[1, 0, 0, 0, 0],\n",
              "       [0, 1, 0, 0, 0],\n",
              "       [0, 0, 1, 0, 0],\n",
              "       [0, 0, 0, 1, 0],\n",
              "       [0, 0, 0, 0, 1]])"
            ]
          },
          "metadata": {
            "tags": []
          },
          "execution_count": 9
        }
      ]
    },
    {
      "cell_type": "markdown",
      "metadata": {
        "id": "ynuIwYg2zBbj"
      },
      "source": [
        "###Задача 2\n",
        "\n",
        "Создайте массив из случайных значений из стандартного нормального распределения размера 6 на 6. \n",
        "\n",
        "\"Разверните\" массив таким образом, чтобы его размер стал 36 на 1\n",
        "Найдите среднее значение элементов массива\n",
        "\n",
        "**Разрешается использовать только методы Numpy. (Циклы и условия запрещены)**"
      ]
    },
    {
      "cell_type": "markdown",
      "metadata": {
        "id": "KdbAknB0AR0O"
      },
      "source": [
        "**Решение:**"
      ]
    },
    {
      "cell_type": "code",
      "metadata": {
        "id": "uQDyuRTB_ntY",
        "colab": {
          "base_uri": "https://localhost:8080/",
          "height": 158
        },
        "outputId": "6392c5ce-941b-4c9e-80a8-699463d04860"
      },
      "source": [
        "arr = np.random.normal(0,1,(6,6)).round(2) # округление опционально, для улучшения восприятия\n",
        "print(arr)\n",
        "print()\n",
        "print(arr.reshape(36,).mean())"
      ],
      "execution_count": null,
      "outputs": [
        {
          "output_type": "stream",
          "text": [
            "[[-0.43 -0.52 -0.03 -0.34  0.77 -0.01]\n",
            " [-2.53  0.92 -0.82 -0.19 -1.8  -0.36]\n",
            " [ 0.01 -0.41  1.88 -0.68 -1.69  0.72]\n",
            " [-1.22  1.65 -0.2   0.58 -0.1  -0.1 ]\n",
            " [-0.65 -1.42 -1.71 -0.77  0.47 -1.75]\n",
            " [-0.32  0.09 -1.33 -0.13 -1.31 -0.27]]\n",
            "\n",
            "-0.38888888888888895\n"
          ],
          "name": "stdout"
        }
      ]
    },
    {
      "cell_type": "markdown",
      "metadata": {
        "id": "w0WY2OZm0I4T"
      },
      "source": [
        "###Задача 3\n",
        "\n",
        "Создайте массив из 20 любых случайных значений, используя метод Numpy.\n",
        "При помощи срезов и операций с массивами найдите значения производных для созданного массива"
      ]
    },
    {
      "cell_type": "markdown",
      "metadata": {
        "id": "afLVp4Bz0I4U"
      },
      "source": [
        "**Решение:**"
      ]
    },
    {
      "cell_type": "code",
      "metadata": {
        "id": "OrhT6IXO0I4V",
        "colab": {
          "base_uri": "https://localhost:8080/",
          "height": 158
        },
        "outputId": "4f446a6c-e1ae-4947-c7cf-fd770411fc95"
      },
      "source": [
        "arr_diff = np.random.random((20)).round(2)\n",
        "print(arr_diff)\n",
        "print()\n",
        "# первый и самый простой способ\n",
        "print(np.diff(arr_diff))\n",
        "print()\n",
        "# второй способ\n",
        "diff_list = []\n",
        "for i in range(len(arr_diff)):\n",
        "  try:\n",
        "    res = arr_diff[i+1] - arr_diff[i]\n",
        "    diff_list.append(res.round(2))\n",
        "  except IndexError:\n",
        "    pass\n",
        "print(np.array(diff_list))      \n",
        "\n",
        "\n"
      ],
      "execution_count": null,
      "outputs": [
        {
          "output_type": "stream",
          "text": [
            "[0.58 0.01 0.67 0.21 0.69 0.07 0.17 0.8  0.73 0.5  0.02 0.08 0.27 0.06\n",
            " 0.44 0.78 0.08 0.8  0.96 0.1 ]\n",
            "\n",
            "[-0.57  0.66 -0.46  0.48 -0.62  0.1   0.63 -0.07 -0.23 -0.48  0.06  0.19\n",
            " -0.21  0.38  0.34 -0.7   0.72  0.16 -0.86]\n",
            "\n",
            "[-0.57  0.66 -0.46  0.48 -0.62  0.1   0.63 -0.07 -0.23 -0.48  0.06  0.19\n",
            " -0.21  0.38  0.34 -0.7   0.72  0.16 -0.86]\n"
          ],
          "name": "stdout"
        }
      ]
    },
    {
      "cell_type": "markdown",
      "metadata": {
        "id": "9yRnreZZ1bbD"
      },
      "source": [
        "###Задача 4\n",
        "\n",
        "Дано выражение\n",
        "\n",
        "Y = A * X * C\n",
        "\n",
        "Создайте три случайных массива: A, C, X. Размерности должны позволять выполнить матричное умножение, согласно формуле. На выходе должен получиться массив Y с размерностью (5, 18). (Остальные размерности возьмите на свое усмотрение)"
      ]
    },
    {
      "cell_type": "markdown",
      "metadata": {
        "id": "LaBzyzoM1bbF"
      },
      "source": [
        "**Решение:**"
      ]
    },
    {
      "cell_type": "code",
      "metadata": {
        "id": "uxoYx_1A49Mt",
        "colab": {
          "base_uri": "https://localhost:8080/",
          "height": 212
        },
        "outputId": "477a785c-eb83-490a-f1b3-acf915d59b97"
      },
      "source": [
        "A = np.random.randint(1, 3, (5, 3))\n",
        "X = np.random.randint(1, 3, (3, 6))\n",
        "C = np.random.randint(1, 3, (6, 18))\n",
        "Y = A.dot(X).dot(C)\n",
        "print(Y.shape)\n",
        "Y"
      ],
      "execution_count": null,
      "outputs": [
        {
          "output_type": "stream",
          "text": [
            "(5, 18)\n"
          ],
          "name": "stdout"
        },
        {
          "output_type": "execute_result",
          "data": {
            "text/plain": [
              "array([[61, 62, 40, 58, 47, 44, 40, 58, 52, 57, 63, 45, 45, 46, 39, 50,\n",
              "        58, 57],\n",
              "       [61, 62, 40, 58, 47, 44, 40, 58, 52, 57, 63, 45, 45, 46, 39, 50,\n",
              "        58, 57],\n",
              "       [61, 61, 39, 58, 48, 44, 39, 58, 53, 58, 63, 44, 44, 46, 39, 51,\n",
              "        58, 58],\n",
              "       [75, 76, 49, 72, 59, 54, 49, 72, 65, 71, 78, 55, 55, 57, 48, 62,\n",
              "        72, 71],\n",
              "       [80, 79, 50, 74, 61, 58, 50, 74, 68, 75, 81, 57, 57, 59, 51, 67,\n",
              "        74, 75]])"
            ]
          },
          "metadata": {
            "tags": []
          },
          "execution_count": 56
        }
      ]
    },
    {
      "cell_type": "markdown",
      "metadata": {
        "id": "lI80npk567JA"
      },
      "source": [
        "###Задача 5\n",
        "\n",
        "Загрузите какой-либо файл с данными (таблица Excel с Вашего компьютера, сохранненая в формате csv, или таблица из Интернета). Выведите:\n",
        "\n",
        "1. Всю информацию из файла в ячейку. \n",
        "2. Размерность данных \n",
        "3. Среднее арифметическое от всех числовых значений (если есть)\n",
        "4. Число столбов \n",
        "5. Число строк\n",
        "6. Типы данных всех значений "
      ]
    },
    {
      "cell_type": "markdown",
      "metadata": {
        "id": "P1B0CDxZ67JE"
      },
      "source": [
        "**Решение:**"
      ]
    },
    {
      "cell_type": "code",
      "metadata": {
        "id": "so0nAkTf67JF",
        "colab": {
          "base_uri": "https://localhost:8080/",
          "height": 443
        },
        "outputId": "a88a4ff5-d315-4713-fcef-60c087e69e03"
      },
      "source": [
        "import numpy as np\n",
        "import csv \n",
        "\n",
        "filename = 'titanic (1).csv'\n",
        "with open(filename) as f:\n",
        "  reader = csv.reader(f)\n",
        "  file_list = list(reader)\n",
        "\n",
        "file_arr = np.array(file_list[:10]) # сократил до 10 строк вместо 892 фактических\n",
        "print(file_arr)\n",
        "print('размер массива:', file_arr.shape)\n",
        "\n",
        "# находим числовые данные и среднее арифметическое\n",
        "num_list = []\n",
        "for num in np.nditer(file_arr):\n",
        "  try:\n",
        "    if float(num):\n",
        "      num_list.append(float(num))\n",
        "  except ValueError:\n",
        "    pass\n",
        "np.mean(num_list)\n",
        "\n",
        "# эта задача решается с помощью .shape. Так как в случае массива с одной строкой\n",
        "# при вызове .shape[1] будет ошибка 'out of index'. Возможно есть метод, что \n",
        "# возвращает количество строк и столбцов, но я не нашел его. \n",
        "print('количество строк:', file_arr.shape[0])\n",
        "print('количество столбцов:', file_arr.shape[1])\n",
        "\n",
        "file_arr.dtype\n",
        "\n",
        "\n",
        "\n",
        "  \n",
        "   \n",
        "\n"
      ],
      "execution_count": null,
      "outputs": [
        {
          "output_type": "stream",
          "text": [
            "[['PassengerId' 'Survived' 'Pclass' 'Name' 'Sex' 'Age' 'SibSp' 'Parch'\n",
            "  'Ticket' 'Fare' 'Cabin' 'Embarked']\n",
            " ['1' '0' '3' 'Braund, Mr. Owen Harris' 'male' '22' '1' '0' 'A/5 21171'\n",
            "  '7.25' '' 'S']\n",
            " ['2' '1' '1' 'Cumings, Mrs. John Bradley (Florence Briggs Thayer)'\n",
            "  'female' '38' '1' '0' 'PC 17599' '71.2833' 'C85' 'C']\n",
            " ['3' '1' '3' 'Heikkinen, Miss. Laina' 'female' '26' '0' '0'\n",
            "  'STON/O2. 3101282' '7.925' '' 'S']\n",
            " ['4' '1' '1' 'Futrelle, Mrs. Jacques Heath (Lily May Peel)' 'female'\n",
            "  '35' '1' '0' '113803' '53.1' 'C123' 'S']\n",
            " ['5' '0' '3' 'Allen, Mr. William Henry' 'male' '35' '0' '0' '373450'\n",
            "  '8.05' '' 'S']\n",
            " ['6' '0' '3' 'Moran, Mr. James' 'male' '' '0' '0' '330877' '8.4583' ''\n",
            "  'Q']\n",
            " ['7' '0' '1' 'McCarthy, Mr. Timothy J' 'male' '54' '0' '0' '17463'\n",
            "  '51.8625' 'E46' 'S']\n",
            " ['8' '0' '3' 'Palsson, Master. Gosta Leonard' 'male' '2' '3' '1'\n",
            "  '349909' '21.075' '' 'S']\n",
            " ['9' '1' '3' 'Johnson, Mrs. Oscar W (Elisabeth Vilhelmina Berg)'\n",
            "  'female' '27' '0' '2' '347742' '11.1333' '' 'S']]\n",
            "размер массива: (10, 12)\n",
            "количество строк: 10\n",
            "количество столбцов: 12\n"
          ],
          "name": "stdout"
        },
        {
          "output_type": "execute_result",
          "data": {
            "text/plain": [
              "dtype('<U51')"
            ]
          },
          "metadata": {
            "tags": []
          },
          "execution_count": 52
        }
      ]
    }
  ]
}