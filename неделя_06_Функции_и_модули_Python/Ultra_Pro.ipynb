{
  "nbformat": 4,
  "nbformat_minor": 0,
  "metadata": {
    "colab": {
      "name": "Копия блокнота \"ДЗ Ultra Pro. Функции и модули.ipynb\"",
      "provenance": [],
      "collapsed_sections": [],
      "include_colab_link": true
    },
    "kernelspec": {
      "name": "python3",
      "display_name": "Python 3"
    }
  },
  "cells": [
    {
      "cell_type": "markdown",
      "metadata": {
        "id": "view-in-github",
        "colab_type": "text"
      },
      "source": [
        "<a href=\"https://colab.research.google.com/github/MRS88/AI_course/blob/master/%D0%BD%D0%B5%D0%B4%D0%B5%D0%BB%D1%8F_06_%D0%A4%D1%83%D0%BD%D0%BA%D1%86%D0%B8%D0%B8_%D0%B8_%D0%BC%D0%BE%D0%B4%D1%83%D0%BB%D0%B8_Python/Ultra_Pro.ipynb\" target=\"_parent\"><img src=\"https://colab.research.google.com/assets/colab-badge.svg\" alt=\"Open In Colab\"/></a>"
      ]
    },
    {
      "cell_type": "markdown",
      "metadata": {
        "id": "NRUICBBzlLh2"
      },
      "source": [
        "# Домашнее задание \n",
        "Функции и модули\n",
        "# Ultra Pro"
      ]
    },
    {
      "cell_type": "markdown",
      "metadata": {
        "id": "j0nWwQpIaPch"
      },
      "source": [
        "**Задача 1**\n",
        "\n",
        "Уже весна, скоро в отпуск. Необходимо написать функцию расчета стоимости вашего путешествия. \n",
        "\n",
        "Определите функцию с названием ```hotel_cost``` и с аргументом Количество ночей в качестве входных данных. Цена отеля будет 140 у. е. за ночь. Выходит, функция должна вернуть стоимость всех ночей. \n",
        "\n",
        "Определите функцию под названием ```plane_ride_cost```, которая на вход принимает строку Город. Такая функция должна вернуть цену перелета в зависимости от места: если это Крым, то перелет обойдется в 120 у. е., \n",
        "       если Шри-Ланка - 800 у. е.,\n",
        "       если Каир - 400 у. е.,\n",
        "       если Сочи - 120 у. е.\n",
        "\n",
        "Напишите функцию ```rental_car_cost``` с аргументом Количество дней. Эта функция должна рассчитать стоимость аренды авто, если за сутки вы должны оплачивать саму ренту (40 у. е.) + стоимость услуг страхового агентства (+1% от суммарной стоимости услуг каждый следующий день. Т. е. первый день 1% от стоимости, второй - берется 1% от стоимости предыдущего дня (включая 1% за предыдущий день)  и т. д. Если вы арендуете на 7 и более дней, то скидка - 50 у. е., если от 3 до 6 дней включительно - 20 у. е. Обе скидки получить сразу нельзя. \n",
        "Задача состоит в том, чтобы эти функции (```hotel_cost, plane_ride_cost, rental_car_cost```) были локальными в составе одной глобальной функции trip_cost, которая бы возвращала сумму этих локальных функций. "
      ]
    },
    {
      "cell_type": "markdown",
      "metadata": {
        "id": "EaYeDHxcuO_s"
      },
      "source": [
        "**Решение:**"
      ]
    },
    {
      "cell_type": "code",
      "metadata": {
        "id": "pngcgEEkaQbG",
        "colab": {
          "base_uri": "https://localhost:8080/"
        },
        "outputId": "0020bc61-31bd-4d1d-bbf1-2ef98dd3cdd1"
      },
      "source": [
        "def trip_cost(days, nights, city):\n",
        "\n",
        "  def hotel_cost(nights):\n",
        "    return nights * 140\n",
        "\n",
        "  def plane_ride_cost(city):\n",
        "    if city == 'Крым' or 'Сочи': return 120\n",
        "    if city == 'Шри-Ланка': return 800\n",
        "    if city == 'Каир': return 400\n",
        "\n",
        "  def rental_car_cost(days):\n",
        "    total_days = days # так как days в цикле будет равно 0\n",
        "    cost = 0\n",
        "    while days != 0:\n",
        "      cost += 40 + (40 + cost) * 0.01\n",
        "      days -= 1\n",
        "    if total_days >= 7: return round(cost, 2) - 50   \n",
        "    elif 3 <= total_days <= 6: return round(cost, 2) - 20\n",
        "    else: return cost\n",
        "\n",
        "  return hotel_cost(nights) + plane_ride_cost(city) + rental_car_cost(days)\n",
        "\n",
        "print(trip_cost(5, 4, 'Сочи'))"
      ],
      "execution_count": null,
      "outputs": [
        {
          "output_type": "stream",
          "text": [
            "866.08\n"
          ],
          "name": "stdout"
        }
      ]
    },
    {
      "cell_type": "markdown",
      "metadata": {
        "id": "vx8FJjcGrx4b"
      },
      "source": [
        "**Задача 2**\n",
        "\n",
        "Напишите функцию, которая считает факториал заданного числа."
      ]
    },
    {
      "cell_type": "markdown",
      "metadata": {
        "id": "V_qeKIlWuWNw"
      },
      "source": [
        "**Решение:**"
      ]
    },
    {
      "cell_type": "code",
      "metadata": {
        "id": "rwkN-nciXC41"
      },
      "source": [
        "# 1 способ\n",
        "import numpy as np\n",
        "\n",
        "def factor():\n",
        "  num = int(input('Введите целое неотрицательное число: '))\n",
        "  if num == 0: return 1\n",
        "  else: return np.prod([i for i in range(1, num+1)])\n",
        "\n",
        "print(factor())"
      ],
      "execution_count": null,
      "outputs": []
    },
    {
      "cell_type": "code",
      "metadata": {
        "id": "zIx8PxXm58CQ"
      },
      "source": [
        "# 2 способ\n",
        "def factor_2():\n",
        "  n = int(input('Введите целое неотрицательное число: '))\n",
        "  if n == 0: return 1\n",
        "  else:\n",
        "    res = 1\n",
        "    for i in range(1, n+1):\n",
        "      res *= i\n",
        "    return res    \n",
        "\n",
        "factor_2()    "
      ],
      "execution_count": null,
      "outputs": []
    },
    {
      "cell_type": "markdown",
      "metadata": {
        "id": "T8a_TGxGt7Yy"
      },
      "source": [
        "**Задача 3**\n",
        "\n",
        "Напишите **лямбда**-функцию, которая считает полную площадь конуса:\n",
        "S = πR(l + R)."
      ]
    },
    {
      "cell_type": "markdown",
      "metadata": {
        "id": "cSrfBueQuYJi"
      },
      "source": [
        "**Решение:**"
      ]
    },
    {
      "cell_type": "code",
      "metadata": {
        "id": "c2M4DJJxtsTT",
        "colab": {
          "base_uri": "https://localhost:8080/",
          "height": 70
        },
        "outputId": "e1baa1e4-f556-4cfd-8b77-64358d8fe9a6"
      },
      "source": [
        "from math import pi\n",
        "L = float(input())\n",
        "R = float(input())\n",
        "print((lambda R, L: pi*R*(L+R))(R, L))\n"
      ],
      "execution_count": null,
      "outputs": [
        {
          "output_type": "stream",
          "text": [
            "10\n",
            "5\n",
            "235.61944901923448\n"
          ],
          "name": "stdout"
        }
      ]
    },
    {
      "cell_type": "markdown",
      "metadata": {
        "id": "6fXQoIiVysbl"
      },
      "source": [
        "**Задача 4**\n",
        "\n",
        "Напишите 2 локальные функции, которые будут переводить доллары в рубли и евро в рубли, внутри глобальной функции, которая будет принимать на вход число (рубли) и выводить конвертированные валюты."
      ]
    },
    {
      "cell_type": "markdown",
      "metadata": {
        "id": "N78DnlmDuchl"
      },
      "source": [
        "**Решение:**"
      ]
    },
    {
      "cell_type": "code",
      "metadata": {
        "id": "N7uDMsRoxCvC",
        "colab": {
          "base_uri": "https://localhost:8080/",
          "height": 34
        },
        "outputId": "1f318029-b7ba-475f-a965-eaef75673a26"
      },
      "source": [
        "def change(rub):\n",
        "\n",
        "  def rub_dollar():\n",
        "    return round(rub/77.89, 2)\n",
        "\n",
        "  def rub_euro():\n",
        "    return round(rub/91.67, 2)\n",
        "\n",
        "  return f'{rub} руб. = €{rub_euro()} или ${rub_dollar()}'\n",
        "\n",
        "print(change(1000))  \n"
      ],
      "execution_count": null,
      "outputs": [
        {
          "output_type": "stream",
          "text": [
            "1000 руб. = €10.91 или $12.84\n"
          ],
          "name": "stdout"
        }
      ]
    },
    {
      "cell_type": "markdown",
      "metadata": {
        "id": "TtWCCVfN6nCc"
      },
      "source": [
        "**Задача 5**\n",
        "\n",
        "Напишите функцию-генератор, которая будет выводить числа Фибоначчи."
      ]
    },
    {
      "cell_type": "markdown",
      "metadata": {
        "id": "zcFv7fKOuefN"
      },
      "source": [
        "**Решение:**"
      ]
    },
    {
      "cell_type": "code",
      "metadata": {
        "id": "z8KBWxdz6EGv",
        "colab": {
          "base_uri": "https://localhost:8080/",
          "height": 34
        },
        "outputId": "52453850-cc18-41e2-80d3-c1f84e153e5e"
      },
      "source": [
        "def fib(n):\n",
        "  fib1, fib2 = 1, 1\n",
        "  for i in range(n):\n",
        "    yield fib1\n",
        "    fib1, fib2 = fib2, fib1+fib2\n",
        "\n",
        "for j in fib(11):\n",
        "  print(j, end=' ')"
      ],
      "execution_count": null,
      "outputs": [
        {
          "output_type": "stream",
          "text": [
            "1 1 2 3 5 8 13 21 34 55 89 "
          ],
          "name": "stdout"
        }
      ]
    }
  ]
}