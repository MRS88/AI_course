{
  "nbformat": 4,
  "nbformat_minor": 0,
  "metadata": {
    "colab": {
      "name": "Разбор ДЗ Light. Функции и модули.ipynb",
      "provenance": [],
      "collapsed_sections": [],
      "include_colab_link": true
    },
    "kernelspec": {
      "name": "python3",
      "display_name": "Python 3"
    }
  },
  "cells": [
    {
      "cell_type": "markdown",
      "metadata": {
        "id": "view-in-github",
        "colab_type": "text"
      },
      "source": [
        "<a href=\"https://colab.research.google.com/github/MRS88/AI_course/blob/master/%D0%BD%D0%B5%D0%B4%D0%B5%D0%BB%D1%8F_06_%D0%A4%D1%83%D0%BD%D0%BA%D1%86%D0%B8%D0%B8_%D0%B8_%D0%BC%D0%BE%D0%B4%D1%83%D0%BB%D0%B8_Python/%D0%A0%D0%B0%D0%B7%D0%B1%D0%BE%D1%80_%D0%94%D0%97_Light_%D0%A4%D1%83%D0%BD%D0%BA%D1%86%D0%B8%D0%B8_%D0%B8_%D0%BC%D0%BE%D0%B4%D1%83%D0%BB%D0%B8.ipynb\" target=\"_parent\"><img src=\"https://colab.research.google.com/assets/colab-badge.svg\" alt=\"Open In Colab\"/></a>"
      ]
    },
    {
      "cell_type": "markdown",
      "metadata": {
        "id": "NRUICBBzlLh2"
      },
      "source": [
        "# Разбор домашнего задания \n",
        "Функции и модули\n",
        "# Light"
      ]
    },
    {
      "cell_type": "markdown",
      "metadata": {
        "id": "J_3EMvI2E3fG"
      },
      "source": [
        "**Задача 1**\n",
        "\n",
        "Определите функцию ```shut_down```, которая на вход принимает некоторый аргумент. Если на вход было подано \"ДА\", то функция возвращает \"Выключение\", если \"НЕТ\", то должна вернуть \"Выключение отклонено\". Если же ни одно из условий не соблюдено (на вход подали что-то другое), то функция возвращает \"Ошибка!\""
      ]
    },
    {
      "cell_type": "code",
      "metadata": {
        "id": "Hn8T4IUgFrce"
      },
      "source": [
        "def shut_down(string):\n",
        "\n",
        "  if string.upper() == 'ДА':\n",
        "    message = 'Выключение'\n",
        "  elif string.upper() == 'НЕТ':\n",
        "    message = 'Выключение отменено'\n",
        "  else:\n",
        "    message = 'Ошибка!'\n",
        "\n",
        "  return message"
      ],
      "execution_count": null,
      "outputs": []
    },
    {
      "cell_type": "code",
      "metadata": {
        "id": "mr3gI1iMiQdF",
        "colab": {
          "base_uri": "https://localhost:8080/",
          "height": 34
        },
        "outputId": "86808ab4-b3ab-4426-936d-a2b383218ccd"
      },
      "source": [
        "print(shut_down('Про'))"
      ],
      "execution_count": null,
      "outputs": [
        {
          "output_type": "stream",
          "text": [
            "Ошибка!\n"
          ],
          "name": "stdout"
        }
      ]
    },
    {
      "cell_type": "markdown",
      "metadata": {
        "id": "y9HKW0zfFrx5"
      },
      "source": [
        "**Задача 2**\n",
        "\n",
        "Напишите функцию, которая возвращает сумму всех четных элементов списка. "
      ]
    },
    {
      "cell_type": "code",
      "metadata": {
        "id": "4EarzKMgF-3S"
      },
      "source": [
        "def special_sum(lst):\n",
        "\n",
        "  s = 0\n",
        "  for i in lst:\n",
        "    if i % 2 == 0:\n",
        "      s += i\n",
        "\n",
        "  return s"
      ],
      "execution_count": null,
      "outputs": []
    },
    {
      "cell_type": "code",
      "metadata": {
        "id": "lXXWp7JGjitQ",
        "colab": {
          "base_uri": "https://localhost:8080/",
          "height": 34
        },
        "outputId": "7d257a7b-31cc-4fc2-abdf-fb162fff5a46"
      },
      "source": [
        "lst = [64, 70, 30, 73, 16, 93, 21, 57, 10, 56, 33, 95, 35, 12, 11, 14, 27, 97, 49, 69]\n",
        "print(special_sum(lst))"
      ],
      "execution_count": null,
      "outputs": [
        {
          "output_type": "stream",
          "text": [
            "272\n"
          ],
          "name": "stdout"
        }
      ]
    },
    {
      "cell_type": "markdown",
      "metadata": {
        "id": "wmWxT1ibGfpN"
      },
      "source": [
        "**Задача 3**\n",
        "\n",
        "Импортируйте модуль ```math``` и воспользуйтесь оттуда функцией ```sqrt``` для нахождения квадратного корня каждого числа из списка (из задачи № 2).\n"
      ]
    },
    {
      "cell_type": "code",
      "metadata": {
        "id": "kh2ofR4-3y_q",
        "colab": {
          "base_uri": "https://localhost:8080/",
          "height": 34
        },
        "outputId": "bb06d5ca-6ecf-4ddf-8969-efdb793a2a3b"
      },
      "source": [
        "import math \n",
        "math.sqrt(16)"
      ],
      "execution_count": null,
      "outputs": [
        {
          "output_type": "execute_result",
          "data": {
            "text/plain": [
              "4.0"
            ]
          },
          "metadata": {
            "tags": []
          },
          "execution_count": 21
        }
      ]
    },
    {
      "cell_type": "code",
      "metadata": {
        "id": "zrsGIkgmG-AT",
        "colab": {
          "base_uri": "https://localhost:8080/",
          "height": 357
        },
        "outputId": "018b4290-fb15-40c0-fcd7-f97302b1285d"
      },
      "source": [
        "import math \n",
        "\n",
        "for i in lst:\n",
        "  print('Корень из', i, 'равен', math.sqrt(i))"
      ],
      "execution_count": null,
      "outputs": [
        {
          "output_type": "stream",
          "text": [
            "Корень из 64 равен 8.0\n",
            "Корень из 70 равен 8.366600265340756\n",
            "Корень из 30 равен 5.477225575051661\n",
            "Корень из 73 равен 8.54400374531753\n",
            "Корень из 16 равен 4.0\n",
            "Корень из 93 равен 9.643650760992955\n",
            "Корень из 21 равен 4.58257569495584\n",
            "Корень из 57 равен 7.54983443527075\n",
            "Корень из 10 равен 3.1622776601683795\n",
            "Корень из 56 равен 7.483314773547883\n",
            "Корень из 33 равен 5.744562646538029\n",
            "Корень из 95 равен 9.746794344808963\n",
            "Корень из 35 равен 5.916079783099616\n",
            "Корень из 12 равен 3.4641016151377544\n",
            "Корень из 11 равен 3.3166247903554\n",
            "Корень из 14 равен 3.7416573867739413\n",
            "Корень из 27 равен 5.196152422706632\n",
            "Корень из 97 равен 9.848857801796104\n",
            "Корень из 49 равен 7.0\n",
            "Корень из 69 равен 8.306623862918075\n"
          ],
          "name": "stdout"
        }
      ]
    },
    {
      "cell_type": "markdown",
      "metadata": {
        "id": "JQvwHuGsG9Of"
      },
      "source": [
        "**Задача 4**\n",
        "\n",
        "Напишите функцию, которая рассчитает примерное время выполнения этого домашнего задания. На вход она принимает количество минут, потраченное на каждое задание. Выведите посчитанное время на экран."
      ]
    },
    {
      "cell_type": "code",
      "metadata": {
        "id": "68KXmNplpTt5"
      },
      "source": [
        "def minutes_counter1(lst):\n",
        "  counter = 0\n",
        "  for i in lst:\n",
        "    counter += i\n",
        "  return counter"
      ],
      "execution_count": null,
      "outputs": []
    },
    {
      "cell_type": "code",
      "metadata": {
        "id": "2BopCk0bZOdy"
      },
      "source": [
        "def minutes_counter2(lst):\n",
        "  return sum(lst)"
      ],
      "execution_count": null,
      "outputs": []
    },
    {
      "cell_type": "code",
      "metadata": {
        "id": "NiYYPzLnHclb"
      },
      "source": [
        "minutes = [1, 1, 1, 9, 2]"
      ],
      "execution_count": null,
      "outputs": []
    },
    {
      "cell_type": "code",
      "metadata": {
        "id": "ETFFF8QXphQR",
        "colab": {
          "base_uri": "https://localhost:8080/",
          "height": 34
        },
        "outputId": "fcabeaec-e39a-40fa-f933-968574ef6f4f"
      },
      "source": [
        "minutes_counter1(minutes)"
      ],
      "execution_count": null,
      "outputs": [
        {
          "output_type": "execute_result",
          "data": {
            "text/plain": [
              "14"
            ]
          },
          "metadata": {
            "tags": []
          },
          "execution_count": 27
        }
      ]
    },
    {
      "cell_type": "code",
      "metadata": {
        "id": "3pzA7GSvZXCm",
        "colab": {
          "base_uri": "https://localhost:8080/",
          "height": 34
        },
        "outputId": "f6e3e3a7-5959-4ab2-c4f6-3d8273e6ffbb"
      },
      "source": [
        "minutes_counter2(minutes)"
      ],
      "execution_count": null,
      "outputs": [
        {
          "output_type": "execute_result",
          "data": {
            "text/plain": [
              "14"
            ]
          },
          "metadata": {
            "tags": []
          },
          "execution_count": 42
        }
      ]
    },
    {
      "cell_type": "markdown",
      "metadata": {
        "id": "uG25f7M3HZbU"
      },
      "source": [
        "**Задача 5**\n",
        "\n",
        "Напишите функцию, которая возвращает перевернутую строку наоборот.\n",
        "Пример: начальная строка11 -> 11акортс яаньлачан."
      ]
    },
    {
      "cell_type": "code",
      "metadata": {
        "id": "gP4TQuZJILE_"
      },
      "source": [
        "stroka = 'пароль от Wi-Fi: bOTOt0s@ni123'"
      ],
      "execution_count": null,
      "outputs": []
    },
    {
      "cell_type": "code",
      "metadata": {
        "id": "rgx6PA44mb6p"
      },
      "source": [
        "def string_reverse(string):\n",
        "  string = string[::-1]\n",
        "  return string"
      ],
      "execution_count": null,
      "outputs": []
    },
    {
      "cell_type": "code",
      "metadata": {
        "id": "NxYNJP0vmss2",
        "colab": {
          "base_uri": "https://localhost:8080/",
          "height": 35
        },
        "outputId": "51f0822f-b5ea-401b-b16a-fe81c7371a1c"
      },
      "source": [
        "string_reverse(stroka)"
      ],
      "execution_count": null,
      "outputs": [
        {
          "output_type": "execute_result",
          "data": {
            "application/vnd.google.colaboratory.intrinsic+json": {
              "type": "string"
            },
            "text/plain": [
              "'321in@s0tOTOb :iF-iW то ьлорап'"
            ]
          },
          "metadata": {
            "tags": []
          },
          "execution_count": 41
        }
      ]
    },
    {
      "cell_type": "code",
      "metadata": {
        "id": "hrl3znIP5y1S"
      },
      "source": [
        ""
      ],
      "execution_count": null,
      "outputs": []
    }
  ]
}