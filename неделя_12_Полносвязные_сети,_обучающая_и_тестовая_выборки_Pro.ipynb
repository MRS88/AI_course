{
  "nbformat": 4,
  "nbformat_minor": 0,
  "metadata": {
    "colab": {
      "name": "Untitled9.ipynb",
      "provenance": [],
      "authorship_tag": "ABX9TyOQwSrxf+MNGdks9NxXl3tQ",
      "include_colab_link": true
    },
    "kernelspec": {
      "name": "python3",
      "display_name": "Python 3"
    }
  },
  "cells": [
    {
      "cell_type": "markdown",
      "metadata": {
        "id": "view-in-github",
        "colab_type": "text"
      },
      "source": [
        "<a href=\"https://colab.research.google.com/github/ShutTheFuckUpDonny/AI_course/blob/master/%D0%BD%D0%B5%D0%B4%D0%B5%D0%BB%D1%8F_12_%D0%9F%D0%BE%D0%BB%D0%BD%D0%BE%D1%81%D0%B2%D1%8F%D0%B7%D0%BD%D1%8B%D0%B5_%D1%81%D0%B5%D1%82%D0%B8%2C_%D0%BE%D0%B1%D1%83%D1%87%D0%B0%D1%8E%D1%89%D0%B0%D1%8F_%D0%B8_%D1%82%D0%B5%D1%81%D1%82%D0%BE%D0%B2%D0%B0%D1%8F_%D0%B2%D1%8B%D0%B1%D0%BE%D1%80%D0%BA%D0%B8_Pro.ipynb\" target=\"_parent\"><img src=\"https://colab.research.google.com/assets/colab-badge.svg\" alt=\"Open In Colab\"/></a>"
      ]
    },
    {
      "cell_type": "markdown",
      "metadata": {
        "id": "VHHUPUHUyN9Y"
      },
      "source": [
        "Повысьте точность модели по обнаружению мин до 90 % на тестовой выборке. \r\n",
        "\r\n",
        "Можно использовать различные варианты слоев Dropout и BatchNormalization. Можно менять количество примеров в обучающей и проверочной выборках, но нельзя менять количество примеров в тестовой."
      ]
    },
    {
      "cell_type": "code",
      "metadata": {
        "id": "u1QJ6ylnxcE6"
      },
      "source": [
        "from tensorflow.keras.models import Sequential\n",
        "from tensorflow.keras.layers import Dense, Dropout, BatchNormalization\n",
        "from tensorflow.keras import utils\n",
        "from tensorflow.keras.optimizers import Adam, Adadelta\n",
        "from sklearn.model_selection import train_test_split\n",
        "from sklearn import preprocessing\n",
        "import numpy as np\n",
        "import pandas as pd\n",
        "from google.colab import files"
      ],
      "execution_count": null,
      "outputs": []
    },
    {
      "cell_type": "code",
      "metadata": {
        "colab": {
          "resources": {
            "http://localhost:8080/nbextensions/google.colab/files.js": {
              "data": "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",
              "ok": true,
              "headers": [
                [
                  "content-type",
                  "application/javascript"
                ]
              ],
              "status": 200,
              "status_text": ""
            }
          },
          "base_uri": "https://localhost:8080/",
          "height": 91
        },
        "id": "lU5m1q8VyJMu",
        "outputId": "ab26caad-a3fe-4519-87bb-cd601d41126f"
      },
      "source": [
        "files.upload()\n",
        "!ls"
      ],
      "execution_count": null,
      "outputs": [
        {
          "output_type": "display_data",
          "data": {
            "text/html": [
              "\n",
              "     <input type=\"file\" id=\"files-950bf914-d2fc-4a03-90ad-c27371e6d83f\" name=\"files[]\" multiple disabled\n",
              "        style=\"border:none\" />\n",
              "     <output id=\"result-950bf914-d2fc-4a03-90ad-c27371e6d83f\">\n",
              "      Upload widget is only available when the cell has been executed in the\n",
              "      current browser session. Please rerun this cell to enable.\n",
              "      </output>\n",
              "      <script src=\"/nbextensions/google.colab/files.js\"></script> "
            ],
            "text/plain": [
              "<IPython.core.display.HTML object>"
            ]
          },
          "metadata": {
            "tags": []
          }
        },
        {
          "output_type": "stream",
          "text": [
            "Saving sonar.csv to sonar.csv\n",
            "sample_data  sonar.csv\n"
          ],
          "name": "stdout"
        }
      ]
    },
    {
      "cell_type": "code",
      "metadata": {
        "colab": {
          "base_uri": "https://localhost:8080/"
        },
        "id": "GreAYK9s0B_G",
        "outputId": "8b91a076-7fec-415d-9a33-8cc4758fc7a1"
      },
      "source": [
        "df = pd.read_csv('sonar.csv', header=None)\n",
        "print(df.head())\n",
        "print(df.shape)"
      ],
      "execution_count": null,
      "outputs": [
        {
          "output_type": "stream",
          "text": [
            "       0       1       2       3       4   ...      56      57      58      59  60\n",
            "0  0.0200  0.0371  0.0428  0.0207  0.0954  ...  0.0180  0.0084  0.0090  0.0032   R\n",
            "1  0.0453  0.0523  0.0843  0.0689  0.1183  ...  0.0140  0.0049  0.0052  0.0044   R\n",
            "2  0.0262  0.0582  0.1099  0.1083  0.0974  ...  0.0316  0.0164  0.0095  0.0078   R\n",
            "3  0.0100  0.0171  0.0623  0.0205  0.0205  ...  0.0050  0.0044  0.0040  0.0117   R\n",
            "4  0.0762  0.0666  0.0481  0.0394  0.0590  ...  0.0072  0.0048  0.0107  0.0094   R\n",
            "\n",
            "[5 rows x 61 columns]\n",
            "(208, 61)\n"
          ],
          "name": "stdout"
        }
      ]
    },
    {
      "cell_type": "code",
      "metadata": {
        "colab": {
          "base_uri": "https://localhost:8080/"
        },
        "id": "r-rberhK0VwC",
        "outputId": "1011c5d6-40a2-4e29-bba8-8e298b99cd79"
      },
      "source": [
        "dataset = df.values                     # Берем только значения массива(без индексов)\n",
        "X = dataset[:,0:60].astype('float')     # Присваиваем им тип данных - float(с плавающей точкой) данным с 0 по 60 колонки\n",
        "Y = dataset[:,60]                       # Присваеваем значению Y данные из столбца с индексом 60\n",
        "Y[Y=='R'] = '0'                         # Если значение элемента столбца равно 'R', присваеваем ему значение '0'\n",
        "Y[Y=='M'] = '1'                         # Если значение элемента столбца равно 'Y', присваеваем ему значение '1'\n",
        "Y = Y.astype(int)                       # Меняем тип данных столбца на 'int'(целочисленный тип данных)\n",
        "print(X.shape)\n",
        "print(Y.shape)\n",
        "print(Y)\n"
      ],
      "execution_count": null,
      "outputs": [
        {
          "output_type": "stream",
          "text": [
            "(208, 60)\n",
            "(208,)\n",
            "[0 0 0 0 0 0 0 0 0 0 0 0 0 0 0 0 0 0 0 0 0 0 0 0 0 0 0 0 0 0 0 0 0 0 0 0 0\n",
            " 0 0 0 0 0 0 0 0 0 0 0 0 0 0 0 0 0 0 0 0 0 0 0 0 0 0 0 0 0 0 0 0 0 0 0 0 0\n",
            " 0 0 0 0 0 0 0 0 0 0 0 0 0 0 0 0 0 0 0 0 0 0 0 1 1 1 1 1 1 1 1 1 1 1 1 1 1\n",
            " 1 1 1 1 1 1 1 1 1 1 1 1 1 1 1 1 1 1 1 1 1 1 1 1 1 1 1 1 1 1 1 1 1 1 1 1 1\n",
            " 1 1 1 1 1 1 1 1 1 1 1 1 1 1 1 1 1 1 1 1 1 1 1 1 1 1 1 1 1 1 1 1 1 1 1 1 1\n",
            " 1 1 1 1 1 1 1 1 1 1 1 1 1 1 1 1 1 1 1 1 1 1 1]\n"
          ],
          "name": "stdout"
        }
      ]
    },
    {
      "cell_type": "code",
      "metadata": {
        "colab": {
          "base_uri": "https://localhost:8080/"
        },
        "id": "jr2CtATb_daG",
        "outputId": "14ceca85-9b76-48e6-bb66-a7db72805a08"
      },
      "source": [
        "x_train, x_test, y_train, y_test = train_test_split(X, Y, test_size=0.2)\n",
        "print(x_train.shape)\n",
        "print(x_test.shape)\n",
        "print(y_train.shape)\n",
        "print(y_test.shape) "
      ],
      "execution_count": null,
      "outputs": [
        {
          "output_type": "stream",
          "text": [
            "(166, 60)\n",
            "(42, 60)\n",
            "(166,)\n",
            "(42,)\n"
          ],
          "name": "stdout"
        }
      ]
    },
    {
      "cell_type": "code",
      "metadata": {
        "id": "AQmOnIjG_7DF"
      },
      "source": [
        "def create_model():\n",
        "    model = Sequential()\n",
        "    model.add(Dense(60, input_dim=60, activation='relu'))\n",
        "    model.add(Dropout(0.4))\n",
        "    model.add(Dense(30, activation='relu'))\n",
        "    #model.add(Dropout(0.3))\n",
        "    #model.add(Dense(20, activation='relu'))\n",
        "    #model.add(Dropout(0.2))\n",
        "    #model.add(Dense(10, activation='relu'))\n",
        "    model.add(Dense(1, activation='sigmoid'))\n",
        "    model.compile(loss='binary_crossentropy', optimizer=Adam(lr=0.001), metrics=['accuracy'])\n",
        "    return model"
      ],
      "execution_count": null,
      "outputs": []
    },
    {
      "cell_type": "code",
      "metadata": {
        "id": "G6zAxejUAzDs"
      },
      "source": [
        "def fit_model():\n",
        "    model = create_model()\n",
        "    model.fit(x_train, y_train, batch_size=4, epochs=150, validation_split=0.2, verbose=1)\n",
        "    scores = model.evaluate(x_test, y_test, verbose=1)\n",
        "    print(scores)\n",
        "    print(\"Доля верных ответов на тестовых данных, в процентах: \", round(scores[1] * 100, 4), \"%\", sep=\"\")"
      ],
      "execution_count": null,
      "outputs": []
    },
    {
      "cell_type": "code",
      "metadata": {
        "id": "cFqMWFj4B_Nu",
        "colab": {
          "base_uri": "https://localhost:8080/"
        },
        "outputId": "2cf202d6-ed94-471d-b482-b06d2ccb03dd"
      },
      "source": [
        "fit_model()"
      ],
      "execution_count": null,
      "outputs": [
        {
          "output_type": "stream",
          "text": [
            "Epoch 1/150\n",
            "33/33 [==============================] - 0s 5ms/step - loss: 0.7005 - accuracy: 0.4697 - val_loss: 0.6842 - val_accuracy: 0.6765\n",
            "Epoch 2/150\n",
            "33/33 [==============================] - 0s 2ms/step - loss: 0.6870 - accuracy: 0.5227 - val_loss: 0.6760 - val_accuracy: 0.6471\n",
            "Epoch 3/150\n",
            "33/33 [==============================] - 0s 2ms/step - loss: 0.6733 - accuracy: 0.6136 - val_loss: 0.6675 - val_accuracy: 0.5882\n",
            "Epoch 4/150\n",
            "33/33 [==============================] - 0s 2ms/step - loss: 0.6604 - accuracy: 0.6515 - val_loss: 0.6454 - val_accuracy: 0.6765\n",
            "Epoch 5/150\n",
            "33/33 [==============================] - 0s 2ms/step - loss: 0.6707 - accuracy: 0.5833 - val_loss: 0.6299 - val_accuracy: 0.7059\n",
            "Epoch 6/150\n",
            "33/33 [==============================] - 0s 2ms/step - loss: 0.6417 - accuracy: 0.6439 - val_loss: 0.6113 - val_accuracy: 0.7059\n",
            "Epoch 7/150\n",
            "33/33 [==============================] - 0s 2ms/step - loss: 0.6262 - accuracy: 0.6742 - val_loss: 0.5882 - val_accuracy: 0.7647\n",
            "Epoch 8/150\n",
            "33/33 [==============================] - 0s 2ms/step - loss: 0.5927 - accuracy: 0.7121 - val_loss: 0.5654 - val_accuracy: 0.7353\n",
            "Epoch 9/150\n",
            "33/33 [==============================] - 0s 2ms/step - loss: 0.5901 - accuracy: 0.6742 - val_loss: 0.5416 - val_accuracy: 0.8235\n",
            "Epoch 10/150\n",
            "33/33 [==============================] - 0s 2ms/step - loss: 0.5756 - accuracy: 0.6667 - val_loss: 0.5238 - val_accuracy: 0.7647\n",
            "Epoch 11/150\n",
            "33/33 [==============================] - 0s 2ms/step - loss: 0.5640 - accuracy: 0.7348 - val_loss: 0.5116 - val_accuracy: 0.8824\n",
            "Epoch 12/150\n",
            "33/33 [==============================] - 0s 2ms/step - loss: 0.5204 - accuracy: 0.7424 - val_loss: 0.4917 - val_accuracy: 0.8235\n",
            "Epoch 13/150\n",
            "33/33 [==============================] - 0s 2ms/step - loss: 0.5102 - accuracy: 0.7652 - val_loss: 0.4799 - val_accuracy: 0.9118\n",
            "Epoch 14/150\n",
            "33/33 [==============================] - 0s 1ms/step - loss: 0.4702 - accuracy: 0.7727 - val_loss: 0.4607 - val_accuracy: 0.8824\n",
            "Epoch 15/150\n",
            "33/33 [==============================] - 0s 1ms/step - loss: 0.4945 - accuracy: 0.7652 - val_loss: 0.4556 - val_accuracy: 0.7647\n",
            "Epoch 16/150\n",
            "33/33 [==============================] - 0s 2ms/step - loss: 0.4878 - accuracy: 0.7652 - val_loss: 0.4422 - val_accuracy: 0.8235\n",
            "Epoch 17/150\n",
            "33/33 [==============================] - 0s 2ms/step - loss: 0.4625 - accuracy: 0.7803 - val_loss: 0.4349 - val_accuracy: 0.8235\n",
            "Epoch 18/150\n",
            "33/33 [==============================] - 0s 2ms/step - loss: 0.4525 - accuracy: 0.7803 - val_loss: 0.4221 - val_accuracy: 0.8235\n",
            "Epoch 19/150\n",
            "33/33 [==============================] - 0s 2ms/step - loss: 0.3882 - accuracy: 0.8788 - val_loss: 0.4233 - val_accuracy: 0.8529\n",
            "Epoch 20/150\n",
            "33/33 [==============================] - 0s 2ms/step - loss: 0.4385 - accuracy: 0.8030 - val_loss: 0.4152 - val_accuracy: 0.7353\n",
            "Epoch 21/150\n",
            "33/33 [==============================] - 0s 2ms/step - loss: 0.4422 - accuracy: 0.8106 - val_loss: 0.4217 - val_accuracy: 0.8824\n",
            "Epoch 22/150\n",
            "33/33 [==============================] - 0s 2ms/step - loss: 0.4045 - accuracy: 0.8182 - val_loss: 0.4048 - val_accuracy: 0.7647\n",
            "Epoch 23/150\n",
            "33/33 [==============================] - 0s 2ms/step - loss: 0.4153 - accuracy: 0.8030 - val_loss: 0.4089 - val_accuracy: 0.8529\n",
            "Epoch 24/150\n",
            "33/33 [==============================] - 0s 2ms/step - loss: 0.4087 - accuracy: 0.8333 - val_loss: 0.3959 - val_accuracy: 0.7647\n",
            "Epoch 25/150\n",
            "33/33 [==============================] - 0s 2ms/step - loss: 0.3820 - accuracy: 0.8561 - val_loss: 0.3960 - val_accuracy: 0.7941\n",
            "Epoch 26/150\n",
            "33/33 [==============================] - 0s 2ms/step - loss: 0.3620 - accuracy: 0.8485 - val_loss: 0.4273 - val_accuracy: 0.8824\n",
            "Epoch 27/150\n",
            "33/33 [==============================] - 0s 2ms/step - loss: 0.3741 - accuracy: 0.8333 - val_loss: 0.4178 - val_accuracy: 0.7647\n",
            "Epoch 28/150\n",
            "33/33 [==============================] - 0s 2ms/step - loss: 0.4152 - accuracy: 0.8030 - val_loss: 0.3939 - val_accuracy: 0.7647\n",
            "Epoch 29/150\n",
            "33/33 [==============================] - 0s 2ms/step - loss: 0.3587 - accuracy: 0.8561 - val_loss: 0.3942 - val_accuracy: 0.8235\n",
            "Epoch 30/150\n",
            "33/33 [==============================] - 0s 2ms/step - loss: 0.3245 - accuracy: 0.8712 - val_loss: 0.3598 - val_accuracy: 0.8529\n",
            "Epoch 31/150\n",
            "33/33 [==============================] - 0s 2ms/step - loss: 0.3639 - accuracy: 0.8333 - val_loss: 0.3728 - val_accuracy: 0.7941\n",
            "Epoch 32/150\n",
            "33/33 [==============================] - 0s 2ms/step - loss: 0.3684 - accuracy: 0.8030 - val_loss: 0.3599 - val_accuracy: 0.8529\n",
            "Epoch 33/150\n",
            "33/33 [==============================] - 0s 2ms/step - loss: 0.3357 - accuracy: 0.8409 - val_loss: 0.3796 - val_accuracy: 0.7647\n",
            "Epoch 34/150\n",
            "33/33 [==============================] - 0s 2ms/step - loss: 0.2878 - accuracy: 0.8864 - val_loss: 0.3659 - val_accuracy: 0.7941\n",
            "Epoch 35/150\n",
            "33/33 [==============================] - 0s 2ms/step - loss: 0.2997 - accuracy: 0.8864 - val_loss: 0.3905 - val_accuracy: 0.7941\n",
            "Epoch 36/150\n",
            "33/33 [==============================] - 0s 2ms/step - loss: 0.2962 - accuracy: 0.8788 - val_loss: 0.3753 - val_accuracy: 0.7941\n",
            "Epoch 37/150\n",
            "33/33 [==============================] - 0s 2ms/step - loss: 0.3132 - accuracy: 0.8636 - val_loss: 0.3713 - val_accuracy: 0.7941\n",
            "Epoch 38/150\n",
            "33/33 [==============================] - 0s 2ms/step - loss: 0.3129 - accuracy: 0.8485 - val_loss: 0.4259 - val_accuracy: 0.7647\n",
            "Epoch 39/150\n",
            "33/33 [==============================] - 0s 2ms/step - loss: 0.3302 - accuracy: 0.8333 - val_loss: 0.4669 - val_accuracy: 0.8529\n",
            "Epoch 40/150\n",
            "33/33 [==============================] - 0s 2ms/step - loss: 0.3461 - accuracy: 0.8561 - val_loss: 0.3747 - val_accuracy: 0.8529\n",
            "Epoch 41/150\n",
            "33/33 [==============================] - 0s 2ms/step - loss: 0.2667 - accuracy: 0.8864 - val_loss: 0.3598 - val_accuracy: 0.7647\n",
            "Epoch 42/150\n",
            "33/33 [==============================] - 0s 2ms/step - loss: 0.2755 - accuracy: 0.8939 - val_loss: 0.3744 - val_accuracy: 0.7941\n",
            "Epoch 43/150\n",
            "33/33 [==============================] - 0s 2ms/step - loss: 0.2834 - accuracy: 0.8788 - val_loss: 0.3700 - val_accuracy: 0.7647\n",
            "Epoch 44/150\n",
            "33/33 [==============================] - 0s 2ms/step - loss: 0.2565 - accuracy: 0.9091 - val_loss: 0.4250 - val_accuracy: 0.8235\n",
            "Epoch 45/150\n",
            "33/33 [==============================] - 0s 2ms/step - loss: 0.3065 - accuracy: 0.8864 - val_loss: 0.3839 - val_accuracy: 0.7941\n",
            "Epoch 46/150\n",
            "33/33 [==============================] - 0s 2ms/step - loss: 0.2783 - accuracy: 0.8636 - val_loss: 0.3909 - val_accuracy: 0.8529\n",
            "Epoch 47/150\n",
            "33/33 [==============================] - 0s 2ms/step - loss: 0.2405 - accuracy: 0.9167 - val_loss: 0.3985 - val_accuracy: 0.7941\n",
            "Epoch 48/150\n",
            "33/33 [==============================] - 0s 2ms/step - loss: 0.2471 - accuracy: 0.9091 - val_loss: 0.4405 - val_accuracy: 0.8235\n",
            "Epoch 49/150\n",
            "33/33 [==============================] - 0s 2ms/step - loss: 0.2465 - accuracy: 0.8788 - val_loss: 0.3903 - val_accuracy: 0.8529\n",
            "Epoch 50/150\n",
            "33/33 [==============================] - 0s 2ms/step - loss: 0.2631 - accuracy: 0.9091 - val_loss: 0.3709 - val_accuracy: 0.8235\n",
            "Epoch 51/150\n",
            "33/33 [==============================] - 0s 2ms/step - loss: 0.2124 - accuracy: 0.9167 - val_loss: 0.3901 - val_accuracy: 0.8235\n",
            "Epoch 52/150\n",
            "33/33 [==============================] - 0s 2ms/step - loss: 0.2389 - accuracy: 0.8864 - val_loss: 0.4007 - val_accuracy: 0.8529\n",
            "Epoch 53/150\n",
            "33/33 [==============================] - 0s 1ms/step - loss: 0.2103 - accuracy: 0.9394 - val_loss: 0.4103 - val_accuracy: 0.8235\n",
            "Epoch 54/150\n",
            "33/33 [==============================] - 0s 2ms/step - loss: 0.2335 - accuracy: 0.9091 - val_loss: 0.4002 - val_accuracy: 0.8235\n",
            "Epoch 55/150\n",
            "33/33 [==============================] - 0s 1ms/step - loss: 0.2515 - accuracy: 0.9091 - val_loss: 0.4172 - val_accuracy: 0.8529\n",
            "Epoch 56/150\n",
            "33/33 [==============================] - 0s 2ms/step - loss: 0.1867 - accuracy: 0.9242 - val_loss: 0.4092 - val_accuracy: 0.7941\n",
            "Epoch 57/150\n",
            "33/33 [==============================] - 0s 2ms/step - loss: 0.1808 - accuracy: 0.9091 - val_loss: 0.3924 - val_accuracy: 0.8235\n",
            "Epoch 58/150\n",
            "33/33 [==============================] - 0s 2ms/step - loss: 0.2310 - accuracy: 0.8788 - val_loss: 0.3862 - val_accuracy: 0.8529\n",
            "Epoch 59/150\n",
            "33/33 [==============================] - 0s 2ms/step - loss: 0.2221 - accuracy: 0.9091 - val_loss: 0.3881 - val_accuracy: 0.8235\n",
            "Epoch 60/150\n",
            "33/33 [==============================] - 0s 2ms/step - loss: 0.1954 - accuracy: 0.9318 - val_loss: 0.4094 - val_accuracy: 0.7941\n",
            "Epoch 61/150\n",
            "33/33 [==============================] - 0s 2ms/step - loss: 0.1995 - accuracy: 0.9015 - val_loss: 0.4108 - val_accuracy: 0.8235\n",
            "Epoch 62/150\n",
            "33/33 [==============================] - 0s 2ms/step - loss: 0.2071 - accuracy: 0.9091 - val_loss: 0.4263 - val_accuracy: 0.8235\n",
            "Epoch 63/150\n",
            "33/33 [==============================] - 0s 2ms/step - loss: 0.1738 - accuracy: 0.9470 - val_loss: 0.4104 - val_accuracy: 0.7647\n",
            "Epoch 64/150\n",
            "33/33 [==============================] - 0s 2ms/step - loss: 0.1647 - accuracy: 0.9394 - val_loss: 0.4038 - val_accuracy: 0.8529\n",
            "Epoch 65/150\n",
            "33/33 [==============================] - 0s 2ms/step - loss: 0.1892 - accuracy: 0.9318 - val_loss: 0.3988 - val_accuracy: 0.8529\n",
            "Epoch 66/150\n",
            "33/33 [==============================] - 0s 2ms/step - loss: 0.1693 - accuracy: 0.9242 - val_loss: 0.4090 - val_accuracy: 0.8529\n",
            "Epoch 67/150\n",
            "33/33 [==============================] - 0s 1ms/step - loss: 0.1540 - accuracy: 0.9545 - val_loss: 0.4065 - val_accuracy: 0.7941\n",
            "Epoch 68/150\n",
            "33/33 [==============================] - 0s 1ms/step - loss: 0.1510 - accuracy: 0.9394 - val_loss: 0.4110 - val_accuracy: 0.7941\n",
            "Epoch 69/150\n",
            "33/33 [==============================] - 0s 2ms/step - loss: 0.1551 - accuracy: 0.9091 - val_loss: 0.4195 - val_accuracy: 0.7941\n",
            "Epoch 70/150\n",
            "33/33 [==============================] - 0s 2ms/step - loss: 0.1468 - accuracy: 0.9318 - val_loss: 0.4015 - val_accuracy: 0.7941\n",
            "Epoch 71/150\n",
            "33/33 [==============================] - 0s 2ms/step - loss: 0.1713 - accuracy: 0.9318 - val_loss: 0.4034 - val_accuracy: 0.8235\n",
            "Epoch 72/150\n",
            "33/33 [==============================] - 0s 2ms/step - loss: 0.1296 - accuracy: 0.9621 - val_loss: 0.4276 - val_accuracy: 0.8529\n",
            "Epoch 73/150\n",
            "33/33 [==============================] - 0s 2ms/step - loss: 0.1600 - accuracy: 0.9318 - val_loss: 0.4324 - val_accuracy: 0.8529\n",
            "Epoch 74/150\n",
            "33/33 [==============================] - 0s 2ms/step - loss: 0.1821 - accuracy: 0.8939 - val_loss: 0.4271 - val_accuracy: 0.8529\n",
            "Epoch 75/150\n",
            "33/33 [==============================] - 0s 2ms/step - loss: 0.1549 - accuracy: 0.9470 - val_loss: 0.4530 - val_accuracy: 0.8235\n",
            "Epoch 76/150\n",
            "33/33 [==============================] - 0s 2ms/step - loss: 0.1807 - accuracy: 0.9318 - val_loss: 0.4537 - val_accuracy: 0.8235\n",
            "Epoch 77/150\n",
            "33/33 [==============================] - 0s 2ms/step - loss: 0.0953 - accuracy: 0.9773 - val_loss: 0.4560 - val_accuracy: 0.8235\n",
            "Epoch 78/150\n",
            "33/33 [==============================] - 0s 2ms/step - loss: 0.1307 - accuracy: 0.9697 - val_loss: 0.4773 - val_accuracy: 0.8235\n",
            "Epoch 79/150\n",
            "33/33 [==============================] - 0s 2ms/step - loss: 0.1833 - accuracy: 0.9242 - val_loss: 0.4441 - val_accuracy: 0.8529\n",
            "Epoch 80/150\n",
            "33/33 [==============================] - 0s 1ms/step - loss: 0.1309 - accuracy: 0.9470 - val_loss: 0.4498 - val_accuracy: 0.8529\n",
            "Epoch 81/150\n",
            "33/33 [==============================] - 0s 1ms/step - loss: 0.1141 - accuracy: 0.9470 - val_loss: 0.4793 - val_accuracy: 0.8235\n",
            "Epoch 82/150\n",
            "33/33 [==============================] - 0s 2ms/step - loss: 0.1087 - accuracy: 0.9697 - val_loss: 0.4543 - val_accuracy: 0.7941\n",
            "Epoch 83/150\n",
            "33/33 [==============================] - 0s 2ms/step - loss: 0.0959 - accuracy: 0.9621 - val_loss: 0.5108 - val_accuracy: 0.8235\n",
            "Epoch 84/150\n",
            "33/33 [==============================] - 0s 2ms/step - loss: 0.0923 - accuracy: 0.9773 - val_loss: 0.4867 - val_accuracy: 0.8235\n",
            "Epoch 85/150\n",
            "33/33 [==============================] - 0s 2ms/step - loss: 0.1260 - accuracy: 0.9470 - val_loss: 0.4613 - val_accuracy: 0.8824\n",
            "Epoch 86/150\n",
            "33/33 [==============================] - 0s 1ms/step - loss: 0.1352 - accuracy: 0.9394 - val_loss: 0.4683 - val_accuracy: 0.8235\n",
            "Epoch 87/150\n",
            "33/33 [==============================] - 0s 2ms/step - loss: 0.1287 - accuracy: 0.9470 - val_loss: 0.4685 - val_accuracy: 0.8235\n",
            "Epoch 88/150\n",
            "33/33 [==============================] - 0s 2ms/step - loss: 0.1191 - accuracy: 0.9697 - val_loss: 0.4945 - val_accuracy: 0.7941\n",
            "Epoch 89/150\n",
            "33/33 [==============================] - 0s 2ms/step - loss: 0.1560 - accuracy: 0.9318 - val_loss: 0.4981 - val_accuracy: 0.8529\n",
            "Epoch 90/150\n",
            "33/33 [==============================] - 0s 2ms/step - loss: 0.1081 - accuracy: 0.9773 - val_loss: 0.4962 - val_accuracy: 0.8529\n",
            "Epoch 91/150\n",
            "33/33 [==============================] - 0s 2ms/step - loss: 0.1104 - accuracy: 0.9545 - val_loss: 0.5219 - val_accuracy: 0.7941\n",
            "Epoch 92/150\n",
            "33/33 [==============================] - 0s 2ms/step - loss: 0.1228 - accuracy: 0.9621 - val_loss: 0.4788 - val_accuracy: 0.8529\n",
            "Epoch 93/150\n",
            "33/33 [==============================] - 0s 2ms/step - loss: 0.0809 - accuracy: 0.9924 - val_loss: 0.4951 - val_accuracy: 0.8235\n",
            "Epoch 94/150\n",
            "33/33 [==============================] - 0s 2ms/step - loss: 0.1038 - accuracy: 0.9697 - val_loss: 0.5025 - val_accuracy: 0.7941\n",
            "Epoch 95/150\n",
            "33/33 [==============================] - 0s 1ms/step - loss: 0.1094 - accuracy: 0.9545 - val_loss: 0.5223 - val_accuracy: 0.8235\n",
            "Epoch 96/150\n",
            "33/33 [==============================] - 0s 2ms/step - loss: 0.0978 - accuracy: 0.9621 - val_loss: 0.4902 - val_accuracy: 0.8529\n",
            "Epoch 97/150\n",
            "33/33 [==============================] - 0s 2ms/step - loss: 0.0969 - accuracy: 0.9773 - val_loss: 0.5094 - val_accuracy: 0.8529\n",
            "Epoch 98/150\n",
            "33/33 [==============================] - 0s 2ms/step - loss: 0.0770 - accuracy: 0.9773 - val_loss: 0.5280 - val_accuracy: 0.8235\n",
            "Epoch 99/150\n",
            "33/33 [==============================] - 0s 2ms/step - loss: 0.0839 - accuracy: 0.9773 - val_loss: 0.5045 - val_accuracy: 0.7941\n",
            "Epoch 100/150\n",
            "33/33 [==============================] - 0s 2ms/step - loss: 0.0707 - accuracy: 0.9773 - val_loss: 0.5284 - val_accuracy: 0.8235\n",
            "Epoch 101/150\n",
            "33/33 [==============================] - 0s 2ms/step - loss: 0.1069 - accuracy: 0.9697 - val_loss: 0.5624 - val_accuracy: 0.8235\n",
            "Epoch 102/150\n",
            "33/33 [==============================] - 0s 2ms/step - loss: 0.0879 - accuracy: 0.9848 - val_loss: 0.5938 - val_accuracy: 0.7941\n",
            "Epoch 103/150\n",
            "33/33 [==============================] - 0s 2ms/step - loss: 0.0545 - accuracy: 0.9924 - val_loss: 0.6102 - val_accuracy: 0.7941\n",
            "Epoch 104/150\n",
            "33/33 [==============================] - 0s 2ms/step - loss: 0.0511 - accuracy: 0.9924 - val_loss: 0.6365 - val_accuracy: 0.7353\n",
            "Epoch 105/150\n",
            "33/33 [==============================] - 0s 2ms/step - loss: 0.0864 - accuracy: 0.9621 - val_loss: 0.6505 - val_accuracy: 0.8235\n",
            "Epoch 106/150\n",
            "33/33 [==============================] - 0s 2ms/step - loss: 0.0598 - accuracy: 0.9848 - val_loss: 0.6137 - val_accuracy: 0.8235\n",
            "Epoch 107/150\n",
            "33/33 [==============================] - 0s 2ms/step - loss: 0.0988 - accuracy: 0.9848 - val_loss: 0.5749 - val_accuracy: 0.8235\n",
            "Epoch 108/150\n",
            "33/33 [==============================] - 0s 2ms/step - loss: 0.0618 - accuracy: 0.9848 - val_loss: 0.5600 - val_accuracy: 0.8529\n",
            "Epoch 109/150\n",
            "33/33 [==============================] - 0s 2ms/step - loss: 0.0954 - accuracy: 0.9545 - val_loss: 0.6091 - val_accuracy: 0.7941\n",
            "Epoch 110/150\n",
            "33/33 [==============================] - 0s 2ms/step - loss: 0.0613 - accuracy: 0.9621 - val_loss: 0.6330 - val_accuracy: 0.8235\n",
            "Epoch 111/150\n",
            "33/33 [==============================] - 0s 2ms/step - loss: 0.0579 - accuracy: 0.9848 - val_loss: 0.6479 - val_accuracy: 0.8235\n",
            "Epoch 112/150\n",
            "33/33 [==============================] - 0s 1ms/step - loss: 0.0416 - accuracy: 0.9924 - val_loss: 0.6525 - val_accuracy: 0.8235\n",
            "Epoch 113/150\n",
            "33/33 [==============================] - 0s 2ms/step - loss: 0.0437 - accuracy: 0.9924 - val_loss: 0.6556 - val_accuracy: 0.7647\n",
            "Epoch 114/150\n",
            "33/33 [==============================] - 0s 2ms/step - loss: 0.1248 - accuracy: 0.9394 - val_loss: 0.6840 - val_accuracy: 0.7941\n",
            "Epoch 115/150\n",
            "33/33 [==============================] - 0s 2ms/step - loss: 0.0914 - accuracy: 0.9697 - val_loss: 0.6162 - val_accuracy: 0.8529\n",
            "Epoch 116/150\n",
            "33/33 [==============================] - 0s 2ms/step - loss: 0.0703 - accuracy: 0.9621 - val_loss: 0.6296 - val_accuracy: 0.8235\n",
            "Epoch 117/150\n",
            "33/33 [==============================] - 0s 2ms/step - loss: 0.0703 - accuracy: 0.9848 - val_loss: 0.6604 - val_accuracy: 0.7941\n",
            "Epoch 118/150\n",
            "33/33 [==============================] - 0s 2ms/step - loss: 0.0895 - accuracy: 0.9621 - val_loss: 0.6561 - val_accuracy: 0.7941\n",
            "Epoch 119/150\n",
            "33/33 [==============================] - 0s 2ms/step - loss: 0.0974 - accuracy: 0.9773 - val_loss: 0.6739 - val_accuracy: 0.8235\n",
            "Epoch 120/150\n",
            "33/33 [==============================] - 0s 2ms/step - loss: 0.0607 - accuracy: 0.9848 - val_loss: 0.6172 - val_accuracy: 0.7941\n",
            "Epoch 121/150\n",
            "33/33 [==============================] - 0s 2ms/step - loss: 0.1430 - accuracy: 0.9394 - val_loss: 0.6243 - val_accuracy: 0.8235\n",
            "Epoch 122/150\n",
            "33/33 [==============================] - 0s 2ms/step - loss: 0.0807 - accuracy: 0.9848 - val_loss: 0.5813 - val_accuracy: 0.8235\n",
            "Epoch 123/150\n",
            "33/33 [==============================] - 0s 2ms/step - loss: 0.0726 - accuracy: 0.9848 - val_loss: 0.6069 - val_accuracy: 0.8235\n",
            "Epoch 124/150\n",
            "33/33 [==============================] - 0s 2ms/step - loss: 0.0733 - accuracy: 0.9848 - val_loss: 0.6135 - val_accuracy: 0.8235\n",
            "Epoch 125/150\n",
            "33/33 [==============================] - 0s 2ms/step - loss: 0.0804 - accuracy: 0.9621 - val_loss: 0.5726 - val_accuracy: 0.7941\n",
            "Epoch 126/150\n",
            "33/33 [==============================] - 0s 2ms/step - loss: 0.0536 - accuracy: 0.9773 - val_loss: 0.6449 - val_accuracy: 0.7647\n",
            "Epoch 127/150\n",
            "33/33 [==============================] - 0s 2ms/step - loss: 0.0528 - accuracy: 0.9773 - val_loss: 0.6888 - val_accuracy: 0.7941\n",
            "Epoch 128/150\n",
            "33/33 [==============================] - 0s 2ms/step - loss: 0.0728 - accuracy: 0.9697 - val_loss: 0.6309 - val_accuracy: 0.7941\n",
            "Epoch 129/150\n",
            "33/33 [==============================] - 0s 2ms/step - loss: 0.1119 - accuracy: 0.9394 - val_loss: 0.6201 - val_accuracy: 0.7941\n",
            "Epoch 130/150\n",
            "33/33 [==============================] - 0s 2ms/step - loss: 0.0465 - accuracy: 0.9848 - val_loss: 0.6854 - val_accuracy: 0.8235\n",
            "Epoch 131/150\n",
            "33/33 [==============================] - 0s 2ms/step - loss: 0.0368 - accuracy: 0.9924 - val_loss: 0.7326 - val_accuracy: 0.7647\n",
            "Epoch 132/150\n",
            "33/33 [==============================] - 0s 2ms/step - loss: 0.0378 - accuracy: 0.9924 - val_loss: 0.7187 - val_accuracy: 0.8235\n",
            "Epoch 133/150\n",
            "33/33 [==============================] - 0s 2ms/step - loss: 0.0836 - accuracy: 0.9697 - val_loss: 0.6784 - val_accuracy: 0.7647\n",
            "Epoch 134/150\n",
            "33/33 [==============================] - 0s 2ms/step - loss: 0.0690 - accuracy: 0.9773 - val_loss: 0.6547 - val_accuracy: 0.7941\n",
            "Epoch 135/150\n",
            "33/33 [==============================] - 0s 2ms/step - loss: 0.0459 - accuracy: 0.9848 - val_loss: 0.7641 - val_accuracy: 0.7941\n",
            "Epoch 136/150\n",
            "33/33 [==============================] - 0s 2ms/step - loss: 0.0459 - accuracy: 0.9848 - val_loss: 0.7495 - val_accuracy: 0.7647\n",
            "Epoch 137/150\n",
            "33/33 [==============================] - 0s 2ms/step - loss: 0.0529 - accuracy: 0.9848 - val_loss: 0.7570 - val_accuracy: 0.7353\n",
            "Epoch 138/150\n",
            "33/33 [==============================] - 0s 2ms/step - loss: 0.1003 - accuracy: 0.9697 - val_loss: 0.6938 - val_accuracy: 0.7647\n",
            "Epoch 139/150\n",
            "33/33 [==============================] - 0s 2ms/step - loss: 0.0650 - accuracy: 0.9773 - val_loss: 0.7021 - val_accuracy: 0.7941\n",
            "Epoch 140/150\n",
            "33/33 [==============================] - 0s 2ms/step - loss: 0.0557 - accuracy: 0.9773 - val_loss: 0.7233 - val_accuracy: 0.7647\n",
            "Epoch 141/150\n",
            "33/33 [==============================] - 0s 2ms/step - loss: 0.0577 - accuracy: 0.9773 - val_loss: 0.7307 - val_accuracy: 0.7647\n",
            "Epoch 142/150\n",
            "33/33 [==============================] - 0s 2ms/step - loss: 0.0523 - accuracy: 0.9924 - val_loss: 0.7640 - val_accuracy: 0.8235\n",
            "Epoch 143/150\n",
            "33/33 [==============================] - 0s 2ms/step - loss: 0.0448 - accuracy: 0.9848 - val_loss: 0.8077 - val_accuracy: 0.7353\n",
            "Epoch 144/150\n",
            "33/33 [==============================] - 0s 2ms/step - loss: 0.0378 - accuracy: 0.9848 - val_loss: 0.7275 - val_accuracy: 0.8235\n",
            "Epoch 145/150\n",
            "33/33 [==============================] - 0s 2ms/step - loss: 0.0566 - accuracy: 0.9697 - val_loss: 0.7114 - val_accuracy: 0.7941\n",
            "Epoch 146/150\n",
            "33/33 [==============================] - 0s 2ms/step - loss: 0.0523 - accuracy: 0.9773 - val_loss: 0.7732 - val_accuracy: 0.8235\n",
            "Epoch 147/150\n",
            "33/33 [==============================] - 0s 2ms/step - loss: 0.0756 - accuracy: 0.9773 - val_loss: 0.6650 - val_accuracy: 0.8235\n",
            "Epoch 148/150\n",
            "33/33 [==============================] - 0s 2ms/step - loss: 0.0445 - accuracy: 0.9848 - val_loss: 0.6966 - val_accuracy: 0.8235\n",
            "Epoch 149/150\n",
            "33/33 [==============================] - 0s 2ms/step - loss: 0.0524 - accuracy: 0.9848 - val_loss: 0.7947 - val_accuracy: 0.7941\n",
            "Epoch 150/150\n",
            "33/33 [==============================] - 0s 2ms/step - loss: 0.0661 - accuracy: 0.9773 - val_loss: 0.7843 - val_accuracy: 0.7941\n",
            "2/2 [==============================] - 0s 2ms/step - loss: 0.7394 - accuracy: 0.8571\n",
            "[0.7394253015518188, 0.8571428656578064]\n",
            "Доля верных ответов на тестовых данных, в процентах: 85.7143%\n"
          ],
          "name": "stdout"
        }
      ]
    },
    {
      "cell_type": "markdown",
      "metadata": {
        "id": "MQRUNtOsca88"
      },
      "source": [
        "BatchNormalization ухудшает точность.\n",
        "При текущей модели точность достигается 85%.\n",
        "Dropout помогает бороться с переобучаемостью и точность на тестовых данных занчительно выше. Достигнуть 90% точности не удается, возможно, по причине небольшого размера общей выборке"
      ]
    }
  ]
}